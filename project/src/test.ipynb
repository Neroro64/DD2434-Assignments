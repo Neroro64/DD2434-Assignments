{
 "metadata": {
  "language_info": {
   "codemirror_mode": {
    "name": "ipython",
    "version": 3
   },
   "file_extension": ".py",
   "mimetype": "text/x-python",
   "name": "python",
   "nbconvert_exporter": "python",
   "pygments_lexer": "ipython3",
   "version": "3.8.3-final"
  },
  "orig_nbformat": 2,
  "kernelspec": {
   "name": "python3",
   "display_name": "Python 3",
   "language": "python"
  }
 },
 "nbformat": 4,
 "nbformat_minor": 2,
 "cells": [
  {
   "cell_type": "code",
   "execution_count": 1,
   "metadata": {},
   "outputs": [],
   "source": [
    "%matplotlib inline\n",
    "from matplotlib import pyplot as plt\n",
    "import numpy as np\n",
    "import pandas as pd\n",
    "import os\n",
    "import time\n",
    "import cv2 as cv2\n",
    "import _pickle as pickle\n",
    "\n",
    "import plotly.express as ex\n",
    "import plotly.graph_objects as go\n",
    "\n",
    "import scipy.linalg as la\n",
    "from scipy.fftpack import dct, idct\n",
    "import scipy.stats\n",
    "\n",
    "from gensim import corpora, models\n",
    "from nltk.corpus import stopwords"
   ]
  },
  {
   "cell_type": "code",
   "execution_count": 17,
   "metadata": {},
   "outputs": [],
   "source": [
    "def get_pca(M, axis=0):\n",
    "    cov = M.T @ M\n",
    "    if axis==1:\n",
    "        cov = M @ M.T\n",
    "\n",
    "    cov = np.nan_to_num(cov, 0)\n",
    "    cov = cov / (M.shape[1]-1)\n",
    "    s, u = la.eigh(cov)\n",
    "    u /= np.linalg.norm(u, axis=axis)\n",
    "\n",
    "    return lambda k: M @ u[:, -k:] if axis==0 else M @ u[-k:, :].T\n",
    "\n",
    "def get_svd(M, axis=0):\n",
    "    M = np.nan_to_num(M, 0)\n",
    "    u, s, v = la.svd(M.T)\n",
    "    u /= np.linalg.norm(u, axis=axis)\n",
    "\n",
    "    return lambda k: (u[:, :k].T @ M.T).T  if axis==0 else M @ u[:k, :].T\n",
    "def get_dct(M, axis=0):\n",
    "    D = dct(M, axis=axis)\n",
    "    sum_features = np.sum(D,axis=axis)\n",
    "    idx = np.argsort(sum_features)\n",
    "    return lambda k: idct(D[:, idx[:k]],axis=axis) if axis==0 else idct(D[idx[:k], :],axis=axis)\n",
    "\n",
    "def rp(M, axis=0):\n",
    "    R = np.random.normal(0, 1, (M.shape[1],M.shape[1]))\n",
    "    if axis==1:\n",
    "        R = np.random.normal(0, 1, (M.shape[0],M.shape[0]))\n",
    "    \n",
    "    R /= np.linalg.norm(R, axis=axis)\n",
    "    return lambda k: M @ R[:, :k] if axis==0 else R[:k, :] @ M\n",
    "\n",
    "def srp(M, axis=0):\n",
    "    R = np.random.uniform(0,1, (M.shape[1], M.shape[1]))\n",
    "    if axis==1:\n",
    "        R = np.random.uniform(0,1, (M.shape[0], M.shape[0]))\n",
    "    R2 = np.copy(R)\n",
    "    R2[R < 1/6.0] = 1\n",
    "    R2[R > 5/6.0] = -1\n",
    "    R2[np.abs(R2) != 1] = 0\n",
    "    R2*= np.sqrt(3)\n",
    "    return lambda k: M @ R2[:, :k] if axis==0 else R2[:k, :] @ M\n"
   ]
  },
  {
   "cell_type": "code",
   "execution_count": 7,
   "metadata": {},
   "outputs": [],
   "source": [
    "def rand_measure(x, frac=1, num=100, fn=\"l2-norm\"):\n",
    "    \"\"\"\n",
    "    Randomly choose *num* data points and compute the average distance between them.\n",
    "    \"\"\"\n",
    "    arr = np.random.permutation(x)\n",
    "    if arr.shape[0] > num:\n",
    "        arr = arr[:num, :]\n",
    "        n = int(num / 2)\n",
    "    else:\n",
    "        n = int(arr.shape[0] / 2)\n",
    "    if fn == \"l2-norm\":\n",
    "        return np.sqrt(frac) * np.mean(np.linalg.norm(arr[:n, :] - arr[n:,:], axis=0))\n",
    "    else:\n",
    "        return np.mean(np.sum(arr*arr,axis=1))\n",
    "\n",
    "def measure(x, frac=1, fn=\"l2-norm\"):\n",
    "    \"\"\"\n",
    "    Compute the average distance between all data points\n",
    "    \"\"\"\n",
    "    if fn == \"l2-norm\":\n",
    "        d = np.diff(x, axis=0)\n",
    "        return mean_confidence_interval(np.sqrt(frac) * np.linalg.norm(d, axis=1))\n",
    "    else:\n",
    "        return mean_confidence_interval([np.dot(x[i],x[i+1]) for i in range(0, len(x), 2)])\n",
    "\n",
    "def norm(x, axis=1):\n",
    "    \"\"\"\n",
    "    Normalise the data matrix, such that every row is zero mean and unit variance\n",
    "    \"\"\"\n",
    "    if axis!=1:\n",
    "        return (x-np.mean(x)) / np.std(x)\n",
    "    else:\n",
    "        return (x-np.mean(x, axis=axis, keepdims=True)) / np.std(x, axis=axis, keepdims=True)\n",
    "def l2_norm(x,axis=1):\n",
    "    \"\"\"\n",
    "    Normalise the data matrix, such that every row has unit length\n",
    "    \"\"\"\n",
    "    n = np.linalg.norm(x, axis=axis, keepdims=True)\n",
    "    n[n[:,0]==0] = 1\n",
    "    return x / n\n",
    "\n",
    "def timer(f):\n",
    "    \"\"\"\n",
    "    Measure execution time in second\n",
    "    \"\"\"\n",
    "    if f == 0:\n",
    "        return time.time()\n",
    "    else:\n",
    "        return time.time() - f\n",
    "\n",
    "        \n",
    "\n",
    "\n",
    "def mean_confidence_interval(data, confidence=0.95):\n",
    "    \"\"\"\n",
    "    Compute the confidence interval\n",
    "    \"\"\"\n",
    "    a = data\n",
    "    n = len(a)\n",
    "    m, se = np.mean(a), scipy.stats.sem(a)\n",
    "    h = se * scipy.stats.t.ppf((1 + confidence) / 2., n-1)\n",
    "    return m, m-h, m+h\n",
    "\n",
    "def sp_noise(image, prob=0.1):\n",
    "    \"\"\"\n",
    "    Apply salt-and-pepper noise on the image\n",
    "    \"\"\"\n",
    "    samp = np.random.uniform(0,1,(image.shape))\n",
    "    image[samp < prob] = 0\n",
    "    image[samp >= 1-prob] = 255\n",
    "    return image\n",
    "\n",
    "def normalize(query, lowercase=True, removeSpecialChar=True, removeStop=True):\n",
    "    \"\"\"\n",
    "    Normalise the documents\n",
    "    \"\"\"\n",
    "    query = query.split(\" \")  \n",
    "    \n",
    "    sw = stopwords.words(\"english\")\n",
    "    tokens = []\n",
    "    for t in query:\n",
    "        if (removeStop and t in sw):\n",
    "            continue\n",
    "        elif  (removeSpecialChar and not t.isalpha()):\n",
    "            continue\n",
    "        \n",
    "        if (lowercase):\n",
    "            t = t.lower()\n",
    "        tokens.append(t)\n",
    "\n",
    "    return tokens\n",
    "\n"
   ]
  },
  {
   "cell_type": "code",
   "execution_count": 4,
   "metadata": {},
   "outputs": [],
   "source": [
    "def unpickle(file):\n",
    "    with open(file, 'rb') as fo:\n",
    "        d = pickle.load(fo, encoding='bytes')\n",
    "    return d\n",
    "\n",
    "def load(num=1):\n",
    "    data_p = []\n",
    "    for dname, dirs, files in os.walk(\"../data/cifar-10-python\"):\n",
    "        for fname in files:\n",
    "            if \"data_batch\" in fname:\n",
    "                fpath = os.path.join(dname, fname)\n",
    "                data_p.append(fpath)\n",
    "    return [unpickle(p) for p in data_p]\n",
    "\n",
    "def load_news(num=1):\n",
    "    data_p = []\n",
    "    for dname, dirs, files in os.walk(\"../data/20_newsgroups/\"):\n",
    "        for fname in files:\n",
    "            fpath = os.path.join(dname, fname)\n",
    "            data_p.append(fpath)\n",
    "            if len(data_p) >= num:\n",
    "                return data_p\n",
    "\n",
    "def load_jpeg(num=1):\n",
    "    data_p = []\n",
    "    for dname, dirs, files in os.walk(\"../data/test_v2/test/\"):\n",
    "        for fname in files:\n",
    "            fpath = os.path.join(dname, fname)\n",
    "            data_p.append(fpath)\n",
    "            if len(data_p) >= num:\n",
    "                return data_p\n",
    "    return data_p\n"
   ]
  },
  {
   "cell_type": "code",
   "execution_count": 48,
   "metadata": {},
   "outputs": [],
   "source": [
    "def cifar(N, data, ks, o_diff=0):\n",
    "    n = data.shape[1]\n",
    "\n",
    "    if o_diff == 0:\n",
    "        o_diff, _, _ = measure(data)\n",
    "    p_diff, d_diff, r_diff, sr_diff = [],[],[],[]\n",
    "    p_min, d_min, r_min, sr_min = [],[],[],[]\n",
    "    p_max, d_max, r_max, sr_max = [],[],[],[]\n",
    "    p_time, d_time, r_time, sr_time = [],[],[],[]\n",
    "\n",
    "    t = 0\n",
    "\n",
    "    pca = get_pca(data)\n",
    "    for k in ks:\n",
    "        frac = n / k\n",
    "\n",
    "        t = timer(0)\n",
    "        p=pca(k)\n",
    "        t = timer(t)\n",
    "        m, mmin, mmax = measure(norm(p), frac=frac)\n",
    "        p_diff.append(m)\n",
    "        p_min.append(mmin)\n",
    "        p_max.append(mmax)\n",
    "        p_time.append(t)\n",
    "\n",
    "        t = timer(0)\n",
    "        p = get_dct(data)(k)\n",
    "        t = timer(t)    \n",
    "        m, mmin, mmax = measure(norm(p), frac=frac)\n",
    "        d_diff.append(m)\n",
    "        d_min.append(mmin)\n",
    "        d_max.append(mmax)\n",
    "        d_time.append(t)\n",
    "\n",
    "        t = timer(0)\n",
    "        p = rp2(data,k)\n",
    "        t = timer(t)    \n",
    "        m, mmin, mmax = measure(norm(p), frac=frac)\n",
    "        r_diff.append(m)\n",
    "        r_min.append(mmin)\n",
    "        r_max.append(mmax)\n",
    "        r_time.append(t)\n",
    "\n",
    "        t = timer(0)\n",
    "        p = srp2(data,k)\n",
    "        t = timer(t)    \n",
    "        m, mmin, mmax = measure(norm(p), frac=frac)\n",
    "        sr_diff.append(m)\n",
    "        sr_min.append(mmin)\n",
    "        sr_max.append(mmax)\n",
    "        sr_time.append(t)\n",
    "\n",
    "    p_diff = np.asarray(p_diff) - o_diff\n",
    "    d_diff = np.asarray(d_diff) - o_diff\n",
    "    r_diff = np.asarray(r_diff) - o_diff\n",
    "    sr_diff = np.asarray(sr_diff) - o_diff\n",
    "\n",
    "    p_min  = np.asarray(p_min) - o_diff\n",
    "    d_min  = np.asarray(d_min) - o_diff\n",
    "    r_min  = np.asarray(r_min) - o_diff\n",
    "    sr_min = np.asarray(sr_min) - o_diff\n",
    "\n",
    "    p_max   = np.asarray(p_max) - o_diff\n",
    "    d_max   = np.asarray(d_max) - o_diff\n",
    "    r_max   = np.asarray(r_max) - o_diff\n",
    "    sr_max = np.asarray(sr_max) - o_diff\n",
    "\n",
    "    return dict(pca=[p_diff, p_min, p_max, p_time], dct=[d_diff, d_min, d_max, d_time],rp=[r_diff, r_min, r_max, r_time],srp=[sr_diff, sr_min, sr_max, sr_time])\n",
    "\n",
    "    \n",
    "def txt(N, data, ks):\n",
    "    n = data.shape[1]\n",
    "\n",
    "    o_diff, _, _ = measure(data, fn=\"inner\")\n",
    "    # o_diff=0\n",
    "    p_diff, d_diff, r_diff, sr_diff = [],[],[],[]\n",
    "    p_min, d_min, r_min, sr_min = [],[],[],[]\n",
    "    p_max, d_max, r_max, sr_max = [],[],[],[]\n",
    "    p_time, d_time, r_time, sr_time = [],[],[],[]\n",
    "\n",
    "    t = 0\n",
    "    # pca = get_pca(data)\n",
    "    svd = get_svd(data)\n",
    "    for k in ks:\n",
    "        frac = n / k\n",
    "\n",
    "        t = timer(0)\n",
    "        # p = pca(k)\n",
    "        p = svd(k)\n",
    "        t = timer(t)\n",
    "        m, mmin, mmax = measure(l2_norm(p), fn=\"inner\")\n",
    "        p_diff.append(m)\n",
    "        p_min.append(mmin)\n",
    "        p_max.append(mmax)\n",
    "        p_time.append(t)\n",
    "\n",
    "        t = timer(0)\n",
    "        p = rp2(data,k)\n",
    "        t = timer(t)    \n",
    "        m, mmin, mmax = measure(l2_norm(p), fn=\"inner\")\n",
    "        r_diff.append(m)\n",
    "        r_min.append(mmin)\n",
    "        r_max.append(mmax)\n",
    "        r_time.append(t)\n",
    "\n",
    "        t = timer(0)\n",
    "        p = srp2(data,k)\n",
    "        t = timer(t)    \n",
    "        m, mmin, mmax = measure(l2_norm(p), fn=\"inner\")\n",
    "        sr_diff.append(m)\n",
    "        sr_min.append(mmin)\n",
    "        sr_max.append(mmax)\n",
    "        sr_time.append(t)\n",
    "\n",
    "    p_diff = np.asarray(p_diff) - o_diff\n",
    "    r_diff = np.asarray(r_diff) - o_diff\n",
    "    sr_diff = np.asarray(sr_diff) - o_diff\n",
    "\n",
    "    p_min  = np.asarray(p_min) - o_diff\n",
    "    r_min  = np.asarray(r_min) - o_diff\n",
    "    sr_min = np.asarray(sr_min) - o_diff\n",
    "\n",
    "    p_max   = np.asarray(p_max) - o_diff\n",
    "    r_max   = np.asarray(r_max) - o_diff\n",
    "    sr_max = np.asarray(sr_max) - o_diff\n",
    "\n",
    "    return dict(pca=[p_diff, p_min, p_max, p_time],rp=[r_diff, r_min, r_max, r_time],srp=[sr_diff, sr_min, sr_max, sr_time])\n",
    "\n",
    "    \n",
    "\n",
    "\n",
    "\n",
    "\n"
   ]
  },
  {
   "source": [
    "# Test on CIFAR data "
   ],
   "cell_type": "markdown",
   "metadata": {}
  },
  {
   "cell_type": "code",
   "execution_count": 8,
   "metadata": {},
   "outputs": [],
   "source": [
    "# Noiseless, grayscale\n",
    "N = 1000\n",
    "d = load()\n",
    "data = d[0][b\"data\"][:N].astype(np.float32).reshape((N, 32,32,3))\n",
    "data = np.asarray([cv2.cvtColor(img, cv2.COLOR_RGB2GRAY) for img in data])\n",
    "data = data.reshape((1000,-1))\n",
    "data = norm(data)\n",
    "\n",
    "np.random.seed(2)\n",
    "dict1 = cifar(N, data, np.arange(2,325))\n",
    "\n",
    "np.random.seed(20)\n",
    "dict2 = cifar(N, data, np.arange(2,325))\n",
    "\n",
    "np.random.seed(202)\n",
    "dict3 = cifar(N, data, np.arange(2,325))\n",
    "\n",
    "np.random.seed(2020)\n",
    "dict4 = cifar(N, data, np.arange(2,325))\n",
    "\n",
    "np.random.seed(20200)\n",
    "dict5 = cifar(N, data, np.arange(2,325))\n",
    "\n"
   ]
  },
  {
   "cell_type": "code",
   "execution_count": null,
   "metadata": {},
   "outputs": [],
   "source": [
    "# Noiseless, colour scale\n",
    "N = 1000\n",
    "d = load()\n",
    "data = d[0][b\"data\"][:N].astype(np.float32)\n",
    "data = data.reshape((1000,-1))\n",
    "data = norm(data)\n",
    "\n",
    "np.random.seed(2)\n",
    "dict1 = cifar(N, data, np.arange(2,325))\n",
    "\n",
    "np.random.seed(20)\n",
    "dict2 = cifar(N, data, np.arange(2,325))\n",
    "\n",
    "np.random.seed(202)\n",
    "dict3 = cifar(N, data, np.arange(2,325))\n",
    "\n",
    "np.random.seed(2020)\n",
    "dict4 = cifar(N, data, np.arange(2,325))\n",
    "\n",
    "np.random.seed(20200)\n",
    "dict5 = cifar(N, data, np.arange(2,325))\n",
    "\n"
   ]
  },
  {
   "cell_type": "code",
   "execution_count": 18,
   "metadata": {},
   "outputs": [],
   "source": [
    "# Noisy\n",
    "N = 1000\n",
    "d = load()\n",
    "data = d[0][b\"data\"][:N].astype(np.float32).reshape((N, 32,32,3))\n",
    "noisy_data = np.asarray([sp_noise(cv2.cvtColor(img, cv2.COLOR_RGB2GRAY)) for img in data])\n",
    "data = np.asarray([cv2.cvtColor(img, cv2.COLOR_RGB2GRAY) for img in data])\n",
    "\n",
    "data = np.reshape(data, (N, -1))\n",
    "noisy_data = np.reshape(noisy_data, (N, -1))\n",
    "data = norm(data)\n",
    "noisy_data = norm(noisy_data)\n",
    "o_diff, _, _  = measure(data)\n",
    "\n",
    "np.random.seed(2020)\n",
    "dict1 = cifar(N, data, np.arange(2,325),o_diff)\n",
    "\n",
    "np.random.seed(20)\n",
    "dict2 = cifar(N, data, np.arange(2,325),o_diff)\n",
    "\n",
    "np.random.seed(202)\n",
    "dict3 = cifar(N, data, np.arange(2,325),o_diff)\n",
    "\n",
    "np.random.seed(2020)\n",
    "dict4 = cifar(N, data, np.arange(2,325),o_diff)\n",
    "\n",
    "np.random.seed(20200)\n",
    "dict5 = cifar(N, data, np.arange(2,325),o_diff)\n",
    "\n"
   ]
  },
  {
   "cell_type": "code",
   "execution_count": null,
   "metadata": {},
   "outputs": [],
   "source": [
    "# Average over the 5 repetitions\n",
    "dict1[\"pca\"][0] = np.mean(np.asarray([dict1[\"pca\"][0],dict2[\"pca\"][0],dict3[\"pca\"][0],dict4[\"pca\"][0],dict5[\"pca\"][0]]), axis=0)\n",
    "dict1[\"dct\"][0] = np.mean(np.asarray([dict1[\"dct\"][0],dict2[\"dct\"][0],dict3[\"dct\"][0],dict4[\"dct\"][0],dict5[\"dct\"][0]]), axis=0)\n",
    "dict1[\"rp\"][0] = np.mean(np.asarray([dict1[\"rp\"][0],dict2[\"rp\"][0],dict3[\"rp\"][0],dict4[\"rp\"][0],dict5[\"rp\"][0]]), axis=0)\n",
    "dict1[\"srp\"][0] = np.mean(np.asarray([dict1[\"srp\"][0],dict2[\"srp\"][0],dict3[\"srp\"][0],dict4[\"srp\"][0],dict5[\"srp\"][0]]), axis=0)\n"
   ]
  },
  {
   "cell_type": "code",
   "execution_count": null,
   "metadata": {},
   "outputs": [],
   "source": [
    "_, p1 = scipy.stats.mannwhitneyu(dict2[\"pca\"][0],dict1[\"rp\"][0])\n",
    "_, p2 = scipy.stats.mannwhitneyu(dict2[\"pca\"][0],dict1[\"srp\"][0])\n",
    "_, p3 = scipy.stats.mannwhitneyu(dict2[\"dct\"][0],dict1[\"rp\"][0])\n",
    "_, p4 = scipy.stats.mannwhitneyu(dict2[\"dct\"][0],dict1[\"srp\"][0])\n",
    "\n",
    "print(p1)\n",
    "print(p2)\n",
    "print(p3)\n",
    "print(p4)"
   ]
  },
  {
   "cell_type": "code",
   "execution_count": 41,
   "metadata": {},
   "outputs": [],
   "source": [
    "# Average the results over a fixed interval\n",
    "avg = 10\n",
    "\n",
    "p_diff = np.nan_to_num(dict1[\"pca\"][0],0)\n",
    "d_diff = np.nan_to_num(dict1[\"dct\"][0],0)\n",
    "r_diff = np.nan_to_num(dict1[\"rp\"][0],0)\n",
    "sr_diff = np.nan_to_num(dict1[\"srp\"][0],0)\n",
    "\n",
    "p_min = np.nan_to_num(dict1[\"pca\"][1],0)\n",
    "d_min = np.nan_to_num(dict1[\"dct\"][1],0)\n",
    "r_min = np.nan_to_num(dict1[\"rp\"][1],0)\n",
    "sr_min = np.nan_to_num(dict1[\"srp\"][1],0)\n",
    "\n",
    "p_max = np.nan_to_num(dict1[\"pca\"][2],0)\n",
    "d_max = np.nan_to_num(dict1[\"dct\"][2],0)\n",
    "r_max = np.nan_to_num(dict1[\"rp\"][2],0)\n",
    "sr_max = np.nan_to_num(dict1[\"srp\"][2],0)\n",
    "\n",
    "p_time = dict1[\"pca\"][3]\n",
    "d_time = dict1[\"dct\"][3]\n",
    "r_time = dict1[\"rp\"][3]\n",
    "sr_time = dict1[\"srp\"][3]\n",
    "\n",
    "p_diff = [np.mean(p_diff[i:i+avg]) for i in range(0, len(p_diff), avg)] \n",
    "d_diff = [np.mean(d_diff[i:i+avg]) for i in range(0, len(d_diff), avg)] \n",
    "r_diff = [np.mean(r_diff[i:i+avg]) for i in range(0, len(r_diff), avg)] \n",
    "sr_diff = [np.mean(sr_diff[i:i+avg]) for i in range(0, len(sr_diff), avg)] \n",
    "\n",
    "p_min = [np.mean(p_min[i:i+avg]) for i in range(0, len(p_min), avg)] \n",
    "d_min = [np.mean(d_min[i:i+avg]) for i in range(0, len(d_min), avg)] \n",
    "r_min = [np.mean(r_min[i:i+avg]) for i in range(0, len(r_min), avg)] \n",
    "sr_min = [np.mean(sr_min[i:i+avg]) for i in range(0, len(sr_min), avg)] \n",
    "\n",
    "p_max = [np.mean(p_max[i:i+avg]) for i in range(0, len(p_max), avg)] \n",
    "d_max = [np.mean(d_max[i:i+avg]) for i in range(0, len(d_max), avg)] \n",
    "r_max = [np.mean(r_max[i:i+avg]) for i in range(0, len(r_max), avg)] \n",
    "sr_max = [np.mean(sr_max[i:i+avg]) for i in range(0, len(sr_max), avg)] \n",
    "\n",
    "\n",
    "p_time = [np.mean(p_time[i:i+avg]) for i in range(0, len(p_time), avg)] \n",
    "d_time = [np.mean(d_time[i:i+avg]) for i in range(0, len(d_time), avg)] \n",
    "r_time= [np.mean(r_time[i:i+avg]) for i in range(0, len(r_time), avg)] \n",
    "sr_time = [np.mean(sr_time[i:i+avg]) for i in range(0, len(sr_time), avg)] \n",
    "\n",
    "\n"
   ]
  },
  {
   "cell_type": "code",
   "execution_count": 36,
   "metadata": {},
   "outputs": [],
   "source": [
    "# Apply median filter and compute error\n",
    "mf = np.asarray([cv2.medianBlur(d, 3) for d in noisy_data])\n",
    "m_diff, _, _, = measure(mf)\n",
    "o_diff, _, _, = measure(data)\n",
    "m_val = m_diff - o_diff"
   ]
  },
  {
   "cell_type": "code",
   "execution_count": 39,
   "metadata": {},
   "outputs": [
    {
     "output_type": "display_data",
     "data": {
      "application/vnd.plotly.v1+json": {
       "config": {
        "plotlyServerURL": "https://plot.ly"
       },
       "data": [
        {
         "marker": {
          "symbol": "circle"
         },
         "mode": "markers",
         "name": "PCA",
         "type": "scatter",
         "x": [
          2,
          7,
          12,
          17,
          22,
          27,
          32,
          37,
          42,
          47,
          52,
          57,
          62,
          67,
          72,
          77,
          82,
          87,
          92,
          97,
          102,
          107,
          112,
          117,
          122,
          127,
          132,
          137,
          142,
          147,
          152,
          157,
          162,
          167,
          172,
          177,
          182,
          187,
          192,
          197,
          202,
          207,
          212,
          217,
          222,
          227,
          232,
          237,
          242,
          247,
          252,
          257,
          262,
          267,
          272,
          277,
          282,
          287,
          292,
          297,
          302,
          307,
          312,
          317,
          322
         ],
         "y": [
          -13.983442306518555,
          -5.700843811035156,
          -3.356464385986328,
          -2.5663299560546875,
          -2.090496063232422,
          -1.7580909729003906,
          -1.5385665893554688,
          -1.3808860778808594,
          -1.2617378234863281,
          -1.1437530517578125,
          -1.0730857849121094,
          -1.0058326721191406,
          -0.9838027954101562,
          -0.9247283935546875,
          -0.87603759765625,
          -0.8379745483398438,
          -0.7827529907226562,
          -0.741973876953125,
          -0.7134780883789062,
          -0.6757278442382812,
          -0.6334495544433594,
          -0.6179313659667969,
          -0.5739555358886719,
          -0.5574302673339844,
          -0.537628173828125,
          -0.522064208984375,
          -0.5113906860351562,
          -0.4913330078125,
          -0.4761924743652344,
          -0.4665679931640625,
          -0.4564704895019531,
          -0.43791961669921875,
          -0.42156982421875,
          -0.4054374694824219,
          -0.400421142578125,
          -0.3906440734863281,
          -0.3845329284667969,
          -0.3743858337402344,
          -0.3730506896972656,
          -0.3646507263183594,
          -0.35401153564453125,
          -0.3486595153808594,
          -0.3405799865722656,
          -0.3359222412109375,
          -0.3343849182128906,
          -0.33160400390625,
          -0.32111358642578125,
          -0.3124961853027344,
          -0.3066139221191406,
          -0.30109405517578125,
          -0.2893562316894531,
          -0.2840538024902344,
          -0.2762794494628906,
          -0.2714118957519531,
          -0.26895904541015625,
          -0.2657470703125,
          -0.259033203125,
          -0.2547874450683594,
          -0.2493743896484375,
          -0.2431793212890625,
          -0.24068832397460938,
          -0.2360076904296875,
          -0.23157119750976562,
          -0.23099136352539062,
          -0.22797393798828125,
          -0.22643280029296875,
          -0.22328948974609375,
          -0.21971511840820312,
          -0.21895599365234375,
          -0.2157745361328125,
          -0.213226318359375,
          -0.21142578125,
          -0.20563125610351562,
          -0.20346832275390625,
          -0.20059585571289062,
          -0.19723129272460938,
          -0.19527816772460938,
          -0.19246673583984375,
          -0.19118499755859375,
          -0.18902206420898438,
          -0.187347412109375,
          -0.18581008911132812,
          -0.18064498901367188,
          -0.17840194702148438,
          -0.17573165893554688,
          -0.17373275756835938,
          -0.17121505737304688,
          -0.17056655883789062,
          -0.16791534423828125,
          -0.16632843017578125,
          -0.1638641357421875,
          -0.16212844848632812,
          -0.16054916381835938,
          -0.15829849243164062,
          -0.15793991088867188,
          -0.15547561645507812,
          -0.15293121337890625,
          -0.1509246826171875,
          -0.15015029907226562,
          -0.14885330200195312,
          -0.14571380615234375,
          -0.1423492431640625,
          -0.14078903198242188,
          -0.13915252685546875,
          -0.13678741455078125,
          -0.1360321044921875,
          -0.1336212158203125,
          -0.13149642944335938,
          -0.13090896606445312,
          -0.12981414794921875,
          -0.12871170043945312,
          -0.12835693359375,
          -0.12583541870117188,
          -0.12459182739257812,
          -0.12244796752929688,
          -0.1207733154296875,
          -0.11890029907226562,
          -0.1178741455078125,
          -0.11503982543945312,
          -0.11367416381835938,
          -0.11281204223632812,
          -0.11208343505859375,
          -0.11049270629882812,
          -0.10972213745117188,
          -0.10784530639648438,
          -0.10645675659179688,
          -0.10536956787109375,
          -0.10451507568359375,
          -0.1043243408203125,
          -0.10400009155273438,
          -0.10235595703125,
          -0.10133743286132812,
          -0.10065078735351562,
          -0.10008621215820312,
          -0.09879302978515625,
          -0.09838485717773438,
          -0.09629440307617188,
          -0.09561920166015625,
          -0.0937042236328125,
          -0.0935516357421875,
          -0.0925750732421875,
          -0.09137344360351562,
          -0.09032058715820312,
          -0.08946609497070312,
          -0.08835220336914062,
          -0.08808517456054688,
          -0.08700942993164062,
          -0.08633804321289062,
          -0.08594131469726562,
          -0.08502578735351562,
          -0.084686279296875,
          -0.08336639404296875,
          -0.08290863037109375,
          -0.0832672119140625,
          -0.082855224609375,
          -0.08291244506835938,
          -0.082244873046875,
          -0.08150100708007812,
          -0.0804290771484375,
          -0.08000564575195312,
          -0.0791778564453125,
          -0.07825469970703125,
          -0.07772445678710938,
          -0.07672119140625,
          -0.07598876953125,
          -0.07551956176757812,
          -0.07482528686523438,
          -0.07407379150390625,
          -0.07312393188476562,
          -0.072906494140625,
          -0.07232284545898438,
          -0.07217025756835938,
          -0.07152938842773438,
          -0.07065200805664062,
          -0.070068359375,
          -0.06964492797851562,
          -0.06911468505859375,
          -0.0687408447265625,
          -0.068206787109375,
          -0.06801223754882812,
          -0.06746292114257812,
          -0.06665420532226562,
          -0.0659027099609375,
          -0.06523513793945312,
          -0.06429290771484375,
          -0.06393051147460938,
          -0.0637054443359375,
          -0.06313705444335938,
          -0.062412261962890625,
          -0.0620269775390625,
          -0.061679840087890625,
          -0.0612640380859375,
          -0.060840606689453125,
          -0.060455322265625,
          -0.059696197509765625,
          -0.059635162353515625,
          -0.059234619140625,
          -0.058574676513671875,
          -0.058216094970703125,
          -0.057758331298828125,
          -0.05736541748046875,
          -0.05718994140625,
          -0.056606292724609375,
          -0.056396484375,
          -0.056278228759765625,
          -0.056041717529296875,
          -0.0551910400390625,
          -0.0549163818359375,
          -0.0543212890625,
          -0.05361175537109375,
          -0.0533447265625,
          -0.052425384521484375,
          -0.051548004150390625,
          -0.050945281982421875,
          -0.05069732666015625,
          -0.050258636474609375,
          -0.049922943115234375,
          -0.049243927001953125,
          -0.048641204833984375,
          -0.04824066162109375,
          -0.04801177978515625,
          -0.0475006103515625,
          -0.04673004150390625,
          -0.0462188720703125,
          -0.045886993408203125,
          -0.045261383056640625,
          -0.04506683349609375,
          -0.04505157470703125,
          -0.0448455810546875,
          -0.044353485107421875,
          -0.044078826904296875,
          -0.0435943603515625,
          -0.043033599853515625,
          -0.042724609375,
          -0.042255401611328125,
          -0.04183197021484375,
          -0.04140472412109375,
          -0.04096221923828125,
          -0.0406951904296875,
          -0.040515899658203125,
          -0.040069580078125,
          -0.0399169921875,
          -0.039661407470703125,
          -0.039211273193359375,
          -0.0391082763671875,
          -0.038440704345703125,
          -0.038219451904296875,
          -0.037731170654296875,
          -0.037456512451171875,
          -0.03736114501953125,
          -0.036975860595703125,
          -0.03680419921875,
          -0.0363922119140625,
          -0.036128997802734375,
          -0.0359649658203125,
          -0.03562164306640625,
          -0.035259246826171875,
          -0.03473663330078125,
          -0.034290313720703125,
          -0.033771514892578125,
          -0.033519744873046875,
          -0.033405303955078125,
          -0.03322601318359375,
          -0.032958984375,
          -0.032863616943359375,
          -0.032436370849609375,
          -0.032146453857421875,
          -0.031871795654296875,
          -0.031490325927734375,
          -0.0313262939453125,
          -0.03107452392578125,
          -0.0310821533203125,
          -0.030849456787109375,
          -0.03072357177734375,
          -0.030277252197265625,
          -0.030178070068359375,
          -0.029888153076171875,
          -0.02953338623046875,
          -0.02919769287109375,
          -0.02911376953125,
          -0.0289764404296875,
          -0.028728485107421875,
          -0.028652191162109375,
          -0.028453826904296875,
          -0.02831268310546875,
          -0.02822113037109375,
          -0.028079986572265625,
          -0.027923583984375,
          -0.027744293212890625,
          -0.027477264404296875,
          -0.027072906494140625,
          -0.02690887451171875,
          -0.0267486572265625,
          -0.026325225830078125,
          -0.026210784912109375,
          -0.025897979736328125,
          -0.025608062744140625,
          -0.02553558349609375,
          -0.02527618408203125,
          -0.0250701904296875,
          -0.024776458740234375,
          -0.024608612060546875,
          -0.024471282958984375,
          -0.02419281005859375,
          -0.02417755126953125,
          -0.02393341064453125,
          -0.0239105224609375,
          -0.02371978759765625,
          -0.023685455322265625,
          -0.02362823486328125,
          -0.023456573486328125,
          -0.0231781005859375,
          -0.023067474365234375,
          -0.022769927978515625,
          -0.022869110107421875,
          -0.022754669189453125,
          -0.02252960205078125,
          -0.02230072021484375,
          -0.02205657958984375,
          -0.021900177001953125,
          -0.021793365478515625,
          -0.02158355712890625,
          -0.021526336669921875
         ]
        },
        {
         "marker": {
          "symbol": "square"
         },
         "mode": "markers",
         "name": "DCT",
         "type": "scatter",
         "x": [
          2,
          7,
          12,
          17,
          22,
          27,
          32,
          37,
          42,
          47,
          52,
          57,
          62,
          67,
          72,
          77,
          82,
          87,
          92,
          97,
          102,
          107,
          112,
          117,
          122,
          127,
          132,
          137,
          142,
          147,
          152,
          157,
          162,
          167,
          172,
          177,
          182,
          187,
          192,
          197,
          202,
          207,
          212,
          217,
          222,
          227,
          232,
          237,
          242,
          247,
          252,
          257,
          262,
          267,
          272,
          277,
          282,
          287,
          292,
          297,
          302,
          307,
          312,
          317,
          322
         ],
         "y": [
          -12.253707885742188,
          -3.6925735473632812,
          -2.4724082946777344,
          -2.1221885681152344,
          -1.7478866577148438,
          -2.1844482421875,
          -1.70416259765625,
          -1.47357177734375,
          -1.2379570007324219,
          -1.1558876037597656,
          -0.8866119384765625,
          -0.69415283203125,
          -0.639892578125,
          -0.572662353515625,
          -0.534759521484375,
          -0.4889564514160156,
          -0.44194793701171875,
          -0.460113525390625,
          -0.4605903625488281,
          -0.48517608642578125,
          -0.4132232666015625,
          -0.2516326904296875,
          -0.2698249816894531,
          -0.21791839599609375,
          -0.15361404418945312,
          -0.14304733276367188,
          -0.13748550415039062,
          -0.17427825927734375,
          -0.1678924560546875,
          -0.12258148193359375,
          -0.09710311889648438,
          -0.07036590576171875,
          -0.05504608154296875,
          -0.03505706787109375,
          -0.0281829833984375,
          0.007343292236328125,
          0.026332855224609375,
          0.045421600341796875,
          0.09508132934570312,
          0.10206222534179688,
          0.1015167236328125,
          0.121063232421875,
          0.10500717163085938,
          0.034717559814453125,
          0.032459259033203125,
          0.04080963134765625,
          0.04676055908203125,
          0.048099517822265625,
          0.07786178588867188,
          0.06722259521484375,
          0.10007858276367188,
          0.11653518676757812,
          0.12134933471679688,
          0.12231826782226562,
          0.10947418212890625,
          0.14135360717773438,
          0.14234161376953125,
          0.15563583374023438,
          0.128265380859375,
          0.12240982055664062,
          0.12386322021484375,
          0.14626312255859375,
          0.13541412353515625,
          0.16038131713867188,
          0.16692733764648438,
          0.1950836181640625,
          0.22246551513671875,
          0.2261810302734375,
          0.22983551025390625,
          0.21657180786132812,
          0.24847030639648438,
          0.23026275634765625,
          0.24398040771484375,
          0.25994873046875,
          0.2801628112792969,
          0.27977752685546875,
          0.2944755554199219,
          0.28743743896484375,
          0.29956817626953125,
          0.29254913330078125,
          0.2922859191894531,
          0.26877593994140625,
          0.27384185791015625,
          0.27994537353515625,
          0.2749671936035156,
          0.2875862121582031,
          0.281707763671875,
          0.2875938415527344,
          0.3013458251953125,
          0.30159759521484375,
          0.2947578430175781,
          0.2647552490234375,
          0.27796173095703125,
          0.26988983154296875,
          0.27555084228515625,
          0.2637977600097656,
          0.2647361755371094,
          0.2652435302734375,
          0.2800941467285156,
          0.26763153076171875,
          0.2548027038574219,
          0.2559623718261719,
          0.2507209777832031,
          0.2547492980957031,
          0.26227569580078125,
          0.26140594482421875,
          0.2635536193847656,
          0.2614631652832031,
          0.26175689697265625,
          0.2733268737792969,
          0.2544670104980469,
          0.26313018798828125,
          0.26999664306640625,
          0.27002716064453125,
          0.2701683044433594,
          0.2742652893066406,
          0.2889251708984375,
          0.28350830078125,
          0.2829437255859375,
          0.28643035888671875,
          0.2869606018066406,
          0.2925910949707031,
          0.2713470458984375,
          0.27459716796875,
          0.2741127014160156,
          0.26874542236328125,
          0.2718925476074219,
          0.264984130859375,
          0.26544189453125,
          0.26276397705078125,
          0.25962066650390625,
          0.2565116882324219,
          0.242706298828125,
          0.2313995361328125,
          0.23262786865234375,
          0.23030471801757812,
          0.23186492919921875,
          0.209625244140625,
          0.21484375,
          0.221771240234375,
          0.22235870361328125,
          0.2273101806640625,
          0.22551727294921875,
          0.21748733520507812,
          0.22225189208984375,
          0.2295379638671875,
          0.23009109497070312,
          0.222076416015625,
          0.22869873046875,
          0.2383880615234375,
          0.24155044555664062,
          0.2468414306640625,
          0.25128173828125,
          0.2495880126953125,
          0.22630691528320312,
          0.22954177856445312,
          0.232757568359375,
          0.23065567016601562,
          0.21895599365234375,
          0.2242584228515625,
          0.22609710693359375,
          0.22579574584960938,
          0.23088836669921875,
          0.23508071899414062,
          0.2437744140625,
          0.2504920959472656,
          0.2500724792480469,
          0.25092315673828125,
          0.2590065002441406,
          0.26326751708984375,
          0.2633857727050781,
          0.26432037353515625,
          0.26062774658203125,
          0.2523193359375,
          0.2536773681640625,
          0.25118255615234375,
          0.2542076110839844,
          0.26058197021484375,
          0.2588157653808594,
          0.25209808349609375,
          0.25316619873046875,
          0.24827957153320312,
          0.24414825439453125,
          0.23918533325195312,
          0.23458099365234375,
          0.23767852783203125,
          0.2337493896484375,
          0.22697830200195312,
          0.22828292846679688,
          0.21373748779296875,
          0.21723175048828125,
          0.22403335571289062,
          0.22014999389648438,
          0.21730422973632812,
          0.21401214599609375,
          0.21194839477539062,
          0.19969558715820312,
          0.19686508178710938,
          0.19096755981445312,
          0.19290542602539062,
          0.1989593505859375,
          0.19841766357421875,
          0.20048904418945312,
          0.19797515869140625,
          0.18251419067382812,
          0.18732452392578125,
          0.18962860107421875,
          0.18960952758789062,
          0.1808013916015625,
          0.16855239868164062,
          0.16574859619140625,
          0.1586761474609375,
          0.1636199951171875,
          0.17103195190429688,
          0.16886520385742188,
          0.17208099365234375,
          0.17267608642578125,
          0.16606903076171875,
          0.17211151123046875,
          0.17078781127929688,
          0.17360305786132812,
          0.16923904418945312,
          0.17152786254882812,
          0.16946792602539062,
          0.17359542846679688,
          0.173126220703125,
          0.17873764038085938,
          0.18146896362304688,
          0.180877685546875,
          0.17353439331054688,
          0.1726837158203125,
          0.1778564453125,
          0.18053436279296875,
          0.17309951782226562,
          0.17595672607421875,
          0.17441558837890625,
          0.17638397216796875,
          0.17812347412109375,
          0.17667770385742188,
          0.18191146850585938,
          0.18287277221679688,
          0.1881561279296875,
          0.18416976928710938,
          0.17829513549804688,
          0.18022918701171875,
          0.18095016479492188,
          0.1803131103515625,
          0.18870162963867188,
          0.18081283569335938,
          0.18618011474609375,
          0.17995834350585938,
          0.1792449951171875,
          0.17911911010742188,
          0.17659378051757812,
          0.17947006225585938,
          0.18758010864257812,
          0.19164276123046875,
          0.1888275146484375,
          0.18594741821289062,
          0.19217681884765625,
          0.19636154174804688,
          0.19193649291992188,
          0.19870758056640625,
          0.19774627685546875,
          0.192108154296875,
          0.186798095703125,
          0.18880462646484375,
          0.19634628295898438,
          0.19962692260742188,
          0.19910812377929688,
          0.2024688720703125,
          0.20437240600585938,
          0.20230865478515625,
          0.19520187377929688,
          0.19171905517578125,
          0.18901824951171875,
          0.19275283813476562,
          0.19063186645507812,
          0.18366241455078125,
          0.18445205688476562,
          0.19086074829101562,
          0.19167709350585938,
          0.18395233154296875,
          0.18305206298828125,
          0.18158721923828125,
          0.18383407592773438,
          0.18622207641601562,
          0.18111419677734375,
          0.18448257446289062,
          0.18686294555664062,
          0.18597412109375,
          0.18574142456054688,
          0.18740081787109375,
          0.1931610107421875,
          0.1930999755859375,
          0.1904449462890625,
          0.1924591064453125,
          0.19328689575195312,
          0.19686508178710938,
          0.19648361206054688,
          0.19756317138671875,
          0.20044708251953125,
          0.20473861694335938,
          0.2032470703125,
          0.20293807983398438,
          0.20473098754882812,
          0.2064361572265625,
          0.20792388916015625,
          0.20684432983398438,
          0.20285415649414062,
          0.2067718505859375,
          0.20720291137695312,
          0.20705032348632812,
          0.21283721923828125,
          0.212677001953125,
          0.21147537231445312,
          0.20648956298828125,
          0.20507431030273438,
          0.20552444458007812,
          0.21059036254882812,
          0.21290206909179688,
          0.21535873413085938,
          0.21269989013671875
         ]
        },
        {
         "marker": {
          "symbol": "cross"
         },
         "mode": "markers",
         "name": "RP",
         "type": "scatter",
         "x": [
          2,
          7,
          12,
          17,
          22,
          27,
          32,
          37,
          42,
          47,
          52,
          57,
          62,
          67,
          72,
          77,
          82,
          87,
          92,
          97,
          102,
          107,
          112,
          117,
          122,
          127,
          132,
          137,
          142,
          147,
          152,
          157,
          162,
          167,
          172,
          177,
          182,
          187,
          192,
          197,
          202,
          207,
          212,
          217,
          222,
          227,
          232,
          237,
          242,
          247,
          252,
          257,
          262,
          267,
          272,
          277,
          282,
          287,
          292,
          297,
          302,
          307,
          312,
          317,
          322
         ],
         "y": [
          -11.741199245204662,
          -4.137246657096846,
          -2.6694468649027883,
          -1.65104967915142,
          -1.7845679919139243,
          -1.179371814474763,
          -1.5374486389727622,
          -0.6773595004710131,
          -0.9577301611668645,
          -0.43999380290055967,
          -0.67921632621578,
          -0.5056020458723225,
          -0.0323145373078475,
          -0.012020705836100376,
          -0.5829473851578157,
          -0.557484126036023,
          -0.9337228719365811,
          -0.40103076491778467,
          -0.02247802504532359,
          -0.1386325323430384,
          -0.34727370000862834,
          -0.27757047610749197,
          -0.8003886262330084,
          -0.12315623038902856,
          0.006770125923701187,
          0.20195984490862884,
          -0.3905116091832923,
          -0.49311050715942173,
          -0.009859457334002286,
          -0.09823185848977545,
          0.2172039968711772,
          -0.5484813817964564,
          -0.501999822697627,
          -0.06212455501605518,
          -0.22322566496178808,
          -0.23616499737226349,
          -0.28211044991738277,
          0.05471009592496756,
          -0.05397387470283377,
          -0.13517269404425747,
          -0.17968775820806115,
          -0.2601091611697228,
          -0.3302541479134149,
          -0.5206051866650014,
          -0.08631546741532503,
          -0.23974677873923866,
          0.05763259742280269,
          -0.01593021735738631,
          -0.3343583636564702,
          0.01039590244551647,
          -0.048514568145883175,
          -0.03825270569406314,
          -0.12252538326657714,
          -0.02164339380063751,
          0.0717871021810339,
          0.058933161467173534,
          -0.19033212164257662,
          -0.20924137861247516,
          -0.12538927175827297,
          -0.2500579919186805,
          0.0009276344113828827,
          -0.06469849514223114,
          -0.26948941923902225,
          -0.19789324801703856,
          0.06312913828594446,
          -0.12366947832389741,
          0.03335950056810333,
          -0.03547531065361653,
          -0.09416396366930257,
          -0.1425338058825929,
          -0.11329555803406066,
          -0.16718879043287416,
          0.1342517512652961,
          0.03842680851975899,
          -0.2954423276604672,
          0.1299581097247966,
          -0.10313132400798963,
          0.04833252615526362,
          -0.19019585055431776,
          -0.35002943605756087,
          0.16055350974253457,
          0.047521175740129706,
          -0.1281630485069627,
          0.12726422301811624,
          -0.17822000093448764,
          -0.1751403888726628,
          -0.1487609166075856,
          0.06729287939035089,
          -0.13170538388366992,
          -0.2399862886266959,
          0.0026605793563518887,
          -0.0800861493430105,
          0.002471262088228343,
          -0.0828649720334198,
          -0.14223546993665792,
          0.13876456760177547,
          -0.0020260197473689345,
          -0.12652186987506298,
          -0.13434195098364654,
          0.013476340423629551,
          0.19523113445318785,
          -0.017880277626026952,
          0.035522667696781696,
          0.1308344118723781,
          -0.022066765611334915,
          0.06941830062633159,
          0.05817416761100702,
          -0.16470723557152667,
          0.06276725812872996,
          -0.07104920878169452,
          -0.08429149547567505,
          -0.22989871066908307,
          -0.12840237342260963,
          -0.04395225972157846,
          -0.004859759651111517,
          -0.19531706331715526,
          0.1219433591026089,
          -0.15078657685944563,
          0.011076033825908382,
          0.11100064808706378,
          0.10058881409087661,
          -0.04257989265981621,
          -0.2590826852523378,
          -0.05386033938174961,
          0.06950814951525786,
          -0.008823941501454158,
          0.12417698832171453,
          0.05299173906004029,
          -0.014822527397484464,
          0.010048362966131208,
          -0.1315798730403941,
          -0.17547102701941952,
          0.017683199251877113,
          -0.09646336710599002,
          -0.1101400408819515,
          -0.07954544914559136,
          -0.011782459146637336,
          0.1244582221740913,
          -0.1773420513760513,
          0.1484170905338118,
          0.047637498687308266,
          -0.03575510285056538,
          -0.08733271350379823,
          -0.28860671157022466,
          -0.0062673372024733,
          -0.06975069609883633,
          -0.02283743953889683,
          0.10001854745256367,
          0.016419952905238233,
          -0.05563961094415504,
          -0.12457380262260642,
          -0.05327456106200401,
          -0.12419883918720842,
          0.13666507720994048,
          0.13239320704497004,
          -0.029051139980047935,
          -0.11701683700326271,
          0.011184547145262513,
          -0.03241546796533612,
          0.016264425456988363,
          -0.12918830184342056,
          -0.05885934871238874,
          0.06867197041673734,
          0.022109760445232496,
          0.010382143272977373,
          -0.00081387613705175,
          -0.1481125525146041,
          0.0463222344302352,
          -0.01883364662906928,
          0.07459930353915922,
          -0.07936006235436821,
          -0.20896418221047952,
          -0.16241734419403286,
          -0.08213426650307554,
          0.0423893997532474,
          -0.034508610027636166,
          -0.17417646998207914,
          -0.006173807279502341,
          0.12083943693804855,
          0.057001516594304746,
          -0.20247772083965287,
          -0.10829565394165286,
          0.026823778977359325,
          0.06753780555892774,
          0.1033720765155337,
          0.05926859947432206,
          -0.009159662754370856,
          0.11414793319917749,
          -0.04292922057489079,
          0.07681177582112753,
          -0.08671987844609674,
          -0.045404303058326434,
          0.02024493141023953,
          0.0807023786586214,
          -0.0392190389859195,
          0.06332431461441956,
          0.010690132516188555,
          0.0180411030256451,
          -0.09296363815632702,
          -0.08579354595122624,
          -0.014149857435327817,
          -0.03286077032028345,
          0.03861747547705363,
          -0.041239963453442385,
          0.0636043248542606,
          -0.12461183001774856,
          0.003859929001940543,
          -0.05895186444443823,
          -0.2748050251448788,
          0.08600898338866614,
          -0.023294339756368743,
          -0.04500452724156645,
          -0.04388710018349684,
          0.034018644235196405,
          -0.10660537637166811,
          -0.0549150941935892,
          -0.056534610517267936,
          0.012503899165380972,
          -0.04041995115601793,
          -0.02409546626655157,
          -0.034568033000738296,
          0.09799845581193267,
          -0.05195194355545851,
          -0.07357834559809362,
          -0.12098422650364427,
          0.03455749542978026,
          -0.0932155103638479,
          0.0799917892354074,
          0.03638851401273513,
          -0.0040875170743248646,
          -0.07298352164702493,
          -0.06417034652490372,
          0.042134014219072924,
          -0.010137467534775624,
          0.00979232323867052,
          -0.03198137650861099,
          0.030326586826006974,
          -0.10203032853043936,
          -0.06328008462217838,
          -0.11713393137844719,
          -0.08283719928618183,
          -0.04915724955627354,
          -0.023661152993184942,
          -0.04925026211042649,
          -0.03706219300372737,
          -0.03833678186236256,
          -0.020468448348772483,
          -0.18764256126422652,
          -0.006721136783319537,
          0.034033477002424206,
          -0.0960305049093293,
          -0.0625676024258297,
          -0.06081268495243819,
          -0.0756035878198631,
          0.06721848273156894,
          -0.052931509435481416,
          -0.07251389812342524,
          -0.03360768307255313,
          -0.12909757191119553,
          0.032789122215312716,
          -0.12256396813747727,
          -0.013638864694421216,
          -0.10780776251105806,
          0.003235198700252795,
          0.029665743749028195,
          -0.039662632091094,
          -0.025329925716782498,
          0.03725948711127813,
          0.1319138214164255,
          -0.01816802256576011,
          0.020128557822495452,
          -0.14003767263388056,
          -0.057421597902433064,
          -0.1188513762334793,
          -0.07033790985164501,
          0.06820556309710213,
          0.09207970695435819,
          -0.03786316919860866,
          -0.069377499414216,
          0.03703625062433247,
          -0.08947141981536078,
          -0.05834445879744976,
          0.04323996903401195,
          -0.018602153606906313,
          0.05479669833689371,
          -0.07507870677909523,
          0.07399681947104852,
          0.029608825433250274,
          -0.06286937569060314,
          -0.097724503655499,
          -0.003365475358755532,
          0.022827854265685232,
          -0.08194398779647116,
          -0.10360361413420094,
          -0.023090820417820623,
          -0.05747088595749972,
          -0.007770132260894513,
          0.028479333340627022,
          0.021209651921495265,
          -0.04874530046312486,
          -0.043371500403850405,
          0.016752134169713884,
          -0.11635682580789108,
          0.07257192854233097,
          0.07037866405156734,
          0.0652780140410627,
          0.03325063127407191,
          -0.04828087580622764,
          -0.15295479566901093,
          0.11298011476313974,
          -0.0593246434495569,
          0.04940209902663639,
          0.04675300910667346,
          0.027655173434446567,
          -0.0357696336392479,
          -0.11064139159474706,
          0.016502024576531937,
          0.004432225644158905,
          -0.07028331279668976,
          -0.06623702103806295,
          -0.06782707145913491,
          -0.08476010752092833,
          0.05554251788546338
         ]
        },
        {
         "marker": {
          "symbol": "diamond"
         },
         "mode": "markers",
         "name": "SRP",
         "type": "scatter",
         "x": [
          2,
          7,
          12,
          17,
          22,
          27,
          32,
          37,
          42,
          47,
          52,
          57,
          62,
          67,
          72,
          77,
          82,
          87,
          92,
          97,
          102,
          107,
          112,
          117,
          122,
          127,
          132,
          137,
          142,
          147,
          152,
          157,
          162,
          167,
          172,
          177,
          182,
          187,
          192,
          197,
          202,
          207,
          212,
          217,
          222,
          227,
          232,
          237,
          242,
          247,
          252,
          257,
          262,
          267,
          272,
          277,
          282,
          287,
          292,
          297,
          302,
          307,
          312,
          317,
          322
         ],
         "y": [
          -11.805263309268732,
          -3.787592691108216,
          -2.5649556941566587,
          -1.985411285620188,
          -1.7015047845315578,
          -1.4223139876303748,
          -0.7348014029719039,
          -0.09884961065646536,
          -0.2707545764585504,
          -0.5871200887354178,
          0.05627426237668942,
          0.006796865421691223,
          -0.10813050611790942,
          -0.16586233599424105,
          -0.09651273897581092,
          -0.3969363193560511,
          -0.6538784246035689,
          0.4985055252954851,
          -0.20485752250054645,
          -0.19136921945235486,
          -0.415336828150096,
          -0.3228029550956535,
          -0.25063135376039014,
          -0.29266464113521096,
          0.20610708183601645,
          -0.2478827363026994,
          -0.6818885303213875,
          -0.16903897458117,
          -0.03138421111756884,
          -0.7147730682594613,
          -0.21568102380334153,
          0.11319620329977909,
          -0.26363936006668354,
          -0.04239593783005802,
          -0.2332728482352806,
          -0.1334655201747026,
          -0.3745319297459915,
          0.016005927797465347,
          -0.14490667876312102,
          -0.31018059725737146,
          0.20751702038925401,
          -0.2885571461498486,
          0.15674394660749158,
          -0.09407825360302269,
          -0.23795540472797683,
          -0.02127908949774593,
          -0.0641338764839432,
          0.08342819412065694,
          0.00926025094150873,
          -0.13163736769682544,
          -0.17931477205205937,
          0.16600958661931742,
          -0.19265262334536715,
          -0.11412277485889177,
          -0.30725917221888466,
          -0.1736325856079617,
          -0.2688547245151227,
          0.1537670560551092,
          -0.007865992552616774,
          -0.23604646134148055,
          -0.41751539347349365,
          0.041030136027316644,
          0.2375309823748495,
          0.27085057797413725,
          0.09968635640222345,
          0.017157081891049586,
          0.05041953651572584,
          -0.17428046272289777,
          -0.13401020918031747,
          -0.07031167339810906,
          -0.2004604299823214,
          -0.14961516048565926,
          -0.08176474920709609,
          -0.1365718902654578,
          -0.19310594938816195,
          -0.14074906808017573,
          -0.14604597503965522,
          -0.0869562297766322,
          -0.0783235615138338,
          0.12551005271497218,
          0.11168170374480724,
          -0.17838542215954334,
          0.042305135648604164,
          0.11521378733304033,
          0.09503644686141399,
          -0.2297721724078201,
          -0.10164325380888783,
          0.0016445612944551158,
          -0.2041904090823934,
          -0.0028045724385137305,
          -0.05167200602748068,
          -0.08663103222644963,
          -0.012476716673852195,
          -0.117403852400777,
          -0.2936365236025509,
          -0.30539527643755804,
          -0.28505765139559713,
          0.04552304448318978,
          -0.026649679034214557,
          -0.2628676435092885,
          0.003230806854460866,
          -0.08096229383335896,
          -0.26048835135924264,
          -0.07830290080822522,
          -0.13291297510884448,
          -0.0001945879756064528,
          -0.0899296087458481,
          0.12805902430520888,
          0.0837635097526217,
          -0.14875616088573906,
          -0.20794178987733858,
          -0.11414405521384907,
          -0.22606878767226846,
          -0.061865991469545634,
          -0.30025785296722773,
          -0.07353389458744175,
          -0.2653833223679456,
          -0.02915479505603713,
          0.11690283207370555,
          0.08119705095342766,
          -0.08850351164101511,
          -0.031658866754028736,
          -0.05992584778611132,
          -0.16521213935886436,
          0.031096190269984447,
          -0.05859131114327454,
          0.06867740877429185,
          -0.06916241026172543,
          -0.0026885174459039263,
          0.06784773288621437,
          -0.1058253328233647,
          0.0004382729953462672,
          0.03800252007516036,
          -0.13148567998224792,
          0.0007086072767776841,
          0.03542830111229023,
          -0.10005716023739808,
          -0.05813274930307699,
          -0.1696550720313752,
          -0.05092471765454576,
          0.04687928223883375,
          -0.0603876569858528,
          -0.13423173554089374,
          -0.013443393178356189,
          -0.21765408330939096,
          0.01279699920360855,
          0.045805509173227676,
          0.006629651931170599,
          -0.18620646811952213,
          -0.09572711027054481,
          -0.09320229807963898,
          0.06550418742799735,
          -0.017219333858228936,
          0.01763532596951478,
          -0.21694734795197235,
          -0.10982285771222422,
          0.17733831385627497,
          -0.11352689932245852,
          0.0177670727557242,
          -0.03739729180162499,
          0.0013208073168087253,
          -0.0961942123692836,
          -0.014186736403331679,
          -0.1629505846667385,
          -0.07052752145391139,
          0.14085225330931195,
          -0.10142474383417266,
          -0.09916201241367162,
          -0.10887468714528836,
          0.05229616299514106,
          -0.10766698519264395,
          0.07260448841417855,
          -0.04146033627032608,
          -0.020711629694403655,
          -0.0747584989927148,
          -0.04116658298807607,
          0.13545781790753608,
          0.10019857441562152,
          0.004930465227275249,
          -0.14908184222527154,
          0.15556475646278756,
          -0.12627943711206768,
          0.005396255437240427,
          -0.068065173996537,
          -0.01272798650379059,
          -0.05277974644278771,
          -0.09335902578697386,
          0.006187908683244814,
          0.002388648603357524,
          -0.007872573314806175,
          -0.0674498850862193,
          0.04828977846448623,
          0.03460222046825834,
          -0.01809742492619648,
          -0.18451952570534758,
          -0.19844495950486163,
          0.11842531219901531,
          -0.09011101442906977,
          0.01749336543262814,
          0.09485060072353946,
          -0.029696194616683158,
          -0.1318345927197342,
          0.07001290722990205,
          -0.1514460830295974,
          0.0018809498721097384,
          -0.035412132071371616,
          -0.0010383364783450588,
          -0.11276666046983053,
          -0.045578659799105026,
          -0.009911615492576686,
          0.02546213402737152,
          -0.014037109918689339,
          0.05897623755092951,
          -0.04982529362965238,
          0.039883333969434887,
          -0.13963897934768,
          -0.15255741692601532,
          -0.054993086459994345,
          -0.12711796251193164,
          0.013590346544908982,
          -0.12562579580727373,
          -0.051594850738183595,
          -0.16167289062968138,
          -0.12748716494348855,
          -0.043729961307832355,
          -0.13726549254247544,
          -0.03462694085229856,
          -0.05943834746076959,
          0.022477114644978258,
          -0.04332515041483731,
          -0.10645351831694683,
          -0.17774175133174452,
          0.018252018354800725,
          -0.0454476079347117,
          0.012995958898876836,
          -0.18958872052286324,
          -0.14934250517953274,
          -0.04457327070957007,
          0.015778718797463398,
          -0.07410489758606076,
          0.01549800263796186,
          -0.10201678968595473,
          -0.019918821724687064,
          0.17655896602887822,
          -0.060657201175772,
          0.04607726600374917,
          -0.09397202365978785,
          0.09829360189382896,
          0.001662112626597434,
          -0.045646150994102186,
          -0.03640323499557496,
          -0.08438678633918784,
          0.07694571280649143,
          -0.15784688098764832,
          -0.025942457862306867,
          -0.02241022652648894,
          -0.13957598525803405,
          -0.1571968663572747,
          -0.09705747157263289,
          -0.03240473952624967,
          -0.07858140089927446,
          -0.10715983943102714,
          -0.12665673705313907,
          -0.03365462587551349,
          -0.0904917265414582,
          -0.058912250601174776,
          -0.05127487493119531,
          -0.03177645249561323,
          -0.0011271904081198159,
          -0.015719964604521408,
          0.011073131160905803,
          0.004292494833144644,
          0.048581800644683426,
          -0.018548655422826243,
          0.06335309131300448,
          -0.06791158801301123,
          -0.17234133659151496,
          -0.11326831534549342,
          0.03933379391158098,
          0.09139467782103594,
          -0.06018710773152236,
          -0.033304545992123735,
          -0.09850830870669824,
          0.026687259754119452,
          0.01566996316538649,
          -0.03863818279572229,
          -0.006772309549440081,
          0.0530062482283995,
          0.030929925926237445,
          -0.04106097186499369,
          -0.0748192716163203,
          -0.0281445168216905,
          -0.07705649068554976,
          0.013717355968438483,
          -0.1487813148070387,
          0.047801880173388156,
          -0.11810032382569347,
          0.060742865295189574,
          -0.029676533794315674,
          -0.13083364477420645,
          -0.04766400113624769,
          -0.11981695491998323,
          -0.13509904752366708,
          0.00039567286247432776,
          -0.12379661318203006,
          0.08374003174448319,
          -0.12211139524285386,
          -0.11546231653066741,
          -0.06983286402923738,
          -0.03695440328306887,
          -0.08985755467588064,
          0.04207748666830469,
          -0.04759596478617567,
          -0.04780749753119551,
          -0.0839600176680122,
          0.07581631386756271,
          -0.006934287693404428,
          0.1162520396265947,
          -0.01922594339499284,
          -0.028501808232100245,
          0.010940570741986733,
          -0.14484788396924841,
          -0.06426466242149331
         ]
        }
       ],
       "layout": {
        "template": {
         "data": {
          "bar": [
           {
            "error_x": {
             "color": "#2a3f5f"
            },
            "error_y": {
             "color": "#2a3f5f"
            },
            "marker": {
             "line": {
              "color": "#E5ECF6",
              "width": 0.5
             }
            },
            "type": "bar"
           }
          ],
          "barpolar": [
           {
            "marker": {
             "line": {
              "color": "#E5ECF6",
              "width": 0.5
             }
            },
            "type": "barpolar"
           }
          ],
          "carpet": [
           {
            "aaxis": {
             "endlinecolor": "#2a3f5f",
             "gridcolor": "white",
             "linecolor": "white",
             "minorgridcolor": "white",
             "startlinecolor": "#2a3f5f"
            },
            "baxis": {
             "endlinecolor": "#2a3f5f",
             "gridcolor": "white",
             "linecolor": "white",
             "minorgridcolor": "white",
             "startlinecolor": "#2a3f5f"
            },
            "type": "carpet"
           }
          ],
          "choropleth": [
           {
            "colorbar": {
             "outlinewidth": 0,
             "ticks": ""
            },
            "type": "choropleth"
           }
          ],
          "contour": [
           {
            "colorbar": {
             "outlinewidth": 0,
             "ticks": ""
            },
            "colorscale": [
             [
              0,
              "#0d0887"
             ],
             [
              0.1111111111111111,
              "#46039f"
             ],
             [
              0.2222222222222222,
              "#7201a8"
             ],
             [
              0.3333333333333333,
              "#9c179e"
             ],
             [
              0.4444444444444444,
              "#bd3786"
             ],
             [
              0.5555555555555556,
              "#d8576b"
             ],
             [
              0.6666666666666666,
              "#ed7953"
             ],
             [
              0.7777777777777778,
              "#fb9f3a"
             ],
             [
              0.8888888888888888,
              "#fdca26"
             ],
             [
              1,
              "#f0f921"
             ]
            ],
            "type": "contour"
           }
          ],
          "contourcarpet": [
           {
            "colorbar": {
             "outlinewidth": 0,
             "ticks": ""
            },
            "type": "contourcarpet"
           }
          ],
          "heatmap": [
           {
            "colorbar": {
             "outlinewidth": 0,
             "ticks": ""
            },
            "colorscale": [
             [
              0,
              "#0d0887"
             ],
             [
              0.1111111111111111,
              "#46039f"
             ],
             [
              0.2222222222222222,
              "#7201a8"
             ],
             [
              0.3333333333333333,
              "#9c179e"
             ],
             [
              0.4444444444444444,
              "#bd3786"
             ],
             [
              0.5555555555555556,
              "#d8576b"
             ],
             [
              0.6666666666666666,
              "#ed7953"
             ],
             [
              0.7777777777777778,
              "#fb9f3a"
             ],
             [
              0.8888888888888888,
              "#fdca26"
             ],
             [
              1,
              "#f0f921"
             ]
            ],
            "type": "heatmap"
           }
          ],
          "heatmapgl": [
           {
            "colorbar": {
             "outlinewidth": 0,
             "ticks": ""
            },
            "colorscale": [
             [
              0,
              "#0d0887"
             ],
             [
              0.1111111111111111,
              "#46039f"
             ],
             [
              0.2222222222222222,
              "#7201a8"
             ],
             [
              0.3333333333333333,
              "#9c179e"
             ],
             [
              0.4444444444444444,
              "#bd3786"
             ],
             [
              0.5555555555555556,
              "#d8576b"
             ],
             [
              0.6666666666666666,
              "#ed7953"
             ],
             [
              0.7777777777777778,
              "#fb9f3a"
             ],
             [
              0.8888888888888888,
              "#fdca26"
             ],
             [
              1,
              "#f0f921"
             ]
            ],
            "type": "heatmapgl"
           }
          ],
          "histogram": [
           {
            "marker": {
             "colorbar": {
              "outlinewidth": 0,
              "ticks": ""
             }
            },
            "type": "histogram"
           }
          ],
          "histogram2d": [
           {
            "colorbar": {
             "outlinewidth": 0,
             "ticks": ""
            },
            "colorscale": [
             [
              0,
              "#0d0887"
             ],
             [
              0.1111111111111111,
              "#46039f"
             ],
             [
              0.2222222222222222,
              "#7201a8"
             ],
             [
              0.3333333333333333,
              "#9c179e"
             ],
             [
              0.4444444444444444,
              "#bd3786"
             ],
             [
              0.5555555555555556,
              "#d8576b"
             ],
             [
              0.6666666666666666,
              "#ed7953"
             ],
             [
              0.7777777777777778,
              "#fb9f3a"
             ],
             [
              0.8888888888888888,
              "#fdca26"
             ],
             [
              1,
              "#f0f921"
             ]
            ],
            "type": "histogram2d"
           }
          ],
          "histogram2dcontour": [
           {
            "colorbar": {
             "outlinewidth": 0,
             "ticks": ""
            },
            "colorscale": [
             [
              0,
              "#0d0887"
             ],
             [
              0.1111111111111111,
              "#46039f"
             ],
             [
              0.2222222222222222,
              "#7201a8"
             ],
             [
              0.3333333333333333,
              "#9c179e"
             ],
             [
              0.4444444444444444,
              "#bd3786"
             ],
             [
              0.5555555555555556,
              "#d8576b"
             ],
             [
              0.6666666666666666,
              "#ed7953"
             ],
             [
              0.7777777777777778,
              "#fb9f3a"
             ],
             [
              0.8888888888888888,
              "#fdca26"
             ],
             [
              1,
              "#f0f921"
             ]
            ],
            "type": "histogram2dcontour"
           }
          ],
          "mesh3d": [
           {
            "colorbar": {
             "outlinewidth": 0,
             "ticks": ""
            },
            "type": "mesh3d"
           }
          ],
          "parcoords": [
           {
            "line": {
             "colorbar": {
              "outlinewidth": 0,
              "ticks": ""
             }
            },
            "type": "parcoords"
           }
          ],
          "pie": [
           {
            "automargin": true,
            "type": "pie"
           }
          ],
          "scatter": [
           {
            "marker": {
             "colorbar": {
              "outlinewidth": 0,
              "ticks": ""
             }
            },
            "type": "scatter"
           }
          ],
          "scatter3d": [
           {
            "line": {
             "colorbar": {
              "outlinewidth": 0,
              "ticks": ""
             }
            },
            "marker": {
             "colorbar": {
              "outlinewidth": 0,
              "ticks": ""
             }
            },
            "type": "scatter3d"
           }
          ],
          "scattercarpet": [
           {
            "marker": {
             "colorbar": {
              "outlinewidth": 0,
              "ticks": ""
             }
            },
            "type": "scattercarpet"
           }
          ],
          "scattergeo": [
           {
            "marker": {
             "colorbar": {
              "outlinewidth": 0,
              "ticks": ""
             }
            },
            "type": "scattergeo"
           }
          ],
          "scattergl": [
           {
            "marker": {
             "colorbar": {
              "outlinewidth": 0,
              "ticks": ""
             }
            },
            "type": "scattergl"
           }
          ],
          "scattermapbox": [
           {
            "marker": {
             "colorbar": {
              "outlinewidth": 0,
              "ticks": ""
             }
            },
            "type": "scattermapbox"
           }
          ],
          "scatterpolar": [
           {
            "marker": {
             "colorbar": {
              "outlinewidth": 0,
              "ticks": ""
             }
            },
            "type": "scatterpolar"
           }
          ],
          "scatterpolargl": [
           {
            "marker": {
             "colorbar": {
              "outlinewidth": 0,
              "ticks": ""
             }
            },
            "type": "scatterpolargl"
           }
          ],
          "scatterternary": [
           {
            "marker": {
             "colorbar": {
              "outlinewidth": 0,
              "ticks": ""
             }
            },
            "type": "scatterternary"
           }
          ],
          "surface": [
           {
            "colorbar": {
             "outlinewidth": 0,
             "ticks": ""
            },
            "colorscale": [
             [
              0,
              "#0d0887"
             ],
             [
              0.1111111111111111,
              "#46039f"
             ],
             [
              0.2222222222222222,
              "#7201a8"
             ],
             [
              0.3333333333333333,
              "#9c179e"
             ],
             [
              0.4444444444444444,
              "#bd3786"
             ],
             [
              0.5555555555555556,
              "#d8576b"
             ],
             [
              0.6666666666666666,
              "#ed7953"
             ],
             [
              0.7777777777777778,
              "#fb9f3a"
             ],
             [
              0.8888888888888888,
              "#fdca26"
             ],
             [
              1,
              "#f0f921"
             ]
            ],
            "type": "surface"
           }
          ],
          "table": [
           {
            "cells": {
             "fill": {
              "color": "#EBF0F8"
             },
             "line": {
              "color": "white"
             }
            },
            "header": {
             "fill": {
              "color": "#C8D4E3"
             },
             "line": {
              "color": "white"
             }
            },
            "type": "table"
           }
          ]
         },
         "layout": {
          "annotationdefaults": {
           "arrowcolor": "#2a3f5f",
           "arrowhead": 0,
           "arrowwidth": 1
          },
          "coloraxis": {
           "colorbar": {
            "outlinewidth": 0,
            "ticks": ""
           }
          },
          "colorscale": {
           "diverging": [
            [
             0,
             "#8e0152"
            ],
            [
             0.1,
             "#c51b7d"
            ],
            [
             0.2,
             "#de77ae"
            ],
            [
             0.3,
             "#f1b6da"
            ],
            [
             0.4,
             "#fde0ef"
            ],
            [
             0.5,
             "#f7f7f7"
            ],
            [
             0.6,
             "#e6f5d0"
            ],
            [
             0.7,
             "#b8e186"
            ],
            [
             0.8,
             "#7fbc41"
            ],
            [
             0.9,
             "#4d9221"
            ],
            [
             1,
             "#276419"
            ]
           ],
           "sequential": [
            [
             0,
             "#0d0887"
            ],
            [
             0.1111111111111111,
             "#46039f"
            ],
            [
             0.2222222222222222,
             "#7201a8"
            ],
            [
             0.3333333333333333,
             "#9c179e"
            ],
            [
             0.4444444444444444,
             "#bd3786"
            ],
            [
             0.5555555555555556,
             "#d8576b"
            ],
            [
             0.6666666666666666,
             "#ed7953"
            ],
            [
             0.7777777777777778,
             "#fb9f3a"
            ],
            [
             0.8888888888888888,
             "#fdca26"
            ],
            [
             1,
             "#f0f921"
            ]
           ],
           "sequentialminus": [
            [
             0,
             "#0d0887"
            ],
            [
             0.1111111111111111,
             "#46039f"
            ],
            [
             0.2222222222222222,
             "#7201a8"
            ],
            [
             0.3333333333333333,
             "#9c179e"
            ],
            [
             0.4444444444444444,
             "#bd3786"
            ],
            [
             0.5555555555555556,
             "#d8576b"
            ],
            [
             0.6666666666666666,
             "#ed7953"
            ],
            [
             0.7777777777777778,
             "#fb9f3a"
            ],
            [
             0.8888888888888888,
             "#fdca26"
            ],
            [
             1,
             "#f0f921"
            ]
           ]
          },
          "colorway": [
           "#636efa",
           "#EF553B",
           "#00cc96",
           "#ab63fa",
           "#FFA15A",
           "#19d3f3",
           "#FF6692",
           "#B6E880",
           "#FF97FF",
           "#FECB52"
          ],
          "font": {
           "color": "#2a3f5f"
          },
          "geo": {
           "bgcolor": "white",
           "lakecolor": "white",
           "landcolor": "#E5ECF6",
           "showlakes": true,
           "showland": true,
           "subunitcolor": "white"
          },
          "hoverlabel": {
           "align": "left"
          },
          "hovermode": "closest",
          "mapbox": {
           "style": "light"
          },
          "paper_bgcolor": "white",
          "plot_bgcolor": "#E5ECF6",
          "polar": {
           "angularaxis": {
            "gridcolor": "white",
            "linecolor": "white",
            "ticks": ""
           },
           "bgcolor": "#E5ECF6",
           "radialaxis": {
            "gridcolor": "white",
            "linecolor": "white",
            "ticks": ""
           }
          },
          "scene": {
           "xaxis": {
            "backgroundcolor": "#E5ECF6",
            "gridcolor": "white",
            "gridwidth": 2,
            "linecolor": "white",
            "showbackground": true,
            "ticks": "",
            "zerolinecolor": "white"
           },
           "yaxis": {
            "backgroundcolor": "#E5ECF6",
            "gridcolor": "white",
            "gridwidth": 2,
            "linecolor": "white",
            "showbackground": true,
            "ticks": "",
            "zerolinecolor": "white"
           },
           "zaxis": {
            "backgroundcolor": "#E5ECF6",
            "gridcolor": "white",
            "gridwidth": 2,
            "linecolor": "white",
            "showbackground": true,
            "ticks": "",
            "zerolinecolor": "white"
           }
          },
          "shapedefaults": {
           "line": {
            "color": "#2a3f5f"
           }
          },
          "ternary": {
           "aaxis": {
            "gridcolor": "white",
            "linecolor": "white",
            "ticks": ""
           },
           "baxis": {
            "gridcolor": "white",
            "linecolor": "white",
            "ticks": ""
           },
           "bgcolor": "#E5ECF6",
           "caxis": {
            "gridcolor": "white",
            "linecolor": "white",
            "ticks": ""
           }
          },
          "title": {
           "x": 0.05
          },
          "xaxis": {
           "automargin": true,
           "gridcolor": "white",
           "linecolor": "white",
           "ticks": "",
           "title": {
            "standoff": 15
           },
           "zerolinecolor": "white",
           "zerolinewidth": 2
          },
          "yaxis": {
           "automargin": true,
           "gridcolor": "white",
           "linecolor": "white",
           "ticks": "",
           "title": {
            "standoff": 15
           },
           "zerolinecolor": "white",
           "zerolinewidth": 2
          }
         }
        },
        "title": {
         "text": "Euclidean error using RP, SRP, PCA and DCT"
        },
        "width": 800,
        "xaxis": {
         "dtick": 25,
         "title": {
          "text": "Reduced dimension"
         }
        },
        "yaxis": {
         "title": {
          "text": "Error"
         }
        }
       }
      }
     },
     "metadata": {}
    }
   ],
   "source": [
    "fig = go.Figure()\n",
    "ks = np.arange(2,325,avg)\n",
    "fig.add_trace(go.Scatter(x=ks, y=dict1[\"pca\"][0], name=\"PCA\", marker_symbol=\"circle\", mode=\"markers\"))\n",
    "fig.add_trace(go.Scatter(x=ks, y=dict1[\"dct\"][0], name=\"DCT\", marker_symbol=\"square\", mode=\"markers\"))\n",
    "fig.add_trace(go.Scatter(x=ks, y=dict1[\"rp\"][0], name=\"RP\", marker_symbol=\"cross\", mode=\"markers\"))\n",
    "fig.add_trace(go.Scatter(x=ks, y=dict1[\"srp\"][0], name=\"SRP\", marker_symbol=\"diamond\", mode=\"markers\"))\n",
    "\n",
    "fig.update_layout(\n",
    "    title_text=\"Euclidean error using RP, SRP, PCA and DCT\",\n",
    "    width=800,\n",
    ")\n",
    "\n",
    "fig.update_xaxes(title_text='Reduced dimension',dtick=25)\n",
    "fig.update_yaxes(title_text='Error')\n",
    "\n",
    "fig.show()"
   ]
  },
  {
   "cell_type": "code",
   "execution_count": 238,
   "metadata": {},
   "outputs": [
    {
     "output_type": "display_data",
     "data": {
      "application/vnd.plotly.v1+json": {
       "config": {
        "plotlyServerURL": "https://plot.ly"
       },
       "data": [
        {
         "marker": {
          "symbol": "circle"
         },
         "mode": "markers",
         "name": "PCA",
         "type": "scatter",
         "x": [
          2,
          12,
          22,
          32,
          42,
          52,
          62,
          72,
          82,
          92,
          102,
          112,
          122,
          132,
          142,
          152,
          162,
          172,
          182,
          192,
          202,
          212,
          222,
          232,
          242,
          252,
          262,
          272,
          282,
          292,
          302,
          312,
          322
         ],
         "y": [
          -3.4780611991882324,
          -0.8615394830703735,
          -0.5387943387031555,
          -0.40090829133987427,
          -0.32864800095558167,
          -0.2662181854248047,
          -0.22714003920555115,
          -0.1999530792236328,
          -0.17576941847801208,
          -0.15611152350902557,
          -0.13666649162769318,
          -0.1216205582022667,
          -0.10776214301586151,
          -0.09807777404785156,
          -0.08844871819019318,
          -0.08241768181324005,
          -0.07583160698413849,
          -0.07004623115062714,
          -0.06447601318359375,
          -0.0597354881465435,
          -0.05579185485839844,
          -0.05052680894732475,
          -0.04589271545410156,
          -0.04210967943072319,
          -0.03871764987707138,
          -0.03559456020593643,
          -0.03252448886632919,
          -0.030191803351044655,
          -0.028256988152861595,
          -0.026065444573760033,
          -0.02411041222512722,
          -0.02268829382956028,
          -0.0216344203799963
         ]
        },
        {
         "marker": {
          "symbol": "square"
         },
         "mode": "markers",
         "name": "DCT",
         "type": "scatter",
         "x": [
          2,
          12,
          22,
          32,
          42,
          52,
          62,
          72,
          82,
          92,
          102,
          112,
          122,
          132,
          142,
          152,
          162,
          172,
          182,
          192,
          202,
          212,
          222,
          232,
          242,
          252,
          262,
          272,
          282,
          292,
          302,
          312,
          322
         ],
         "y": [
          -3.004479169845581,
          -0.5664863586425781,
          -0.205149844288826,
          -0.0009513854747638106,
          0.06755180656909943,
          0.12597617506980896,
          0.1822986602783203,
          0.27166327834129333,
          0.28496474027633667,
          0.2724418640136719,
          0.2600017488002777,
          0.2743862271308899,
          0.27334365248680115,
          0.23312759399414062,
          0.22637176513671875,
          0.2351737916469574,
          0.24353981018066406,
          0.25712165236473083,
          0.23597869277000427,
          0.2085113525390625,
          0.1894271820783615,
          0.16816672682762146,
          0.17451782524585724,
          0.17676429450511932,
          0.18306808173656464,
          0.1840560883283615,
          0.19475440680980682,
          0.19365882873535156,
          0.1853645294904709,
          0.19149169325828552,
          0.20377235114574432,
          0.20856933295726776,
          0.213653564453125
         ]
        },
        {
         "marker": {
          "symbol": "cross"
         },
         "mode": "markers",
         "name": "RP",
         "type": "scatter",
         "x": [
          2,
          12,
          22,
          32,
          42,
          52,
          62,
          72,
          82,
          92,
          102,
          112,
          122,
          132,
          142,
          152,
          162,
          172,
          182,
          192,
          202,
          212,
          222,
          232,
          242,
          252,
          262,
          272,
          282,
          292,
          302,
          312,
          322
         ],
         "y": [
          -2.6505989582505847,
          -0.3676816344113639,
          -0.24779862049721943,
          -0.14871392668514474,
          -0.15708506950759243,
          -0.11985117731690235,
          -0.09317438551614443,
          -0.08427314370400353,
          -0.06193819706817081,
          -0.06317115259213238,
          -0.044001237062108914,
          -0.06078147508562794,
          -0.05923799207578839,
          -0.05918111228961322,
          -0.05775725398498338,
          -0.029049874505883932,
          -0.057753765720084824,
          -0.022108052192888864,
          -0.008363406965139574,
          -0.03275445129291654,
          -0.03160757273216647,
          -0.024646990619250034,
          -0.014274580278099195,
          -0.008118626641242487,
          -0.02519238309320329,
          -0.03617620179618044,
          -0.013039543396374286,
          -0.022867234687143283,
          -0.016440455679472308,
          -0.01329249720593836,
          -0.0044642670105987745,
          -0.038104799250550346,
          -0.07143464501214586
         ]
        },
        {
         "marker": {
          "symbol": "diamond"
         },
         "mode": "markers",
         "name": "SRP",
         "type": "scatter",
         "x": [
          2,
          12,
          22,
          32,
          42,
          52,
          62,
          72,
          82,
          92,
          102,
          112,
          122,
          132,
          142,
          152,
          162,
          172,
          182,
          192,
          202,
          212,
          222,
          232,
          242,
          252,
          262,
          272,
          282,
          292,
          302,
          312,
          322
         ],
         "y": [
          -2.778571798453007,
          -0.3763563584121328,
          -0.22954386508623242,
          -0.16736746068355715,
          -0.12612586909926166,
          -0.12184002796853932,
          -0.0724673578514343,
          -0.07693414902628277,
          -0.08334253240642268,
          -0.047603321600998075,
          -0.0597034002774501,
          -0.058290174527413266,
          -0.018934569553776294,
          -0.04877050296590739,
          -0.047130437988646176,
          -0.03184959063847146,
          -0.009233107245758704,
          -0.009356347148385425,
          -0.025180284147175915,
          0.001003453490412766,
          -0.04361213104340919,
          -0.01292807888742047,
          -0.03981238318338341,
          -0.020279396486793503,
          -0.0241688620007092,
          -0.04497216351923725,
          -0.02367841628340983,
          -0.012317918991425359,
          -0.006015230419950795,
          -0.019131485498549098,
          -0.017277628264137944,
          -0.023338316484454964,
          -0.03183449704695913
         ]
        },
        {
         "fill": "toself",
         "fillcolor": "rgba(0,255,0,0.2)",
         "hoverinfo": "skip",
         "line": {
          "color": "rgba(255,255,255,0)"
         },
         "showlegend": false,
         "type": "scatter",
         "x": [
          2,
          12,
          22,
          32,
          42,
          52,
          62,
          72,
          82,
          92,
          102,
          112,
          122,
          132,
          142,
          152,
          162,
          172,
          182,
          192,
          202,
          212,
          222,
          232,
          242,
          252,
          262,
          272,
          282,
          292,
          302,
          312,
          322,
          322,
          312,
          302,
          292,
          282,
          272,
          262,
          252,
          242,
          232,
          222,
          212,
          202,
          192,
          182,
          172,
          162,
          152,
          142,
          132,
          122,
          112,
          102,
          92,
          82,
          72,
          62,
          52,
          42,
          32,
          22,
          12,
          2
         ],
         "y": [
          -4.370232920578284,
          -1.3647607231721763,
          -0.986432235390717,
          -0.8208419659646176,
          -0.731683121823913,
          -0.6574655809883019,
          -0.609648594626534,
          -0.5759522329139741,
          -0.5464876166859824,
          -0.5223858454788278,
          -0.49925125340255294,
          -0.48098246950896384,
          -0.4645113088885374,
          -0.45255167018491704,
          -0.44082073707381186,
          -0.4329541395607187,
          -0.4248163605500885,
          -0.4175549771440039,
          -0.4106021932449281,
          -0.4047756575034242,
          -0.3998124008341186,
          -0.3935364871778752,
          -0.38805433912861603,
          -0.38347524794873566,
          -0.37936917155609323,
          -0.37556432426055153,
          -0.3718793163798466,
          -0.36901272972041854,
          -0.3665880176327825,
          -0.3639244991784281,
          -0.3615255839701682,
          -0.35967547087790164,
          -0.35837343179881503,
          0.3151045922805859,
          0.31429888396383915,
          0.3133047587748557,
          0.31179360928585,
          0.3100740405820012,
          0.30862912376338725,
          0.306830335666956,
          0.3043752068289109,
          0.30193386882171824,
          0.29925588759717314,
          0.2962689082204129,
          0.2924828677931096,
          0.28822869111732174,
          0.2853046797202211,
          0.2816501668777406,
          0.2774625088822852,
          0.273153152542276,
          0.26811878189470306,
          0.26392330665388997,
          0.2563961220892139,
          0.2489870168963499,
          0.2377413501241982,
          0.22591827610763104,
          0.21016279250031217,
          0.19494876780902928,
          0.17604607446670856,
          0.1553685042945027,
          0.12502921013869256,
          0.07438713183367866,
          0.01902540712672689,
          -0.09115641817373614,
          -0.3583181952848548,
          -2.585889287063317
         ]
        },
        {
         "fill": "toself",
         "fillcolor": "rgba(255,0,0,0.2)",
         "hoverinfo": "skip",
         "line": {
          "color": "rgba(255,255,255,0)"
         },
         "showlegend": false,
         "type": "scatter",
         "x": [
          2,
          12,
          22,
          32,
          42,
          52,
          62,
          72,
          82,
          92,
          102,
          112,
          122,
          132,
          142,
          152,
          162,
          172,
          182,
          192,
          202,
          212,
          222,
          232,
          242,
          252,
          262,
          272,
          282,
          292,
          302,
          312,
          322,
          322,
          312,
          302,
          292,
          282,
          272,
          262,
          252,
          242,
          232,
          222,
          212,
          202,
          192,
          182,
          172,
          162,
          152,
          142,
          132,
          122,
          112,
          102,
          92,
          82,
          72,
          62,
          52,
          42,
          32,
          22,
          12,
          2
         ],
         "y": [
          -3.992168943920901,
          -1.143065775239838,
          -0.6936170714756962,
          -0.4418885830949385,
          -0.35446931599783227,
          -0.28329504465410765,
          -0.21458841835657907,
          -0.11466277143406245,
          -0.09061808960420806,
          -0.09778201355987548,
          -0.10813149245099822,
          -0.08859044041630285,
          -0.08649350349836667,
          -0.12562080917449805,
          -0.12634111184560268,
          -0.11170798040568215,
          -0.09899821216165491,
          -0.08619469847221381,
          -0.10455769422651784,
          -0.13216831887511377,
          -0.15231277121474704,
          -0.17343337326645739,
          -0.16556486791226704,
          -0.16225567135652313,
          -0.15374352130701113,
          -0.15134644064527336,
          -0.13861256861292973,
          -0.13744735078876716,
          -0.14379368232898174,
          -0.13559855955232222,
          -0.12328046638715336,
          -0.11629261228642065,
          -0.10989700265307789,
          0.5372041315593279,
          0.5334312841614206,
          0.5308251746391065,
          0.5185819579898222,
          0.5145227472703879,
          0.5247650082594703,
          0.5281213881930078,
          0.5194586232624608,
          0.5198796907406049,
          0.5157842663272263,
          0.514600512443517,
          0.5097668388426293,
          0.5311671413319345,
          0.5491910239532387,
          0.5765150916874553,
          0.6004380151226044,
          0.5860778325229831,
          0.5820555756205259,
          0.5790846421190402,
          0.5918759971627793,
          0.6331808203928979,
          0.6373628708362247,
          0.6281350019724826,
          0.6426657415872192,
          0.6605475939987393,
          0.657989340037578,
          0.5791857389132197,
          0.5352474067146545,
          0.48957292317556667,
          0.4399858120988448,
          0.28331738885850866,
          0.010093057954681938,
          -2.0167894911376925
         ]
        },
        {
         "fill": "toself",
         "fillcolor": "rgba(0,0,255,0.2)",
         "hoverinfo": "skip",
         "line": {
          "color": "rgba(255,255,255,0)"
         },
         "showlegend": false,
         "type": "scatter",
         "x": [
          2,
          12,
          22,
          32,
          42,
          52,
          62,
          72,
          82,
          92,
          102,
          112,
          122,
          132,
          142,
          152,
          162,
          172,
          182,
          192,
          202,
          212,
          222,
          232,
          242,
          252,
          262,
          272,
          282,
          292,
          302,
          312,
          322,
          322,
          312,
          302,
          292,
          282,
          272,
          262,
          252,
          242,
          232,
          222,
          212,
          202,
          192,
          182,
          172,
          162,
          152,
          142,
          132,
          122,
          112,
          102,
          92,
          82,
          72,
          62,
          52,
          42,
          32,
          22,
          12,
          2
         ],
         "y": [
          -3.2486543406319894,
          -0.7354434551147285,
          -0.5912166437616306,
          -0.5902960126891905,
          -0.48766629269793854,
          -0.537474292307482,
          -0.5622276038263145,
          -0.4575432156988519,
          -0.4495258701325106,
          -0.4595966067334743,
          -0.4333783568075596,
          -0.4385411025768079,
          -0.42704990562445816,
          -0.38463995338310114,
          -0.4341509677822145,
          -0.34907962353035343,
          -0.4191969033689887,
          -0.36061057174512995,
          -0.37084923028509564,
          -0.38863555338128464,
          -0.32955167775751804,
          -0.3591784478832835,
          -0.32806908809514396,
          -0.3312392320189531,
          -0.36887460915262266,
          -0.34126827488196126,
          -0.3568650235876021,
          -0.32436355277891166,
          -0.36018218248805456,
          -0.3369692498044216,
          -0.31924445021510406,
          -0.39520985027123173,
          -0.43498401189254327,
          0.24503892079001352,
          0.28985663018047914,
          0.3576918457900426,
          0.3476715655162991,
          0.3249738825210059,
          0.3551425831511416,
          0.3236292016628738,
          0.3414884571593994,
          0.3213937915062246,
          0.3476047832615052,
          0.3530457292755571,
          0.31814678660250595,
          0.35206667954946697,
          0.30820457874466173,
          0.32760562188709486,
          0.3432358696859879,
          0.2908069694019687,
          0.3408054858415824,
          0.27064974177970386,
          0.30761081173437005,
          0.2816452525961758,
          0.27167453745086617,
          0.2968327214881704,
          0.26485701710994364,
          0.2729758343766783,
          0.2926988578433445,
          0.20608812000739007,
          0.24700617877553127,
          0.29446494043656984,
          0.19826110773103595,
          0.25771606070671566,
          0.2216725273253722,
          -1.4838425276018428
         ]
        },
        {
         "fill": "toself",
         "fillcolor": "rgba(100,100,100,0.2)",
         "hoverinfo": "skip",
         "line": {
          "color": "rgba(255,255,255,0)"
         },
         "showlegend": false,
         "type": "scatter",
         "x": [
          2,
          12,
          22,
          32,
          42,
          52,
          62,
          72,
          82,
          92,
          102,
          112,
          122,
          132,
          142,
          152,
          162,
          172,
          182,
          192,
          202,
          212,
          222,
          232,
          242,
          252,
          262,
          272,
          282,
          292,
          302,
          312,
          322,
          322,
          312,
          302,
          292,
          282,
          272,
          262,
          252,
          242,
          232,
          222,
          212,
          202,
          192,
          182,
          172,
          162,
          152,
          142,
          132,
          122,
          112,
          102,
          92,
          82,
          72,
          62,
          52,
          42,
          32,
          22,
          12,
          2
         ],
         "y": [
          -3.4628137429224948,
          -0.9370842511025522,
          -0.5836683064802848,
          -0.6233011222829525,
          -0.43571685237191743,
          -0.4791260294258855,
          -0.4256354482893812,
          -0.43543970848905433,
          -0.4487044023616093,
          -0.3847816548073098,
          -0.3317078108611362,
          -0.4409925527849907,
          -0.3265171859299322,
          -0.3378628163852774,
          -0.3969572586752662,
          -0.4001596812762941,
          -0.3223396589234987,
          -0.3435576352259552,
          -0.40062566399607247,
          -0.35079778121481764,
          -0.3763325494840643,
          -0.34566861766677376,
          -0.39487142375962564,
          -0.35094150469875346,
          -0.40486192631933876,
          -0.40010986353922035,
          -0.3613285462242459,
          -0.3372695057632832,
          -0.3169739823077549,
          -0.3576777340098339,
          -0.3396777286200724,
          -0.375545746527591,
          -0.3404059345104808,
          0.3393598204280295,
          0.308678085104242,
          0.34120555702844585,
          0.3323472883296965,
          0.35260034225140374,
          0.33420517489673285,
          0.3206208649027772,
          0.2952332036675408,
          0.27715443547174773,
          0.3365500688228515,
          0.2941369670952049,
          0.3446489905502951,
          0.3085718189696934,
          0.33516941595625765,
          0.30341143064051296,
          0.34721841123972086,
          0.3702829235812466,
          0.30969212125063167,
          0.30064676784917027,
          0.37193836492580273,
          0.3695796959502992,
          0.28124977778282984,
          0.377778224784074,
          0.32550358610905333,
          0.284558574780327,
          0.29821348407106074,
          0.3140561464134848,
          0.2854770253510985,
          0.3447895449900365,
          0.2049670143226642,
          0.25658722526023114,
          0.061484349329742116,
          -1.6909743861054678
         ]
        }
       ],
       "layout": {
        "template": {
         "data": {
          "bar": [
           {
            "error_x": {
             "color": "#2a3f5f"
            },
            "error_y": {
             "color": "#2a3f5f"
            },
            "marker": {
             "line": {
              "color": "#E5ECF6",
              "width": 0.5
             }
            },
            "type": "bar"
           }
          ],
          "barpolar": [
           {
            "marker": {
             "line": {
              "color": "#E5ECF6",
              "width": 0.5
             }
            },
            "type": "barpolar"
           }
          ],
          "carpet": [
           {
            "aaxis": {
             "endlinecolor": "#2a3f5f",
             "gridcolor": "white",
             "linecolor": "white",
             "minorgridcolor": "white",
             "startlinecolor": "#2a3f5f"
            },
            "baxis": {
             "endlinecolor": "#2a3f5f",
             "gridcolor": "white",
             "linecolor": "white",
             "minorgridcolor": "white",
             "startlinecolor": "#2a3f5f"
            },
            "type": "carpet"
           }
          ],
          "choropleth": [
           {
            "colorbar": {
             "outlinewidth": 0,
             "ticks": ""
            },
            "type": "choropleth"
           }
          ],
          "contour": [
           {
            "colorbar": {
             "outlinewidth": 0,
             "ticks": ""
            },
            "colorscale": [
             [
              0,
              "#0d0887"
             ],
             [
              0.1111111111111111,
              "#46039f"
             ],
             [
              0.2222222222222222,
              "#7201a8"
             ],
             [
              0.3333333333333333,
              "#9c179e"
             ],
             [
              0.4444444444444444,
              "#bd3786"
             ],
             [
              0.5555555555555556,
              "#d8576b"
             ],
             [
              0.6666666666666666,
              "#ed7953"
             ],
             [
              0.7777777777777778,
              "#fb9f3a"
             ],
             [
              0.8888888888888888,
              "#fdca26"
             ],
             [
              1,
              "#f0f921"
             ]
            ],
            "type": "contour"
           }
          ],
          "contourcarpet": [
           {
            "colorbar": {
             "outlinewidth": 0,
             "ticks": ""
            },
            "type": "contourcarpet"
           }
          ],
          "heatmap": [
           {
            "colorbar": {
             "outlinewidth": 0,
             "ticks": ""
            },
            "colorscale": [
             [
              0,
              "#0d0887"
             ],
             [
              0.1111111111111111,
              "#46039f"
             ],
             [
              0.2222222222222222,
              "#7201a8"
             ],
             [
              0.3333333333333333,
              "#9c179e"
             ],
             [
              0.4444444444444444,
              "#bd3786"
             ],
             [
              0.5555555555555556,
              "#d8576b"
             ],
             [
              0.6666666666666666,
              "#ed7953"
             ],
             [
              0.7777777777777778,
              "#fb9f3a"
             ],
             [
              0.8888888888888888,
              "#fdca26"
             ],
             [
              1,
              "#f0f921"
             ]
            ],
            "type": "heatmap"
           }
          ],
          "heatmapgl": [
           {
            "colorbar": {
             "outlinewidth": 0,
             "ticks": ""
            },
            "colorscale": [
             [
              0,
              "#0d0887"
             ],
             [
              0.1111111111111111,
              "#46039f"
             ],
             [
              0.2222222222222222,
              "#7201a8"
             ],
             [
              0.3333333333333333,
              "#9c179e"
             ],
             [
              0.4444444444444444,
              "#bd3786"
             ],
             [
              0.5555555555555556,
              "#d8576b"
             ],
             [
              0.6666666666666666,
              "#ed7953"
             ],
             [
              0.7777777777777778,
              "#fb9f3a"
             ],
             [
              0.8888888888888888,
              "#fdca26"
             ],
             [
              1,
              "#f0f921"
             ]
            ],
            "type": "heatmapgl"
           }
          ],
          "histogram": [
           {
            "marker": {
             "colorbar": {
              "outlinewidth": 0,
              "ticks": ""
             }
            },
            "type": "histogram"
           }
          ],
          "histogram2d": [
           {
            "colorbar": {
             "outlinewidth": 0,
             "ticks": ""
            },
            "colorscale": [
             [
              0,
              "#0d0887"
             ],
             [
              0.1111111111111111,
              "#46039f"
             ],
             [
              0.2222222222222222,
              "#7201a8"
             ],
             [
              0.3333333333333333,
              "#9c179e"
             ],
             [
              0.4444444444444444,
              "#bd3786"
             ],
             [
              0.5555555555555556,
              "#d8576b"
             ],
             [
              0.6666666666666666,
              "#ed7953"
             ],
             [
              0.7777777777777778,
              "#fb9f3a"
             ],
             [
              0.8888888888888888,
              "#fdca26"
             ],
             [
              1,
              "#f0f921"
             ]
            ],
            "type": "histogram2d"
           }
          ],
          "histogram2dcontour": [
           {
            "colorbar": {
             "outlinewidth": 0,
             "ticks": ""
            },
            "colorscale": [
             [
              0,
              "#0d0887"
             ],
             [
              0.1111111111111111,
              "#46039f"
             ],
             [
              0.2222222222222222,
              "#7201a8"
             ],
             [
              0.3333333333333333,
              "#9c179e"
             ],
             [
              0.4444444444444444,
              "#bd3786"
             ],
             [
              0.5555555555555556,
              "#d8576b"
             ],
             [
              0.6666666666666666,
              "#ed7953"
             ],
             [
              0.7777777777777778,
              "#fb9f3a"
             ],
             [
              0.8888888888888888,
              "#fdca26"
             ],
             [
              1,
              "#f0f921"
             ]
            ],
            "type": "histogram2dcontour"
           }
          ],
          "mesh3d": [
           {
            "colorbar": {
             "outlinewidth": 0,
             "ticks": ""
            },
            "type": "mesh3d"
           }
          ],
          "parcoords": [
           {
            "line": {
             "colorbar": {
              "outlinewidth": 0,
              "ticks": ""
             }
            },
            "type": "parcoords"
           }
          ],
          "pie": [
           {
            "automargin": true,
            "type": "pie"
           }
          ],
          "scatter": [
           {
            "marker": {
             "colorbar": {
              "outlinewidth": 0,
              "ticks": ""
             }
            },
            "type": "scatter"
           }
          ],
          "scatter3d": [
           {
            "line": {
             "colorbar": {
              "outlinewidth": 0,
              "ticks": ""
             }
            },
            "marker": {
             "colorbar": {
              "outlinewidth": 0,
              "ticks": ""
             }
            },
            "type": "scatter3d"
           }
          ],
          "scattercarpet": [
           {
            "marker": {
             "colorbar": {
              "outlinewidth": 0,
              "ticks": ""
             }
            },
            "type": "scattercarpet"
           }
          ],
          "scattergeo": [
           {
            "marker": {
             "colorbar": {
              "outlinewidth": 0,
              "ticks": ""
             }
            },
            "type": "scattergeo"
           }
          ],
          "scattergl": [
           {
            "marker": {
             "colorbar": {
              "outlinewidth": 0,
              "ticks": ""
             }
            },
            "type": "scattergl"
           }
          ],
          "scattermapbox": [
           {
            "marker": {
             "colorbar": {
              "outlinewidth": 0,
              "ticks": ""
             }
            },
            "type": "scattermapbox"
           }
          ],
          "scatterpolar": [
           {
            "marker": {
             "colorbar": {
              "outlinewidth": 0,
              "ticks": ""
             }
            },
            "type": "scatterpolar"
           }
          ],
          "scatterpolargl": [
           {
            "marker": {
             "colorbar": {
              "outlinewidth": 0,
              "ticks": ""
             }
            },
            "type": "scatterpolargl"
           }
          ],
          "scatterternary": [
           {
            "marker": {
             "colorbar": {
              "outlinewidth": 0,
              "ticks": ""
             }
            },
            "type": "scatterternary"
           }
          ],
          "surface": [
           {
            "colorbar": {
             "outlinewidth": 0,
             "ticks": ""
            },
            "colorscale": [
             [
              0,
              "#0d0887"
             ],
             [
              0.1111111111111111,
              "#46039f"
             ],
             [
              0.2222222222222222,
              "#7201a8"
             ],
             [
              0.3333333333333333,
              "#9c179e"
             ],
             [
              0.4444444444444444,
              "#bd3786"
             ],
             [
              0.5555555555555556,
              "#d8576b"
             ],
             [
              0.6666666666666666,
              "#ed7953"
             ],
             [
              0.7777777777777778,
              "#fb9f3a"
             ],
             [
              0.8888888888888888,
              "#fdca26"
             ],
             [
              1,
              "#f0f921"
             ]
            ],
            "type": "surface"
           }
          ],
          "table": [
           {
            "cells": {
             "fill": {
              "color": "#EBF0F8"
             },
             "line": {
              "color": "white"
             }
            },
            "header": {
             "fill": {
              "color": "#C8D4E3"
             },
             "line": {
              "color": "white"
             }
            },
            "type": "table"
           }
          ]
         },
         "layout": {
          "annotationdefaults": {
           "arrowcolor": "#2a3f5f",
           "arrowhead": 0,
           "arrowwidth": 1
          },
          "coloraxis": {
           "colorbar": {
            "outlinewidth": 0,
            "ticks": ""
           }
          },
          "colorscale": {
           "diverging": [
            [
             0,
             "#8e0152"
            ],
            [
             0.1,
             "#c51b7d"
            ],
            [
             0.2,
             "#de77ae"
            ],
            [
             0.3,
             "#f1b6da"
            ],
            [
             0.4,
             "#fde0ef"
            ],
            [
             0.5,
             "#f7f7f7"
            ],
            [
             0.6,
             "#e6f5d0"
            ],
            [
             0.7,
             "#b8e186"
            ],
            [
             0.8,
             "#7fbc41"
            ],
            [
             0.9,
             "#4d9221"
            ],
            [
             1,
             "#276419"
            ]
           ],
           "sequential": [
            [
             0,
             "#0d0887"
            ],
            [
             0.1111111111111111,
             "#46039f"
            ],
            [
             0.2222222222222222,
             "#7201a8"
            ],
            [
             0.3333333333333333,
             "#9c179e"
            ],
            [
             0.4444444444444444,
             "#bd3786"
            ],
            [
             0.5555555555555556,
             "#d8576b"
            ],
            [
             0.6666666666666666,
             "#ed7953"
            ],
            [
             0.7777777777777778,
             "#fb9f3a"
            ],
            [
             0.8888888888888888,
             "#fdca26"
            ],
            [
             1,
             "#f0f921"
            ]
           ],
           "sequentialminus": [
            [
             0,
             "#0d0887"
            ],
            [
             0.1111111111111111,
             "#46039f"
            ],
            [
             0.2222222222222222,
             "#7201a8"
            ],
            [
             0.3333333333333333,
             "#9c179e"
            ],
            [
             0.4444444444444444,
             "#bd3786"
            ],
            [
             0.5555555555555556,
             "#d8576b"
            ],
            [
             0.6666666666666666,
             "#ed7953"
            ],
            [
             0.7777777777777778,
             "#fb9f3a"
            ],
            [
             0.8888888888888888,
             "#fdca26"
            ],
            [
             1,
             "#f0f921"
            ]
           ]
          },
          "colorway": [
           "#636efa",
           "#EF553B",
           "#00cc96",
           "#ab63fa",
           "#FFA15A",
           "#19d3f3",
           "#FF6692",
           "#B6E880",
           "#FF97FF",
           "#FECB52"
          ],
          "font": {
           "color": "#2a3f5f"
          },
          "geo": {
           "bgcolor": "white",
           "lakecolor": "white",
           "landcolor": "#E5ECF6",
           "showlakes": true,
           "showland": true,
           "subunitcolor": "white"
          },
          "hoverlabel": {
           "align": "left"
          },
          "hovermode": "closest",
          "mapbox": {
           "style": "light"
          },
          "paper_bgcolor": "white",
          "plot_bgcolor": "#E5ECF6",
          "polar": {
           "angularaxis": {
            "gridcolor": "white",
            "linecolor": "white",
            "ticks": ""
           },
           "bgcolor": "#E5ECF6",
           "radialaxis": {
            "gridcolor": "white",
            "linecolor": "white",
            "ticks": ""
           }
          },
          "scene": {
           "xaxis": {
            "backgroundcolor": "#E5ECF6",
            "gridcolor": "white",
            "gridwidth": 2,
            "linecolor": "white",
            "showbackground": true,
            "ticks": "",
            "zerolinecolor": "white"
           },
           "yaxis": {
            "backgroundcolor": "#E5ECF6",
            "gridcolor": "white",
            "gridwidth": 2,
            "linecolor": "white",
            "showbackground": true,
            "ticks": "",
            "zerolinecolor": "white"
           },
           "zaxis": {
            "backgroundcolor": "#E5ECF6",
            "gridcolor": "white",
            "gridwidth": 2,
            "linecolor": "white",
            "showbackground": true,
            "ticks": "",
            "zerolinecolor": "white"
           }
          },
          "shapedefaults": {
           "line": {
            "color": "#2a3f5f"
           }
          },
          "ternary": {
           "aaxis": {
            "gridcolor": "white",
            "linecolor": "white",
            "ticks": ""
           },
           "baxis": {
            "gridcolor": "white",
            "linecolor": "white",
            "ticks": ""
           },
           "bgcolor": "#E5ECF6",
           "caxis": {
            "gridcolor": "white",
            "linecolor": "white",
            "ticks": ""
           }
          },
          "title": {
           "x": 0.05
          },
          "xaxis": {
           "automargin": true,
           "gridcolor": "white",
           "linecolor": "white",
           "ticks": "",
           "title": {
            "standoff": 15
           },
           "zerolinecolor": "white",
           "zerolinewidth": 2
          },
          "yaxis": {
           "automargin": true,
           "gridcolor": "white",
           "linecolor": "white",
           "ticks": "",
           "title": {
            "standoff": 15
           },
           "zerolinecolor": "white",
           "zerolinewidth": 2
          }
         }
        },
        "title": {
         "text": "Euclidean error using RP, SRP, PCA and DCT with confidence interval (at 95%)"
        },
        "width": 800,
        "xaxis": {
         "dtick": 25,
         "title": {
          "text": "Reduced dimension"
         }
        },
        "yaxis": {
         "title": {
          "text": "Error"
         }
        }
       }
      }
     },
     "metadata": {}
    }
   ],
   "source": [
    "fig = go.Figure()\n",
    "# ks = np.arange(1,325, 10)\n",
    "\n",
    "fig.add_trace(go.Scatter(x=ks, y=p_diff, name=\"PCA\", marker_symbol=\"circle\", mode=\"markers\"))\n",
    "fig.add_trace(go.Scatter(x=ks, y=d_diff, name=\"DCT\", marker_symbol=\"square\", mode=\"markers\"))\n",
    "fig.add_trace(go.Scatter(x=ks, y=r_diff, name=\"RP\", marker_symbol=\"cross\", mode=\"markers\"))\n",
    "fig.add_trace(go.Scatter(x=ks, y=sr_diff, name=\"SRP\", marker_symbol=\"diamond\", mode=\"markers\"))\n",
    "\n",
    "fig.add_trace(go.Scatter(x=list(ks)+list(ks[::-1]), y=list(p_min)+list(p_max[::-1]), fill=\"toself\", fillcolor='rgba(0,255,0,0.2)', line=dict(color='rgba(255,255,255,0)'), hoverinfo=\"skip\", showlegend=False))\n",
    "fig.add_trace(go.Scatter(x=list(ks)+list(ks[::-1]), y=list(d_min)+list(d_max[::-1]), fill=\"toself\", fillcolor='rgba(255,0,0,0.2)', line=dict(color='rgba(255,255,255,0)'), hoverinfo=\"skip\", showlegend=False))\n",
    "\n",
    "fig.add_trace(go.Scatter(x=list(ks)+list(ks[::-1]), y=list(r_min)+list(r_max[::-1]), fill=\"toself\", fillcolor='rgba(0,0,255,0.2)', line=dict(color='rgba(255,255,255,0)'), hoverinfo=\"skip\", showlegend=False))\n",
    "\n",
    "fig.add_trace(go.Scatter(x=list(ks)+list(ks[::-1]), y=list(sr_min)+list(sr_max[::-1]), fill=\"toself\", fillcolor='rgba(100,100,100,0.2)', line=dict(color='rgba(255,255,255,0)'), hoverinfo=\"skip\", showlegend=False))\n",
    "\n",
    "fig.update_layout(\n",
    "    title_text=\"Euclidean error using RP, SRP, PCA and DCT with confidence interval (at 95%)\" ,\n",
    "    width=800,\n",
    ")\n",
    "\n",
    "fig.update_xaxes(title_text='Reduced dimension', dtick=25)\n",
    "fig.update_yaxes(title_text='Error')\n",
    "\n",
    "fig.show()"
   ]
  },
  {
   "cell_type": "code",
   "execution_count": 43,
   "metadata": {},
   "outputs": [
    {
     "output_type": "display_data",
     "data": {
      "application/vnd.plotly.v1+json": {
       "config": {
        "plotlyServerURL": "https://plot.ly"
       },
       "data": [
        {
         "marker": {
          "symbol": "circle"
         },
         "mode": "markers",
         "name": "PCA",
         "type": "scatter",
         "x": [
          2,
          12,
          22,
          32,
          42,
          52,
          62,
          72,
          82,
          92,
          102,
          112,
          122,
          132,
          142,
          152,
          162,
          172,
          182,
          192,
          202,
          212,
          222,
          232,
          242,
          252,
          262,
          272,
          282,
          292,
          302,
          312,
          322
         ],
         "y": [
          -3.4780611991882324,
          -0.8615394830703735,
          -0.5387943387031555,
          -0.40090829133987427,
          -0.32864800095558167,
          -0.2662181854248047,
          -0.22714003920555115,
          -0.1999530792236328,
          -0.17576941847801208,
          -0.15611152350902557,
          -0.13666649162769318,
          -0.1216205582022667,
          -0.10776214301586151,
          -0.09807777404785156,
          -0.08844871819019318,
          -0.08241768181324005,
          -0.07583160698413849,
          -0.07004623115062714,
          -0.06447601318359375,
          -0.0597354881465435,
          -0.05579185485839844,
          -0.05052680894732475,
          -0.04589271545410156,
          -0.04210967943072319,
          -0.03871764987707138,
          -0.03559456020593643,
          -0.03252448886632919,
          -0.030191803351044655,
          -0.028256988152861595,
          -0.026065444573760033,
          -0.02411041222512722,
          -0.02268829382956028,
          -0.0216344203799963
         ]
        },
        {
         "marker": {
          "symbol": "square"
         },
         "mode": "markers",
         "name": "DCT",
         "type": "scatter",
         "x": [
          2,
          12,
          22,
          32,
          42,
          52,
          62,
          72,
          82,
          92,
          102,
          112,
          122,
          132,
          142,
          152,
          162,
          172,
          182,
          192,
          202,
          212,
          222,
          232,
          242,
          252,
          262,
          272,
          282,
          292,
          302,
          312,
          322
         ],
         "y": [
          -3.004479169845581,
          -0.5664863586425781,
          -0.205149844288826,
          -0.0009513854747638106,
          0.06755180656909943,
          0.12597617506980896,
          0.1822986602783203,
          0.27166327834129333,
          0.28496474027633667,
          0.2724418640136719,
          0.2600017488002777,
          0.2743862271308899,
          0.27334365248680115,
          0.23312759399414062,
          0.22637176513671875,
          0.2351737916469574,
          0.24353981018066406,
          0.25712165236473083,
          0.23597869277000427,
          0.2085113525390625,
          0.1894271820783615,
          0.16816672682762146,
          0.17451782524585724,
          0.17676429450511932,
          0.18306808173656464,
          0.1840560883283615,
          0.19475440680980682,
          0.19365882873535156,
          0.1853645294904709,
          0.19149169325828552,
          0.20377235114574432,
          0.20856933295726776,
          0.213653564453125
         ]
        },
        {
         "marker": {
          "symbol": "cross"
         },
         "mode": "markers",
         "name": "RP",
         "type": "scatter",
         "x": [
          2,
          12,
          22,
          32,
          42,
          52,
          62,
          72,
          82,
          92,
          102,
          112,
          122,
          132,
          142,
          152,
          162,
          172,
          182,
          192,
          202,
          212,
          222,
          232,
          242,
          252,
          262,
          272,
          282,
          292,
          302,
          312,
          322
         ],
         "y": [
          -2.6775414356255602,
          -0.3865449320668617,
          -0.2331372494072319,
          -0.17713393477125194,
          -0.18989785812563015,
          -0.08752365511909588,
          -0.08305074476622706,
          -0.08683140910821549,
          -0.05993442395409332,
          -0.041070368244918144,
          0.027624445279783316,
          -0.059348819810107756,
          -0.0021855332238821744,
          -0.04917657557562549,
          -0.04021136126638396,
          -0.018402339096330423,
          -0.013372231373219278,
          -0.05275043892655731,
          0.008509971143588046,
          -0.01570975443727818,
          -0.03545285980941983,
          -0.03482339222859494,
          -0.0129449321606252,
          -0.03794641324626298,
          -0.046110350820605106,
          -0.0483157437703234,
          -0.012509692473960854,
          -0.027643914673597437,
          -0.020044830606970977,
          -0.025347337686095983,
          0.0010247489154906475,
          -0.019751147072985732,
          -0.03234822036486662
         ]
        },
        {
         "marker": {
          "symbol": "diamond"
         },
         "mode": "markers",
         "name": "SRP",
         "type": "scatter",
         "x": [
          2,
          12,
          22,
          32,
          42,
          52,
          62,
          72,
          82,
          92,
          102,
          112,
          122,
          132,
          142,
          152,
          162,
          172,
          182,
          192,
          202,
          212,
          222,
          232,
          242,
          252,
          262,
          272,
          282,
          292,
          302,
          312,
          322
         ],
         "y": [
          -2.4958567431138063,
          -0.1255970413906617,
          -0.2920296216887621,
          -0.15888717647793058,
          -0.038069172610045145,
          -0.1159972463817958,
          -0.00794430675895157,
          -0.10880829610240213,
          -0.035091419501483756,
          -0.13962673368245787,
          -0.057649353780457345,
          -0.10802506061845207,
          -0.030812127246043274,
          -0.05415030105724341,
          -0.059553900485772006,
          -0.03098711287166367,
          -0.04588512746651361,
          -0.01216545293988247,
          -0.01915463739703327,
          -0.024496153236376727,
          -0.04457904175752318,
          -0.04002577967013181,
          -0.07622894800518623,
          -0.07402255755302889,
          0.001587896195071181,
          -0.06762789366189068,
          -0.05953550628410369,
          -0.011404090568849057,
          -0.01521780295663575,
          -0.04851499948877987,
          -0.06866018912407981,
          -0.008973723381929944,
          -0.06605732521625167
         ]
        },
        {
         "marker": {
          "symbol": "diamond"
         },
         "mode": "lines",
         "name": "Median filter",
         "type": "scatter",
         "x": [
          2,
          12,
          22,
          32,
          42,
          52,
          62,
          72,
          82,
          92,
          102,
          112,
          122,
          132,
          142,
          152,
          162,
          172,
          182,
          192,
          202,
          212,
          222,
          232,
          242,
          252,
          262,
          272,
          282,
          292,
          302,
          312,
          322
         ],
         "y": [
          -9.528350830078125,
          -9.528350830078125,
          -9.528350830078125,
          -9.528350830078125,
          -9.528350830078125,
          -9.528350830078125,
          -9.528350830078125,
          -9.528350830078125,
          -9.528350830078125,
          -9.528350830078125,
          -9.528350830078125,
          -9.528350830078125,
          -9.528350830078125,
          -9.528350830078125,
          -9.528350830078125,
          -9.528350830078125,
          -9.528350830078125,
          -9.528350830078125,
          -9.528350830078125,
          -9.528350830078125,
          -9.528350830078125,
          -9.528350830078125,
          -9.528350830078125,
          -9.528350830078125,
          -9.528350830078125,
          -9.528350830078125,
          -9.528350830078125,
          -9.528350830078125,
          -9.528350830078125,
          -9.528350830078125,
          -9.528350830078125,
          -9.528350830078125,
          -9.528350830078125
         ]
        }
       ],
       "layout": {
        "template": {
         "data": {
          "bar": [
           {
            "error_x": {
             "color": "#2a3f5f"
            },
            "error_y": {
             "color": "#2a3f5f"
            },
            "marker": {
             "line": {
              "color": "#E5ECF6",
              "width": 0.5
             }
            },
            "type": "bar"
           }
          ],
          "barpolar": [
           {
            "marker": {
             "line": {
              "color": "#E5ECF6",
              "width": 0.5
             }
            },
            "type": "barpolar"
           }
          ],
          "carpet": [
           {
            "aaxis": {
             "endlinecolor": "#2a3f5f",
             "gridcolor": "white",
             "linecolor": "white",
             "minorgridcolor": "white",
             "startlinecolor": "#2a3f5f"
            },
            "baxis": {
             "endlinecolor": "#2a3f5f",
             "gridcolor": "white",
             "linecolor": "white",
             "minorgridcolor": "white",
             "startlinecolor": "#2a3f5f"
            },
            "type": "carpet"
           }
          ],
          "choropleth": [
           {
            "colorbar": {
             "outlinewidth": 0,
             "ticks": ""
            },
            "type": "choropleth"
           }
          ],
          "contour": [
           {
            "colorbar": {
             "outlinewidth": 0,
             "ticks": ""
            },
            "colorscale": [
             [
              0,
              "#0d0887"
             ],
             [
              0.1111111111111111,
              "#46039f"
             ],
             [
              0.2222222222222222,
              "#7201a8"
             ],
             [
              0.3333333333333333,
              "#9c179e"
             ],
             [
              0.4444444444444444,
              "#bd3786"
             ],
             [
              0.5555555555555556,
              "#d8576b"
             ],
             [
              0.6666666666666666,
              "#ed7953"
             ],
             [
              0.7777777777777778,
              "#fb9f3a"
             ],
             [
              0.8888888888888888,
              "#fdca26"
             ],
             [
              1,
              "#f0f921"
             ]
            ],
            "type": "contour"
           }
          ],
          "contourcarpet": [
           {
            "colorbar": {
             "outlinewidth": 0,
             "ticks": ""
            },
            "type": "contourcarpet"
           }
          ],
          "heatmap": [
           {
            "colorbar": {
             "outlinewidth": 0,
             "ticks": ""
            },
            "colorscale": [
             [
              0,
              "#0d0887"
             ],
             [
              0.1111111111111111,
              "#46039f"
             ],
             [
              0.2222222222222222,
              "#7201a8"
             ],
             [
              0.3333333333333333,
              "#9c179e"
             ],
             [
              0.4444444444444444,
              "#bd3786"
             ],
             [
              0.5555555555555556,
              "#d8576b"
             ],
             [
              0.6666666666666666,
              "#ed7953"
             ],
             [
              0.7777777777777778,
              "#fb9f3a"
             ],
             [
              0.8888888888888888,
              "#fdca26"
             ],
             [
              1,
              "#f0f921"
             ]
            ],
            "type": "heatmap"
           }
          ],
          "heatmapgl": [
           {
            "colorbar": {
             "outlinewidth": 0,
             "ticks": ""
            },
            "colorscale": [
             [
              0,
              "#0d0887"
             ],
             [
              0.1111111111111111,
              "#46039f"
             ],
             [
              0.2222222222222222,
              "#7201a8"
             ],
             [
              0.3333333333333333,
              "#9c179e"
             ],
             [
              0.4444444444444444,
              "#bd3786"
             ],
             [
              0.5555555555555556,
              "#d8576b"
             ],
             [
              0.6666666666666666,
              "#ed7953"
             ],
             [
              0.7777777777777778,
              "#fb9f3a"
             ],
             [
              0.8888888888888888,
              "#fdca26"
             ],
             [
              1,
              "#f0f921"
             ]
            ],
            "type": "heatmapgl"
           }
          ],
          "histogram": [
           {
            "marker": {
             "colorbar": {
              "outlinewidth": 0,
              "ticks": ""
             }
            },
            "type": "histogram"
           }
          ],
          "histogram2d": [
           {
            "colorbar": {
             "outlinewidth": 0,
             "ticks": ""
            },
            "colorscale": [
             [
              0,
              "#0d0887"
             ],
             [
              0.1111111111111111,
              "#46039f"
             ],
             [
              0.2222222222222222,
              "#7201a8"
             ],
             [
              0.3333333333333333,
              "#9c179e"
             ],
             [
              0.4444444444444444,
              "#bd3786"
             ],
             [
              0.5555555555555556,
              "#d8576b"
             ],
             [
              0.6666666666666666,
              "#ed7953"
             ],
             [
              0.7777777777777778,
              "#fb9f3a"
             ],
             [
              0.8888888888888888,
              "#fdca26"
             ],
             [
              1,
              "#f0f921"
             ]
            ],
            "type": "histogram2d"
           }
          ],
          "histogram2dcontour": [
           {
            "colorbar": {
             "outlinewidth": 0,
             "ticks": ""
            },
            "colorscale": [
             [
              0,
              "#0d0887"
             ],
             [
              0.1111111111111111,
              "#46039f"
             ],
             [
              0.2222222222222222,
              "#7201a8"
             ],
             [
              0.3333333333333333,
              "#9c179e"
             ],
             [
              0.4444444444444444,
              "#bd3786"
             ],
             [
              0.5555555555555556,
              "#d8576b"
             ],
             [
              0.6666666666666666,
              "#ed7953"
             ],
             [
              0.7777777777777778,
              "#fb9f3a"
             ],
             [
              0.8888888888888888,
              "#fdca26"
             ],
             [
              1,
              "#f0f921"
             ]
            ],
            "type": "histogram2dcontour"
           }
          ],
          "mesh3d": [
           {
            "colorbar": {
             "outlinewidth": 0,
             "ticks": ""
            },
            "type": "mesh3d"
           }
          ],
          "parcoords": [
           {
            "line": {
             "colorbar": {
              "outlinewidth": 0,
              "ticks": ""
             }
            },
            "type": "parcoords"
           }
          ],
          "pie": [
           {
            "automargin": true,
            "type": "pie"
           }
          ],
          "scatter": [
           {
            "marker": {
             "colorbar": {
              "outlinewidth": 0,
              "ticks": ""
             }
            },
            "type": "scatter"
           }
          ],
          "scatter3d": [
           {
            "line": {
             "colorbar": {
              "outlinewidth": 0,
              "ticks": ""
             }
            },
            "marker": {
             "colorbar": {
              "outlinewidth": 0,
              "ticks": ""
             }
            },
            "type": "scatter3d"
           }
          ],
          "scattercarpet": [
           {
            "marker": {
             "colorbar": {
              "outlinewidth": 0,
              "ticks": ""
             }
            },
            "type": "scattercarpet"
           }
          ],
          "scattergeo": [
           {
            "marker": {
             "colorbar": {
              "outlinewidth": 0,
              "ticks": ""
             }
            },
            "type": "scattergeo"
           }
          ],
          "scattergl": [
           {
            "marker": {
             "colorbar": {
              "outlinewidth": 0,
              "ticks": ""
             }
            },
            "type": "scattergl"
           }
          ],
          "scattermapbox": [
           {
            "marker": {
             "colorbar": {
              "outlinewidth": 0,
              "ticks": ""
             }
            },
            "type": "scattermapbox"
           }
          ],
          "scatterpolar": [
           {
            "marker": {
             "colorbar": {
              "outlinewidth": 0,
              "ticks": ""
             }
            },
            "type": "scatterpolar"
           }
          ],
          "scatterpolargl": [
           {
            "marker": {
             "colorbar": {
              "outlinewidth": 0,
              "ticks": ""
             }
            },
            "type": "scatterpolargl"
           }
          ],
          "scatterternary": [
           {
            "marker": {
             "colorbar": {
              "outlinewidth": 0,
              "ticks": ""
             }
            },
            "type": "scatterternary"
           }
          ],
          "surface": [
           {
            "colorbar": {
             "outlinewidth": 0,
             "ticks": ""
            },
            "colorscale": [
             [
              0,
              "#0d0887"
             ],
             [
              0.1111111111111111,
              "#46039f"
             ],
             [
              0.2222222222222222,
              "#7201a8"
             ],
             [
              0.3333333333333333,
              "#9c179e"
             ],
             [
              0.4444444444444444,
              "#bd3786"
             ],
             [
              0.5555555555555556,
              "#d8576b"
             ],
             [
              0.6666666666666666,
              "#ed7953"
             ],
             [
              0.7777777777777778,
              "#fb9f3a"
             ],
             [
              0.8888888888888888,
              "#fdca26"
             ],
             [
              1,
              "#f0f921"
             ]
            ],
            "type": "surface"
           }
          ],
          "table": [
           {
            "cells": {
             "fill": {
              "color": "#EBF0F8"
             },
             "line": {
              "color": "white"
             }
            },
            "header": {
             "fill": {
              "color": "#C8D4E3"
             },
             "line": {
              "color": "white"
             }
            },
            "type": "table"
           }
          ]
         },
         "layout": {
          "annotationdefaults": {
           "arrowcolor": "#2a3f5f",
           "arrowhead": 0,
           "arrowwidth": 1
          },
          "coloraxis": {
           "colorbar": {
            "outlinewidth": 0,
            "ticks": ""
           }
          },
          "colorscale": {
           "diverging": [
            [
             0,
             "#8e0152"
            ],
            [
             0.1,
             "#c51b7d"
            ],
            [
             0.2,
             "#de77ae"
            ],
            [
             0.3,
             "#f1b6da"
            ],
            [
             0.4,
             "#fde0ef"
            ],
            [
             0.5,
             "#f7f7f7"
            ],
            [
             0.6,
             "#e6f5d0"
            ],
            [
             0.7,
             "#b8e186"
            ],
            [
             0.8,
             "#7fbc41"
            ],
            [
             0.9,
             "#4d9221"
            ],
            [
             1,
             "#276419"
            ]
           ],
           "sequential": [
            [
             0,
             "#0d0887"
            ],
            [
             0.1111111111111111,
             "#46039f"
            ],
            [
             0.2222222222222222,
             "#7201a8"
            ],
            [
             0.3333333333333333,
             "#9c179e"
            ],
            [
             0.4444444444444444,
             "#bd3786"
            ],
            [
             0.5555555555555556,
             "#d8576b"
            ],
            [
             0.6666666666666666,
             "#ed7953"
            ],
            [
             0.7777777777777778,
             "#fb9f3a"
            ],
            [
             0.8888888888888888,
             "#fdca26"
            ],
            [
             1,
             "#f0f921"
            ]
           ],
           "sequentialminus": [
            [
             0,
             "#0d0887"
            ],
            [
             0.1111111111111111,
             "#46039f"
            ],
            [
             0.2222222222222222,
             "#7201a8"
            ],
            [
             0.3333333333333333,
             "#9c179e"
            ],
            [
             0.4444444444444444,
             "#bd3786"
            ],
            [
             0.5555555555555556,
             "#d8576b"
            ],
            [
             0.6666666666666666,
             "#ed7953"
            ],
            [
             0.7777777777777778,
             "#fb9f3a"
            ],
            [
             0.8888888888888888,
             "#fdca26"
            ],
            [
             1,
             "#f0f921"
            ]
           ]
          },
          "colorway": [
           "#636efa",
           "#EF553B",
           "#00cc96",
           "#ab63fa",
           "#FFA15A",
           "#19d3f3",
           "#FF6692",
           "#B6E880",
           "#FF97FF",
           "#FECB52"
          ],
          "font": {
           "color": "#2a3f5f"
          },
          "geo": {
           "bgcolor": "white",
           "lakecolor": "white",
           "landcolor": "#E5ECF6",
           "showlakes": true,
           "showland": true,
           "subunitcolor": "white"
          },
          "hoverlabel": {
           "align": "left"
          },
          "hovermode": "closest",
          "mapbox": {
           "style": "light"
          },
          "paper_bgcolor": "white",
          "plot_bgcolor": "#E5ECF6",
          "polar": {
           "angularaxis": {
            "gridcolor": "white",
            "linecolor": "white",
            "ticks": ""
           },
           "bgcolor": "#E5ECF6",
           "radialaxis": {
            "gridcolor": "white",
            "linecolor": "white",
            "ticks": ""
           }
          },
          "scene": {
           "xaxis": {
            "backgroundcolor": "#E5ECF6",
            "gridcolor": "white",
            "gridwidth": 2,
            "linecolor": "white",
            "showbackground": true,
            "ticks": "",
            "zerolinecolor": "white"
           },
           "yaxis": {
            "backgroundcolor": "#E5ECF6",
            "gridcolor": "white",
            "gridwidth": 2,
            "linecolor": "white",
            "showbackground": true,
            "ticks": "",
            "zerolinecolor": "white"
           },
           "zaxis": {
            "backgroundcolor": "#E5ECF6",
            "gridcolor": "white",
            "gridwidth": 2,
            "linecolor": "white",
            "showbackground": true,
            "ticks": "",
            "zerolinecolor": "white"
           }
          },
          "shapedefaults": {
           "line": {
            "color": "#2a3f5f"
           }
          },
          "ternary": {
           "aaxis": {
            "gridcolor": "white",
            "linecolor": "white",
            "ticks": ""
           },
           "baxis": {
            "gridcolor": "white",
            "linecolor": "white",
            "ticks": ""
           },
           "bgcolor": "#E5ECF6",
           "caxis": {
            "gridcolor": "white",
            "linecolor": "white",
            "ticks": ""
           }
          },
          "title": {
           "x": 0.05
          },
          "xaxis": {
           "automargin": true,
           "gridcolor": "white",
           "linecolor": "white",
           "ticks": "",
           "title": {
            "standoff": 15
           },
           "zerolinecolor": "white",
           "zerolinewidth": 2
          },
          "yaxis": {
           "automargin": true,
           "gridcolor": "white",
           "linecolor": "white",
           "ticks": "",
           "title": {
            "standoff": 15
           },
           "zerolinecolor": "white",
           "zerolinewidth": 2
          }
         }
        },
        "title": {
         "text": "Euclidean error on noisy data using RP, SRP, PCA, DCT, and Median filter"
        },
        "width": 800,
        "xaxis": {
         "dtick": 25,
         "title": {
          "text": "Reduced dimension"
         }
        },
        "yaxis": {
         "title": {
          "text": "Error"
         }
        }
       }
      }
     },
     "metadata": {}
    }
   ],
   "source": [
    "fig = go.Figure()\n",
    "ks = np.arange(2,325, avg)\n",
    "fig.add_trace(go.Scatter(x=ks, y=p_diff, name=\"PCA\", marker_symbol=\"circle\", mode=\"markers\"))\n",
    "fig.add_trace(go.Scatter(x=ks, y=d_diff, name=\"DCT\", marker_symbol=\"square\", mode=\"markers\"))\n",
    "fig.add_trace(go.Scatter(x=ks, y=r_diff, name=\"RP\", marker_symbol=\"cross\", mode=\"markers\"))\n",
    "fig.add_trace(go.Scatter(x=ks, y=sr_diff, name=\"SRP\", marker_symbol=\"diamond\", mode=\"markers\"))\n",
    "fig.add_trace(go.Scatter(x=ks, y=[m_val]*len(ks), name=\"Median filter\", marker_symbol=\"diamond\", mode=\"lines\"))\n",
    "\n",
    "fig.update_layout(\n",
    "    title_text=\"Euclidean error on noisy data using RP, SRP, PCA, DCT, and Median filter\",\n",
    "    width=800,\n",
    ")\n",
    "\n",
    "fig.update_xaxes(title_text='Reduced dimension', dtick=25)\n",
    "fig.update_yaxes(title_text='Error')\n",
    "\n",
    "fig.show()"
   ]
  },
  {
   "cell_type": "code",
   "execution_count": 39,
   "metadata": {},
   "outputs": [
    {
     "output_type": "display_data",
     "data": {
      "application/vnd.plotly.v1+json": {
       "config": {
        "plotlyServerURL": "https://plot.ly"
       },
       "data": [
        {
         "marker": {
          "symbol": "circle"
         },
         "mode": "markers",
         "name": "PCA",
         "type": "scatter",
         "x": [
          2,
          12,
          22,
          32,
          42,
          52,
          62,
          72,
          82,
          92,
          102,
          112,
          122,
          132,
          142,
          152,
          162,
          172,
          182,
          192,
          202,
          212,
          222,
          232,
          242,
          252,
          262,
          272,
          282,
          292,
          302,
          312,
          322
         ],
         "y": [
          0.990478777885437,
          0.9986913681030274,
          0.9031206130981445,
          0.9129013299942017,
          0.9174754381179809,
          1.0450188159942626,
          0.9743178606033325,
          0.9474125862121582,
          1.0518139123916626,
          1.0340556383132935,
          1.0440496683120728,
          1.0604382038116456,
          1.027311134338379,
          1.0788097143173219,
          1.058685874938965,
          1.058488917350769,
          1.0916079044342042,
          1.0144023418426513,
          0.9937971353530883,
          0.8916585445404053,
          1.0081491708755492,
          0.9945313930511475,
          0.932356309890747,
          0.9802855491638184,
          0.9409427881240845,
          0.9989181280136108,
          0.9985089540481568,
          0.9556841135025025,
          0.9703132152557373,
          0.9730404376983642,
          1.048002052307129,
          1.0129380464553832,
          0.8909060955047607
         ]
        },
        {
         "marker": {
          "symbol": "square"
         },
         "mode": "markers",
         "name": "DCT",
         "type": "scatter",
         "x": [
          2,
          12,
          22,
          32,
          42,
          52,
          62,
          72,
          82,
          92,
          102,
          112,
          122,
          132,
          142,
          152,
          162,
          172,
          182,
          192,
          202,
          212,
          222,
          232,
          242,
          252,
          262,
          272,
          282,
          292,
          302,
          312,
          322
         ],
         "y": [
          0.014230895042419433,
          0.01491687297821045,
          0.014407920837402343,
          0.01451125144958496,
          0.01460111141204834,
          0.014221692085266113,
          0.01429610252380371,
          0.014681649208068848,
          0.015178036689758301,
          0.014689946174621582,
          0.014598512649536132,
          0.014826583862304687,
          0.015037465095520019,
          0.015012836456298828,
          0.01501462459564209,
          0.014656281471252442,
          0.015149712562561035,
          0.015779399871826173,
          0.016103386878967285,
          0.0158336877822876,
          0.015595364570617675,
          0.016095757484436035,
          0.015784358978271483,
          0.016050028800964355,
          0.015814447402954103,
          0.015667152404785157,
          0.016718626022338867,
          0.016011643409729003,
          0.01612589359283447,
          0.016931366920471192,
          0.017333030700683594,
          0.016497349739074706,
          0.016768217086791992
         ]
        },
        {
         "marker": {
          "symbol": "cross"
         },
         "mode": "markers",
         "name": "RP",
         "type": "scatter",
         "x": [
          2,
          12,
          22,
          32,
          42,
          52,
          62,
          72,
          82,
          92,
          102,
          112,
          122,
          132,
          142,
          152,
          162,
          172,
          182,
          192,
          202,
          212,
          222,
          232,
          242,
          252,
          262,
          272,
          282,
          292,
          302,
          312,
          322
         ],
         "y": [
          0.005762648582458496,
          0.006715202331542968,
          0.00732874870300293,
          0.00815122127532959,
          0.008735561370849609,
          0.00993344783782959,
          0.010252785682678223,
          0.010879135131835938,
          0.012330102920532226,
          0.01273205280303955,
          0.013472890853881836,
          0.014498567581176758,
          0.015037226676940917,
          0.01604955196380615,
          0.016546225547790526,
          0.017438983917236327,
          0.01902306079864502,
          0.01898641586303711,
          0.019778513908386232,
          0.01978285312652588,
          0.02153463363647461,
          0.02168123722076416,
          0.022073864936828613,
          0.02346525192260742,
          0.023398637771606445,
          0.025385189056396484,
          0.0258073091506958,
          0.02573893070220947,
          0.027360081672668457,
          0.0273531436920166,
          0.029527831077575683,
          0.030305099487304688,
          0.028546253840128582
         ]
        },
        {
         "marker": {
          "symbol": "diamond"
         },
         "mode": "markers",
         "name": "SRP",
         "type": "scatter",
         "x": [
          2,
          12,
          22,
          32,
          42,
          52,
          62,
          72,
          82,
          92,
          102,
          112,
          122,
          132,
          142,
          152,
          162,
          172,
          182,
          192,
          202,
          212,
          222,
          232,
          242,
          252,
          262,
          272,
          282,
          292,
          302,
          312,
          322
         ],
         "y": [
          0.023331809043884277,
          0.024096989631652833,
          0.024882411956787108,
          0.025422382354736327,
          0.02617933750152588,
          0.027173805236816406,
          0.0273989200592041,
          0.02817389965057373,
          0.029531693458557128,
          0.0296630859375,
          0.030039453506469728,
          0.031201386451721193,
          0.031824803352355956,
          0.0323441743850708,
          0.03280937671661377,
          0.033750057220458984,
          0.03513305187225342,
          0.035142374038696286,
          0.036768198013305664,
          0.03630366325378418,
          0.036957192420959475,
          0.03716056346893311,
          0.03778948783874512,
          0.0392707347869873,
          0.03925349712371826,
          0.04061908721923828,
          0.041582798957824706,
          0.041617417335510255,
          0.04267282485961914,
          0.043125057220458986,
          0.044967937469482425,
          0.04445950984954834,
          0.04464801152547201
         ]
        }
       ],
       "layout": {
        "template": {
         "data": {
          "bar": [
           {
            "error_x": {
             "color": "#2a3f5f"
            },
            "error_y": {
             "color": "#2a3f5f"
            },
            "marker": {
             "line": {
              "color": "#E5ECF6",
              "width": 0.5
             }
            },
            "type": "bar"
           }
          ],
          "barpolar": [
           {
            "marker": {
             "line": {
              "color": "#E5ECF6",
              "width": 0.5
             }
            },
            "type": "barpolar"
           }
          ],
          "carpet": [
           {
            "aaxis": {
             "endlinecolor": "#2a3f5f",
             "gridcolor": "white",
             "linecolor": "white",
             "minorgridcolor": "white",
             "startlinecolor": "#2a3f5f"
            },
            "baxis": {
             "endlinecolor": "#2a3f5f",
             "gridcolor": "white",
             "linecolor": "white",
             "minorgridcolor": "white",
             "startlinecolor": "#2a3f5f"
            },
            "type": "carpet"
           }
          ],
          "choropleth": [
           {
            "colorbar": {
             "outlinewidth": 0,
             "ticks": ""
            },
            "type": "choropleth"
           }
          ],
          "contour": [
           {
            "colorbar": {
             "outlinewidth": 0,
             "ticks": ""
            },
            "colorscale": [
             [
              0,
              "#0d0887"
             ],
             [
              0.1111111111111111,
              "#46039f"
             ],
             [
              0.2222222222222222,
              "#7201a8"
             ],
             [
              0.3333333333333333,
              "#9c179e"
             ],
             [
              0.4444444444444444,
              "#bd3786"
             ],
             [
              0.5555555555555556,
              "#d8576b"
             ],
             [
              0.6666666666666666,
              "#ed7953"
             ],
             [
              0.7777777777777778,
              "#fb9f3a"
             ],
             [
              0.8888888888888888,
              "#fdca26"
             ],
             [
              1,
              "#f0f921"
             ]
            ],
            "type": "contour"
           }
          ],
          "contourcarpet": [
           {
            "colorbar": {
             "outlinewidth": 0,
             "ticks": ""
            },
            "type": "contourcarpet"
           }
          ],
          "heatmap": [
           {
            "colorbar": {
             "outlinewidth": 0,
             "ticks": ""
            },
            "colorscale": [
             [
              0,
              "#0d0887"
             ],
             [
              0.1111111111111111,
              "#46039f"
             ],
             [
              0.2222222222222222,
              "#7201a8"
             ],
             [
              0.3333333333333333,
              "#9c179e"
             ],
             [
              0.4444444444444444,
              "#bd3786"
             ],
             [
              0.5555555555555556,
              "#d8576b"
             ],
             [
              0.6666666666666666,
              "#ed7953"
             ],
             [
              0.7777777777777778,
              "#fb9f3a"
             ],
             [
              0.8888888888888888,
              "#fdca26"
             ],
             [
              1,
              "#f0f921"
             ]
            ],
            "type": "heatmap"
           }
          ],
          "heatmapgl": [
           {
            "colorbar": {
             "outlinewidth": 0,
             "ticks": ""
            },
            "colorscale": [
             [
              0,
              "#0d0887"
             ],
             [
              0.1111111111111111,
              "#46039f"
             ],
             [
              0.2222222222222222,
              "#7201a8"
             ],
             [
              0.3333333333333333,
              "#9c179e"
             ],
             [
              0.4444444444444444,
              "#bd3786"
             ],
             [
              0.5555555555555556,
              "#d8576b"
             ],
             [
              0.6666666666666666,
              "#ed7953"
             ],
             [
              0.7777777777777778,
              "#fb9f3a"
             ],
             [
              0.8888888888888888,
              "#fdca26"
             ],
             [
              1,
              "#f0f921"
             ]
            ],
            "type": "heatmapgl"
           }
          ],
          "histogram": [
           {
            "marker": {
             "colorbar": {
              "outlinewidth": 0,
              "ticks": ""
             }
            },
            "type": "histogram"
           }
          ],
          "histogram2d": [
           {
            "colorbar": {
             "outlinewidth": 0,
             "ticks": ""
            },
            "colorscale": [
             [
              0,
              "#0d0887"
             ],
             [
              0.1111111111111111,
              "#46039f"
             ],
             [
              0.2222222222222222,
              "#7201a8"
             ],
             [
              0.3333333333333333,
              "#9c179e"
             ],
             [
              0.4444444444444444,
              "#bd3786"
             ],
             [
              0.5555555555555556,
              "#d8576b"
             ],
             [
              0.6666666666666666,
              "#ed7953"
             ],
             [
              0.7777777777777778,
              "#fb9f3a"
             ],
             [
              0.8888888888888888,
              "#fdca26"
             ],
             [
              1,
              "#f0f921"
             ]
            ],
            "type": "histogram2d"
           }
          ],
          "histogram2dcontour": [
           {
            "colorbar": {
             "outlinewidth": 0,
             "ticks": ""
            },
            "colorscale": [
             [
              0,
              "#0d0887"
             ],
             [
              0.1111111111111111,
              "#46039f"
             ],
             [
              0.2222222222222222,
              "#7201a8"
             ],
             [
              0.3333333333333333,
              "#9c179e"
             ],
             [
              0.4444444444444444,
              "#bd3786"
             ],
             [
              0.5555555555555556,
              "#d8576b"
             ],
             [
              0.6666666666666666,
              "#ed7953"
             ],
             [
              0.7777777777777778,
              "#fb9f3a"
             ],
             [
              0.8888888888888888,
              "#fdca26"
             ],
             [
              1,
              "#f0f921"
             ]
            ],
            "type": "histogram2dcontour"
           }
          ],
          "mesh3d": [
           {
            "colorbar": {
             "outlinewidth": 0,
             "ticks": ""
            },
            "type": "mesh3d"
           }
          ],
          "parcoords": [
           {
            "line": {
             "colorbar": {
              "outlinewidth": 0,
              "ticks": ""
             }
            },
            "type": "parcoords"
           }
          ],
          "pie": [
           {
            "automargin": true,
            "type": "pie"
           }
          ],
          "scatter": [
           {
            "marker": {
             "colorbar": {
              "outlinewidth": 0,
              "ticks": ""
             }
            },
            "type": "scatter"
           }
          ],
          "scatter3d": [
           {
            "line": {
             "colorbar": {
              "outlinewidth": 0,
              "ticks": ""
             }
            },
            "marker": {
             "colorbar": {
              "outlinewidth": 0,
              "ticks": ""
             }
            },
            "type": "scatter3d"
           }
          ],
          "scattercarpet": [
           {
            "marker": {
             "colorbar": {
              "outlinewidth": 0,
              "ticks": ""
             }
            },
            "type": "scattercarpet"
           }
          ],
          "scattergeo": [
           {
            "marker": {
             "colorbar": {
              "outlinewidth": 0,
              "ticks": ""
             }
            },
            "type": "scattergeo"
           }
          ],
          "scattergl": [
           {
            "marker": {
             "colorbar": {
              "outlinewidth": 0,
              "ticks": ""
             }
            },
            "type": "scattergl"
           }
          ],
          "scattermapbox": [
           {
            "marker": {
             "colorbar": {
              "outlinewidth": 0,
              "ticks": ""
             }
            },
            "type": "scattermapbox"
           }
          ],
          "scatterpolar": [
           {
            "marker": {
             "colorbar": {
              "outlinewidth": 0,
              "ticks": ""
             }
            },
            "type": "scatterpolar"
           }
          ],
          "scatterpolargl": [
           {
            "marker": {
             "colorbar": {
              "outlinewidth": 0,
              "ticks": ""
             }
            },
            "type": "scatterpolargl"
           }
          ],
          "scatterternary": [
           {
            "marker": {
             "colorbar": {
              "outlinewidth": 0,
              "ticks": ""
             }
            },
            "type": "scatterternary"
           }
          ],
          "surface": [
           {
            "colorbar": {
             "outlinewidth": 0,
             "ticks": ""
            },
            "colorscale": [
             [
              0,
              "#0d0887"
             ],
             [
              0.1111111111111111,
              "#46039f"
             ],
             [
              0.2222222222222222,
              "#7201a8"
             ],
             [
              0.3333333333333333,
              "#9c179e"
             ],
             [
              0.4444444444444444,
              "#bd3786"
             ],
             [
              0.5555555555555556,
              "#d8576b"
             ],
             [
              0.6666666666666666,
              "#ed7953"
             ],
             [
              0.7777777777777778,
              "#fb9f3a"
             ],
             [
              0.8888888888888888,
              "#fdca26"
             ],
             [
              1,
              "#f0f921"
             ]
            ],
            "type": "surface"
           }
          ],
          "table": [
           {
            "cells": {
             "fill": {
              "color": "#EBF0F8"
             },
             "line": {
              "color": "white"
             }
            },
            "header": {
             "fill": {
              "color": "#C8D4E3"
             },
             "line": {
              "color": "white"
             }
            },
            "type": "table"
           }
          ]
         },
         "layout": {
          "annotationdefaults": {
           "arrowcolor": "#2a3f5f",
           "arrowhead": 0,
           "arrowwidth": 1
          },
          "coloraxis": {
           "colorbar": {
            "outlinewidth": 0,
            "ticks": ""
           }
          },
          "colorscale": {
           "diverging": [
            [
             0,
             "#8e0152"
            ],
            [
             0.1,
             "#c51b7d"
            ],
            [
             0.2,
             "#de77ae"
            ],
            [
             0.3,
             "#f1b6da"
            ],
            [
             0.4,
             "#fde0ef"
            ],
            [
             0.5,
             "#f7f7f7"
            ],
            [
             0.6,
             "#e6f5d0"
            ],
            [
             0.7,
             "#b8e186"
            ],
            [
             0.8,
             "#7fbc41"
            ],
            [
             0.9,
             "#4d9221"
            ],
            [
             1,
             "#276419"
            ]
           ],
           "sequential": [
            [
             0,
             "#0d0887"
            ],
            [
             0.1111111111111111,
             "#46039f"
            ],
            [
             0.2222222222222222,
             "#7201a8"
            ],
            [
             0.3333333333333333,
             "#9c179e"
            ],
            [
             0.4444444444444444,
             "#bd3786"
            ],
            [
             0.5555555555555556,
             "#d8576b"
            ],
            [
             0.6666666666666666,
             "#ed7953"
            ],
            [
             0.7777777777777778,
             "#fb9f3a"
            ],
            [
             0.8888888888888888,
             "#fdca26"
            ],
            [
             1,
             "#f0f921"
            ]
           ],
           "sequentialminus": [
            [
             0,
             "#0d0887"
            ],
            [
             0.1111111111111111,
             "#46039f"
            ],
            [
             0.2222222222222222,
             "#7201a8"
            ],
            [
             0.3333333333333333,
             "#9c179e"
            ],
            [
             0.4444444444444444,
             "#bd3786"
            ],
            [
             0.5555555555555556,
             "#d8576b"
            ],
            [
             0.6666666666666666,
             "#ed7953"
            ],
            [
             0.7777777777777778,
             "#fb9f3a"
            ],
            [
             0.8888888888888888,
             "#fdca26"
            ],
            [
             1,
             "#f0f921"
            ]
           ]
          },
          "colorway": [
           "#636efa",
           "#EF553B",
           "#00cc96",
           "#ab63fa",
           "#FFA15A",
           "#19d3f3",
           "#FF6692",
           "#B6E880",
           "#FF97FF",
           "#FECB52"
          ],
          "font": {
           "color": "#2a3f5f"
          },
          "geo": {
           "bgcolor": "white",
           "lakecolor": "white",
           "landcolor": "#E5ECF6",
           "showlakes": true,
           "showland": true,
           "subunitcolor": "white"
          },
          "hoverlabel": {
           "align": "left"
          },
          "hovermode": "closest",
          "mapbox": {
           "style": "light"
          },
          "paper_bgcolor": "white",
          "plot_bgcolor": "#E5ECF6",
          "polar": {
           "angularaxis": {
            "gridcolor": "white",
            "linecolor": "white",
            "ticks": ""
           },
           "bgcolor": "#E5ECF6",
           "radialaxis": {
            "gridcolor": "white",
            "linecolor": "white",
            "ticks": ""
           }
          },
          "scene": {
           "xaxis": {
            "backgroundcolor": "#E5ECF6",
            "gridcolor": "white",
            "gridwidth": 2,
            "linecolor": "white",
            "showbackground": true,
            "ticks": "",
            "zerolinecolor": "white"
           },
           "yaxis": {
            "backgroundcolor": "#E5ECF6",
            "gridcolor": "white",
            "gridwidth": 2,
            "linecolor": "white",
            "showbackground": true,
            "ticks": "",
            "zerolinecolor": "white"
           },
           "zaxis": {
            "backgroundcolor": "#E5ECF6",
            "gridcolor": "white",
            "gridwidth": 2,
            "linecolor": "white",
            "showbackground": true,
            "ticks": "",
            "zerolinecolor": "white"
           }
          },
          "shapedefaults": {
           "line": {
            "color": "#2a3f5f"
           }
          },
          "ternary": {
           "aaxis": {
            "gridcolor": "white",
            "linecolor": "white",
            "ticks": ""
           },
           "baxis": {
            "gridcolor": "white",
            "linecolor": "white",
            "ticks": ""
           },
           "bgcolor": "#E5ECF6",
           "caxis": {
            "gridcolor": "white",
            "linecolor": "white",
            "ticks": ""
           }
          },
          "title": {
           "x": 0.05
          },
          "xaxis": {
           "automargin": true,
           "gridcolor": "white",
           "linecolor": "white",
           "ticks": "",
           "title": {
            "standoff": 15
           },
           "zerolinecolor": "white",
           "zerolinewidth": 2
          },
          "yaxis": {
           "automargin": true,
           "gridcolor": "white",
           "linecolor": "white",
           "ticks": "",
           "title": {
            "standoff": 15
           },
           "zerolinecolor": "white",
           "zerolinewidth": 2
          }
         }
        },
        "title": {
         "text": "Execution time using RP, SRP, PCA and DCT"
        },
        "width": 800,
        "xaxis": {
         "dtick": 25,
         "title": {
          "text": "Reduced dimension"
         }
        },
        "yaxis": {
         "title": {
          "text": "sec"
         },
         "type": "log"
        }
       }
      }
     },
     "metadata": {}
    }
   ],
   "source": [
    "fig = go.Figure()\n",
    "fig.add_trace(go.Scatter(x=ks, y=p_time,  name=\"PCA\", marker_symbol=\"circle\", mode=\"markers\"))\n",
    "fig.add_trace(go.Scatter(x=ks, y=d_time,  name=\"DCT\", marker_symbol=\"square\", mode=\"markers\"))\n",
    "fig.add_trace(go.Scatter(x=ks, y=r_time,  name=\"RP\", marker_symbol=\"cross\", mode=\"markers\"))\n",
    "fig.add_trace(go.Scatter(x=ks, y=sr_time, name=\"SRP\", marker_symbol=\"diamond\", mode=\"markers\"))\n",
    "\n",
    "fig.update_layout(\n",
    "    title_text=\"Execution time using RP, SRP, PCA and DCT\",\n",
    "    width=800,\n",
    ")\n",
    "\n",
    "fig.update_xaxes(title_text='Reduced dimension', dtick=25)\n",
    "fig.update_yaxes(title_text='sec', type=\"log\")\n",
    "\n",
    "fig.show()"
   ]
  },
  {
   "source": [
    "# Testing on the newsgroup data"
   ],
   "cell_type": "markdown",
   "metadata": {}
  },
  {
   "cell_type": "code",
   "execution_count": 10,
   "metadata": {},
   "outputs": [],
   "source": [
    "N = 1000\n",
    "d = load_news(N)\n",
    "data = []\n",
    "for i in range(N):\n",
    "    with open(d[i], \"r\") as f:\n",
    "        data.append(normalize(f.read()))"
   ]
  },
  {
   "cell_type": "code",
   "execution_count": 11,
   "metadata": {},
   "outputs": [],
   "source": [
    "dictionary = corpora.Dictionary(data)\n",
    "corpus = [dictionary.doc2bow(doc) for doc in data]\n",
    "\n",
    "D = len(dictionary)\n",
    "bow = np.zeros((N, D), dtype=np.float32)\n",
    "for i in range(len(data)):\n",
    "    for j, f in corpus[i]:\n",
    "        bow[i, j] = f\n"
   ]
  },
  {
   "cell_type": "code",
   "execution_count": 18,
   "metadata": {},
   "outputs": [],
   "source": [
    "bow = bow / np.linalg.norm(bow, axis=1, keepdims=True)\n",
    "dict2 = txt(N, bow, np.arange(1, 700))\n"
   ]
  },
  {
   "cell_type": "code",
   "execution_count": 63,
   "metadata": {},
   "outputs": [
    {
     "output_type": "stream",
     "name": "stdout",
     "text": [
      "3.034927181213963e-102\n"
     ]
    }
   ],
   "source": [
    "_, p1 = scipy.stats.mannwhitneyu(dict2[\"pca\"][0],dict1[\"rp\"][0])\n",
    "_, p2 = scipy.stats.mannwhitneyu(dict2[\"pca\"][0],dict1[\"srp\"][0])\n",
    "_, p3 = scipy.stats.mannwhitneyu(dict2[\"dct\"][0],dict1[\"rp\"][0])\n",
    "_, p4 = scipy.stats.mannwhitneyu(dict2[\"dct\"][0],dict1[\"srp\"][0])\n",
    "\n",
    "print(p1)\n",
    "print(p2)\n",
    "print(p3)\n",
    "print(p4)"
   ]
  },
  {
   "cell_type": "code",
   "execution_count": 19,
   "metadata": {},
   "outputs": [],
   "source": [
    "avg = 20\n",
    "\n",
    "p_diff = np.nan_to_num(dict2[\"pca\"][0],0)\n",
    "r_diff = np.nan_to_num(dict2[\"rp\"][0],0)\n",
    "sr_diff = np.nan_to_num(dict2[\"srp\"][0],0)\n",
    "\n",
    "p_min = np.nan_to_num(dict2[\"pca\"][1],0)\n",
    "r_min = np.nan_to_num(dict2[\"rp\"][1],0)\n",
    "sr_min = np.nan_to_num(dict2[\"srp\"][1],0)\n",
    "\n",
    "p_max = np.nan_to_num(dict2[\"pca\"][2],0)\n",
    "r_max = np.nan_to_num(dict2[\"rp\"][2],0)\n",
    "sr_max = np.nan_to_num(dict2[\"srp\"][2],0)\n",
    "\n",
    "p_time = dict2[\"pca\"][3]\n",
    "r_time = dict2[\"rp\"][3]\n",
    "sr_time = dict2[\"srp\"][3]\n",
    "\n",
    "p_diff = [np.mean(p_diff[i:i+avg]) for i in range(0, len(p_diff), avg)] \n",
    "r_diff = [np.mean(r_diff[i:i+avg]) for i in range(0, len(r_diff), avg)] \n",
    "sr_diff = [np.mean(sr_diff[i:i+avg]) for i in range(0, len(sr_diff), avg)] \n",
    "\n",
    "p_min = [np.mean(p_min[i:i+avg]) for i in range(0, len(p_min), avg)] \n",
    "r_min = [np.mean(r_min[i:i+avg]) for i in range(0, len(r_min), avg)] \n",
    "sr_min = [np.mean(sr_min[i:i+avg]) for i in range(0, len(sr_min), avg)] \n",
    "\n",
    "p_max = [np.mean(p_max[i:i+avg]) for i in range(0, len(p_max), avg)] \n",
    "r_max = [np.mean(r_max[i:i+avg]) for i in range(0, len(r_max), avg)] \n",
    "sr_max = [np.mean(sr_max[i:i+avg]) for i in range(0, len(sr_max), avg)] \n",
    "\n",
    "\n",
    "p_time = [np.mean(p_time[i:i+avg]) for i in range(0, len(p_time), avg)] \n",
    "r_time= [np.mean(r_time[i:i+avg]) for i in range(0, len(r_time), avg)] \n",
    "sr_time = [np.mean(sr_time[i:i+avg]) for i in range(0, len(sr_time), avg)] \n",
    "\n",
    "\n"
   ]
  },
  {
   "cell_type": "code",
   "execution_count": 21,
   "metadata": {},
   "outputs": [
    {
     "output_type": "display_data",
     "data": {
      "application/vnd.plotly.v1+json": {
       "config": {
        "plotlyServerURL": "https://plot.ly"
       },
       "data": [
        {
         "marker": {
          "symbol": "circle"
         },
         "mode": "markers",
         "name": "SVD",
         "type": "scatter",
         "x": [
          1,
          21,
          41,
          61,
          81,
          101,
          121,
          141,
          161,
          181,
          201,
          221,
          241,
          261,
          281,
          301,
          321,
          341,
          361,
          381,
          401,
          421,
          441,
          461,
          481,
          501,
          521,
          541,
          561,
          581,
          601,
          621,
          641,
          661,
          681
         ],
         "y": [
          0.3345624804496765,
          0.10930638015270233,
          0.06035592034459114,
          0.03168654441833496,
          0.0064072213135659695,
          -1.8998980166884394e-8,
          -1.527368986842248e-8,
          -1.7136335017653437e-8,
          -1.2293457807288632e-8,
          -1.7881394143159923e-8,
          -2.2351741790771484e-8,
          -1.8253922817734747e-8,
          -1.750886369222826e-8,
          -2.1234153990690174e-8,
          -1.4901161193847656e-8,
          -9.685754420729609e-9,
          -1.2293457807288632e-8,
          -2.2351741790771484e-8,
          -1.974403929239088e-8,
          -1.6018748993928966e-8,
          -2.2351741790771484e-8,
          -1.7881394143159923e-8,
          -2.2351741790771484e-8,
          -1.8253922817734747e-8,
          -1.750886369222826e-8,
          -2.1234153990690174e-8,
          -1.8998980166884394e-8,
          -2.2351741790771484e-8,
          -1.7881394143159923e-8,
          -2.2351741790771484e-8,
          -1.974403929239088e-8,
          -1.4901161193847656e-8,
          -1.4901161193847656e-8,
          -1.4901161193847656e-8,
          -2.0391063060287706e-8
         ]
        },
        {
         "marker": {
          "symbol": "cross"
         },
         "mode": "markers",
         "name": "RP",
         "type": "scatter",
         "x": [
          1,
          21,
          41,
          61,
          81,
          101,
          121,
          141,
          161,
          181,
          201,
          221,
          241,
          261,
          281,
          301,
          321,
          341,
          361,
          381,
          401,
          421,
          441,
          461,
          481,
          501,
          521,
          541,
          561,
          581,
          601,
          621,
          641,
          661,
          681
         ],
         "y": [
          0.01566637074378669,
          0.0026351582668741103,
          0.005757985459266367,
          0.0006396249799623402,
          -0.000595162279205403,
          -0.005792134261348458,
          0.00028578121727094313,
          -0.0018527694117054737,
          -0.00016486874521553924,
          -0.004781984443424219,
          -0.0009719458342312998,
          0.0004107108436365685,
          -0.0022360274668048762,
          0.0018590490842998104,
          -0.0015623203763222965,
          0.005636464363058596,
          -0.002070643904040231,
          -0.0026059075990787113,
          -0.0016447127757899915,
          -0.0009513182273488387,
          -0.0006526245872678805,
          -0.0005588760558989672,
          0.002397831079039485,
          0.0008748672242004596,
          0.00038444523942858175,
          -0.0012050385184844748,
          -0.0005674218703468535,
          0.00017243920541535756,
          -0.0008465650174255899,
          -0.004236425589964702,
          -0.00017178524452724845,
          -0.001325112277803267,
          0.0008830311887609305,
          -0.0018350450253800728,
          0.0005575704161556033
         ]
        },
        {
         "marker": {
          "symbol": "diamond"
         },
         "mode": "markers",
         "name": "SRP",
         "type": "scatter",
         "x": [
          1,
          21,
          41,
          61,
          81,
          101,
          121,
          141,
          161,
          181,
          201,
          221,
          241,
          261,
          281,
          301,
          321,
          341,
          361,
          381,
          401,
          421,
          441,
          461,
          481,
          501,
          521,
          541,
          561,
          581,
          601,
          621,
          641,
          661,
          681
         ],
         "y": [
          -0.009584723887827171,
          0.008482677975899963,
          -0.018008404972299656,
          -0.008230601442115442,
          -0.01077597903435348,
          -0.005029395958365402,
          -0.0019555044273167816,
          -0.010798930339794297,
          -0.004905515308068013,
          -0.0017193200818566845,
          0.0014131169105019055,
          -0.0036054556415417737,
          -0.0070444234753668285,
          -0.004861805219879186,
          0.00010432517367949535,
          -0.003046523624398557,
          0.0047696996261296035,
          -0.00006201606227477507,
          -0.0035539565383204954,
          -0.006470225949887581,
          -0.001235149392429765,
          -0.0006290087040016525,
          0.00024032858650661557,
          -0.00362279335081542,
          0.00035885593976178325,
          0.002605616970139505,
          0.00020857919336443113,
          0.0005638699072018687,
          -0.002363902920317875,
          -0.0011521761506135945,
          -0.0037034451510216163,
          0.0013621310879953108,
          0.0010356334246317072,
          -0.003642072861193681,
          -0.00082570925715667
         ]
        }
       ],
       "layout": {
        "template": {
         "data": {
          "bar": [
           {
            "error_x": {
             "color": "#2a3f5f"
            },
            "error_y": {
             "color": "#2a3f5f"
            },
            "marker": {
             "line": {
              "color": "#E5ECF6",
              "width": 0.5
             }
            },
            "type": "bar"
           }
          ],
          "barpolar": [
           {
            "marker": {
             "line": {
              "color": "#E5ECF6",
              "width": 0.5
             }
            },
            "type": "barpolar"
           }
          ],
          "carpet": [
           {
            "aaxis": {
             "endlinecolor": "#2a3f5f",
             "gridcolor": "white",
             "linecolor": "white",
             "minorgridcolor": "white",
             "startlinecolor": "#2a3f5f"
            },
            "baxis": {
             "endlinecolor": "#2a3f5f",
             "gridcolor": "white",
             "linecolor": "white",
             "minorgridcolor": "white",
             "startlinecolor": "#2a3f5f"
            },
            "type": "carpet"
           }
          ],
          "choropleth": [
           {
            "colorbar": {
             "outlinewidth": 0,
             "ticks": ""
            },
            "type": "choropleth"
           }
          ],
          "contour": [
           {
            "colorbar": {
             "outlinewidth": 0,
             "ticks": ""
            },
            "colorscale": [
             [
              0,
              "#0d0887"
             ],
             [
              0.1111111111111111,
              "#46039f"
             ],
             [
              0.2222222222222222,
              "#7201a8"
             ],
             [
              0.3333333333333333,
              "#9c179e"
             ],
             [
              0.4444444444444444,
              "#bd3786"
             ],
             [
              0.5555555555555556,
              "#d8576b"
             ],
             [
              0.6666666666666666,
              "#ed7953"
             ],
             [
              0.7777777777777778,
              "#fb9f3a"
             ],
             [
              0.8888888888888888,
              "#fdca26"
             ],
             [
              1,
              "#f0f921"
             ]
            ],
            "type": "contour"
           }
          ],
          "contourcarpet": [
           {
            "colorbar": {
             "outlinewidth": 0,
             "ticks": ""
            },
            "type": "contourcarpet"
           }
          ],
          "heatmap": [
           {
            "colorbar": {
             "outlinewidth": 0,
             "ticks": ""
            },
            "colorscale": [
             [
              0,
              "#0d0887"
             ],
             [
              0.1111111111111111,
              "#46039f"
             ],
             [
              0.2222222222222222,
              "#7201a8"
             ],
             [
              0.3333333333333333,
              "#9c179e"
             ],
             [
              0.4444444444444444,
              "#bd3786"
             ],
             [
              0.5555555555555556,
              "#d8576b"
             ],
             [
              0.6666666666666666,
              "#ed7953"
             ],
             [
              0.7777777777777778,
              "#fb9f3a"
             ],
             [
              0.8888888888888888,
              "#fdca26"
             ],
             [
              1,
              "#f0f921"
             ]
            ],
            "type": "heatmap"
           }
          ],
          "heatmapgl": [
           {
            "colorbar": {
             "outlinewidth": 0,
             "ticks": ""
            },
            "colorscale": [
             [
              0,
              "#0d0887"
             ],
             [
              0.1111111111111111,
              "#46039f"
             ],
             [
              0.2222222222222222,
              "#7201a8"
             ],
             [
              0.3333333333333333,
              "#9c179e"
             ],
             [
              0.4444444444444444,
              "#bd3786"
             ],
             [
              0.5555555555555556,
              "#d8576b"
             ],
             [
              0.6666666666666666,
              "#ed7953"
             ],
             [
              0.7777777777777778,
              "#fb9f3a"
             ],
             [
              0.8888888888888888,
              "#fdca26"
             ],
             [
              1,
              "#f0f921"
             ]
            ],
            "type": "heatmapgl"
           }
          ],
          "histogram": [
           {
            "marker": {
             "colorbar": {
              "outlinewidth": 0,
              "ticks": ""
             }
            },
            "type": "histogram"
           }
          ],
          "histogram2d": [
           {
            "colorbar": {
             "outlinewidth": 0,
             "ticks": ""
            },
            "colorscale": [
             [
              0,
              "#0d0887"
             ],
             [
              0.1111111111111111,
              "#46039f"
             ],
             [
              0.2222222222222222,
              "#7201a8"
             ],
             [
              0.3333333333333333,
              "#9c179e"
             ],
             [
              0.4444444444444444,
              "#bd3786"
             ],
             [
              0.5555555555555556,
              "#d8576b"
             ],
             [
              0.6666666666666666,
              "#ed7953"
             ],
             [
              0.7777777777777778,
              "#fb9f3a"
             ],
             [
              0.8888888888888888,
              "#fdca26"
             ],
             [
              1,
              "#f0f921"
             ]
            ],
            "type": "histogram2d"
           }
          ],
          "histogram2dcontour": [
           {
            "colorbar": {
             "outlinewidth": 0,
             "ticks": ""
            },
            "colorscale": [
             [
              0,
              "#0d0887"
             ],
             [
              0.1111111111111111,
              "#46039f"
             ],
             [
              0.2222222222222222,
              "#7201a8"
             ],
             [
              0.3333333333333333,
              "#9c179e"
             ],
             [
              0.4444444444444444,
              "#bd3786"
             ],
             [
              0.5555555555555556,
              "#d8576b"
             ],
             [
              0.6666666666666666,
              "#ed7953"
             ],
             [
              0.7777777777777778,
              "#fb9f3a"
             ],
             [
              0.8888888888888888,
              "#fdca26"
             ],
             [
              1,
              "#f0f921"
             ]
            ],
            "type": "histogram2dcontour"
           }
          ],
          "mesh3d": [
           {
            "colorbar": {
             "outlinewidth": 0,
             "ticks": ""
            },
            "type": "mesh3d"
           }
          ],
          "parcoords": [
           {
            "line": {
             "colorbar": {
              "outlinewidth": 0,
              "ticks": ""
             }
            },
            "type": "parcoords"
           }
          ],
          "pie": [
           {
            "automargin": true,
            "type": "pie"
           }
          ],
          "scatter": [
           {
            "marker": {
             "colorbar": {
              "outlinewidth": 0,
              "ticks": ""
             }
            },
            "type": "scatter"
           }
          ],
          "scatter3d": [
           {
            "line": {
             "colorbar": {
              "outlinewidth": 0,
              "ticks": ""
             }
            },
            "marker": {
             "colorbar": {
              "outlinewidth": 0,
              "ticks": ""
             }
            },
            "type": "scatter3d"
           }
          ],
          "scattercarpet": [
           {
            "marker": {
             "colorbar": {
              "outlinewidth": 0,
              "ticks": ""
             }
            },
            "type": "scattercarpet"
           }
          ],
          "scattergeo": [
           {
            "marker": {
             "colorbar": {
              "outlinewidth": 0,
              "ticks": ""
             }
            },
            "type": "scattergeo"
           }
          ],
          "scattergl": [
           {
            "marker": {
             "colorbar": {
              "outlinewidth": 0,
              "ticks": ""
             }
            },
            "type": "scattergl"
           }
          ],
          "scattermapbox": [
           {
            "marker": {
             "colorbar": {
              "outlinewidth": 0,
              "ticks": ""
             }
            },
            "type": "scattermapbox"
           }
          ],
          "scatterpolar": [
           {
            "marker": {
             "colorbar": {
              "outlinewidth": 0,
              "ticks": ""
             }
            },
            "type": "scatterpolar"
           }
          ],
          "scatterpolargl": [
           {
            "marker": {
             "colorbar": {
              "outlinewidth": 0,
              "ticks": ""
             }
            },
            "type": "scatterpolargl"
           }
          ],
          "scatterternary": [
           {
            "marker": {
             "colorbar": {
              "outlinewidth": 0,
              "ticks": ""
             }
            },
            "type": "scatterternary"
           }
          ],
          "surface": [
           {
            "colorbar": {
             "outlinewidth": 0,
             "ticks": ""
            },
            "colorscale": [
             [
              0,
              "#0d0887"
             ],
             [
              0.1111111111111111,
              "#46039f"
             ],
             [
              0.2222222222222222,
              "#7201a8"
             ],
             [
              0.3333333333333333,
              "#9c179e"
             ],
             [
              0.4444444444444444,
              "#bd3786"
             ],
             [
              0.5555555555555556,
              "#d8576b"
             ],
             [
              0.6666666666666666,
              "#ed7953"
             ],
             [
              0.7777777777777778,
              "#fb9f3a"
             ],
             [
              0.8888888888888888,
              "#fdca26"
             ],
             [
              1,
              "#f0f921"
             ]
            ],
            "type": "surface"
           }
          ],
          "table": [
           {
            "cells": {
             "fill": {
              "color": "#EBF0F8"
             },
             "line": {
              "color": "white"
             }
            },
            "header": {
             "fill": {
              "color": "#C8D4E3"
             },
             "line": {
              "color": "white"
             }
            },
            "type": "table"
           }
          ]
         },
         "layout": {
          "annotationdefaults": {
           "arrowcolor": "#2a3f5f",
           "arrowhead": 0,
           "arrowwidth": 1
          },
          "coloraxis": {
           "colorbar": {
            "outlinewidth": 0,
            "ticks": ""
           }
          },
          "colorscale": {
           "diverging": [
            [
             0,
             "#8e0152"
            ],
            [
             0.1,
             "#c51b7d"
            ],
            [
             0.2,
             "#de77ae"
            ],
            [
             0.3,
             "#f1b6da"
            ],
            [
             0.4,
             "#fde0ef"
            ],
            [
             0.5,
             "#f7f7f7"
            ],
            [
             0.6,
             "#e6f5d0"
            ],
            [
             0.7,
             "#b8e186"
            ],
            [
             0.8,
             "#7fbc41"
            ],
            [
             0.9,
             "#4d9221"
            ],
            [
             1,
             "#276419"
            ]
           ],
           "sequential": [
            [
             0,
             "#0d0887"
            ],
            [
             0.1111111111111111,
             "#46039f"
            ],
            [
             0.2222222222222222,
             "#7201a8"
            ],
            [
             0.3333333333333333,
             "#9c179e"
            ],
            [
             0.4444444444444444,
             "#bd3786"
            ],
            [
             0.5555555555555556,
             "#d8576b"
            ],
            [
             0.6666666666666666,
             "#ed7953"
            ],
            [
             0.7777777777777778,
             "#fb9f3a"
            ],
            [
             0.8888888888888888,
             "#fdca26"
            ],
            [
             1,
             "#f0f921"
            ]
           ],
           "sequentialminus": [
            [
             0,
             "#0d0887"
            ],
            [
             0.1111111111111111,
             "#46039f"
            ],
            [
             0.2222222222222222,
             "#7201a8"
            ],
            [
             0.3333333333333333,
             "#9c179e"
            ],
            [
             0.4444444444444444,
             "#bd3786"
            ],
            [
             0.5555555555555556,
             "#d8576b"
            ],
            [
             0.6666666666666666,
             "#ed7953"
            ],
            [
             0.7777777777777778,
             "#fb9f3a"
            ],
            [
             0.8888888888888888,
             "#fdca26"
            ],
            [
             1,
             "#f0f921"
            ]
           ]
          },
          "colorway": [
           "#636efa",
           "#EF553B",
           "#00cc96",
           "#ab63fa",
           "#FFA15A",
           "#19d3f3",
           "#FF6692",
           "#B6E880",
           "#FF97FF",
           "#FECB52"
          ],
          "font": {
           "color": "#2a3f5f"
          },
          "geo": {
           "bgcolor": "white",
           "lakecolor": "white",
           "landcolor": "#E5ECF6",
           "showlakes": true,
           "showland": true,
           "subunitcolor": "white"
          },
          "hoverlabel": {
           "align": "left"
          },
          "hovermode": "closest",
          "mapbox": {
           "style": "light"
          },
          "paper_bgcolor": "white",
          "plot_bgcolor": "#E5ECF6",
          "polar": {
           "angularaxis": {
            "gridcolor": "white",
            "linecolor": "white",
            "ticks": ""
           },
           "bgcolor": "#E5ECF6",
           "radialaxis": {
            "gridcolor": "white",
            "linecolor": "white",
            "ticks": ""
           }
          },
          "scene": {
           "xaxis": {
            "backgroundcolor": "#E5ECF6",
            "gridcolor": "white",
            "gridwidth": 2,
            "linecolor": "white",
            "showbackground": true,
            "ticks": "",
            "zerolinecolor": "white"
           },
           "yaxis": {
            "backgroundcolor": "#E5ECF6",
            "gridcolor": "white",
            "gridwidth": 2,
            "linecolor": "white",
            "showbackground": true,
            "ticks": "",
            "zerolinecolor": "white"
           },
           "zaxis": {
            "backgroundcolor": "#E5ECF6",
            "gridcolor": "white",
            "gridwidth": 2,
            "linecolor": "white",
            "showbackground": true,
            "ticks": "",
            "zerolinecolor": "white"
           }
          },
          "shapedefaults": {
           "line": {
            "color": "#2a3f5f"
           }
          },
          "ternary": {
           "aaxis": {
            "gridcolor": "white",
            "linecolor": "white",
            "ticks": ""
           },
           "baxis": {
            "gridcolor": "white",
            "linecolor": "white",
            "ticks": ""
           },
           "bgcolor": "#E5ECF6",
           "caxis": {
            "gridcolor": "white",
            "linecolor": "white",
            "ticks": ""
           }
          },
          "title": {
           "x": 0.05
          },
          "xaxis": {
           "automargin": true,
           "gridcolor": "white",
           "linecolor": "white",
           "ticks": "",
           "title": {
            "standoff": 15
           },
           "zerolinecolor": "white",
           "zerolinewidth": 2
          },
          "yaxis": {
           "automargin": true,
           "gridcolor": "white",
           "linecolor": "white",
           "ticks": "",
           "title": {
            "standoff": 15
           },
           "zerolinecolor": "white",
           "zerolinewidth": 2
          }
         }
        },
        "title": {
         "text": "Average error using RP, SRP and PCA(SVD) "
        },
        "width": 800,
        "xaxis": {
         "dtick": 50,
         "title": {
          "text": "Reduced dimension"
         }
        },
        "yaxis": {
         "dtick": 0.05,
         "title": {
          "text": "Error"
         }
        }
       }
      }
     },
     "metadata": {}
    }
   ],
   "source": [
    "fig = go.Figure()\n",
    "\n",
    "ks = np.arange(1, 700, avg)\n",
    "fig.add_trace(go.Scatter(x=ks, y=p_diff, name=\"SVD\", marker_symbol=\"circle\", mode=\"markers\"))\n",
    "fig.add_trace(go.Scatter(x=ks, y=r_diff, name=\"RP\", marker_symbol=\"cross\", mode=\"markers\"))\n",
    "fig.add_trace(go.Scatter(x=ks, y=sr_diff, name=\"SRP\", marker_symbol=\"diamond\", mode=\"markers\"))\n",
    "\n",
    "# fig.add_trace(go.Scatter(x=list(ks)+list(ks[::-1]), y=list(p_min)+list(p_max[::-1]), fill=\"toself\", fillcolor='rgba(0,255,0,0.2)', line=dict(color='rgba(255,255,255,0)'), hoverinfo=\"skip\", showlegend=False))\n",
    "\n",
    "# fig.add_trace(go.Scatter(x=list(ks)+list(ks[::-1]), y=list(r_min)+list(r_max[::-1]), fill=\"toself\", fillcolor='rgba(0,0,255,0.2)', line=dict(color='rgba(255,255,255,0)'), hoverinfo=\"skip\", showlegend=False))\n",
    "\n",
    "# fig.add_trace(go.Scatter(x=list(ks)+list(ks[::-1]), y=list(sr_min)+list(sr_max[::-1]), fill=\"toself\", fillcolor='rgba(100,100,100,0.2)', line=dict(color='rgba(255,255,255,0)'), hoverinfo=\"skip\", showlegend=False))\n",
    "\n",
    "fig.update_layout(\n",
    "    title_text=\"Average error using RP, SRP and PCA(SVD) \" ,\n",
    "    width=800,\n",
    ")\n",
    "\n",
    "fig.update_xaxes(title_text='Reduced dimension', dtick=50)\n",
    "fig.update_yaxes(title_text='Error', dtick=0.05)\n",
    "\n",
    "fig.show()"
   ]
  },
  {
   "source": [
    "# Testing on twitter data"
   ],
   "cell_type": "markdown",
   "metadata": {}
  },
  {
   "cell_type": "code",
   "execution_count": 22,
   "metadata": {},
   "outputs": [],
   "source": [
    "twitter = pd.read_csv(\"../data/Twitter/training.1600000.processed.noemoticon.csv\", encoding='latin-1')\n",
    "cols = twitter.columns"
   ]
  },
  {
   "cell_type": "code",
   "execution_count": 23,
   "metadata": {},
   "outputs": [],
   "source": [
    "docs = [normalize(doc) for doc in twitter[cols[-1]]]"
   ]
  },
  {
   "source": [
    "dictionary = corpora.Dictionary(docs)\n",
    "corpus = [dictionary.doc2bow(doc) for doc in docs]\n",
    "\n",
    "D = len(dictionary)\n",
    "N = len(docs)\n",
    "\n"
   ],
   "cell_type": "code",
   "metadata": {},
   "execution_count": 24,
   "outputs": []
  },
  {
   "cell_type": "code",
   "execution_count": 25,
   "metadata": {},
   "outputs": [],
   "source": [
    "bow = np.zeros((N, D), dtype=np.float32)\n",
    "for i in range(N):\n",
    "    for j, f in corpus[i]:\n",
    "        bow[i, j] = f"
   ]
  },
  {
   "cell_type": "code",
   "execution_count": 26,
   "metadata": {},
   "outputs": [],
   "source": [
    "nor = np.linalg.norm(bow, axis=1, keepdims=True)\n",
    "nor[nor[:,0]==0] = 1\n",
    "\n",
    "bow = bow / nor\n",
    "\n"
   ]
  },
  {
   "cell_type": "code",
   "execution_count": 27,
   "metadata": {},
   "outputs": [],
   "source": [
    "\n",
    "bow2 = bow[:, :10000]\n",
    "dict2 = txt(N, bow2, np.arange(1, 700))"
   ]
  },
  {
   "cell_type": "code",
   "execution_count": null,
   "metadata": {},
   "outputs": [],
   "source": [
    "_, p1 = scipy.stats.mannwhitneyu(dict2[\"pca\"][0],dict1[\"rp\"][0])\n",
    "_, p2 = scipy.stats.mannwhitneyu(dict2[\"pca\"][0],dict1[\"srp\"][0])\n",
    "_, p3 = scipy.stats.mannwhitneyu(dict2[\"dct\"][0],dict1[\"rp\"][0])\n",
    "_, p4 = scipy.stats.mannwhitneyu(dict2[\"dct\"][0],dict1[\"srp\"][0])\n",
    "\n",
    "print(p1)\n",
    "print(p2)\n",
    "print(p3)\n",
    "print(p4)"
   ]
  },
  {
   "cell_type": "code",
   "execution_count": 28,
   "metadata": {},
   "outputs": [],
   "source": [
    "avg = 20\n",
    "\n",
    "p_diff = np.nan_to_num(dict2[\"pca\"][0],0)\n",
    "r_diff = np.nan_to_num(dict2[\"rp\"][0],0)\n",
    "sr_diff = np.nan_to_num(dict2[\"srp\"][0],0)\n",
    "\n",
    "p_min = np.nan_to_num(dict2[\"pca\"][1],0)\n",
    "r_min = np.nan_to_num(dict2[\"rp\"][1],0)\n",
    "sr_min = np.nan_to_num(dict2[\"srp\"][1],0)\n",
    "\n",
    "p_max = np.nan_to_num(dict2[\"pca\"][2],0)\n",
    "r_max = np.nan_to_num(dict2[\"rp\"][2],0)\n",
    "sr_max = np.nan_to_num(dict2[\"srp\"][2],0)\n",
    "\n",
    "p_time = dict2[\"pca\"][3]\n",
    "r_time = dict2[\"rp\"][3]\n",
    "sr_time = dict2[\"srp\"][3]\n",
    "\n",
    "p_diff = [np.mean(p_diff[i:i+avg]) for i in range(0, len(p_diff), avg)] \n",
    "r_diff = [np.mean(r_diff[i:i+avg]) for i in range(0, len(r_diff), avg)] \n",
    "sr_diff = [np.mean(sr_diff[i:i+avg]) for i in range(0, len(sr_diff), avg)] \n",
    "\n",
    "p_min = [np.mean(p_min[i:i+avg]) for i in range(0, len(p_min), avg)] \n",
    "r_min = [np.mean(r_min[i:i+avg]) for i in range(0, len(r_min), avg)] \n",
    "sr_min = [np.mean(sr_min[i:i+avg]) for i in range(0, len(sr_min), avg)] \n",
    "\n",
    "p_max = [np.mean(p_max[i:i+avg]) for i in range(0, len(p_max), avg)] \n",
    "r_max = [np.mean(r_max[i:i+avg]) for i in range(0, len(r_max), avg)] \n",
    "sr_max = [np.mean(sr_max[i:i+avg]) for i in range(0, len(sr_max), avg)] \n",
    "\n",
    "\n",
    "p_time = [np.mean(p_time[i:i+avg]) for i in range(0, len(p_time), avg)] \n",
    "r_time= [np.mean(r_time[i:i+avg]) for i in range(0, len(r_time), avg)] \n",
    "sr_time = [np.mean(sr_time[i:i+avg]) for i in range(0, len(sr_time), avg)] \n",
    "\n",
    "\n"
   ]
  },
  {
   "cell_type": "code",
   "execution_count": 30,
   "metadata": {},
   "outputs": [
    {
     "output_type": "display_data",
     "data": {
      "application/vnd.plotly.v1+json": {
       "config": {
        "plotlyServerURL": "https://plot.ly"
       },
       "data": [
        {
         "marker": {
          "symbol": "circle"
         },
         "mode": "markers",
         "name": "SVD",
         "type": "scatter",
         "x": [
          1,
          21,
          41,
          61,
          81,
          101,
          121,
          141,
          161,
          181,
          201,
          221,
          241,
          261,
          281,
          301,
          321,
          341,
          361,
          381,
          401,
          421,
          441,
          461,
          481,
          501,
          521,
          541,
          561,
          581,
          601,
          621,
          641,
          661,
          681
         ],
         "y": [
          0.12488238513469696,
          0.03316894918680191,
          0.02518661692738533,
          0.013117281720042229,
          0.0016856251750141382,
          7.450580596923828e-9,
          7.450580596923828e-9,
          7.450580596923828e-9,
          9.499490083442197e-9,
          7.63684493421124e-9,
          7.450580596923828e-9,
          7.450580596923828e-9,
          7.450580596923828e-9,
          7.450580596923828e-9,
          7.450580596923828e-9,
          7.450580596923828e-9,
          7.450580596923828e-9,
          7.450580596923828e-9,
          7.450580596923828e-9,
          7.450580596923828e-9,
          7.450580596923828e-9,
          7.450580596923828e-9,
          7.450580596923828e-9,
          7.450580596923828e-9,
          7.450580596923828e-9,
          7.450580596923828e-9,
          7.450580596923828e-9,
          7.450580596923828e-9,
          7.450580596923828e-9,
          7.450580596923828e-9,
          7.450580596923828e-9,
          7.450580596923828e-9,
          7.450580596923828e-9,
          7.450580596923828e-9,
          7.450580596923828e-9
         ]
        },
        {
         "marker": {
          "symbol": "cross"
         },
         "mode": "markers",
         "name": "RP",
         "type": "scatter",
         "x": [
          1,
          21,
          41,
          61,
          81,
          101,
          121,
          141,
          161,
          181,
          201,
          221,
          241,
          261,
          281,
          301,
          321,
          341,
          361,
          381,
          401,
          421,
          441,
          461,
          481,
          501,
          521,
          541,
          561,
          581,
          601,
          621,
          641,
          661,
          681
         ],
         "y": [
          -0.003096946125922439,
          -0.005911766602828453,
          -0.007489509232804085,
          0.0036930750609795045,
          -0.005188155502211184,
          0.00017135955677212745,
          0.002222285574124059,
          0.003123636143302389,
          0.000009500628369380274,
          0.0003745270054187516,
          0.004723375761370598,
          -0.0008248697819400269,
          -0.0012377739610830631,
          0.002948379433586685,
          -0.00040965221349528735,
          -0.0015669480463536786,
          -0.00027570389294097276,
          -0.002666787210927675,
          0.002063363527844097,
          -0.0020444994767577444,
          0.0003549813597418808,
          -0.00345740556782295,
          0.0009935793513211751,
          -0.0006047777757549524,
          0.002544087798389612,
          -0.00035406883247701866,
          0.0013562893630446934,
          -0.000029654006833794606,
          0.00026392368849532786,
          -0.0005425718218646406,
          -0.0006752226345146875,
          -0.0005906360697783587,
          -0.0010555689141118888,
          0.0007805180021058438,
          -0.001814023438458091
         ]
        },
        {
         "marker": {
          "symbol": "diamond"
         },
         "mode": "markers",
         "name": "SRP",
         "type": "scatter",
         "x": [
          1,
          21,
          41,
          61,
          81,
          101,
          121,
          141,
          161,
          181,
          201,
          221,
          241,
          261,
          281,
          301,
          321,
          341,
          361,
          381,
          401,
          421,
          441,
          461,
          481,
          501,
          521,
          541,
          561,
          581,
          601,
          621,
          641,
          661,
          681
         ],
         "y": [
          -0.025304949967592565,
          -0.010555564791825123,
          -0.00834270605889052,
          -0.005944742291657627,
          0.0023960410716057663,
          0.001146286660283808,
          -0.004563846387119079,
          0.004338987865929522,
          -0.0035975940912581017,
          -0.00656810164880393,
          -0.0019040361078389012,
          -0.005981188302226041,
          0.0031849914089924574,
          -0.003146439322945396,
          0.0020130431715452406,
          0.001142796548884629,
          -0.0019315682640642195,
          -0.0009695537760794949,
          0.0028125245094031154,
          -0.0013249862509352767,
          -0.001178814357805235,
          -0.0014895301461177555,
          0.0027931773975197177,
          0.0003143490971794515,
          -0.002996604518622194,
          0.0021662512252971174,
          -0.00015580024717847131,
          0.0012228073218583202,
          -0.00025043781726842416,
          -0.0003821250685265929,
          -0.000951868100635437,
          0.002027234212110207,
          0.002355247059213006,
          0.0031430980137438433,
          -0.002574883382699024
         ]
        },
        {
         "fill": "toself",
         "fillcolor": "rgba(0,255,0,0.2)",
         "hoverinfo": "skip",
         "line": {
          "color": "rgba(255,255,255,0)"
         },
         "showlegend": false,
         "type": "scatter",
         "x": [
          1,
          21,
          41,
          61,
          81,
          101,
          121,
          141,
          161,
          181,
          201,
          221,
          241,
          261,
          281,
          301,
          321,
          341,
          361,
          381,
          401,
          421,
          441,
          461,
          481,
          501,
          521,
          541,
          561,
          581,
          601,
          621,
          641,
          661,
          681,
          681,
          661,
          641,
          621,
          601,
          581,
          561,
          541,
          521,
          501,
          481,
          461,
          441,
          421,
          401,
          381,
          361,
          341,
          321,
          301,
          281,
          261,
          241,
          221,
          201,
          181,
          161,
          141,
          121,
          101,
          81,
          61,
          41,
          21,
          1
         ],
         "y": [
          0.029070116929963908,
          -0.0264927220056208,
          -0.022216166803374276,
          -0.026189754699181,
          -0.02607690279005952,
          -0.025803659532681496,
          -0.025803659532681496,
          -0.025803659532681496,
          -0.02580365748377183,
          -0.025803659346416978,
          -0.025803659532681496,
          -0.025803659532681496,
          -0.025803659532681496,
          -0.025803659532681496,
          -0.025803659532681496,
          -0.025803659532681496,
          -0.025803659532681496,
          -0.025803659532681496,
          -0.025803659532681496,
          -0.025803659532681496,
          -0.025803659532681496,
          -0.025803659532681496,
          -0.025803659532681496,
          -0.025803659532681496,
          -0.025803659532681496,
          -0.025803659532681496,
          -0.025803659532681496,
          -0.025803659532681496,
          -0.025803659532681496,
          -0.025803659532681496,
          -0.025803659532681496,
          -0.025803659532681496,
          -0.025803659532681496,
          -0.025803659532681496,
          -0.025803659532681496,
          0.02580367443384269,
          0.02580367443384269,
          0.02580367443384269,
          0.02580367443384269,
          0.02580367443384269,
          0.02580367443384269,
          0.02580367443384269,
          0.02580367443384269,
          0.02580367443384269,
          0.02580367443384269,
          0.02580367443384269,
          0.02580367443384269,
          0.02580367443384269,
          0.02580367443384269,
          0.02580367443384269,
          0.02580367443384269,
          0.02580367443384269,
          0.02580367443384269,
          0.02580367443384269,
          0.02580367443384269,
          0.02580367443384269,
          0.02580367443384269,
          0.02580367443384269,
          0.02580367443384269,
          0.02580367443384269,
          0.025803674620107204,
          0.025803676482752353,
          0.02580367443384269,
          0.02580367443384269,
          0.02580367443384269,
          0.029448153046955538,
          0.05242431962938158,
          0.0725894002856159,
          0.09283061069346987,
          0.22069466004495256
         ]
        },
        {
         "fill": "toself",
         "fillcolor": "rgba(0,0,255,0.2)",
         "hoverinfo": "skip",
         "line": {
          "color": "rgba(255,255,255,0)"
         },
         "showlegend": false,
         "type": "scatter",
         "x": [
          1,
          21,
          41,
          61,
          81,
          101,
          121,
          141,
          161,
          181,
          201,
          221,
          241,
          261,
          281,
          301,
          321,
          341,
          361,
          381,
          401,
          421,
          441,
          461,
          481,
          501,
          521,
          541,
          561,
          581,
          601,
          621,
          641,
          661,
          681,
          681,
          661,
          641,
          621,
          601,
          581,
          561,
          541,
          521,
          501,
          481,
          461,
          441,
          421,
          401,
          381,
          361,
          341,
          321,
          301,
          281,
          261,
          241,
          221,
          201,
          181,
          161,
          141,
          121,
          101,
          81,
          61,
          41,
          21,
          1
         ],
         "y": [
          -0.1144205385042824,
          -0.061612850568558995,
          -0.054132708581859354,
          -0.03823681264739254,
          -0.045449010556434445,
          -0.03486576620577998,
          -0.0324379264940806,
          -0.0309888372759201,
          -0.03420740462173064,
          -0.03266739954793345,
          -0.027172731103994752,
          -0.0319053331002097,
          -0.033028431903916786,
          -0.026915180596492127,
          -0.03150802007910143,
          -0.0320084842770398,
          -0.030008752657980226,
          -0.03271805400280996,
          -0.02737395162918941,
          -0.03199973595678658,
          -0.029301302991916477,
          -0.032040906332285304,
          -0.02781138688415638,
          -0.02926620946230405,
          -0.026316530460785786,
          -0.028782254957996568,
          -0.027173365066127313,
          -0.02830061822781501,
          -0.02782321623184872,
          -0.028277942548675338,
          -0.029098492353791677,
          -0.028237743688579044,
          -0.029234395827480726,
          -0.026989832921963886,
          -0.029300954895601146,
          0.025672908018684965,
          0.02855086892617557,
          0.027123257999256946,
          0.027056471549022333,
          0.027748047084762306,
          0.027192798904946063,
          0.02835106360883937,
          0.02824131021414742,
          0.0298859437922167,
          0.028074117293042534,
          0.031404706057565006,
          0.02805665391079414,
          0.02979854558679873,
          0.025126095196639404,
          0.030011265711400247,
          0.027910737003271097,
          0.03150067868487762,
          0.027384479580954597,
          0.02945734487209828,
          0.028874588184332438,
          0.030688715652110864,
          0.03281193946366549,
          0.030552883981750663,
          0.03025559353632965,
          0.03661948262673596,
          0.033416453558770945,
          0.0342264058784694,
          0.03723610956252488,
          0.036882497642328725,
          0.03520848531932424,
          0.035072699552012074,
          0.04562296276935155,
          0.03915369011625119,
          0.04978931736290209,
          0.10822664625243754
         ]
        },
        {
         "fill": "toself",
         "fillcolor": "rgba(100,100,100,0.2)",
         "hoverinfo": "skip",
         "line": {
          "color": "rgba(255,255,255,0)"
         },
         "showlegend": false,
         "type": "scatter",
         "x": [
          1,
          21,
          41,
          61,
          81,
          101,
          121,
          141,
          161,
          181,
          201,
          221,
          241,
          261,
          281,
          301,
          321,
          341,
          361,
          381,
          401,
          421,
          441,
          461,
          481,
          501,
          521,
          541,
          561,
          581,
          601,
          621,
          641,
          661,
          681,
          681,
          661,
          641,
          621,
          601,
          581,
          561,
          541,
          521,
          501,
          481,
          461,
          441,
          421,
          401,
          381,
          361,
          341,
          321,
          301,
          281,
          261,
          241,
          221,
          201,
          181,
          161,
          141,
          121,
          101,
          81,
          61,
          41,
          21,
          1
         ],
         "y": [
          -0.0639929429790923,
          -0.060068594261380934,
          -0.051909987332087314,
          -0.04753550062386803,
          -0.0407316441256665,
          -0.035557693528515046,
          -0.0415172863322834,
          -0.03289035867880834,
          -0.038329900693613486,
          -0.03677904403490062,
          -0.032986061494743014,
          -0.03586275391405134,
          -0.03010191703525445,
          -0.03318124788403802,
          -0.032922027248060724,
          -0.030738184423712532,
          -0.031372478079475456,
          -0.034826639798984385,
          -0.02654976442462434,
          -0.02907171739418641,
          -0.029915265254069533,
          -0.03229258321403623,
          -0.029404127178286887,
          -0.030801055126617582,
          -0.03165260213795906,
          -0.028867740974832495,
          -0.028595990666542503,
          -0.028195205999961153,
          -0.02826239862138628,
          -0.02691295866980815,
          -0.029654509111064563,
          -0.02818981549203269,
          -0.02775982538922328,
          -0.025939013043334524,
          -0.030190194074845588,
          0.025040427309447544,
          0.03222520907082222,
          0.03247031950764929,
          0.0322442839162531,
          0.02775077290979369,
          0.026148708532754965,
          0.02776152298684943,
          0.03064082064367779,
          0.02828439017218557,
          0.033200243425426726,
          0.02565939310071468,
          0.031429753320976486,
          0.034990481973326326,
          0.029313522921800717,
          0.027557636538459062,
          0.02642174489231585,
          0.032174813443430574,
          0.0328875322468254,
          0.027509341551347023,
          0.03302377752148179,
          0.0369481135911512,
          0.026888369238147226,
          0.036471899853239356,
          0.023900377309599256,
          0.029177989279065213,
          0.023642840737292767,
          0.031134712511097284,
          0.04156833441066738,
          0.03238959355804526,
          0.037850266849082666,
          0.04552372626887804,
          0.03564601604055277,
          0.035224575214306275,
          0.038957464677730695,
          0.013383043043907156
         ]
        }
       ],
       "layout": {
        "template": {
         "data": {
          "bar": [
           {
            "error_x": {
             "color": "#2a3f5f"
            },
            "error_y": {
             "color": "#2a3f5f"
            },
            "marker": {
             "line": {
              "color": "#E5ECF6",
              "width": 0.5
             }
            },
            "type": "bar"
           }
          ],
          "barpolar": [
           {
            "marker": {
             "line": {
              "color": "#E5ECF6",
              "width": 0.5
             }
            },
            "type": "barpolar"
           }
          ],
          "carpet": [
           {
            "aaxis": {
             "endlinecolor": "#2a3f5f",
             "gridcolor": "white",
             "linecolor": "white",
             "minorgridcolor": "white",
             "startlinecolor": "#2a3f5f"
            },
            "baxis": {
             "endlinecolor": "#2a3f5f",
             "gridcolor": "white",
             "linecolor": "white",
             "minorgridcolor": "white",
             "startlinecolor": "#2a3f5f"
            },
            "type": "carpet"
           }
          ],
          "choropleth": [
           {
            "colorbar": {
             "outlinewidth": 0,
             "ticks": ""
            },
            "type": "choropleth"
           }
          ],
          "contour": [
           {
            "colorbar": {
             "outlinewidth": 0,
             "ticks": ""
            },
            "colorscale": [
             [
              0,
              "#0d0887"
             ],
             [
              0.1111111111111111,
              "#46039f"
             ],
             [
              0.2222222222222222,
              "#7201a8"
             ],
             [
              0.3333333333333333,
              "#9c179e"
             ],
             [
              0.4444444444444444,
              "#bd3786"
             ],
             [
              0.5555555555555556,
              "#d8576b"
             ],
             [
              0.6666666666666666,
              "#ed7953"
             ],
             [
              0.7777777777777778,
              "#fb9f3a"
             ],
             [
              0.8888888888888888,
              "#fdca26"
             ],
             [
              1,
              "#f0f921"
             ]
            ],
            "type": "contour"
           }
          ],
          "contourcarpet": [
           {
            "colorbar": {
             "outlinewidth": 0,
             "ticks": ""
            },
            "type": "contourcarpet"
           }
          ],
          "heatmap": [
           {
            "colorbar": {
             "outlinewidth": 0,
             "ticks": ""
            },
            "colorscale": [
             [
              0,
              "#0d0887"
             ],
             [
              0.1111111111111111,
              "#46039f"
             ],
             [
              0.2222222222222222,
              "#7201a8"
             ],
             [
              0.3333333333333333,
              "#9c179e"
             ],
             [
              0.4444444444444444,
              "#bd3786"
             ],
             [
              0.5555555555555556,
              "#d8576b"
             ],
             [
              0.6666666666666666,
              "#ed7953"
             ],
             [
              0.7777777777777778,
              "#fb9f3a"
             ],
             [
              0.8888888888888888,
              "#fdca26"
             ],
             [
              1,
              "#f0f921"
             ]
            ],
            "type": "heatmap"
           }
          ],
          "heatmapgl": [
           {
            "colorbar": {
             "outlinewidth": 0,
             "ticks": ""
            },
            "colorscale": [
             [
              0,
              "#0d0887"
             ],
             [
              0.1111111111111111,
              "#46039f"
             ],
             [
              0.2222222222222222,
              "#7201a8"
             ],
             [
              0.3333333333333333,
              "#9c179e"
             ],
             [
              0.4444444444444444,
              "#bd3786"
             ],
             [
              0.5555555555555556,
              "#d8576b"
             ],
             [
              0.6666666666666666,
              "#ed7953"
             ],
             [
              0.7777777777777778,
              "#fb9f3a"
             ],
             [
              0.8888888888888888,
              "#fdca26"
             ],
             [
              1,
              "#f0f921"
             ]
            ],
            "type": "heatmapgl"
           }
          ],
          "histogram": [
           {
            "marker": {
             "colorbar": {
              "outlinewidth": 0,
              "ticks": ""
             }
            },
            "type": "histogram"
           }
          ],
          "histogram2d": [
           {
            "colorbar": {
             "outlinewidth": 0,
             "ticks": ""
            },
            "colorscale": [
             [
              0,
              "#0d0887"
             ],
             [
              0.1111111111111111,
              "#46039f"
             ],
             [
              0.2222222222222222,
              "#7201a8"
             ],
             [
              0.3333333333333333,
              "#9c179e"
             ],
             [
              0.4444444444444444,
              "#bd3786"
             ],
             [
              0.5555555555555556,
              "#d8576b"
             ],
             [
              0.6666666666666666,
              "#ed7953"
             ],
             [
              0.7777777777777778,
              "#fb9f3a"
             ],
             [
              0.8888888888888888,
              "#fdca26"
             ],
             [
              1,
              "#f0f921"
             ]
            ],
            "type": "histogram2d"
           }
          ],
          "histogram2dcontour": [
           {
            "colorbar": {
             "outlinewidth": 0,
             "ticks": ""
            },
            "colorscale": [
             [
              0,
              "#0d0887"
             ],
             [
              0.1111111111111111,
              "#46039f"
             ],
             [
              0.2222222222222222,
              "#7201a8"
             ],
             [
              0.3333333333333333,
              "#9c179e"
             ],
             [
              0.4444444444444444,
              "#bd3786"
             ],
             [
              0.5555555555555556,
              "#d8576b"
             ],
             [
              0.6666666666666666,
              "#ed7953"
             ],
             [
              0.7777777777777778,
              "#fb9f3a"
             ],
             [
              0.8888888888888888,
              "#fdca26"
             ],
             [
              1,
              "#f0f921"
             ]
            ],
            "type": "histogram2dcontour"
           }
          ],
          "mesh3d": [
           {
            "colorbar": {
             "outlinewidth": 0,
             "ticks": ""
            },
            "type": "mesh3d"
           }
          ],
          "parcoords": [
           {
            "line": {
             "colorbar": {
              "outlinewidth": 0,
              "ticks": ""
             }
            },
            "type": "parcoords"
           }
          ],
          "pie": [
           {
            "automargin": true,
            "type": "pie"
           }
          ],
          "scatter": [
           {
            "marker": {
             "colorbar": {
              "outlinewidth": 0,
              "ticks": ""
             }
            },
            "type": "scatter"
           }
          ],
          "scatter3d": [
           {
            "line": {
             "colorbar": {
              "outlinewidth": 0,
              "ticks": ""
             }
            },
            "marker": {
             "colorbar": {
              "outlinewidth": 0,
              "ticks": ""
             }
            },
            "type": "scatter3d"
           }
          ],
          "scattercarpet": [
           {
            "marker": {
             "colorbar": {
              "outlinewidth": 0,
              "ticks": ""
             }
            },
            "type": "scattercarpet"
           }
          ],
          "scattergeo": [
           {
            "marker": {
             "colorbar": {
              "outlinewidth": 0,
              "ticks": ""
             }
            },
            "type": "scattergeo"
           }
          ],
          "scattergl": [
           {
            "marker": {
             "colorbar": {
              "outlinewidth": 0,
              "ticks": ""
             }
            },
            "type": "scattergl"
           }
          ],
          "scattermapbox": [
           {
            "marker": {
             "colorbar": {
              "outlinewidth": 0,
              "ticks": ""
             }
            },
            "type": "scattermapbox"
           }
          ],
          "scatterpolar": [
           {
            "marker": {
             "colorbar": {
              "outlinewidth": 0,
              "ticks": ""
             }
            },
            "type": "scatterpolar"
           }
          ],
          "scatterpolargl": [
           {
            "marker": {
             "colorbar": {
              "outlinewidth": 0,
              "ticks": ""
             }
            },
            "type": "scatterpolargl"
           }
          ],
          "scatterternary": [
           {
            "marker": {
             "colorbar": {
              "outlinewidth": 0,
              "ticks": ""
             }
            },
            "type": "scatterternary"
           }
          ],
          "surface": [
           {
            "colorbar": {
             "outlinewidth": 0,
             "ticks": ""
            },
            "colorscale": [
             [
              0,
              "#0d0887"
             ],
             [
              0.1111111111111111,
              "#46039f"
             ],
             [
              0.2222222222222222,
              "#7201a8"
             ],
             [
              0.3333333333333333,
              "#9c179e"
             ],
             [
              0.4444444444444444,
              "#bd3786"
             ],
             [
              0.5555555555555556,
              "#d8576b"
             ],
             [
              0.6666666666666666,
              "#ed7953"
             ],
             [
              0.7777777777777778,
              "#fb9f3a"
             ],
             [
              0.8888888888888888,
              "#fdca26"
             ],
             [
              1,
              "#f0f921"
             ]
            ],
            "type": "surface"
           }
          ],
          "table": [
           {
            "cells": {
             "fill": {
              "color": "#EBF0F8"
             },
             "line": {
              "color": "white"
             }
            },
            "header": {
             "fill": {
              "color": "#C8D4E3"
             },
             "line": {
              "color": "white"
             }
            },
            "type": "table"
           }
          ]
         },
         "layout": {
          "annotationdefaults": {
           "arrowcolor": "#2a3f5f",
           "arrowhead": 0,
           "arrowwidth": 1
          },
          "coloraxis": {
           "colorbar": {
            "outlinewidth": 0,
            "ticks": ""
           }
          },
          "colorscale": {
           "diverging": [
            [
             0,
             "#8e0152"
            ],
            [
             0.1,
             "#c51b7d"
            ],
            [
             0.2,
             "#de77ae"
            ],
            [
             0.3,
             "#f1b6da"
            ],
            [
             0.4,
             "#fde0ef"
            ],
            [
             0.5,
             "#f7f7f7"
            ],
            [
             0.6,
             "#e6f5d0"
            ],
            [
             0.7,
             "#b8e186"
            ],
            [
             0.8,
             "#7fbc41"
            ],
            [
             0.9,
             "#4d9221"
            ],
            [
             1,
             "#276419"
            ]
           ],
           "sequential": [
            [
             0,
             "#0d0887"
            ],
            [
             0.1111111111111111,
             "#46039f"
            ],
            [
             0.2222222222222222,
             "#7201a8"
            ],
            [
             0.3333333333333333,
             "#9c179e"
            ],
            [
             0.4444444444444444,
             "#bd3786"
            ],
            [
             0.5555555555555556,
             "#d8576b"
            ],
            [
             0.6666666666666666,
             "#ed7953"
            ],
            [
             0.7777777777777778,
             "#fb9f3a"
            ],
            [
             0.8888888888888888,
             "#fdca26"
            ],
            [
             1,
             "#f0f921"
            ]
           ],
           "sequentialminus": [
            [
             0,
             "#0d0887"
            ],
            [
             0.1111111111111111,
             "#46039f"
            ],
            [
             0.2222222222222222,
             "#7201a8"
            ],
            [
             0.3333333333333333,
             "#9c179e"
            ],
            [
             0.4444444444444444,
             "#bd3786"
            ],
            [
             0.5555555555555556,
             "#d8576b"
            ],
            [
             0.6666666666666666,
             "#ed7953"
            ],
            [
             0.7777777777777778,
             "#fb9f3a"
            ],
            [
             0.8888888888888888,
             "#fdca26"
            ],
            [
             1,
             "#f0f921"
            ]
           ]
          },
          "colorway": [
           "#636efa",
           "#EF553B",
           "#00cc96",
           "#ab63fa",
           "#FFA15A",
           "#19d3f3",
           "#FF6692",
           "#B6E880",
           "#FF97FF",
           "#FECB52"
          ],
          "font": {
           "color": "#2a3f5f"
          },
          "geo": {
           "bgcolor": "white",
           "lakecolor": "white",
           "landcolor": "#E5ECF6",
           "showlakes": true,
           "showland": true,
           "subunitcolor": "white"
          },
          "hoverlabel": {
           "align": "left"
          },
          "hovermode": "closest",
          "mapbox": {
           "style": "light"
          },
          "paper_bgcolor": "white",
          "plot_bgcolor": "#E5ECF6",
          "polar": {
           "angularaxis": {
            "gridcolor": "white",
            "linecolor": "white",
            "ticks": ""
           },
           "bgcolor": "#E5ECF6",
           "radialaxis": {
            "gridcolor": "white",
            "linecolor": "white",
            "ticks": ""
           }
          },
          "scene": {
           "xaxis": {
            "backgroundcolor": "#E5ECF6",
            "gridcolor": "white",
            "gridwidth": 2,
            "linecolor": "white",
            "showbackground": true,
            "ticks": "",
            "zerolinecolor": "white"
           },
           "yaxis": {
            "backgroundcolor": "#E5ECF6",
            "gridcolor": "white",
            "gridwidth": 2,
            "linecolor": "white",
            "showbackground": true,
            "ticks": "",
            "zerolinecolor": "white"
           },
           "zaxis": {
            "backgroundcolor": "#E5ECF6",
            "gridcolor": "white",
            "gridwidth": 2,
            "linecolor": "white",
            "showbackground": true,
            "ticks": "",
            "zerolinecolor": "white"
           }
          },
          "shapedefaults": {
           "line": {
            "color": "#2a3f5f"
           }
          },
          "ternary": {
           "aaxis": {
            "gridcolor": "white",
            "linecolor": "white",
            "ticks": ""
           },
           "baxis": {
            "gridcolor": "white",
            "linecolor": "white",
            "ticks": ""
           },
           "bgcolor": "#E5ECF6",
           "caxis": {
            "gridcolor": "white",
            "linecolor": "white",
            "ticks": ""
           }
          },
          "title": {
           "x": 0.05
          },
          "xaxis": {
           "automargin": true,
           "gridcolor": "white",
           "linecolor": "white",
           "ticks": "",
           "title": {
            "standoff": 15
           },
           "zerolinecolor": "white",
           "zerolinewidth": 2
          },
          "yaxis": {
           "automargin": true,
           "gridcolor": "white",
           "linecolor": "white",
           "ticks": "",
           "title": {
            "standoff": 15
           },
           "zerolinecolor": "white",
           "zerolinewidth": 2
          }
         }
        },
        "title": {
         "text": "Average error using RP, SRP and PCA(SVD)"
        },
        "width": 800,
        "xaxis": {
         "dtick": 50,
         "title": {
          "text": "Reduced dimension"
         }
        },
        "yaxis": {
         "title": {
          "text": "Error"
         }
        }
       }
      }
     },
     "metadata": {}
    }
   ],
   "source": [
    "fig = go.Figure()\n",
    "\n",
    "ks = np.arange(1,700, avg)\n",
    "\n",
    "fig.add_trace(go.Scatter(x=ks, y=p_diff, name=\"SVD\", marker_symbol=\"circle\", mode=\"markers\"))\n",
    "fig.add_trace(go.Scatter(x=ks, y=r_diff, name=\"RP\", marker_symbol=\"cross\", mode=\"markers\"))\n",
    "fig.add_trace(go.Scatter(x=ks, y=sr_diff, name=\"SRP\", marker_symbol=\"diamond\", mode=\"markers\"))\n",
    "\n",
    "fig.add_trace(go.Scatter(x=list(ks)+list(ks[::-1]), y=list(p_min)+list(p_max[::-1]), fill=\"toself\", fillcolor='rgba(0,255,0,0.2)', line=dict(color='rgba(255,255,255,0)'), hoverinfo=\"skip\", showlegend=False))\n",
    "\n",
    "fig.add_trace(go.Scatter(x=list(ks)+list(ks[::-1]), y=list(r_min)+list(r_max[::-1]), fill=\"toself\", fillcolor='rgba(0,0,255,0.2)', line=dict(color='rgba(255,255,255,0)'), hoverinfo=\"skip\", showlegend=False))\n",
    "\n",
    "fig.add_trace(go.Scatter(x=list(ks)+list(ks[::-1]), y=list(sr_min)+list(sr_max[::-1]), fill=\"toself\", fillcolor='rgba(100,100,100,0.2)', line=dict(color='rgba(255,255,255,0)'), hoverinfo=\"skip\", showlegend=False))\n",
    "\n",
    "fig.update_layout(\n",
    "    title_text=\"Average error using RP, SRP and PCA(SVD)\" ,\n",
    "    width=800,\n",
    ")\n",
    "\n",
    "fig.update_xaxes(title_text='Reduced dimension', dtick=50)\n",
    "fig.update_yaxes(title_text='Error')\n",
    "\n",
    "fig.show()"
   ]
  },
  {
   "source": [
    "# Testing on handwriting data"
   ],
   "cell_type": "markdown",
   "metadata": {}
  },
  {
   "cell_type": "code",
   "execution_count": 16,
   "metadata": {},
   "outputs": [],
   "source": [
    "imgs = load_jpeg(N)"
   ]
  },
  {
   "cell_type": "code",
   "execution_count": 17,
   "metadata": {},
   "outputs": [],
   "source": [
    "data = [cv2.resize(cv2.imread(imgs[i], cv2.IMREAD_GRAYSCALE), dsize=(50, 125), interpolation=cv2.INTER_CUBIC) for i in range(len(imgs))]\n",
    "data = np.asarray([d.reshape(-1) for d in data])"
   ]
  },
  {
   "cell_type": "code",
   "execution_count": 18,
   "metadata": {},
   "outputs": [],
   "source": [
    "\n",
    "np.random.seed(2020)\n",
    "dict1 = cifar(N, data, np.arange(2,325))\n",
    "\n",
    "np.random.seed(20)\n",
    "dict2 = cifar(N, data, np.arange(2,325))\n",
    "\n",
    "np.random.seed(202)\n",
    "dict3 = cifar(N, data, np.arange(2,325))\n",
    "\n",
    "np.random.seed(2020)\n",
    "dict4 = cifar(N, data, np.arange(2,325))\n",
    "\n",
    "np.random.seed(20200)\n",
    "dict5 = cifar(N, data, np.arange(2,325))\n",
    "\n"
   ]
  },
  {
   "cell_type": "code",
   "execution_count": null,
   "metadata": {},
   "outputs": [],
   "source": [
    "# Average over the 5 repetitions\n",
    "dict1[\"pca\"][0] = np.mean(np.asarray([dict1[\"pca\"][0],dict2[\"pca\"][0],dict3[\"pca\"][0],dict4[\"pca\"][0],dict5[\"pca\"][0]]), axis=0)\n",
    "dict1[\"dct\"][0] = np.mean(np.asarray([dict1[\"dct\"][0],dict2[\"dct\"][0],dict3[\"dct\"][0],dict4[\"dct\"][0],dict5[\"dct\"][0]]), axis=0)\n",
    "dict1[\"rp\"][0] = np.mean(np.asarray([dict1[\"rp\"][0],dict2[\"rp\"][0],dict3[\"rp\"][0],dict4[\"rp\"][0],dict5[\"rp\"][0]]), axis=0)\n",
    "dict1[\"srp\"][0] = np.mean(np.asarray([dict1[\"srp\"][0],dict2[\"srp\"][0],dict3[\"srp\"][0],dict4[\"srp\"][0],dict5[\"srp\"][0]]), axis=0)\n"
   ]
  },
  {
   "cell_type": "code",
   "execution_count": 21,
   "metadata": {},
   "outputs": [
    {
     "output_type": "stream",
     "name": "stdout",
     "text": [
      "1.6386802704221208e-107\n"
     ]
    }
   ],
   "source": [
    "_, p1 = scipy.stats.mannwhitneyu(dict2[\"pca\"][0],dict1[\"rp\"][0])\n",
    "_, p2 = scipy.stats.mannwhitneyu(dict2[\"pca\"][0],dict1[\"srp\"][0])\n",
    "_, p3 = scipy.stats.mannwhitneyu(dict2[\"dct\"][0],dict1[\"rp\"][0])\n",
    "_, p4 = scipy.stats.mannwhitneyu(dict2[\"dct\"][0],dict1[\"srp\"][0])\n",
    "\n",
    "print(p1)\n",
    "print(p2)\n",
    "print(p3)\n",
    "print(p4)"
   ]
  },
  {
   "cell_type": "code",
   "execution_count": 20,
   "metadata": {},
   "outputs": [],
   "source": [
    "avg = 10\n",
    "\n",
    "p_diff = np.nan_to_num(dict1[\"pca\"][0],0)\n",
    "d_diff = np.nan_to_num(dict1[\"dct\"][0],0)\n",
    "r_diff = np.nan_to_num(dict1[\"rp\"][0],0)\n",
    "sr_diff = np.nan_to_num(dict1[\"srp\"][0],0)\n",
    "\n",
    "p_min = np.nan_to_num(dict1[\"pca\"][1],0)\n",
    "d_min = np.nan_to_num(dict1[\"dct\"][1],0)\n",
    "r_min = np.nan_to_num(dict1[\"rp\"][1],0)\n",
    "sr_min = np.nan_to_num(dict1[\"srp\"][1],0)\n",
    "\n",
    "p_max = np.nan_to_num(dict1[\"pca\"][2],0)\n",
    "d_max = np.nan_to_num(dict1[\"dct\"][2],0)\n",
    "r_max = np.nan_to_num(dict1[\"rp\"][2],0)\n",
    "sr_max = np.nan_to_num(dict1[\"srp\"][2],0)\n",
    "\n",
    "p_time = dict1[\"pca\"][3]\n",
    "d_time = dict1[\"dct\"][3]\n",
    "r_time = dict1[\"rp\"][3]\n",
    "sr_time = dict1[\"srp\"][3]\n",
    "\n",
    "p_diff = [np.mean(p_diff[i:i+avg]) for i in range(0, len(p_diff), avg)] \n",
    "d_diff = [np.mean(d_diff[i:i+avg]) for i in range(0, len(d_diff), avg)] \n",
    "r_diff = [np.mean(r_diff[i:i+avg]) for i in range(0, len(r_diff), avg)] \n",
    "sr_diff = [np.mean(sr_diff[i:i+avg]) for i in range(0, len(sr_diff), avg)] \n",
    "\n",
    "p_min = [np.mean(p_min[i:i+avg]) for i in range(0, len(p_min), avg)] \n",
    "d_min = [np.mean(d_min[i:i+avg]) for i in range(0, len(d_min), avg)] \n",
    "r_min = [np.mean(r_min[i:i+avg]) for i in range(0, len(r_min), avg)] \n",
    "sr_min = [np.mean(sr_min[i:i+avg]) for i in range(0, len(sr_min), avg)] \n",
    "\n",
    "p_max = [np.mean(p_max[i:i+avg]) for i in range(0, len(p_max), avg)] \n",
    "d_max = [np.mean(d_max[i:i+avg]) for i in range(0, len(d_max), avg)] \n",
    "r_max = [np.mean(r_max[i:i+avg]) for i in range(0, len(r_max), avg)] \n",
    "sr_max = [np.mean(sr_max[i:i+avg]) for i in range(0, len(sr_max), avg)] \n",
    "\n",
    "\n",
    "p_time = [np.mean(p_time[i:i+avg]) for i in range(0, len(p_time), avg)] \n",
    "d_time = [np.mean(d_time[i:i+avg]) for i in range(0, len(d_time), avg)] \n",
    "r_time= [np.mean(r_time[i:i+avg]) for i in range(0, len(r_time), avg)] \n",
    "sr_time = [np.mean(sr_time[i:i+avg]) for i in range(0, len(sr_time), avg)] \n",
    "\n",
    "\n"
   ]
  },
  {
   "cell_type": "code",
   "execution_count": 21,
   "metadata": {},
   "outputs": [
    {
     "output_type": "display_data",
     "data": {
      "application/vnd.plotly.v1+json": {
       "config": {
        "plotlyServerURL": "https://plot.ly"
       },
       "data": [
        {
         "marker": {
          "symbol": "circle"
         },
         "mode": "markers",
         "name": "PCA",
         "type": "scatter",
         "x": [
          2,
          12,
          22,
          32,
          42,
          52,
          62,
          72,
          82,
          92,
          102,
          112,
          122,
          132,
          142,
          152,
          162,
          172,
          182,
          192,
          202,
          212,
          222,
          232,
          242,
          252,
          262,
          272,
          282,
          292,
          302,
          312,
          322
         ],
         "y": [
          -2.1844118050593577,
          -1.8932190705762815,
          -1.6698693729284613,
          -1.4796093680131248,
          -1.296374655954048,
          -1.1238006944682701,
          -0.9654220418853136,
          -0.8110474016817999,
          -0.6735867958422956,
          -0.5381254214245137,
          -0.4196245804138008,
          -0.305253732927161,
          -0.1918031400358651,
          -0.0826212987960496,
          0.020369217414685375,
          0.11364301556808151,
          0.20591720124437923,
          0.29813758664552326,
          0.38907666710338573,
          0.47726746364261785,
          0.5613677032557554,
          0.6400333417940334,
          0.7165417837932795,
          0.7931547244979638,
          0.8690001693063684,
          0.9482399349437465,
          1.0204596351030009,
          1.0966978960421303,
          1.167603284087764,
          1.232496136208926,
          1.2971739827371596,
          1.364312752387251,
          1.410922947448278
         ]
        },
        {
         "marker": {
          "symbol": "square"
         },
         "mode": "markers",
         "name": "DCT",
         "type": "scatter",
         "x": [
          2,
          12,
          22,
          32,
          42,
          52,
          62,
          72,
          82,
          92,
          102,
          112,
          122,
          132,
          142,
          152,
          162,
          172,
          182,
          192,
          202,
          212,
          222,
          232,
          242,
          252,
          262,
          272,
          282,
          292,
          302,
          312,
          322
         ],
         "y": [
          4.3051110658952645,
          -0.13881200881626485,
          -0.13911591465810763,
          -0.13858001380237356,
          -0.1381566474134283,
          -0.1378733629941606,
          -0.13798746397543749,
          -0.13835251871832513,
          -0.13856456564311873,
          -0.1383998460147555,
          -0.13833941555398846,
          -0.13813240002963897,
          -0.1378282337769345,
          -0.13755722782731522,
          -0.1375437074591503,
          -0.13740310258108349,
          -0.13716707386490262,
          -0.13709893977266308,
          -0.13701865158309803,
          -0.13681174232652943,
          -0.13675039449585735,
          -0.13665894057416178,
          -0.13673981251151593,
          -0.13681816174105232,
          -0.13689252677189712,
          -0.13693757883306729,
          -0.13699749571596534,
          -0.13707660355594875,
          -0.13707534904205976,
          -0.13710574048470306,
          -0.13710886131464056,
          -0.13708182358974894,
          -0.1370831348306503
         ]
        },
        {
         "marker": {
          "symbol": "cross"
         },
         "mode": "markers",
         "name": "RP",
         "type": "scatter",
         "x": [
          2,
          12,
          22,
          32,
          42,
          52,
          62,
          72,
          82,
          92,
          102,
          112,
          122,
          132,
          142,
          152,
          162,
          172,
          182,
          192,
          202,
          212,
          222,
          232,
          242,
          252,
          262,
          272,
          282,
          292,
          302,
          312,
          322
         ],
         "y": [
          -2.1260085989350435,
          -1.6314044191125157,
          0.40534733950407914,
          -0.07905669303645133,
          -0.28284242214519945,
          0.44486537691945643,
          0.2727415201361488,
          0.16160245516056135,
          -0.32697669733220447,
          -0.24771215688170406,
          0.2984922818865513,
          0.27609699192535775,
          0.4203262800689761,
          0.17109039067726048,
          0.15115383387508396,
          0.34342959244653065,
          -0.07171277280814888,
          0.2345218907283641,
          0.25955632422436553,
          -0.016014636296718385,
          0.030756795432517935,
          -0.05359345337785426,
          0.20294010097788306,
          0.05079838915489447,
          0.0826798275306724,
          0.06177359609208092,
          0.05222854591972699,
          0.1430756439143239,
          0.22162774189695425,
          0.3350163944864409,
          0.12942985427032497,
          0.1912304271714253,
          -0.35153248163621353
         ]
        },
        {
         "marker": {
          "symbol": "diamond"
         },
         "mode": "markers",
         "name": "SRP",
         "type": "scatter",
         "x": [
          2,
          12,
          22,
          32,
          42,
          52,
          62,
          72,
          82,
          92,
          102,
          112,
          122,
          132,
          142,
          152,
          162,
          172,
          182,
          192,
          202,
          212,
          222,
          232,
          242,
          252,
          262,
          272,
          282,
          292,
          302,
          312,
          322
         ],
         "y": [
          0.7256889231488547,
          -0.6326717949921743,
          0.15761899486048853,
          -0.18286971019949544,
          0.2892320057264991,
          -0.04596128038564748,
          -0.16246431379283405,
          -0.14379371441261074,
          -0.31090382413219986,
          -0.1109712532979144,
          -0.0018010055088246214,
          0.14192281009574897,
          0.2777778107900341,
          0.1751811686347217,
          -0.13581629815785767,
          0.15988001296053972,
          -0.1519326348289534,
          0.16021385373273822,
          0.09689892553205333,
          0.19312001400094905,
          -0.08076592208156082,
          -0.026986487181719476,
          -0.1355350391189602,
          0.05542213864913141,
          -0.06258842848959245,
          -0.13397666773725314,
          -0.03132076573623975,
          -0.05883511873713167,
          -0.05577242527315542,
          0.08918446050556188,
          -0.1544679349593389,
          0.033468852123738485,
          0.21274882756919686
         ]
        }
       ],
       "layout": {
        "template": {
         "data": {
          "bar": [
           {
            "error_x": {
             "color": "#2a3f5f"
            },
            "error_y": {
             "color": "#2a3f5f"
            },
            "marker": {
             "line": {
              "color": "#E5ECF6",
              "width": 0.5
             }
            },
            "type": "bar"
           }
          ],
          "barpolar": [
           {
            "marker": {
             "line": {
              "color": "#E5ECF6",
              "width": 0.5
             }
            },
            "type": "barpolar"
           }
          ],
          "carpet": [
           {
            "aaxis": {
             "endlinecolor": "#2a3f5f",
             "gridcolor": "white",
             "linecolor": "white",
             "minorgridcolor": "white",
             "startlinecolor": "#2a3f5f"
            },
            "baxis": {
             "endlinecolor": "#2a3f5f",
             "gridcolor": "white",
             "linecolor": "white",
             "minorgridcolor": "white",
             "startlinecolor": "#2a3f5f"
            },
            "type": "carpet"
           }
          ],
          "choropleth": [
           {
            "colorbar": {
             "outlinewidth": 0,
             "ticks": ""
            },
            "type": "choropleth"
           }
          ],
          "contour": [
           {
            "colorbar": {
             "outlinewidth": 0,
             "ticks": ""
            },
            "colorscale": [
             [
              0,
              "#0d0887"
             ],
             [
              0.1111111111111111,
              "#46039f"
             ],
             [
              0.2222222222222222,
              "#7201a8"
             ],
             [
              0.3333333333333333,
              "#9c179e"
             ],
             [
              0.4444444444444444,
              "#bd3786"
             ],
             [
              0.5555555555555556,
              "#d8576b"
             ],
             [
              0.6666666666666666,
              "#ed7953"
             ],
             [
              0.7777777777777778,
              "#fb9f3a"
             ],
             [
              0.8888888888888888,
              "#fdca26"
             ],
             [
              1,
              "#f0f921"
             ]
            ],
            "type": "contour"
           }
          ],
          "contourcarpet": [
           {
            "colorbar": {
             "outlinewidth": 0,
             "ticks": ""
            },
            "type": "contourcarpet"
           }
          ],
          "heatmap": [
           {
            "colorbar": {
             "outlinewidth": 0,
             "ticks": ""
            },
            "colorscale": [
             [
              0,
              "#0d0887"
             ],
             [
              0.1111111111111111,
              "#46039f"
             ],
             [
              0.2222222222222222,
              "#7201a8"
             ],
             [
              0.3333333333333333,
              "#9c179e"
             ],
             [
              0.4444444444444444,
              "#bd3786"
             ],
             [
              0.5555555555555556,
              "#d8576b"
             ],
             [
              0.6666666666666666,
              "#ed7953"
             ],
             [
              0.7777777777777778,
              "#fb9f3a"
             ],
             [
              0.8888888888888888,
              "#fdca26"
             ],
             [
              1,
              "#f0f921"
             ]
            ],
            "type": "heatmap"
           }
          ],
          "heatmapgl": [
           {
            "colorbar": {
             "outlinewidth": 0,
             "ticks": ""
            },
            "colorscale": [
             [
              0,
              "#0d0887"
             ],
             [
              0.1111111111111111,
              "#46039f"
             ],
             [
              0.2222222222222222,
              "#7201a8"
             ],
             [
              0.3333333333333333,
              "#9c179e"
             ],
             [
              0.4444444444444444,
              "#bd3786"
             ],
             [
              0.5555555555555556,
              "#d8576b"
             ],
             [
              0.6666666666666666,
              "#ed7953"
             ],
             [
              0.7777777777777778,
              "#fb9f3a"
             ],
             [
              0.8888888888888888,
              "#fdca26"
             ],
             [
              1,
              "#f0f921"
             ]
            ],
            "type": "heatmapgl"
           }
          ],
          "histogram": [
           {
            "marker": {
             "colorbar": {
              "outlinewidth": 0,
              "ticks": ""
             }
            },
            "type": "histogram"
           }
          ],
          "histogram2d": [
           {
            "colorbar": {
             "outlinewidth": 0,
             "ticks": ""
            },
            "colorscale": [
             [
              0,
              "#0d0887"
             ],
             [
              0.1111111111111111,
              "#46039f"
             ],
             [
              0.2222222222222222,
              "#7201a8"
             ],
             [
              0.3333333333333333,
              "#9c179e"
             ],
             [
              0.4444444444444444,
              "#bd3786"
             ],
             [
              0.5555555555555556,
              "#d8576b"
             ],
             [
              0.6666666666666666,
              "#ed7953"
             ],
             [
              0.7777777777777778,
              "#fb9f3a"
             ],
             [
              0.8888888888888888,
              "#fdca26"
             ],
             [
              1,
              "#f0f921"
             ]
            ],
            "type": "histogram2d"
           }
          ],
          "histogram2dcontour": [
           {
            "colorbar": {
             "outlinewidth": 0,
             "ticks": ""
            },
            "colorscale": [
             [
              0,
              "#0d0887"
             ],
             [
              0.1111111111111111,
              "#46039f"
             ],
             [
              0.2222222222222222,
              "#7201a8"
             ],
             [
              0.3333333333333333,
              "#9c179e"
             ],
             [
              0.4444444444444444,
              "#bd3786"
             ],
             [
              0.5555555555555556,
              "#d8576b"
             ],
             [
              0.6666666666666666,
              "#ed7953"
             ],
             [
              0.7777777777777778,
              "#fb9f3a"
             ],
             [
              0.8888888888888888,
              "#fdca26"
             ],
             [
              1,
              "#f0f921"
             ]
            ],
            "type": "histogram2dcontour"
           }
          ],
          "mesh3d": [
           {
            "colorbar": {
             "outlinewidth": 0,
             "ticks": ""
            },
            "type": "mesh3d"
           }
          ],
          "parcoords": [
           {
            "line": {
             "colorbar": {
              "outlinewidth": 0,
              "ticks": ""
             }
            },
            "type": "parcoords"
           }
          ],
          "pie": [
           {
            "automargin": true,
            "type": "pie"
           }
          ],
          "scatter": [
           {
            "marker": {
             "colorbar": {
              "outlinewidth": 0,
              "ticks": ""
             }
            },
            "type": "scatter"
           }
          ],
          "scatter3d": [
           {
            "line": {
             "colorbar": {
              "outlinewidth": 0,
              "ticks": ""
             }
            },
            "marker": {
             "colorbar": {
              "outlinewidth": 0,
              "ticks": ""
             }
            },
            "type": "scatter3d"
           }
          ],
          "scattercarpet": [
           {
            "marker": {
             "colorbar": {
              "outlinewidth": 0,
              "ticks": ""
             }
            },
            "type": "scattercarpet"
           }
          ],
          "scattergeo": [
           {
            "marker": {
             "colorbar": {
              "outlinewidth": 0,
              "ticks": ""
             }
            },
            "type": "scattergeo"
           }
          ],
          "scattergl": [
           {
            "marker": {
             "colorbar": {
              "outlinewidth": 0,
              "ticks": ""
             }
            },
            "type": "scattergl"
           }
          ],
          "scattermapbox": [
           {
            "marker": {
             "colorbar": {
              "outlinewidth": 0,
              "ticks": ""
             }
            },
            "type": "scattermapbox"
           }
          ],
          "scatterpolar": [
           {
            "marker": {
             "colorbar": {
              "outlinewidth": 0,
              "ticks": ""
             }
            },
            "type": "scatterpolar"
           }
          ],
          "scatterpolargl": [
           {
            "marker": {
             "colorbar": {
              "outlinewidth": 0,
              "ticks": ""
             }
            },
            "type": "scatterpolargl"
           }
          ],
          "scatterternary": [
           {
            "marker": {
             "colorbar": {
              "outlinewidth": 0,
              "ticks": ""
             }
            },
            "type": "scatterternary"
           }
          ],
          "surface": [
           {
            "colorbar": {
             "outlinewidth": 0,
             "ticks": ""
            },
            "colorscale": [
             [
              0,
              "#0d0887"
             ],
             [
              0.1111111111111111,
              "#46039f"
             ],
             [
              0.2222222222222222,
              "#7201a8"
             ],
             [
              0.3333333333333333,
              "#9c179e"
             ],
             [
              0.4444444444444444,
              "#bd3786"
             ],
             [
              0.5555555555555556,
              "#d8576b"
             ],
             [
              0.6666666666666666,
              "#ed7953"
             ],
             [
              0.7777777777777778,
              "#fb9f3a"
             ],
             [
              0.8888888888888888,
              "#fdca26"
             ],
             [
              1,
              "#f0f921"
             ]
            ],
            "type": "surface"
           }
          ],
          "table": [
           {
            "cells": {
             "fill": {
              "color": "#EBF0F8"
             },
             "line": {
              "color": "white"
             }
            },
            "header": {
             "fill": {
              "color": "#C8D4E3"
             },
             "line": {
              "color": "white"
             }
            },
            "type": "table"
           }
          ]
         },
         "layout": {
          "annotationdefaults": {
           "arrowcolor": "#2a3f5f",
           "arrowhead": 0,
           "arrowwidth": 1
          },
          "coloraxis": {
           "colorbar": {
            "outlinewidth": 0,
            "ticks": ""
           }
          },
          "colorscale": {
           "diverging": [
            [
             0,
             "#8e0152"
            ],
            [
             0.1,
             "#c51b7d"
            ],
            [
             0.2,
             "#de77ae"
            ],
            [
             0.3,
             "#f1b6da"
            ],
            [
             0.4,
             "#fde0ef"
            ],
            [
             0.5,
             "#f7f7f7"
            ],
            [
             0.6,
             "#e6f5d0"
            ],
            [
             0.7,
             "#b8e186"
            ],
            [
             0.8,
             "#7fbc41"
            ],
            [
             0.9,
             "#4d9221"
            ],
            [
             1,
             "#276419"
            ]
           ],
           "sequential": [
            [
             0,
             "#0d0887"
            ],
            [
             0.1111111111111111,
             "#46039f"
            ],
            [
             0.2222222222222222,
             "#7201a8"
            ],
            [
             0.3333333333333333,
             "#9c179e"
            ],
            [
             0.4444444444444444,
             "#bd3786"
            ],
            [
             0.5555555555555556,
             "#d8576b"
            ],
            [
             0.6666666666666666,
             "#ed7953"
            ],
            [
             0.7777777777777778,
             "#fb9f3a"
            ],
            [
             0.8888888888888888,
             "#fdca26"
            ],
            [
             1,
             "#f0f921"
            ]
           ],
           "sequentialminus": [
            [
             0,
             "#0d0887"
            ],
            [
             0.1111111111111111,
             "#46039f"
            ],
            [
             0.2222222222222222,
             "#7201a8"
            ],
            [
             0.3333333333333333,
             "#9c179e"
            ],
            [
             0.4444444444444444,
             "#bd3786"
            ],
            [
             0.5555555555555556,
             "#d8576b"
            ],
            [
             0.6666666666666666,
             "#ed7953"
            ],
            [
             0.7777777777777778,
             "#fb9f3a"
            ],
            [
             0.8888888888888888,
             "#fdca26"
            ],
            [
             1,
             "#f0f921"
            ]
           ]
          },
          "colorway": [
           "#636efa",
           "#EF553B",
           "#00cc96",
           "#ab63fa",
           "#FFA15A",
           "#19d3f3",
           "#FF6692",
           "#B6E880",
           "#FF97FF",
           "#FECB52"
          ],
          "font": {
           "color": "#2a3f5f"
          },
          "geo": {
           "bgcolor": "white",
           "lakecolor": "white",
           "landcolor": "#E5ECF6",
           "showlakes": true,
           "showland": true,
           "subunitcolor": "white"
          },
          "hoverlabel": {
           "align": "left"
          },
          "hovermode": "closest",
          "mapbox": {
           "style": "light"
          },
          "paper_bgcolor": "white",
          "plot_bgcolor": "#E5ECF6",
          "polar": {
           "angularaxis": {
            "gridcolor": "white",
            "linecolor": "white",
            "ticks": ""
           },
           "bgcolor": "#E5ECF6",
           "radialaxis": {
            "gridcolor": "white",
            "linecolor": "white",
            "ticks": ""
           }
          },
          "scene": {
           "xaxis": {
            "backgroundcolor": "#E5ECF6",
            "gridcolor": "white",
            "gridwidth": 2,
            "linecolor": "white",
            "showbackground": true,
            "ticks": "",
            "zerolinecolor": "white"
           },
           "yaxis": {
            "backgroundcolor": "#E5ECF6",
            "gridcolor": "white",
            "gridwidth": 2,
            "linecolor": "white",
            "showbackground": true,
            "ticks": "",
            "zerolinecolor": "white"
           },
           "zaxis": {
            "backgroundcolor": "#E5ECF6",
            "gridcolor": "white",
            "gridwidth": 2,
            "linecolor": "white",
            "showbackground": true,
            "ticks": "",
            "zerolinecolor": "white"
           }
          },
          "shapedefaults": {
           "line": {
            "color": "#2a3f5f"
           }
          },
          "ternary": {
           "aaxis": {
            "gridcolor": "white",
            "linecolor": "white",
            "ticks": ""
           },
           "baxis": {
            "gridcolor": "white",
            "linecolor": "white",
            "ticks": ""
           },
           "bgcolor": "#E5ECF6",
           "caxis": {
            "gridcolor": "white",
            "linecolor": "white",
            "ticks": ""
           }
          },
          "title": {
           "x": 0.05
          },
          "xaxis": {
           "automargin": true,
           "gridcolor": "white",
           "linecolor": "white",
           "ticks": "",
           "title": {
            "standoff": 15
           },
           "zerolinecolor": "white",
           "zerolinewidth": 2
          },
          "yaxis": {
           "automargin": true,
           "gridcolor": "white",
           "linecolor": "white",
           "ticks": "",
           "title": {
            "standoff": 15
           },
           "zerolinecolor": "white",
           "zerolinewidth": 2
          }
         }
        },
        "title": {
         "text": "Euclidean error using RP, SRP, PCA and DCT"
        },
        "width": 800,
        "xaxis": {
         "dtick": 25,
         "title": {
          "text": "Reduced dimension"
         }
        },
        "yaxis": {
         "title": {
          "text": "Error"
         }
        }
       }
      }
     },
     "metadata": {}
    }
   ],
   "source": [
    "fig = go.Figure()\n",
    "# fig.add_trace(go.Scatter(x=ks, y=p_diff, name=\"PCA\", marker_symbol=\"circle\", mode=\"markers\", error_y=dict(type=\"data\", symmetric=False, array=p_max, arrayminus=p_min)))\n",
    "ks = np.arange(2,325, avg)\n",
    "fig.add_trace(go.Scatter(x=ks, y=p_diff, name=\"PCA\", marker_symbol=\"circle\", mode=\"markers\"))\n",
    "fig.add_trace(go.Scatter(x=ks, y=d_diff, name=\"DCT\", marker_symbol=\"square\", mode=\"markers\"))\n",
    "fig.add_trace(go.Scatter(x=ks, y=r_diff, name=\"RP\", marker_symbol=\"cross\", mode=\"markers\"))\n",
    "fig.add_trace(go.Scatter(x=ks, y=sr_diff, name=\"SRP\", marker_symbol=\"diamond\", mode=\"markers\"))\n",
    "# fig.add_trace(go.Scatter(x=ks, y=[m_val]*len(ks), name=\"Median filter\", marker_symbol=\"diamond\", mode=\"lines\"))\n",
    "\n",
    "fig.update_layout(\n",
    "    title_text=\"Euclidean error using RP, SRP, PCA and DCT\",\n",
    "    width=800,\n",
    ")\n",
    "\n",
    "fig.update_xaxes(title_text='Reduced dimension', dtick=25)\n",
    "fig.update_yaxes(title_text='Error')\n",
    "\n",
    "fig.show()"
   ]
  },
  {
   "cell_type": "code",
   "execution_count": 23,
   "metadata": {},
   "outputs": [
    {
     "output_type": "display_data",
     "data": {
      "application/vnd.plotly.v1+json": {
       "config": {
        "plotlyServerURL": "https://plot.ly"
       },
       "data": [
        {
         "marker": {
          "symbol": "circle"
         },
         "mode": "markers",
         "name": "PCA",
         "type": "scatter",
         "x": [
          2,
          12,
          22,
          32,
          42,
          52,
          62,
          72,
          82,
          92,
          102,
          112,
          122,
          132,
          142,
          152,
          162,
          172,
          182,
          192,
          202,
          212,
          222,
          232,
          242,
          252,
          262,
          272,
          282,
          292,
          302,
          312,
          322
         ],
         "y": [
          0.006301283836364746,
          0.006749868392944336,
          0.0069048404693603516,
          0.0073454856872558595,
          0.007351183891296386,
          0.00841064453125,
          0.008349847793579102,
          0.00857844352722168,
          0.008993291854858398,
          0.009346890449523925,
          0.009740829467773438,
          0.010148167610168457,
          0.009564018249511719,
          0.009671998023986817,
          0.009952402114868164,
          0.01027367115020752,
          0.01099858283996582,
          0.010850191116333008,
          0.011216115951538087,
          0.011339712142944335,
          0.012180590629577636,
          0.013752269744873046,
          0.014122867584228515,
          0.014708876609802246,
          0.014918327331542969,
          0.015154743194580078,
          0.015457510948181152,
          0.015902614593505858,
          0.016412115097045897,
          0.017484259605407716,
          0.016976022720336915,
          0.015572547912597656,
          0.015544493993123373
         ]
        },
        {
         "marker": {
          "symbol": "square"
         },
         "mode": "markers",
         "name": "DCT",
         "type": "scatter",
         "x": [
          2,
          12,
          22,
          32,
          42,
          52,
          62,
          72,
          82,
          92,
          102,
          112,
          122,
          132,
          142,
          152,
          162,
          172,
          182,
          192,
          202,
          212,
          222,
          232,
          242,
          252,
          262,
          272,
          282,
          292,
          302,
          312,
          322
         ],
         "y": [
          0.030615568161010742,
          0.030758380889892578,
          0.030788493156433106,
          0.03136210441589356,
          0.03103034496307373,
          0.031514430046081544,
          0.030893230438232423,
          0.030839204788208008,
          0.03122110366821289,
          0.031127309799194335,
          0.031171131134033202,
          0.03145151138305664,
          0.03154191970825195,
          0.03152232170104981,
          0.03154823780059814,
          0.03188755512237549,
          0.03131721019744873,
          0.0314497709274292,
          0.03146100044250488,
          0.03148882389068604,
          0.031683850288391116,
          0.031728482246398924,
          0.03158550262451172,
          0.03195774555206299,
          0.03169739246368408,
          0.032020044326782224,
          0.032071828842163086,
          0.031866598129272464,
          0.03202931880950928,
          0.032249832153320314,
          0.03215548992156982,
          0.032040190696716306,
          0.0319217840830485
         ]
        },
        {
         "marker": {
          "symbol": "cross"
         },
         "mode": "markers",
         "name": "RP",
         "type": "scatter",
         "x": [
          2,
          12,
          22,
          32,
          42,
          52,
          62,
          72,
          82,
          92,
          102,
          112,
          122,
          132,
          142,
          152,
          162,
          172,
          182,
          192,
          202,
          212,
          222,
          232,
          242,
          252,
          262,
          272,
          282,
          292,
          302,
          312,
          322
         ],
         "y": [
          0.007377934455871582,
          0.008944034576416016,
          0.010150790214538574,
          0.011778306961059571,
          0.012967348098754883,
          0.015312814712524414,
          0.016422510147094727,
          0.017647790908813476,
          0.019127416610717773,
          0.020804238319396973,
          0.022427821159362794,
          0.024074578285217287,
          0.024565863609313964,
          0.026207232475280763,
          0.027401137351989745,
          0.028620314598083497,
          0.030877304077148438,
          0.031648874282836914,
          0.03322761058807373,
          0.034399914741516116,
          0.03660497665405273,
          0.03917508125305176,
          0.04075322151184082,
          0.04262213706970215,
          0.044068193435668944,
          0.04526035785675049,
          0.046918940544128415,
          0.048240375518798825,
          0.05007627010345459,
          0.0521010160446167,
          0.05301589965820312,
          0.05236067771911621,
          0.05316034952799479
         ]
        },
        {
         "marker": {
          "symbol": "diamond"
         },
         "mode": "markers",
         "name": "SRP",
         "type": "scatter",
         "x": [
          2,
          12,
          22,
          32,
          42,
          52,
          62,
          72,
          82,
          92,
          102,
          112,
          122,
          132,
          142,
          152,
          162,
          172,
          182,
          192,
          202,
          212,
          222,
          232,
          242,
          252,
          262,
          272,
          282,
          292,
          302,
          312,
          322
         ],
         "y": [
          0.012826967239379882,
          0.014542436599731446,
          0.015621423721313477,
          0.01756577491760254,
          0.01838197708129883,
          0.02033498287200928,
          0.020764851570129396,
          0.022445487976074218,
          0.023943996429443358,
          0.025303745269775392,
          0.026104164123535157,
          0.0271512508392334,
          0.02819204330444336,
          0.03023953437805176,
          0.031399774551391604,
          0.03216662406921387,
          0.03346405029296875,
          0.03449890613555908,
          0.03552548885345459,
          0.03659067153930664,
          0.03749516010284424,
          0.03904833793640137,
          0.04016590118408203,
          0.04176442623138428,
          0.04231586456298828,
          0.04336678981781006,
          0.04474384784698486,
          0.04525020122528076,
          0.04774315357208252,
          0.04799895286560059,
          0.049476242065429686,
          0.05031321048736572,
          0.05112743377685547
         ]
        }
       ],
       "layout": {
        "template": {
         "data": {
          "bar": [
           {
            "error_x": {
             "color": "#2a3f5f"
            },
            "error_y": {
             "color": "#2a3f5f"
            },
            "marker": {
             "line": {
              "color": "#E5ECF6",
              "width": 0.5
             }
            },
            "type": "bar"
           }
          ],
          "barpolar": [
           {
            "marker": {
             "line": {
              "color": "#E5ECF6",
              "width": 0.5
             }
            },
            "type": "barpolar"
           }
          ],
          "carpet": [
           {
            "aaxis": {
             "endlinecolor": "#2a3f5f",
             "gridcolor": "white",
             "linecolor": "white",
             "minorgridcolor": "white",
             "startlinecolor": "#2a3f5f"
            },
            "baxis": {
             "endlinecolor": "#2a3f5f",
             "gridcolor": "white",
             "linecolor": "white",
             "minorgridcolor": "white",
             "startlinecolor": "#2a3f5f"
            },
            "type": "carpet"
           }
          ],
          "choropleth": [
           {
            "colorbar": {
             "outlinewidth": 0,
             "ticks": ""
            },
            "type": "choropleth"
           }
          ],
          "contour": [
           {
            "colorbar": {
             "outlinewidth": 0,
             "ticks": ""
            },
            "colorscale": [
             [
              0,
              "#0d0887"
             ],
             [
              0.1111111111111111,
              "#46039f"
             ],
             [
              0.2222222222222222,
              "#7201a8"
             ],
             [
              0.3333333333333333,
              "#9c179e"
             ],
             [
              0.4444444444444444,
              "#bd3786"
             ],
             [
              0.5555555555555556,
              "#d8576b"
             ],
             [
              0.6666666666666666,
              "#ed7953"
             ],
             [
              0.7777777777777778,
              "#fb9f3a"
             ],
             [
              0.8888888888888888,
              "#fdca26"
             ],
             [
              1,
              "#f0f921"
             ]
            ],
            "type": "contour"
           }
          ],
          "contourcarpet": [
           {
            "colorbar": {
             "outlinewidth": 0,
             "ticks": ""
            },
            "type": "contourcarpet"
           }
          ],
          "heatmap": [
           {
            "colorbar": {
             "outlinewidth": 0,
             "ticks": ""
            },
            "colorscale": [
             [
              0,
              "#0d0887"
             ],
             [
              0.1111111111111111,
              "#46039f"
             ],
             [
              0.2222222222222222,
              "#7201a8"
             ],
             [
              0.3333333333333333,
              "#9c179e"
             ],
             [
              0.4444444444444444,
              "#bd3786"
             ],
             [
              0.5555555555555556,
              "#d8576b"
             ],
             [
              0.6666666666666666,
              "#ed7953"
             ],
             [
              0.7777777777777778,
              "#fb9f3a"
             ],
             [
              0.8888888888888888,
              "#fdca26"
             ],
             [
              1,
              "#f0f921"
             ]
            ],
            "type": "heatmap"
           }
          ],
          "heatmapgl": [
           {
            "colorbar": {
             "outlinewidth": 0,
             "ticks": ""
            },
            "colorscale": [
             [
              0,
              "#0d0887"
             ],
             [
              0.1111111111111111,
              "#46039f"
             ],
             [
              0.2222222222222222,
              "#7201a8"
             ],
             [
              0.3333333333333333,
              "#9c179e"
             ],
             [
              0.4444444444444444,
              "#bd3786"
             ],
             [
              0.5555555555555556,
              "#d8576b"
             ],
             [
              0.6666666666666666,
              "#ed7953"
             ],
             [
              0.7777777777777778,
              "#fb9f3a"
             ],
             [
              0.8888888888888888,
              "#fdca26"
             ],
             [
              1,
              "#f0f921"
             ]
            ],
            "type": "heatmapgl"
           }
          ],
          "histogram": [
           {
            "marker": {
             "colorbar": {
              "outlinewidth": 0,
              "ticks": ""
             }
            },
            "type": "histogram"
           }
          ],
          "histogram2d": [
           {
            "colorbar": {
             "outlinewidth": 0,
             "ticks": ""
            },
            "colorscale": [
             [
              0,
              "#0d0887"
             ],
             [
              0.1111111111111111,
              "#46039f"
             ],
             [
              0.2222222222222222,
              "#7201a8"
             ],
             [
              0.3333333333333333,
              "#9c179e"
             ],
             [
              0.4444444444444444,
              "#bd3786"
             ],
             [
              0.5555555555555556,
              "#d8576b"
             ],
             [
              0.6666666666666666,
              "#ed7953"
             ],
             [
              0.7777777777777778,
              "#fb9f3a"
             ],
             [
              0.8888888888888888,
              "#fdca26"
             ],
             [
              1,
              "#f0f921"
             ]
            ],
            "type": "histogram2d"
           }
          ],
          "histogram2dcontour": [
           {
            "colorbar": {
             "outlinewidth": 0,
             "ticks": ""
            },
            "colorscale": [
             [
              0,
              "#0d0887"
             ],
             [
              0.1111111111111111,
              "#46039f"
             ],
             [
              0.2222222222222222,
              "#7201a8"
             ],
             [
              0.3333333333333333,
              "#9c179e"
             ],
             [
              0.4444444444444444,
              "#bd3786"
             ],
             [
              0.5555555555555556,
              "#d8576b"
             ],
             [
              0.6666666666666666,
              "#ed7953"
             ],
             [
              0.7777777777777778,
              "#fb9f3a"
             ],
             [
              0.8888888888888888,
              "#fdca26"
             ],
             [
              1,
              "#f0f921"
             ]
            ],
            "type": "histogram2dcontour"
           }
          ],
          "mesh3d": [
           {
            "colorbar": {
             "outlinewidth": 0,
             "ticks": ""
            },
            "type": "mesh3d"
           }
          ],
          "parcoords": [
           {
            "line": {
             "colorbar": {
              "outlinewidth": 0,
              "ticks": ""
             }
            },
            "type": "parcoords"
           }
          ],
          "pie": [
           {
            "automargin": true,
            "type": "pie"
           }
          ],
          "scatter": [
           {
            "marker": {
             "colorbar": {
              "outlinewidth": 0,
              "ticks": ""
             }
            },
            "type": "scatter"
           }
          ],
          "scatter3d": [
           {
            "line": {
             "colorbar": {
              "outlinewidth": 0,
              "ticks": ""
             }
            },
            "marker": {
             "colorbar": {
              "outlinewidth": 0,
              "ticks": ""
             }
            },
            "type": "scatter3d"
           }
          ],
          "scattercarpet": [
           {
            "marker": {
             "colorbar": {
              "outlinewidth": 0,
              "ticks": ""
             }
            },
            "type": "scattercarpet"
           }
          ],
          "scattergeo": [
           {
            "marker": {
             "colorbar": {
              "outlinewidth": 0,
              "ticks": ""
             }
            },
            "type": "scattergeo"
           }
          ],
          "scattergl": [
           {
            "marker": {
             "colorbar": {
              "outlinewidth": 0,
              "ticks": ""
             }
            },
            "type": "scattergl"
           }
          ],
          "scattermapbox": [
           {
            "marker": {
             "colorbar": {
              "outlinewidth": 0,
              "ticks": ""
             }
            },
            "type": "scattermapbox"
           }
          ],
          "scatterpolar": [
           {
            "marker": {
             "colorbar": {
              "outlinewidth": 0,
              "ticks": ""
             }
            },
            "type": "scatterpolar"
           }
          ],
          "scatterpolargl": [
           {
            "marker": {
             "colorbar": {
              "outlinewidth": 0,
              "ticks": ""
             }
            },
            "type": "scatterpolargl"
           }
          ],
          "scatterternary": [
           {
            "marker": {
             "colorbar": {
              "outlinewidth": 0,
              "ticks": ""
             }
            },
            "type": "scatterternary"
           }
          ],
          "surface": [
           {
            "colorbar": {
             "outlinewidth": 0,
             "ticks": ""
            },
            "colorscale": [
             [
              0,
              "#0d0887"
             ],
             [
              0.1111111111111111,
              "#46039f"
             ],
             [
              0.2222222222222222,
              "#7201a8"
             ],
             [
              0.3333333333333333,
              "#9c179e"
             ],
             [
              0.4444444444444444,
              "#bd3786"
             ],
             [
              0.5555555555555556,
              "#d8576b"
             ],
             [
              0.6666666666666666,
              "#ed7953"
             ],
             [
              0.7777777777777778,
              "#fb9f3a"
             ],
             [
              0.8888888888888888,
              "#fdca26"
             ],
             [
              1,
              "#f0f921"
             ]
            ],
            "type": "surface"
           }
          ],
          "table": [
           {
            "cells": {
             "fill": {
              "color": "#EBF0F8"
             },
             "line": {
              "color": "white"
             }
            },
            "header": {
             "fill": {
              "color": "#C8D4E3"
             },
             "line": {
              "color": "white"
             }
            },
            "type": "table"
           }
          ]
         },
         "layout": {
          "annotationdefaults": {
           "arrowcolor": "#2a3f5f",
           "arrowhead": 0,
           "arrowwidth": 1
          },
          "coloraxis": {
           "colorbar": {
            "outlinewidth": 0,
            "ticks": ""
           }
          },
          "colorscale": {
           "diverging": [
            [
             0,
             "#8e0152"
            ],
            [
             0.1,
             "#c51b7d"
            ],
            [
             0.2,
             "#de77ae"
            ],
            [
             0.3,
             "#f1b6da"
            ],
            [
             0.4,
             "#fde0ef"
            ],
            [
             0.5,
             "#f7f7f7"
            ],
            [
             0.6,
             "#e6f5d0"
            ],
            [
             0.7,
             "#b8e186"
            ],
            [
             0.8,
             "#7fbc41"
            ],
            [
             0.9,
             "#4d9221"
            ],
            [
             1,
             "#276419"
            ]
           ],
           "sequential": [
            [
             0,
             "#0d0887"
            ],
            [
             0.1111111111111111,
             "#46039f"
            ],
            [
             0.2222222222222222,
             "#7201a8"
            ],
            [
             0.3333333333333333,
             "#9c179e"
            ],
            [
             0.4444444444444444,
             "#bd3786"
            ],
            [
             0.5555555555555556,
             "#d8576b"
            ],
            [
             0.6666666666666666,
             "#ed7953"
            ],
            [
             0.7777777777777778,
             "#fb9f3a"
            ],
            [
             0.8888888888888888,
             "#fdca26"
            ],
            [
             1,
             "#f0f921"
            ]
           ],
           "sequentialminus": [
            [
             0,
             "#0d0887"
            ],
            [
             0.1111111111111111,
             "#46039f"
            ],
            [
             0.2222222222222222,
             "#7201a8"
            ],
            [
             0.3333333333333333,
             "#9c179e"
            ],
            [
             0.4444444444444444,
             "#bd3786"
            ],
            [
             0.5555555555555556,
             "#d8576b"
            ],
            [
             0.6666666666666666,
             "#ed7953"
            ],
            [
             0.7777777777777778,
             "#fb9f3a"
            ],
            [
             0.8888888888888888,
             "#fdca26"
            ],
            [
             1,
             "#f0f921"
            ]
           ]
          },
          "colorway": [
           "#636efa",
           "#EF553B",
           "#00cc96",
           "#ab63fa",
           "#FFA15A",
           "#19d3f3",
           "#FF6692",
           "#B6E880",
           "#FF97FF",
           "#FECB52"
          ],
          "font": {
           "color": "#2a3f5f"
          },
          "geo": {
           "bgcolor": "white",
           "lakecolor": "white",
           "landcolor": "#E5ECF6",
           "showlakes": true,
           "showland": true,
           "subunitcolor": "white"
          },
          "hoverlabel": {
           "align": "left"
          },
          "hovermode": "closest",
          "mapbox": {
           "style": "light"
          },
          "paper_bgcolor": "white",
          "plot_bgcolor": "#E5ECF6",
          "polar": {
           "angularaxis": {
            "gridcolor": "white",
            "linecolor": "white",
            "ticks": ""
           },
           "bgcolor": "#E5ECF6",
           "radialaxis": {
            "gridcolor": "white",
            "linecolor": "white",
            "ticks": ""
           }
          },
          "scene": {
           "xaxis": {
            "backgroundcolor": "#E5ECF6",
            "gridcolor": "white",
            "gridwidth": 2,
            "linecolor": "white",
            "showbackground": true,
            "ticks": "",
            "zerolinecolor": "white"
           },
           "yaxis": {
            "backgroundcolor": "#E5ECF6",
            "gridcolor": "white",
            "gridwidth": 2,
            "linecolor": "white",
            "showbackground": true,
            "ticks": "",
            "zerolinecolor": "white"
           },
           "zaxis": {
            "backgroundcolor": "#E5ECF6",
            "gridcolor": "white",
            "gridwidth": 2,
            "linecolor": "white",
            "showbackground": true,
            "ticks": "",
            "zerolinecolor": "white"
           }
          },
          "shapedefaults": {
           "line": {
            "color": "#2a3f5f"
           }
          },
          "ternary": {
           "aaxis": {
            "gridcolor": "white",
            "linecolor": "white",
            "ticks": ""
           },
           "baxis": {
            "gridcolor": "white",
            "linecolor": "white",
            "ticks": ""
           },
           "bgcolor": "#E5ECF6",
           "caxis": {
            "gridcolor": "white",
            "linecolor": "white",
            "ticks": ""
           }
          },
          "title": {
           "x": 0.05
          },
          "xaxis": {
           "automargin": true,
           "gridcolor": "white",
           "linecolor": "white",
           "ticks": "",
           "title": {
            "standoff": 15
           },
           "zerolinecolor": "white",
           "zerolinewidth": 2
          },
          "yaxis": {
           "automargin": true,
           "gridcolor": "white",
           "linecolor": "white",
           "ticks": "",
           "title": {
            "standoff": 15
           },
           "zerolinecolor": "white",
           "zerolinewidth": 2
          }
         }
        },
        "title": {
         "text": "Execution time using RP, SRP, PCA and DCT"
        },
        "width": 800,
        "xaxis": {
         "dtick": 25,
         "title": {
          "text": "Reduced dimension"
         }
        },
        "yaxis": {
         "title": {
          "text": "sec"
         }
        }
       }
      }
     },
     "metadata": {}
    }
   ],
   "source": [
    "fig = go.Figure()\n",
    "# ks = np.arange(2,325, 50)\n",
    "fig.add_trace(go.Scatter(x=ks, y=p_time,  name=\"PCA\", marker_symbol=\"circle\", mode=\"markers\"))\n",
    "fig.add_trace(go.Scatter(x=ks, y=d_time,  name=\"DCT\", marker_symbol=\"square\", mode=\"markers\"))\n",
    "fig.add_trace(go.Scatter(x=ks, y=r_time,  name=\"RP\", marker_symbol=\"cross\", mode=\"markers\"))\n",
    "fig.add_trace(go.Scatter(x=ks, y=sr_time, name=\"SRP\", marker_symbol=\"diamond\", mode=\"markers\"))\n",
    "\n",
    "fig.update_layout(\n",
    "    title_text=\"Execution time using RP, SRP, PCA and DCT\",\n",
    "    width=800,\n",
    ")\n",
    "\n",
    "fig.update_xaxes(title_text='Reduced dimension', dtick=25)\n",
    "fig.update_yaxes(title_text='sec')\n",
    "\n",
    "fig.show()"
   ]
  },
  {
   "cell_type": "code",
   "execution_count": null,
   "metadata": {},
   "outputs": [],
   "source": []
  }
 ]
}