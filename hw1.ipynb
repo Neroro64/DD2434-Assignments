{
 "metadata": {
  "language_info": {
   "codemirror_mode": {
    "name": "ipython",
    "version": 3
   },
   "file_extension": ".py",
   "mimetype": "text/x-python",
   "name": "python",
   "nbconvert_exporter": "python",
   "pygments_lexer": "ipython3",
   "version": "3.8.3-final"
  },
  "orig_nbformat": 2,
  "kernelspec": {
   "name": "python3",
   "display_name": "Python 3"
  }
 },
 "nbformat": 4,
 "nbformat_minor": 2,
 "cells": [
  {
   "cell_type": "code",
   "execution_count": 1,
   "metadata": {},
   "outputs": [],
   "source": [
    "import numpy as np\n",
    "import plotly.graph_objects as go\n",
    "import plotly.express as ex\n",
    "from sklearn.decomposition import PCA\n",
    "import pandas as pd\n",
    "import scipy\n",
    "from matplotlib import pyplot as plt"
   ]
  },
  {
   "cell_type": "code",
   "execution_count": 2,
   "metadata": {},
   "outputs": [],
   "source": [
    "\"\"\"\n",
    "Reading raw data and split it to tokens\n",
    "\"\"\"\n",
    "with open(\"zoo.data\", 'r') as f:\n",
    "    raw_data = f.read()\n",
    "\n",
    "tokens = raw_data.replace(\"\\n\", \",\").split(\",\")\n",
    "tokens = tokens[:-1]"
   ]
  },
  {
   "cell_type": "code",
   "execution_count": 3,
   "metadata": {},
   "outputs": [],
   "source": [
    "\"\"\"\n",
    "prepare the data and separate them to names, feature vectors and types. For  'number of leg' feature, convert the number to boolean array corresponding [HasNoLeg, HasTwoLegs, ...]\n",
    "\"\"\"\n",
    "data = {\"name\":[], \"features\":[], \"type\":[]}\n",
    "for i in range(0, len(tokens), 18):\n",
    "    data[\"name\"].append(tokens[i])\n",
    "    \n",
    "    feature = []\n",
    "    for j in range(i+1, i+17):\n",
    "        if not j == i+13:\n",
    "            feature.append(tokens[j])\n",
    "        else:\n",
    "            k = np.ceil(float(tokens[j]) / 2)\n",
    "    for n in range(6):\n",
    "        if n == k:\n",
    "            feature.append(1)\n",
    "        else: \n",
    "            feature.append(0)\n",
    "\n",
    "    data[\"features\"].append(np.asarray(feature, dtype=np.float32))\n",
    "    data[\"type\"].append(tokens[i+17])\n",
    "df = pd.DataFrame(data)\n",
    "\n"
   ]
  },
  {
   "cell_type": "code",
   "execution_count": 4,
   "metadata": {},
   "outputs": [
    {
     "output_type": "display_data",
     "data": {
      "application/vnd.plotly.v1+json": {
       "config": {
        "plotlyServerURL": "https://plot.ly"
       },
       "data": [
        {
         "hovertemplate": "color=1<br>x=%{x}<br>y=%{y}<extra></extra>",
         "legendgroup": "1",
         "marker": {
          "color": "#636efa",
          "symbol": "circle"
         },
         "mode": "markers",
         "name": "1",
         "orientation": "v",
         "showlegend": true,
         "type": "scatter",
         "x": [
          "aardvark",
          "antelope",
          "bear",
          "boar",
          "buffalo",
          "calf",
          "cavy",
          "cheetah",
          "deer",
          "dolphin",
          "elephant",
          "fruitbat",
          "giraffe",
          "girl",
          "goat",
          "gorilla",
          "hamster",
          "hare",
          "leopard",
          "lion",
          "lynx",
          "mink",
          "mole",
          "mongoose",
          "opossum",
          "oryx",
          "platypus",
          "polecat",
          "pony",
          "porpoise",
          "puma",
          "pussycat",
          "raccoon",
          "reindeer",
          "seal",
          "sealion",
          "squirrel",
          "vampire",
          "vole",
          "wallaby",
          "wolf"
         ],
         "xaxis": "x",
         "y": [
          8,
          8,
          8,
          9,
          8,
          9,
          7,
          9,
          8,
          10,
          8,
          8,
          8,
          9,
          9,
          7,
          8,
          7,
          9,
          9,
          9,
          10,
          8,
          9,
          8,
          8,
          10,
          9,
          9,
          10,
          9,
          10,
          9,
          9,
          10,
          11,
          7,
          8,
          7,
          8,
          9
         ],
         "yaxis": "y"
        },
        {
         "hovertemplate": "color=4<br>x=%{x}<br>y=%{y}<extra></extra>",
         "legendgroup": "4",
         "marker": {
          "color": "#EF553B",
          "symbol": "circle"
         },
         "mode": "markers",
         "name": "4",
         "orientation": "v",
         "showlegend": true,
         "type": "scatter",
         "x": [
          "bass",
          "carp",
          "catfish",
          "chub",
          "dogfish",
          "haddock",
          "herring",
          "pike",
          "piranha",
          "seahorse",
          "sole",
          "stingray",
          "tuna"
         ],
         "xaxis": "x",
         "y": [
          8,
          8,
          8,
          8,
          9,
          7,
          8,
          9,
          8,
          7,
          7,
          10,
          9
         ],
         "yaxis": "y"
        },
        {
         "hovertemplate": "color=2<br>x=%{x}<br>y=%{y}<extra></extra>",
         "legendgroup": "2",
         "marker": {
          "color": "#00cc96",
          "symbol": "circle"
         },
         "mode": "markers",
         "name": "2",
         "orientation": "v",
         "showlegend": true,
         "type": "scatter",
         "x": [
          "chicken",
          "crow",
          "dove",
          "duck",
          "flamingo",
          "gull",
          "hawk",
          "kiwi",
          "lark",
          "ostrich",
          "parakeet",
          "penguin",
          "pheasant",
          "rhea",
          "skimmer",
          "skua",
          "sparrow",
          "swan",
          "vulture",
          "wren"
         ],
         "xaxis": "x",
         "y": [
          8,
          8,
          8,
          8,
          8,
          9,
          8,
          7,
          7,
          7,
          8,
          9,
          7,
          8,
          9,
          9,
          7,
          9,
          9,
          7
         ],
         "yaxis": "y"
        },
        {
         "hovertemplate": "color=7<br>x=%{x}<br>y=%{y}<extra></extra>",
         "legendgroup": "7",
         "marker": {
          "color": "#ab63fa",
          "symbol": "circle"
         },
         "mode": "markers",
         "name": "7",
         "orientation": "v",
         "showlegend": true,
         "type": "scatter",
         "x": [
          "clam",
          "crab",
          "crayfish",
          "lobster",
          "octopus",
          "scorpion",
          "seawasp",
          "slug",
          "starfish",
          "worm"
         ],
         "xaxis": "x",
         "y": [
          3,
          4,
          4,
          4,
          5,
          5,
          5,
          3,
          4,
          3
         ],
         "yaxis": "y"
        },
        {
         "hovertemplate": "color=6<br>x=%{x}<br>y=%{y}<extra></extra>",
         "legendgroup": "6",
         "marker": {
          "color": "#FFA15A",
          "symbol": "circle"
         },
         "mode": "markers",
         "name": "6",
         "orientation": "v",
         "showlegend": true,
         "type": "scatter",
         "x": [
          "flea",
          "gnat",
          "honeybee",
          "housefly",
          "ladybird",
          "moth",
          "termite",
          "wasp"
         ],
         "xaxis": "x",
         "y": [
          3,
          4,
          7,
          5,
          5,
          5,
          3,
          6
         ],
         "yaxis": "y"
        },
        {
         "hovertemplate": "color=5<br>x=%{x}<br>y=%{y}<extra></extra>",
         "legendgroup": "5",
         "marker": {
          "color": "#19d3f3",
          "symbol": "circle"
         },
         "mode": "markers",
         "name": "5",
         "orientation": "v",
         "showlegend": true,
         "type": "scatter",
         "x": [
          "frog",
          "frog",
          "newt",
          "toad"
         ],
         "xaxis": "x",
         "y": [
          7,
          8,
          8,
          6
         ],
         "yaxis": "y"
        },
        {
         "hovertemplate": "color=3<br>x=%{x}<br>y=%{y}<extra></extra>",
         "legendgroup": "3",
         "marker": {
          "color": "#FF6692",
          "symbol": "circle"
         },
         "mode": "markers",
         "name": "3",
         "orientation": "v",
         "showlegend": true,
         "type": "scatter",
         "x": [
          "pitviper",
          "seasnake",
          "slowworm",
          "tortoise",
          "tuatara"
         ],
         "xaxis": "x",
         "y": [
          8,
          7,
          7,
          6,
          7
         ],
         "yaxis": "y"
        }
       ],
       "layout": {
        "legend": {
         "title": {
          "text": "color"
         },
         "tracegroupgap": 0
        },
        "template": {
         "data": {
          "bar": [
           {
            "error_x": {
             "color": "#2a3f5f"
            },
            "error_y": {
             "color": "#2a3f5f"
            },
            "marker": {
             "line": {
              "color": "#E5ECF6",
              "width": 0.5
             }
            },
            "type": "bar"
           }
          ],
          "barpolar": [
           {
            "marker": {
             "line": {
              "color": "#E5ECF6",
              "width": 0.5
             }
            },
            "type": "barpolar"
           }
          ],
          "carpet": [
           {
            "aaxis": {
             "endlinecolor": "#2a3f5f",
             "gridcolor": "white",
             "linecolor": "white",
             "minorgridcolor": "white",
             "startlinecolor": "#2a3f5f"
            },
            "baxis": {
             "endlinecolor": "#2a3f5f",
             "gridcolor": "white",
             "linecolor": "white",
             "minorgridcolor": "white",
             "startlinecolor": "#2a3f5f"
            },
            "type": "carpet"
           }
          ],
          "choropleth": [
           {
            "colorbar": {
             "outlinewidth": 0,
             "ticks": ""
            },
            "type": "choropleth"
           }
          ],
          "contour": [
           {
            "colorbar": {
             "outlinewidth": 0,
             "ticks": ""
            },
            "colorscale": [
             [
              0,
              "#0d0887"
             ],
             [
              0.1111111111111111,
              "#46039f"
             ],
             [
              0.2222222222222222,
              "#7201a8"
             ],
             [
              0.3333333333333333,
              "#9c179e"
             ],
             [
              0.4444444444444444,
              "#bd3786"
             ],
             [
              0.5555555555555556,
              "#d8576b"
             ],
             [
              0.6666666666666666,
              "#ed7953"
             ],
             [
              0.7777777777777778,
              "#fb9f3a"
             ],
             [
              0.8888888888888888,
              "#fdca26"
             ],
             [
              1,
              "#f0f921"
             ]
            ],
            "type": "contour"
           }
          ],
          "contourcarpet": [
           {
            "colorbar": {
             "outlinewidth": 0,
             "ticks": ""
            },
            "type": "contourcarpet"
           }
          ],
          "heatmap": [
           {
            "colorbar": {
             "outlinewidth": 0,
             "ticks": ""
            },
            "colorscale": [
             [
              0,
              "#0d0887"
             ],
             [
              0.1111111111111111,
              "#46039f"
             ],
             [
              0.2222222222222222,
              "#7201a8"
             ],
             [
              0.3333333333333333,
              "#9c179e"
             ],
             [
              0.4444444444444444,
              "#bd3786"
             ],
             [
              0.5555555555555556,
              "#d8576b"
             ],
             [
              0.6666666666666666,
              "#ed7953"
             ],
             [
              0.7777777777777778,
              "#fb9f3a"
             ],
             [
              0.8888888888888888,
              "#fdca26"
             ],
             [
              1,
              "#f0f921"
             ]
            ],
            "type": "heatmap"
           }
          ],
          "heatmapgl": [
           {
            "colorbar": {
             "outlinewidth": 0,
             "ticks": ""
            },
            "colorscale": [
             [
              0,
              "#0d0887"
             ],
             [
              0.1111111111111111,
              "#46039f"
             ],
             [
              0.2222222222222222,
              "#7201a8"
             ],
             [
              0.3333333333333333,
              "#9c179e"
             ],
             [
              0.4444444444444444,
              "#bd3786"
             ],
             [
              0.5555555555555556,
              "#d8576b"
             ],
             [
              0.6666666666666666,
              "#ed7953"
             ],
             [
              0.7777777777777778,
              "#fb9f3a"
             ],
             [
              0.8888888888888888,
              "#fdca26"
             ],
             [
              1,
              "#f0f921"
             ]
            ],
            "type": "heatmapgl"
           }
          ],
          "histogram": [
           {
            "marker": {
             "colorbar": {
              "outlinewidth": 0,
              "ticks": ""
             }
            },
            "type": "histogram"
           }
          ],
          "histogram2d": [
           {
            "colorbar": {
             "outlinewidth": 0,
             "ticks": ""
            },
            "colorscale": [
             [
              0,
              "#0d0887"
             ],
             [
              0.1111111111111111,
              "#46039f"
             ],
             [
              0.2222222222222222,
              "#7201a8"
             ],
             [
              0.3333333333333333,
              "#9c179e"
             ],
             [
              0.4444444444444444,
              "#bd3786"
             ],
             [
              0.5555555555555556,
              "#d8576b"
             ],
             [
              0.6666666666666666,
              "#ed7953"
             ],
             [
              0.7777777777777778,
              "#fb9f3a"
             ],
             [
              0.8888888888888888,
              "#fdca26"
             ],
             [
              1,
              "#f0f921"
             ]
            ],
            "type": "histogram2d"
           }
          ],
          "histogram2dcontour": [
           {
            "colorbar": {
             "outlinewidth": 0,
             "ticks": ""
            },
            "colorscale": [
             [
              0,
              "#0d0887"
             ],
             [
              0.1111111111111111,
              "#46039f"
             ],
             [
              0.2222222222222222,
              "#7201a8"
             ],
             [
              0.3333333333333333,
              "#9c179e"
             ],
             [
              0.4444444444444444,
              "#bd3786"
             ],
             [
              0.5555555555555556,
              "#d8576b"
             ],
             [
              0.6666666666666666,
              "#ed7953"
             ],
             [
              0.7777777777777778,
              "#fb9f3a"
             ],
             [
              0.8888888888888888,
              "#fdca26"
             ],
             [
              1,
              "#f0f921"
             ]
            ],
            "type": "histogram2dcontour"
           }
          ],
          "mesh3d": [
           {
            "colorbar": {
             "outlinewidth": 0,
             "ticks": ""
            },
            "type": "mesh3d"
           }
          ],
          "parcoords": [
           {
            "line": {
             "colorbar": {
              "outlinewidth": 0,
              "ticks": ""
             }
            },
            "type": "parcoords"
           }
          ],
          "pie": [
           {
            "automargin": true,
            "type": "pie"
           }
          ],
          "scatter": [
           {
            "marker": {
             "colorbar": {
              "outlinewidth": 0,
              "ticks": ""
             }
            },
            "type": "scatter"
           }
          ],
          "scatter3d": [
           {
            "line": {
             "colorbar": {
              "outlinewidth": 0,
              "ticks": ""
             }
            },
            "marker": {
             "colorbar": {
              "outlinewidth": 0,
              "ticks": ""
             }
            },
            "type": "scatter3d"
           }
          ],
          "scattercarpet": [
           {
            "marker": {
             "colorbar": {
              "outlinewidth": 0,
              "ticks": ""
             }
            },
            "type": "scattercarpet"
           }
          ],
          "scattergeo": [
           {
            "marker": {
             "colorbar": {
              "outlinewidth": 0,
              "ticks": ""
             }
            },
            "type": "scattergeo"
           }
          ],
          "scattergl": [
           {
            "marker": {
             "colorbar": {
              "outlinewidth": 0,
              "ticks": ""
             }
            },
            "type": "scattergl"
           }
          ],
          "scattermapbox": [
           {
            "marker": {
             "colorbar": {
              "outlinewidth": 0,
              "ticks": ""
             }
            },
            "type": "scattermapbox"
           }
          ],
          "scatterpolar": [
           {
            "marker": {
             "colorbar": {
              "outlinewidth": 0,
              "ticks": ""
             }
            },
            "type": "scatterpolar"
           }
          ],
          "scatterpolargl": [
           {
            "marker": {
             "colorbar": {
              "outlinewidth": 0,
              "ticks": ""
             }
            },
            "type": "scatterpolargl"
           }
          ],
          "scatterternary": [
           {
            "marker": {
             "colorbar": {
              "outlinewidth": 0,
              "ticks": ""
             }
            },
            "type": "scatterternary"
           }
          ],
          "surface": [
           {
            "colorbar": {
             "outlinewidth": 0,
             "ticks": ""
            },
            "colorscale": [
             [
              0,
              "#0d0887"
             ],
             [
              0.1111111111111111,
              "#46039f"
             ],
             [
              0.2222222222222222,
              "#7201a8"
             ],
             [
              0.3333333333333333,
              "#9c179e"
             ],
             [
              0.4444444444444444,
              "#bd3786"
             ],
             [
              0.5555555555555556,
              "#d8576b"
             ],
             [
              0.6666666666666666,
              "#ed7953"
             ],
             [
              0.7777777777777778,
              "#fb9f3a"
             ],
             [
              0.8888888888888888,
              "#fdca26"
             ],
             [
              1,
              "#f0f921"
             ]
            ],
            "type": "surface"
           }
          ],
          "table": [
           {
            "cells": {
             "fill": {
              "color": "#EBF0F8"
             },
             "line": {
              "color": "white"
             }
            },
            "header": {
             "fill": {
              "color": "#C8D4E3"
             },
             "line": {
              "color": "white"
             }
            },
            "type": "table"
           }
          ]
         },
         "layout": {
          "annotationdefaults": {
           "arrowcolor": "#2a3f5f",
           "arrowhead": 0,
           "arrowwidth": 1
          },
          "coloraxis": {
           "colorbar": {
            "outlinewidth": 0,
            "ticks": ""
           }
          },
          "colorscale": {
           "diverging": [
            [
             0,
             "#8e0152"
            ],
            [
             0.1,
             "#c51b7d"
            ],
            [
             0.2,
             "#de77ae"
            ],
            [
             0.3,
             "#f1b6da"
            ],
            [
             0.4,
             "#fde0ef"
            ],
            [
             0.5,
             "#f7f7f7"
            ],
            [
             0.6,
             "#e6f5d0"
            ],
            [
             0.7,
             "#b8e186"
            ],
            [
             0.8,
             "#7fbc41"
            ],
            [
             0.9,
             "#4d9221"
            ],
            [
             1,
             "#276419"
            ]
           ],
           "sequential": [
            [
             0,
             "#0d0887"
            ],
            [
             0.1111111111111111,
             "#46039f"
            ],
            [
             0.2222222222222222,
             "#7201a8"
            ],
            [
             0.3333333333333333,
             "#9c179e"
            ],
            [
             0.4444444444444444,
             "#bd3786"
            ],
            [
             0.5555555555555556,
             "#d8576b"
            ],
            [
             0.6666666666666666,
             "#ed7953"
            ],
            [
             0.7777777777777778,
             "#fb9f3a"
            ],
            [
             0.8888888888888888,
             "#fdca26"
            ],
            [
             1,
             "#f0f921"
            ]
           ],
           "sequentialminus": [
            [
             0,
             "#0d0887"
            ],
            [
             0.1111111111111111,
             "#46039f"
            ],
            [
             0.2222222222222222,
             "#7201a8"
            ],
            [
             0.3333333333333333,
             "#9c179e"
            ],
            [
             0.4444444444444444,
             "#bd3786"
            ],
            [
             0.5555555555555556,
             "#d8576b"
            ],
            [
             0.6666666666666666,
             "#ed7953"
            ],
            [
             0.7777777777777778,
             "#fb9f3a"
            ],
            [
             0.8888888888888888,
             "#fdca26"
            ],
            [
             1,
             "#f0f921"
            ]
           ]
          },
          "colorway": [
           "#636efa",
           "#EF553B",
           "#00cc96",
           "#ab63fa",
           "#FFA15A",
           "#19d3f3",
           "#FF6692",
           "#B6E880",
           "#FF97FF",
           "#FECB52"
          ],
          "font": {
           "color": "#2a3f5f"
          },
          "geo": {
           "bgcolor": "white",
           "lakecolor": "white",
           "landcolor": "#E5ECF6",
           "showlakes": true,
           "showland": true,
           "subunitcolor": "white"
          },
          "hoverlabel": {
           "align": "left"
          },
          "hovermode": "closest",
          "mapbox": {
           "style": "light"
          },
          "paper_bgcolor": "white",
          "plot_bgcolor": "#E5ECF6",
          "polar": {
           "angularaxis": {
            "gridcolor": "white",
            "linecolor": "white",
            "ticks": ""
           },
           "bgcolor": "#E5ECF6",
           "radialaxis": {
            "gridcolor": "white",
            "linecolor": "white",
            "ticks": ""
           }
          },
          "scene": {
           "xaxis": {
            "backgroundcolor": "#E5ECF6",
            "gridcolor": "white",
            "gridwidth": 2,
            "linecolor": "white",
            "showbackground": true,
            "ticks": "",
            "zerolinecolor": "white"
           },
           "yaxis": {
            "backgroundcolor": "#E5ECF6",
            "gridcolor": "white",
            "gridwidth": 2,
            "linecolor": "white",
            "showbackground": true,
            "ticks": "",
            "zerolinecolor": "white"
           },
           "zaxis": {
            "backgroundcolor": "#E5ECF6",
            "gridcolor": "white",
            "gridwidth": 2,
            "linecolor": "white",
            "showbackground": true,
            "ticks": "",
            "zerolinecolor": "white"
           }
          },
          "shapedefaults": {
           "line": {
            "color": "#2a3f5f"
           }
          },
          "ternary": {
           "aaxis": {
            "gridcolor": "white",
            "linecolor": "white",
            "ticks": ""
           },
           "baxis": {
            "gridcolor": "white",
            "linecolor": "white",
            "ticks": ""
           },
           "bgcolor": "#E5ECF6",
           "caxis": {
            "gridcolor": "white",
            "linecolor": "white",
            "ticks": ""
           }
          },
          "title": {
           "x": 0.05
          },
          "xaxis": {
           "automargin": true,
           "gridcolor": "white",
           "linecolor": "white",
           "ticks": "",
           "title": {
            "standoff": 15
           },
           "zerolinecolor": "white",
           "zerolinewidth": 2
          },
          "yaxis": {
           "automargin": true,
           "gridcolor": "white",
           "linecolor": "white",
           "ticks": "",
           "title": {
            "standoff": 15
           },
           "zerolinecolor": "white",
           "zerolinewidth": 2
          }
         }
        },
        "title": {
         "text": "sum of features"
        },
        "xaxis": {
         "anchor": "y",
         "domain": [
          0,
          1
         ],
         "title": {
          "text": "x"
         }
        },
        "yaxis": {
         "anchor": "x",
         "domain": [
          0,
          1
         ],
         "title": {
          "text": "y"
         }
        }
       }
      }
     },
     "metadata": {}
    }
   ],
   "source": [
    "fig = ex.scatter(x=df[\"name\"], y=[np.sum(f) for f in df[\"features\"]], color=df[\"type\"], title=\"sum of features\")\n",
    "fig.show()"
   ]
  },
  {
   "cell_type": "code",
   "execution_count": 5,
   "metadata": {},
   "outputs": [
    {
     "output_type": "display_data",
     "data": {
      "application/vnd.plotly.v1+json": {
       "config": {
        "plotlyServerURL": "https://plot.ly"
       },
       "data": [
        {
         "hovertemplate": "color=1<br>x=%{x}<br>y=%{y}<extra></extra>",
         "legendgroup": "1",
         "marker": {
          "color": "#636efa",
          "symbol": "circle"
         },
         "mode": "markers",
         "name": "1",
         "orientation": "v",
         "showlegend": true,
         "type": "scatter",
         "x": [
          "aardvark",
          "antelope",
          "bear",
          "boar",
          "buffalo",
          "calf",
          "cavy",
          "cheetah",
          "deer",
          "dolphin",
          "elephant",
          "fruitbat",
          "giraffe",
          "girl",
          "goat",
          "gorilla",
          "hamster",
          "hare",
          "leopard",
          "lion",
          "lynx",
          "mink",
          "mole",
          "mongoose",
          "opossum",
          "oryx",
          "platypus",
          "polecat",
          "pony",
          "porpoise",
          "puma",
          "pussycat",
          "raccoon",
          "reindeer",
          "seal",
          "sealion",
          "squirrel",
          "vampire",
          "vole",
          "wallaby",
          "wolf"
         ],
         "xaxis": "x",
         "y": [
          20.20710013784087,
          20.187748342319892,
          20.20710013784087,
          20.207405225974576,
          20.187748342319892,
          20.18790295440638,
          20.187516393117697,
          20.207405225974576,
          20.187748342319892,
          17.57624812984325,
          20.187748342319892,
          20.264754124208267,
          20.187748342319892,
          20.207262223945023,
          20.18790295440638,
          20.18744873424191,
          20.187825650434338,
          20.1876710300626,
          20.207405225974576,
          20.207405225974576,
          20.207405225974576,
          20.245933309469834,
          20.207328959989432,
          20.207405225974576,
          20.207328959989432,
          20.187748342319892,
          20.514043644269822,
          20.207405225974576,
          20.18790295440638,
          17.57624812984325,
          20.207405225974576,
          20.207557745850856,
          20.207405225974576,
          20.18790295440638,
          20.246258135228803,
          20.24653649911013,
          20.187680694321337,
          20.264754124208267,
          20.1876710300626,
          20.18775800606075,
          20.207405225974576
         ],
         "yaxis": "y"
        },
        {
         "hovertemplate": "color=4<br>x=%{x}<br>y=%{y}<extra></extra>",
         "legendgroup": "4",
         "marker": {
          "color": "#EF553B",
          "symbol": "circle"
         },
         "mode": "markers",
         "name": "4",
         "orientation": "v",
         "showlegend": true,
         "type": "scatter",
         "x": [
          "bass",
          "carp",
          "catfish",
          "chub",
          "dogfish",
          "haddock",
          "herring",
          "pike",
          "piranha",
          "seahorse",
          "sole",
          "stingray",
          "tuna"
         ],
         "xaxis": "x",
         "y": [
          18.307343135884956,
          18.233170262382707,
          18.307343135884956,
          18.307343135884956,
          18.307627747257136,
          18.232570825356987,
          18.307343135884956,
          18.307627747257136,
          18.307343135884956,
          18.232570825356987,
          18.232570825356987,
          18.312173909690447,
          18.307627747257136
         ],
         "yaxis": "y"
        },
        {
         "hovertemplate": "color=2<br>x=%{x}<br>y=%{y}<extra></extra>",
         "legendgroup": "2",
         "marker": {
          "color": "#00cc96",
          "symbol": "circle"
         },
         "mode": "markers",
         "name": "2",
         "orientation": "v",
         "showlegend": true,
         "type": "scatter",
         "x": [
          "chicken",
          "crow",
          "dove",
          "duck",
          "flamingo",
          "gull",
          "hawk",
          "kiwi",
          "lark",
          "ostrich",
          "parakeet",
          "penguin",
          "pheasant",
          "rhea",
          "skimmer",
          "skua",
          "sparrow",
          "swan",
          "vulture",
          "wren"
         ],
         "xaxis": "x",
         "y": [
          19.71147877432467,
          19.738540920376426,
          19.71147877432467,
          19.76531200151903,
          19.711371220878277,
          19.79159534728773,
          19.738540920376426,
          19.62619384491198,
          19.711263659413138,
          19.596801234176404,
          19.71147877432467,
          19.683570362091572,
          19.711263659413138,
          19.626307939302272,
          19.79159534728773,
          19.79159534728773,
          19.711263659413138,
          19.765415608049953,
          19.738646467338768,
          19.711263659413138
         ],
         "yaxis": "y"
        },
        {
         "hovertemplate": "color=7<br>x=%{x}<br>y=%{y}<extra></extra>",
         "legendgroup": "7",
         "marker": {
          "color": "#ab63fa",
          "symbol": "circle"
         },
         "mode": "markers",
         "name": "7",
         "orientation": "v",
         "showlegend": true,
         "type": "scatter",
         "x": [
          "clam",
          "crab",
          "crayfish",
          "lobster",
          "octopus",
          "scorpion",
          "seawasp",
          "slug",
          "starfish",
          "worm"
         ],
         "xaxis": "x",
         "y": [
          18.087628582538464,
          18.247964588806028,
          18.247946051243904,
          18.247946051243904,
          18.248233356693188,
          14.266932910607357,
          18.252813241993014,
          18.011401989880063,
          18.247946051243904,
          18.011401989880063
         ],
         "yaxis": "y"
        },
        {
         "hovertemplate": "color=6<br>x=%{x}<br>y=%{y}<extra></extra>",
         "legendgroup": "6",
         "marker": {
          "color": "#FFA15A",
          "symbol": "circle"
         },
         "mode": "markers",
         "name": "6",
         "orientation": "v",
         "showlegend": true,
         "type": "scatter",
         "x": [
          "flea",
          "gnat",
          "honeybee",
          "housefly",
          "ladybird",
          "moth",
          "termite",
          "wasp"
         ],
         "xaxis": "x",
         "y": [
          18.011249098387758,
          18.33093437964667,
          20.395672193004632,
          20.3944668814746,
          18.400896109344135,
          20.3944668814746,
          18.011249098387758,
          20.395538319218304
         ],
         "yaxis": "y"
        },
        {
         "hovertemplate": "color=5<br>x=%{x}<br>y=%{y}<extra></extra>",
         "legendgroup": "5",
         "marker": {
          "color": "#19d3f3",
          "symbol": "circle"
         },
         "mode": "markers",
         "name": "5",
         "orientation": "v",
         "showlegend": true,
         "type": "scatter",
         "x": [
          "frog",
          "frog",
          "newt",
          "toad"
         ],
         "xaxis": "x",
         "y": [
          18.312918398418184,
          18.317447945793056,
          18.31405211919332,
          18.238442060216546
         ],
         "yaxis": "y"
        },
        {
         "hovertemplate": "color=3<br>x=%{x}<br>y=%{y}<extra></extra>",
         "legendgroup": "3",
         "marker": {
          "color": "#FF6692",
          "symbol": "circle"
         },
         "mode": "markers",
         "name": "3",
         "orientation": "v",
         "showlegend": true,
         "type": "scatter",
         "x": [
          "pitviper",
          "seasnake",
          "slowworm",
          "tortoise",
          "tuatara"
         ],
         "xaxis": "x",
         "y": [
          18.16632002526698,
          15.93737382019215,
          18.16128937384641,
          18.035185715289927,
          18.161171257311647
         ],
         "yaxis": "y"
        }
       ],
       "layout": {
        "legend": {
         "title": {
          "text": "color"
         },
         "tracegroupgap": 0
        },
        "template": {
         "data": {
          "bar": [
           {
            "error_x": {
             "color": "#2a3f5f"
            },
            "error_y": {
             "color": "#2a3f5f"
            },
            "marker": {
             "line": {
              "color": "#E5ECF6",
              "width": 0.5
             }
            },
            "type": "bar"
           }
          ],
          "barpolar": [
           {
            "marker": {
             "line": {
              "color": "#E5ECF6",
              "width": 0.5
             }
            },
            "type": "barpolar"
           }
          ],
          "carpet": [
           {
            "aaxis": {
             "endlinecolor": "#2a3f5f",
             "gridcolor": "white",
             "linecolor": "white",
             "minorgridcolor": "white",
             "startlinecolor": "#2a3f5f"
            },
            "baxis": {
             "endlinecolor": "#2a3f5f",
             "gridcolor": "white",
             "linecolor": "white",
             "minorgridcolor": "white",
             "startlinecolor": "#2a3f5f"
            },
            "type": "carpet"
           }
          ],
          "choropleth": [
           {
            "colorbar": {
             "outlinewidth": 0,
             "ticks": ""
            },
            "type": "choropleth"
           }
          ],
          "contour": [
           {
            "colorbar": {
             "outlinewidth": 0,
             "ticks": ""
            },
            "colorscale": [
             [
              0,
              "#0d0887"
             ],
             [
              0.1111111111111111,
              "#46039f"
             ],
             [
              0.2222222222222222,
              "#7201a8"
             ],
             [
              0.3333333333333333,
              "#9c179e"
             ],
             [
              0.4444444444444444,
              "#bd3786"
             ],
             [
              0.5555555555555556,
              "#d8576b"
             ],
             [
              0.6666666666666666,
              "#ed7953"
             ],
             [
              0.7777777777777778,
              "#fb9f3a"
             ],
             [
              0.8888888888888888,
              "#fdca26"
             ],
             [
              1,
              "#f0f921"
             ]
            ],
            "type": "contour"
           }
          ],
          "contourcarpet": [
           {
            "colorbar": {
             "outlinewidth": 0,
             "ticks": ""
            },
            "type": "contourcarpet"
           }
          ],
          "heatmap": [
           {
            "colorbar": {
             "outlinewidth": 0,
             "ticks": ""
            },
            "colorscale": [
             [
              0,
              "#0d0887"
             ],
             [
              0.1111111111111111,
              "#46039f"
             ],
             [
              0.2222222222222222,
              "#7201a8"
             ],
             [
              0.3333333333333333,
              "#9c179e"
             ],
             [
              0.4444444444444444,
              "#bd3786"
             ],
             [
              0.5555555555555556,
              "#d8576b"
             ],
             [
              0.6666666666666666,
              "#ed7953"
             ],
             [
              0.7777777777777778,
              "#fb9f3a"
             ],
             [
              0.8888888888888888,
              "#fdca26"
             ],
             [
              1,
              "#f0f921"
             ]
            ],
            "type": "heatmap"
           }
          ],
          "heatmapgl": [
           {
            "colorbar": {
             "outlinewidth": 0,
             "ticks": ""
            },
            "colorscale": [
             [
              0,
              "#0d0887"
             ],
             [
              0.1111111111111111,
              "#46039f"
             ],
             [
              0.2222222222222222,
              "#7201a8"
             ],
             [
              0.3333333333333333,
              "#9c179e"
             ],
             [
              0.4444444444444444,
              "#bd3786"
             ],
             [
              0.5555555555555556,
              "#d8576b"
             ],
             [
              0.6666666666666666,
              "#ed7953"
             ],
             [
              0.7777777777777778,
              "#fb9f3a"
             ],
             [
              0.8888888888888888,
              "#fdca26"
             ],
             [
              1,
              "#f0f921"
             ]
            ],
            "type": "heatmapgl"
           }
          ],
          "histogram": [
           {
            "marker": {
             "colorbar": {
              "outlinewidth": 0,
              "ticks": ""
             }
            },
            "type": "histogram"
           }
          ],
          "histogram2d": [
           {
            "colorbar": {
             "outlinewidth": 0,
             "ticks": ""
            },
            "colorscale": [
             [
              0,
              "#0d0887"
             ],
             [
              0.1111111111111111,
              "#46039f"
             ],
             [
              0.2222222222222222,
              "#7201a8"
             ],
             [
              0.3333333333333333,
              "#9c179e"
             ],
             [
              0.4444444444444444,
              "#bd3786"
             ],
             [
              0.5555555555555556,
              "#d8576b"
             ],
             [
              0.6666666666666666,
              "#ed7953"
             ],
             [
              0.7777777777777778,
              "#fb9f3a"
             ],
             [
              0.8888888888888888,
              "#fdca26"
             ],
             [
              1,
              "#f0f921"
             ]
            ],
            "type": "histogram2d"
           }
          ],
          "histogram2dcontour": [
           {
            "colorbar": {
             "outlinewidth": 0,
             "ticks": ""
            },
            "colorscale": [
             [
              0,
              "#0d0887"
             ],
             [
              0.1111111111111111,
              "#46039f"
             ],
             [
              0.2222222222222222,
              "#7201a8"
             ],
             [
              0.3333333333333333,
              "#9c179e"
             ],
             [
              0.4444444444444444,
              "#bd3786"
             ],
             [
              0.5555555555555556,
              "#d8576b"
             ],
             [
              0.6666666666666666,
              "#ed7953"
             ],
             [
              0.7777777777777778,
              "#fb9f3a"
             ],
             [
              0.8888888888888888,
              "#fdca26"
             ],
             [
              1,
              "#f0f921"
             ]
            ],
            "type": "histogram2dcontour"
           }
          ],
          "mesh3d": [
           {
            "colorbar": {
             "outlinewidth": 0,
             "ticks": ""
            },
            "type": "mesh3d"
           }
          ],
          "parcoords": [
           {
            "line": {
             "colorbar": {
              "outlinewidth": 0,
              "ticks": ""
             }
            },
            "type": "parcoords"
           }
          ],
          "pie": [
           {
            "automargin": true,
            "type": "pie"
           }
          ],
          "scatter": [
           {
            "marker": {
             "colorbar": {
              "outlinewidth": 0,
              "ticks": ""
             }
            },
            "type": "scatter"
           }
          ],
          "scatter3d": [
           {
            "line": {
             "colorbar": {
              "outlinewidth": 0,
              "ticks": ""
             }
            },
            "marker": {
             "colorbar": {
              "outlinewidth": 0,
              "ticks": ""
             }
            },
            "type": "scatter3d"
           }
          ],
          "scattercarpet": [
           {
            "marker": {
             "colorbar": {
              "outlinewidth": 0,
              "ticks": ""
             }
            },
            "type": "scattercarpet"
           }
          ],
          "scattergeo": [
           {
            "marker": {
             "colorbar": {
              "outlinewidth": 0,
              "ticks": ""
             }
            },
            "type": "scattergeo"
           }
          ],
          "scattergl": [
           {
            "marker": {
             "colorbar": {
              "outlinewidth": 0,
              "ticks": ""
             }
            },
            "type": "scattergl"
           }
          ],
          "scattermapbox": [
           {
            "marker": {
             "colorbar": {
              "outlinewidth": 0,
              "ticks": ""
             }
            },
            "type": "scattermapbox"
           }
          ],
          "scatterpolar": [
           {
            "marker": {
             "colorbar": {
              "outlinewidth": 0,
              "ticks": ""
             }
            },
            "type": "scatterpolar"
           }
          ],
          "scatterpolargl": [
           {
            "marker": {
             "colorbar": {
              "outlinewidth": 0,
              "ticks": ""
             }
            },
            "type": "scatterpolargl"
           }
          ],
          "scatterternary": [
           {
            "marker": {
             "colorbar": {
              "outlinewidth": 0,
              "ticks": ""
             }
            },
            "type": "scatterternary"
           }
          ],
          "surface": [
           {
            "colorbar": {
             "outlinewidth": 0,
             "ticks": ""
            },
            "colorscale": [
             [
              0,
              "#0d0887"
             ],
             [
              0.1111111111111111,
              "#46039f"
             ],
             [
              0.2222222222222222,
              "#7201a8"
             ],
             [
              0.3333333333333333,
              "#9c179e"
             ],
             [
              0.4444444444444444,
              "#bd3786"
             ],
             [
              0.5555555555555556,
              "#d8576b"
             ],
             [
              0.6666666666666666,
              "#ed7953"
             ],
             [
              0.7777777777777778,
              "#fb9f3a"
             ],
             [
              0.8888888888888888,
              "#fdca26"
             ],
             [
              1,
              "#f0f921"
             ]
            ],
            "type": "surface"
           }
          ],
          "table": [
           {
            "cells": {
             "fill": {
              "color": "#EBF0F8"
             },
             "line": {
              "color": "white"
             }
            },
            "header": {
             "fill": {
              "color": "#C8D4E3"
             },
             "line": {
              "color": "white"
             }
            },
            "type": "table"
           }
          ]
         },
         "layout": {
          "annotationdefaults": {
           "arrowcolor": "#2a3f5f",
           "arrowhead": 0,
           "arrowwidth": 1
          },
          "coloraxis": {
           "colorbar": {
            "outlinewidth": 0,
            "ticks": ""
           }
          },
          "colorscale": {
           "diverging": [
            [
             0,
             "#8e0152"
            ],
            [
             0.1,
             "#c51b7d"
            ],
            [
             0.2,
             "#de77ae"
            ],
            [
             0.3,
             "#f1b6da"
            ],
            [
             0.4,
             "#fde0ef"
            ],
            [
             0.5,
             "#f7f7f7"
            ],
            [
             0.6,
             "#e6f5d0"
            ],
            [
             0.7,
             "#b8e186"
            ],
            [
             0.8,
             "#7fbc41"
            ],
            [
             0.9,
             "#4d9221"
            ],
            [
             1,
             "#276419"
            ]
           ],
           "sequential": [
            [
             0,
             "#0d0887"
            ],
            [
             0.1111111111111111,
             "#46039f"
            ],
            [
             0.2222222222222222,
             "#7201a8"
            ],
            [
             0.3333333333333333,
             "#9c179e"
            ],
            [
             0.4444444444444444,
             "#bd3786"
            ],
            [
             0.5555555555555556,
             "#d8576b"
            ],
            [
             0.6666666666666666,
             "#ed7953"
            ],
            [
             0.7777777777777778,
             "#fb9f3a"
            ],
            [
             0.8888888888888888,
             "#fdca26"
            ],
            [
             1,
             "#f0f921"
            ]
           ],
           "sequentialminus": [
            [
             0,
             "#0d0887"
            ],
            [
             0.1111111111111111,
             "#46039f"
            ],
            [
             0.2222222222222222,
             "#7201a8"
            ],
            [
             0.3333333333333333,
             "#9c179e"
            ],
            [
             0.4444444444444444,
             "#bd3786"
            ],
            [
             0.5555555555555556,
             "#d8576b"
            ],
            [
             0.6666666666666666,
             "#ed7953"
            ],
            [
             0.7777777777777778,
             "#fb9f3a"
            ],
            [
             0.8888888888888888,
             "#fdca26"
            ],
            [
             1,
             "#f0f921"
            ]
           ]
          },
          "colorway": [
           "#636efa",
           "#EF553B",
           "#00cc96",
           "#ab63fa",
           "#FFA15A",
           "#19d3f3",
           "#FF6692",
           "#B6E880",
           "#FF97FF",
           "#FECB52"
          ],
          "font": {
           "color": "#2a3f5f"
          },
          "geo": {
           "bgcolor": "white",
           "lakecolor": "white",
           "landcolor": "#E5ECF6",
           "showlakes": true,
           "showland": true,
           "subunitcolor": "white"
          },
          "hoverlabel": {
           "align": "left"
          },
          "hovermode": "closest",
          "mapbox": {
           "style": "light"
          },
          "paper_bgcolor": "white",
          "plot_bgcolor": "#E5ECF6",
          "polar": {
           "angularaxis": {
            "gridcolor": "white",
            "linecolor": "white",
            "ticks": ""
           },
           "bgcolor": "#E5ECF6",
           "radialaxis": {
            "gridcolor": "white",
            "linecolor": "white",
            "ticks": ""
           }
          },
          "scene": {
           "xaxis": {
            "backgroundcolor": "#E5ECF6",
            "gridcolor": "white",
            "gridwidth": 2,
            "linecolor": "white",
            "showbackground": true,
            "ticks": "",
            "zerolinecolor": "white"
           },
           "yaxis": {
            "backgroundcolor": "#E5ECF6",
            "gridcolor": "white",
            "gridwidth": 2,
            "linecolor": "white",
            "showbackground": true,
            "ticks": "",
            "zerolinecolor": "white"
           },
           "zaxis": {
            "backgroundcolor": "#E5ECF6",
            "gridcolor": "white",
            "gridwidth": 2,
            "linecolor": "white",
            "showbackground": true,
            "ticks": "",
            "zerolinecolor": "white"
           }
          },
          "shapedefaults": {
           "line": {
            "color": "#2a3f5f"
           }
          },
          "ternary": {
           "aaxis": {
            "gridcolor": "white",
            "linecolor": "white",
            "ticks": ""
           },
           "baxis": {
            "gridcolor": "white",
            "linecolor": "white",
            "ticks": ""
           },
           "bgcolor": "#E5ECF6",
           "caxis": {
            "gridcolor": "white",
            "linecolor": "white",
            "ticks": ""
           }
          },
          "title": {
           "x": 0.05
          },
          "xaxis": {
           "automargin": true,
           "gridcolor": "white",
           "linecolor": "white",
           "ticks": "",
           "title": {
            "standoff": 15
           },
           "zerolinecolor": "white",
           "zerolinewidth": 2
          },
          "yaxis": {
           "automargin": true,
           "gridcolor": "white",
           "linecolor": "white",
           "ticks": "",
           "title": {
            "standoff": 15
           },
           "zerolinecolor": "white",
           "zerolinewidth": 2
          }
         }
        },
        "title": {
         "text": "Log2 features (as binary)"
        },
        "xaxis": {
         "anchor": "y",
         "domain": [
          0,
          1
         ],
         "title": {
          "text": "x"
         }
        },
        "yaxis": {
         "anchor": "x",
         "domain": [
          0,
          1
         ],
         "title": {
          "text": "y"
         }
        }
       }
      }
     },
     "metadata": {}
    }
   ],
   "source": [
    "fig = ex.scatter(x=df[\"name\"], y=[np.log2(int(\"\".join(str(int(d)) for d in f), 2)) for f in df[\"features\"]], color=df[\"type\"], title=\"Log2 features (as binary)\")\n",
    "fig.show()"
   ]
  },
  {
   "cell_type": "code",
   "execution_count": 6,
   "metadata": {},
   "outputs": [],
   "source": [
    "X = np.asarray([f for f in df[\"features\"]])"
   ]
  },
  {
   "source": [
    "## PCA\n"
   ],
   "cell_type": "markdown",
   "metadata": {}
  },
  {
   "cell_type": "code",
   "execution_count": 80,
   "metadata": {},
   "outputs": [],
   "source": [
    "pca = PCA()\n",
    "model = pca.fit(X)"
   ]
  },
  {
   "cell_type": "code",
   "execution_count": 90,
   "metadata": {},
   "outputs": [
    {
     "output_type": "display_data",
     "data": {
      "application/vnd.plotly.v1+json": {
       "config": {
        "plotlyServerURL": "https://plot.ly"
       },
       "data": [
        {
         "hovertemplate": "x=%{x}<br>y=%{y}<extra></extra>",
         "legendgroup": "",
         "line": {
          "color": "#636efa",
          "dash": "solid"
         },
         "mode": "lines",
         "name": "",
         "orientation": "v",
         "showlegend": false,
         "type": "scatter",
         "x": [
          0,
          1,
          2,
          3,
          4,
          5,
          6,
          7,
          8,
          9,
          10,
          11,
          12,
          13,
          14,
          15,
          16,
          17,
          18,
          19,
          20
         ],
         "xaxis": "x",
         "y": [
          33.7702522277832,
          20.444082260131836,
          13.026142120361328,
          7.196887493133545,
          4.834027290344238,
          3.9085333347320557,
          3.2675068378448486,
          2.6713693141937256,
          2.2642219066619873,
          1.9060850143432617,
          1.8665426969528198,
          1.2435487508773804,
          1.151431918144226,
          0.8119351267814636,
          0.5856631994247437,
          0.4990748167037964,
          0.2875613868236542,
          0.16933083534240723,
          0.09579817950725555,
          6.105668271319531e-14,
          0
         ],
         "yaxis": "y"
        }
       ],
       "layout": {
        "legend": {
         "tracegroupgap": 0
        },
        "template": {
         "data": {
          "bar": [
           {
            "error_x": {
             "color": "#2a3f5f"
            },
            "error_y": {
             "color": "#2a3f5f"
            },
            "marker": {
             "line": {
              "color": "#E5ECF6",
              "width": 0.5
             }
            },
            "type": "bar"
           }
          ],
          "barpolar": [
           {
            "marker": {
             "line": {
              "color": "#E5ECF6",
              "width": 0.5
             }
            },
            "type": "barpolar"
           }
          ],
          "carpet": [
           {
            "aaxis": {
             "endlinecolor": "#2a3f5f",
             "gridcolor": "white",
             "linecolor": "white",
             "minorgridcolor": "white",
             "startlinecolor": "#2a3f5f"
            },
            "baxis": {
             "endlinecolor": "#2a3f5f",
             "gridcolor": "white",
             "linecolor": "white",
             "minorgridcolor": "white",
             "startlinecolor": "#2a3f5f"
            },
            "type": "carpet"
           }
          ],
          "choropleth": [
           {
            "colorbar": {
             "outlinewidth": 0,
             "ticks": ""
            },
            "type": "choropleth"
           }
          ],
          "contour": [
           {
            "colorbar": {
             "outlinewidth": 0,
             "ticks": ""
            },
            "colorscale": [
             [
              0,
              "#0d0887"
             ],
             [
              0.1111111111111111,
              "#46039f"
             ],
             [
              0.2222222222222222,
              "#7201a8"
             ],
             [
              0.3333333333333333,
              "#9c179e"
             ],
             [
              0.4444444444444444,
              "#bd3786"
             ],
             [
              0.5555555555555556,
              "#d8576b"
             ],
             [
              0.6666666666666666,
              "#ed7953"
             ],
             [
              0.7777777777777778,
              "#fb9f3a"
             ],
             [
              0.8888888888888888,
              "#fdca26"
             ],
             [
              1,
              "#f0f921"
             ]
            ],
            "type": "contour"
           }
          ],
          "contourcarpet": [
           {
            "colorbar": {
             "outlinewidth": 0,
             "ticks": ""
            },
            "type": "contourcarpet"
           }
          ],
          "heatmap": [
           {
            "colorbar": {
             "outlinewidth": 0,
             "ticks": ""
            },
            "colorscale": [
             [
              0,
              "#0d0887"
             ],
             [
              0.1111111111111111,
              "#46039f"
             ],
             [
              0.2222222222222222,
              "#7201a8"
             ],
             [
              0.3333333333333333,
              "#9c179e"
             ],
             [
              0.4444444444444444,
              "#bd3786"
             ],
             [
              0.5555555555555556,
              "#d8576b"
             ],
             [
              0.6666666666666666,
              "#ed7953"
             ],
             [
              0.7777777777777778,
              "#fb9f3a"
             ],
             [
              0.8888888888888888,
              "#fdca26"
             ],
             [
              1,
              "#f0f921"
             ]
            ],
            "type": "heatmap"
           }
          ],
          "heatmapgl": [
           {
            "colorbar": {
             "outlinewidth": 0,
             "ticks": ""
            },
            "colorscale": [
             [
              0,
              "#0d0887"
             ],
             [
              0.1111111111111111,
              "#46039f"
             ],
             [
              0.2222222222222222,
              "#7201a8"
             ],
             [
              0.3333333333333333,
              "#9c179e"
             ],
             [
              0.4444444444444444,
              "#bd3786"
             ],
             [
              0.5555555555555556,
              "#d8576b"
             ],
             [
              0.6666666666666666,
              "#ed7953"
             ],
             [
              0.7777777777777778,
              "#fb9f3a"
             ],
             [
              0.8888888888888888,
              "#fdca26"
             ],
             [
              1,
              "#f0f921"
             ]
            ],
            "type": "heatmapgl"
           }
          ],
          "histogram": [
           {
            "marker": {
             "colorbar": {
              "outlinewidth": 0,
              "ticks": ""
             }
            },
            "type": "histogram"
           }
          ],
          "histogram2d": [
           {
            "colorbar": {
             "outlinewidth": 0,
             "ticks": ""
            },
            "colorscale": [
             [
              0,
              "#0d0887"
             ],
             [
              0.1111111111111111,
              "#46039f"
             ],
             [
              0.2222222222222222,
              "#7201a8"
             ],
             [
              0.3333333333333333,
              "#9c179e"
             ],
             [
              0.4444444444444444,
              "#bd3786"
             ],
             [
              0.5555555555555556,
              "#d8576b"
             ],
             [
              0.6666666666666666,
              "#ed7953"
             ],
             [
              0.7777777777777778,
              "#fb9f3a"
             ],
             [
              0.8888888888888888,
              "#fdca26"
             ],
             [
              1,
              "#f0f921"
             ]
            ],
            "type": "histogram2d"
           }
          ],
          "histogram2dcontour": [
           {
            "colorbar": {
             "outlinewidth": 0,
             "ticks": ""
            },
            "colorscale": [
             [
              0,
              "#0d0887"
             ],
             [
              0.1111111111111111,
              "#46039f"
             ],
             [
              0.2222222222222222,
              "#7201a8"
             ],
             [
              0.3333333333333333,
              "#9c179e"
             ],
             [
              0.4444444444444444,
              "#bd3786"
             ],
             [
              0.5555555555555556,
              "#d8576b"
             ],
             [
              0.6666666666666666,
              "#ed7953"
             ],
             [
              0.7777777777777778,
              "#fb9f3a"
             ],
             [
              0.8888888888888888,
              "#fdca26"
             ],
             [
              1,
              "#f0f921"
             ]
            ],
            "type": "histogram2dcontour"
           }
          ],
          "mesh3d": [
           {
            "colorbar": {
             "outlinewidth": 0,
             "ticks": ""
            },
            "type": "mesh3d"
           }
          ],
          "parcoords": [
           {
            "line": {
             "colorbar": {
              "outlinewidth": 0,
              "ticks": ""
             }
            },
            "type": "parcoords"
           }
          ],
          "pie": [
           {
            "automargin": true,
            "type": "pie"
           }
          ],
          "scatter": [
           {
            "marker": {
             "colorbar": {
              "outlinewidth": 0,
              "ticks": ""
             }
            },
            "type": "scatter"
           }
          ],
          "scatter3d": [
           {
            "line": {
             "colorbar": {
              "outlinewidth": 0,
              "ticks": ""
             }
            },
            "marker": {
             "colorbar": {
              "outlinewidth": 0,
              "ticks": ""
             }
            },
            "type": "scatter3d"
           }
          ],
          "scattercarpet": [
           {
            "marker": {
             "colorbar": {
              "outlinewidth": 0,
              "ticks": ""
             }
            },
            "type": "scattercarpet"
           }
          ],
          "scattergeo": [
           {
            "marker": {
             "colorbar": {
              "outlinewidth": 0,
              "ticks": ""
             }
            },
            "type": "scattergeo"
           }
          ],
          "scattergl": [
           {
            "marker": {
             "colorbar": {
              "outlinewidth": 0,
              "ticks": ""
             }
            },
            "type": "scattergl"
           }
          ],
          "scattermapbox": [
           {
            "marker": {
             "colorbar": {
              "outlinewidth": 0,
              "ticks": ""
             }
            },
            "type": "scattermapbox"
           }
          ],
          "scatterpolar": [
           {
            "marker": {
             "colorbar": {
              "outlinewidth": 0,
              "ticks": ""
             }
            },
            "type": "scatterpolar"
           }
          ],
          "scatterpolargl": [
           {
            "marker": {
             "colorbar": {
              "outlinewidth": 0,
              "ticks": ""
             }
            },
            "type": "scatterpolargl"
           }
          ],
          "scatterternary": [
           {
            "marker": {
             "colorbar": {
              "outlinewidth": 0,
              "ticks": ""
             }
            },
            "type": "scatterternary"
           }
          ],
          "surface": [
           {
            "colorbar": {
             "outlinewidth": 0,
             "ticks": ""
            },
            "colorscale": [
             [
              0,
              "#0d0887"
             ],
             [
              0.1111111111111111,
              "#46039f"
             ],
             [
              0.2222222222222222,
              "#7201a8"
             ],
             [
              0.3333333333333333,
              "#9c179e"
             ],
             [
              0.4444444444444444,
              "#bd3786"
             ],
             [
              0.5555555555555556,
              "#d8576b"
             ],
             [
              0.6666666666666666,
              "#ed7953"
             ],
             [
              0.7777777777777778,
              "#fb9f3a"
             ],
             [
              0.8888888888888888,
              "#fdca26"
             ],
             [
              1,
              "#f0f921"
             ]
            ],
            "type": "surface"
           }
          ],
          "table": [
           {
            "cells": {
             "fill": {
              "color": "#EBF0F8"
             },
             "line": {
              "color": "white"
             }
            },
            "header": {
             "fill": {
              "color": "#C8D4E3"
             },
             "line": {
              "color": "white"
             }
            },
            "type": "table"
           }
          ]
         },
         "layout": {
          "annotationdefaults": {
           "arrowcolor": "#2a3f5f",
           "arrowhead": 0,
           "arrowwidth": 1
          },
          "coloraxis": {
           "colorbar": {
            "outlinewidth": 0,
            "ticks": ""
           }
          },
          "colorscale": {
           "diverging": [
            [
             0,
             "#8e0152"
            ],
            [
             0.1,
             "#c51b7d"
            ],
            [
             0.2,
             "#de77ae"
            ],
            [
             0.3,
             "#f1b6da"
            ],
            [
             0.4,
             "#fde0ef"
            ],
            [
             0.5,
             "#f7f7f7"
            ],
            [
             0.6,
             "#e6f5d0"
            ],
            [
             0.7,
             "#b8e186"
            ],
            [
             0.8,
             "#7fbc41"
            ],
            [
             0.9,
             "#4d9221"
            ],
            [
             1,
             "#276419"
            ]
           ],
           "sequential": [
            [
             0,
             "#0d0887"
            ],
            [
             0.1111111111111111,
             "#46039f"
            ],
            [
             0.2222222222222222,
             "#7201a8"
            ],
            [
             0.3333333333333333,
             "#9c179e"
            ],
            [
             0.4444444444444444,
             "#bd3786"
            ],
            [
             0.5555555555555556,
             "#d8576b"
            ],
            [
             0.6666666666666666,
             "#ed7953"
            ],
            [
             0.7777777777777778,
             "#fb9f3a"
            ],
            [
             0.8888888888888888,
             "#fdca26"
            ],
            [
             1,
             "#f0f921"
            ]
           ],
           "sequentialminus": [
            [
             0,
             "#0d0887"
            ],
            [
             0.1111111111111111,
             "#46039f"
            ],
            [
             0.2222222222222222,
             "#7201a8"
            ],
            [
             0.3333333333333333,
             "#9c179e"
            ],
            [
             0.4444444444444444,
             "#bd3786"
            ],
            [
             0.5555555555555556,
             "#d8576b"
            ],
            [
             0.6666666666666666,
             "#ed7953"
            ],
            [
             0.7777777777777778,
             "#fb9f3a"
            ],
            [
             0.8888888888888888,
             "#fdca26"
            ],
            [
             1,
             "#f0f921"
            ]
           ]
          },
          "colorway": [
           "#636efa",
           "#EF553B",
           "#00cc96",
           "#ab63fa",
           "#FFA15A",
           "#19d3f3",
           "#FF6692",
           "#B6E880",
           "#FF97FF",
           "#FECB52"
          ],
          "font": {
           "color": "#2a3f5f"
          },
          "geo": {
           "bgcolor": "white",
           "lakecolor": "white",
           "landcolor": "#E5ECF6",
           "showlakes": true,
           "showland": true,
           "subunitcolor": "white"
          },
          "hoverlabel": {
           "align": "left"
          },
          "hovermode": "closest",
          "mapbox": {
           "style": "light"
          },
          "paper_bgcolor": "white",
          "plot_bgcolor": "#E5ECF6",
          "polar": {
           "angularaxis": {
            "gridcolor": "white",
            "linecolor": "white",
            "ticks": ""
           },
           "bgcolor": "#E5ECF6",
           "radialaxis": {
            "gridcolor": "white",
            "linecolor": "white",
            "ticks": ""
           }
          },
          "scene": {
           "xaxis": {
            "backgroundcolor": "#E5ECF6",
            "gridcolor": "white",
            "gridwidth": 2,
            "linecolor": "white",
            "showbackground": true,
            "ticks": "",
            "zerolinecolor": "white"
           },
           "yaxis": {
            "backgroundcolor": "#E5ECF6",
            "gridcolor": "white",
            "gridwidth": 2,
            "linecolor": "white",
            "showbackground": true,
            "ticks": "",
            "zerolinecolor": "white"
           },
           "zaxis": {
            "backgroundcolor": "#E5ECF6",
            "gridcolor": "white",
            "gridwidth": 2,
            "linecolor": "white",
            "showbackground": true,
            "ticks": "",
            "zerolinecolor": "white"
           }
          },
          "shapedefaults": {
           "line": {
            "color": "#2a3f5f"
           }
          },
          "ternary": {
           "aaxis": {
            "gridcolor": "white",
            "linecolor": "white",
            "ticks": ""
           },
           "baxis": {
            "gridcolor": "white",
            "linecolor": "white",
            "ticks": ""
           },
           "bgcolor": "#E5ECF6",
           "caxis": {
            "gridcolor": "white",
            "linecolor": "white",
            "ticks": ""
           }
          },
          "title": {
           "x": 0.05
          },
          "xaxis": {
           "automargin": true,
           "gridcolor": "white",
           "linecolor": "white",
           "ticks": "",
           "title": {
            "standoff": 15
           },
           "zerolinecolor": "white",
           "zerolinewidth": 2
          },
          "yaxis": {
           "automargin": true,
           "gridcolor": "white",
           "linecolor": "white",
           "ticks": "",
           "title": {
            "standoff": 15
           },
           "zerolinecolor": "white",
           "zerolinewidth": 2
          }
         }
        },
        "title": {
         "text": "Explained variance ratio"
        },
        "xaxis": {
         "anchor": "y",
         "domain": [
          0,
          1
         ],
         "title": {
          "text": "Components"
         }
        },
        "yaxis": {
         "anchor": "x",
         "domain": [
          0,
          1
         ],
         "title": {
          "text": "Variance ratio (%)"
         }
        }
       }
      }
     },
     "metadata": {}
    }
   ],
   "source": [
    "ratio = model.explained_variance_ratio_\n",
    "fig = ex.line(x=np.arange(len(ratio)), y=ratio*100, title=\"Explained variance ratio\")\n",
    "fig.update_xaxes(title_text='Components')\n",
    "fig.update_yaxes(title_text='Variance ratio (%)')\n",
    "fig.show()"
   ]
  },
  {
   "cell_type": "code",
   "execution_count": 94,
   "metadata": {},
   "outputs": [],
   "source": [
    "pca2 = PCA(n_components=1)\n",
    "Y = pca2.fit_transform(X)"
   ]
  },
  {
   "cell_type": "code",
   "execution_count": 108,
   "metadata": {},
   "outputs": [
    {
     "output_type": "display_data",
     "data": {
      "application/vnd.plotly.v1+json": {
       "config": {
        "plotlyServerURL": "https://plot.ly"
       },
       "data": [
        {
         "hovertemplate": "types=1<br>names=%{x}<br>First component=%{y}<extra></extra>",
         "legendgroup": "1",
         "marker": {
          "color": "#636efa",
          "symbol": "circle"
         },
         "mode": "markers",
         "name": "1",
         "orientation": "v",
         "showlegend": true,
         "type": "scatter",
         "x": [
          "aardvark",
          "antelope",
          "bear",
          "boar",
          "buffalo",
          "calf",
          "cavy",
          "cheetah",
          "deer",
          "dolphin",
          "elephant",
          "fruitbat",
          "giraffe",
          "girl",
          "goat",
          "gorilla",
          "hamster",
          "hare",
          "leopard",
          "lion",
          "lynx",
          "mink",
          "mole",
          "mongoose",
          "opossum",
          "oryx",
          "platypus",
          "polecat",
          "pony",
          "porpoise",
          "puma",
          "pussycat",
          "raccoon",
          "reindeer",
          "seal",
          "sealion",
          "squirrel",
          "vampire",
          "vole",
          "wallaby",
          "wolf"
         ],
         "xaxis": "x",
         "y": [
          1.4176864624023438,
          1.522937297821045,
          1.417688250541687,
          1.5166527032852173,
          1.5229368209838867,
          1.576721429824829,
          1.1982251405715942,
          1.5166528224945068,
          1.5229368209838867,
          0.42849940061569214,
          1.5229368209838867,
          0.5841861367225647,
          1.5229368209838867,
          0.9961246848106384,
          1.5767213106155396,
          0.9486245512962341,
          1.29718816280365,
          1.243403673171997,
          1.5166527032852173,
          1.5166527032852173,
          1.5166527032852173,
          1.3434869050979614,
          1.237119436264038,
          1.5166527032852173,
          1.237119436264038,
          1.5229368209838867,
          0.6119787096977234,
          1.5166527032852173,
          1.5767213106155396,
          0.42849940061569214,
          1.5166527032852173,
          1.570436954498291,
          1.5166527032852173,
          1.5767213106155396,
          0.7201551198959351,
          0.8078774809837341,
          0.7680543661117554,
          0.5841861367225647,
          1.243403673171997,
          1.0475876331329346,
          1.5166527032852173
         ],
         "yaxis": "y"
        },
        {
         "hovertemplate": "types=4<br>names=%{x}<br>First component=%{y}<extra></extra>",
         "legendgroup": "4",
         "marker": {
          "color": "#EF553B",
          "symbol": "circle"
         },
         "mode": "markers",
         "name": "4",
         "orientation": "v",
         "showlegend": true,
         "type": "scatter",
         "x": [
          "bass",
          "carp",
          "catfish",
          "chub",
          "dogfish",
          "haddock",
          "herring",
          "pike",
          "piranha",
          "seahorse",
          "sole",
          "stingray",
          "tuna"
         ],
         "xaxis": "x",
         "y": [
          -0.8382816910743713,
          -0.7782135605812073,
          -0.8382822871208191,
          -0.8382821083068848,
          -0.5587489604949951,
          -0.8319978713989258,
          -0.8382821083068848,
          -0.5587489604949951,
          -0.8382821083068848,
          -0.8319978713989258,
          -0.8319978713989258,
          -0.6018399596214294,
          -0.5587489604949951
         ],
         "yaxis": "y"
        },
        {
         "hovertemplate": "types=2<br>names=%{x}<br>First component=%{y}<extra></extra>",
         "legendgroup": "2",
         "marker": {
          "color": "#00cc96",
          "symbol": "circle"
         },
         "mode": "markers",
         "name": "2",
         "orientation": "v",
         "showlegend": true,
         "type": "scatter",
         "x": [
          "chicken",
          "crow",
          "dove",
          "duck",
          "flamingo",
          "gull",
          "hawk",
          "kiwi",
          "lark",
          "ostrich",
          "parakeet",
          "penguin",
          "pheasant",
          "rhea",
          "skimmer",
          "skua",
          "sparrow",
          "swan",
          "vulture",
          "wren"
         ],
         "xaxis": "x",
         "y": [
          -1.08174729347229,
          -1.1418160200119019,
          -1.0817471742630005,
          -1.3086973428726196,
          -0.8559983968734741,
          -1.3149818181991577,
          -1.1418160200119019,
          -0.9579473733901978,
          -1.1355315446853638,
          -0.6721298694610596,
          -1.0817471742630005,
          -0.851580023765564,
          -1.1355315446853638,
          -0.6784142255783081,
          -1.3149818181991577,
          -1.3149818181991577,
          -1.1355315446853638,
          -1.0291643142700195,
          -0.8622827529907227,
          -1.1355315446853638
         ],
         "yaxis": "y"
        },
        {
         "hovertemplate": "types=7<br>names=%{x}<br>First component=%{y}<extra></extra>",
         "legendgroup": "7",
         "marker": {
          "color": "#ab63fa",
          "symbol": "circle"
         },
         "mode": "markers",
         "name": "7",
         "orientation": "v",
         "showlegend": true,
         "type": "scatter",
         "x": [
          "clam",
          "crab",
          "crayfish",
          "lobster",
          "octopus",
          "scorpion",
          "seawasp",
          "slug",
          "starfish",
          "worm"
         ],
         "xaxis": "x",
         "y": [
          -1.1744598150253296,
          -0.883516788482666,
          -1.326295256614685,
          -1.326295256614685,
          -0.9640273451805115,
          -0.45099467039108276,
          -1.3907164335250854,
          -1.0163118839263916,
          -1.326295256614685,
          -1.0163118839263916
         ],
         "yaxis": "y"
        },
        {
         "hovertemplate": "types=6<br>names=%{x}<br>First component=%{y}<extra></extra>",
         "legendgroup": "6",
         "marker": {
          "color": "#FFA15A",
          "symbol": "circle"
         },
         "mode": "markers",
         "name": "6",
         "orientation": "v",
         "showlegend": true,
         "type": "scatter",
         "x": [
          "flea",
          "gnat",
          "honeybee",
          "housefly",
          "ladybird",
          "moth",
          "termite",
          "wasp"
         ],
         "xaxis": "x",
         "y": [
          -0.9949818849563599,
          -1.1788502931594849,
          -0.7775380611419678,
          -0.7882313132286072,
          -1.1851345300674438,
          -0.7882313132286072,
          -0.9949818849563599,
          -0.831322431564331
         ],
         "yaxis": "y"
        },
        {
         "hovertemplate": "types=5<br>names=%{x}<br>First component=%{y}<extra></extra>",
         "legendgroup": "5",
         "marker": {
          "color": "#19d3f3",
          "symbol": "circle"
         },
         "mode": "markers",
         "name": "5",
         "orientation": "v",
         "showlegend": true,
         "type": "scatter",
         "x": [
          "frog",
          "frog",
          "newt",
          "toad"
         ],
         "xaxis": "x",
         "y": [
          -0.26101288199424744,
          -0.30410388112068176,
          -0.1620497703552246,
          -0.2547285258769989
         ],
         "yaxis": "y"
        },
        {
         "hovertemplate": "types=3<br>names=%{x}<br>First component=%{y}<extra></extra>",
         "legendgroup": "3",
         "marker": {
          "color": "#FF6692",
          "symbol": "circle"
         },
         "mode": "markers",
         "name": "3",
         "orientation": "v",
         "showlegend": true,
         "type": "scatter",
         "x": [
          "pitviper",
          "seasnake",
          "slowworm",
          "tortoise",
          "tuatara"
         ],
         "xaxis": "x",
         "y": [
          -0.49608364701271057,
          -0.4094483554363251,
          -0.45299267768859863,
          -0.022910337895154953,
          0.011115931905806065
         ],
         "yaxis": "y"
        }
       ],
       "layout": {
        "legend": {
         "title": {
          "text": "types"
         },
         "tracegroupgap": 0
        },
        "template": {
         "data": {
          "bar": [
           {
            "error_x": {
             "color": "#2a3f5f"
            },
            "error_y": {
             "color": "#2a3f5f"
            },
            "marker": {
             "line": {
              "color": "#E5ECF6",
              "width": 0.5
             }
            },
            "type": "bar"
           }
          ],
          "barpolar": [
           {
            "marker": {
             "line": {
              "color": "#E5ECF6",
              "width": 0.5
             }
            },
            "type": "barpolar"
           }
          ],
          "carpet": [
           {
            "aaxis": {
             "endlinecolor": "#2a3f5f",
             "gridcolor": "white",
             "linecolor": "white",
             "minorgridcolor": "white",
             "startlinecolor": "#2a3f5f"
            },
            "baxis": {
             "endlinecolor": "#2a3f5f",
             "gridcolor": "white",
             "linecolor": "white",
             "minorgridcolor": "white",
             "startlinecolor": "#2a3f5f"
            },
            "type": "carpet"
           }
          ],
          "choropleth": [
           {
            "colorbar": {
             "outlinewidth": 0,
             "ticks": ""
            },
            "type": "choropleth"
           }
          ],
          "contour": [
           {
            "colorbar": {
             "outlinewidth": 0,
             "ticks": ""
            },
            "colorscale": [
             [
              0,
              "#0d0887"
             ],
             [
              0.1111111111111111,
              "#46039f"
             ],
             [
              0.2222222222222222,
              "#7201a8"
             ],
             [
              0.3333333333333333,
              "#9c179e"
             ],
             [
              0.4444444444444444,
              "#bd3786"
             ],
             [
              0.5555555555555556,
              "#d8576b"
             ],
             [
              0.6666666666666666,
              "#ed7953"
             ],
             [
              0.7777777777777778,
              "#fb9f3a"
             ],
             [
              0.8888888888888888,
              "#fdca26"
             ],
             [
              1,
              "#f0f921"
             ]
            ],
            "type": "contour"
           }
          ],
          "contourcarpet": [
           {
            "colorbar": {
             "outlinewidth": 0,
             "ticks": ""
            },
            "type": "contourcarpet"
           }
          ],
          "heatmap": [
           {
            "colorbar": {
             "outlinewidth": 0,
             "ticks": ""
            },
            "colorscale": [
             [
              0,
              "#0d0887"
             ],
             [
              0.1111111111111111,
              "#46039f"
             ],
             [
              0.2222222222222222,
              "#7201a8"
             ],
             [
              0.3333333333333333,
              "#9c179e"
             ],
             [
              0.4444444444444444,
              "#bd3786"
             ],
             [
              0.5555555555555556,
              "#d8576b"
             ],
             [
              0.6666666666666666,
              "#ed7953"
             ],
             [
              0.7777777777777778,
              "#fb9f3a"
             ],
             [
              0.8888888888888888,
              "#fdca26"
             ],
             [
              1,
              "#f0f921"
             ]
            ],
            "type": "heatmap"
           }
          ],
          "heatmapgl": [
           {
            "colorbar": {
             "outlinewidth": 0,
             "ticks": ""
            },
            "colorscale": [
             [
              0,
              "#0d0887"
             ],
             [
              0.1111111111111111,
              "#46039f"
             ],
             [
              0.2222222222222222,
              "#7201a8"
             ],
             [
              0.3333333333333333,
              "#9c179e"
             ],
             [
              0.4444444444444444,
              "#bd3786"
             ],
             [
              0.5555555555555556,
              "#d8576b"
             ],
             [
              0.6666666666666666,
              "#ed7953"
             ],
             [
              0.7777777777777778,
              "#fb9f3a"
             ],
             [
              0.8888888888888888,
              "#fdca26"
             ],
             [
              1,
              "#f0f921"
             ]
            ],
            "type": "heatmapgl"
           }
          ],
          "histogram": [
           {
            "marker": {
             "colorbar": {
              "outlinewidth": 0,
              "ticks": ""
             }
            },
            "type": "histogram"
           }
          ],
          "histogram2d": [
           {
            "colorbar": {
             "outlinewidth": 0,
             "ticks": ""
            },
            "colorscale": [
             [
              0,
              "#0d0887"
             ],
             [
              0.1111111111111111,
              "#46039f"
             ],
             [
              0.2222222222222222,
              "#7201a8"
             ],
             [
              0.3333333333333333,
              "#9c179e"
             ],
             [
              0.4444444444444444,
              "#bd3786"
             ],
             [
              0.5555555555555556,
              "#d8576b"
             ],
             [
              0.6666666666666666,
              "#ed7953"
             ],
             [
              0.7777777777777778,
              "#fb9f3a"
             ],
             [
              0.8888888888888888,
              "#fdca26"
             ],
             [
              1,
              "#f0f921"
             ]
            ],
            "type": "histogram2d"
           }
          ],
          "histogram2dcontour": [
           {
            "colorbar": {
             "outlinewidth": 0,
             "ticks": ""
            },
            "colorscale": [
             [
              0,
              "#0d0887"
             ],
             [
              0.1111111111111111,
              "#46039f"
             ],
             [
              0.2222222222222222,
              "#7201a8"
             ],
             [
              0.3333333333333333,
              "#9c179e"
             ],
             [
              0.4444444444444444,
              "#bd3786"
             ],
             [
              0.5555555555555556,
              "#d8576b"
             ],
             [
              0.6666666666666666,
              "#ed7953"
             ],
             [
              0.7777777777777778,
              "#fb9f3a"
             ],
             [
              0.8888888888888888,
              "#fdca26"
             ],
             [
              1,
              "#f0f921"
             ]
            ],
            "type": "histogram2dcontour"
           }
          ],
          "mesh3d": [
           {
            "colorbar": {
             "outlinewidth": 0,
             "ticks": ""
            },
            "type": "mesh3d"
           }
          ],
          "parcoords": [
           {
            "line": {
             "colorbar": {
              "outlinewidth": 0,
              "ticks": ""
             }
            },
            "type": "parcoords"
           }
          ],
          "pie": [
           {
            "automargin": true,
            "type": "pie"
           }
          ],
          "scatter": [
           {
            "marker": {
             "colorbar": {
              "outlinewidth": 0,
              "ticks": ""
             }
            },
            "type": "scatter"
           }
          ],
          "scatter3d": [
           {
            "line": {
             "colorbar": {
              "outlinewidth": 0,
              "ticks": ""
             }
            },
            "marker": {
             "colorbar": {
              "outlinewidth": 0,
              "ticks": ""
             }
            },
            "type": "scatter3d"
           }
          ],
          "scattercarpet": [
           {
            "marker": {
             "colorbar": {
              "outlinewidth": 0,
              "ticks": ""
             }
            },
            "type": "scattercarpet"
           }
          ],
          "scattergeo": [
           {
            "marker": {
             "colorbar": {
              "outlinewidth": 0,
              "ticks": ""
             }
            },
            "type": "scattergeo"
           }
          ],
          "scattergl": [
           {
            "marker": {
             "colorbar": {
              "outlinewidth": 0,
              "ticks": ""
             }
            },
            "type": "scattergl"
           }
          ],
          "scattermapbox": [
           {
            "marker": {
             "colorbar": {
              "outlinewidth": 0,
              "ticks": ""
             }
            },
            "type": "scattermapbox"
           }
          ],
          "scatterpolar": [
           {
            "marker": {
             "colorbar": {
              "outlinewidth": 0,
              "ticks": ""
             }
            },
            "type": "scatterpolar"
           }
          ],
          "scatterpolargl": [
           {
            "marker": {
             "colorbar": {
              "outlinewidth": 0,
              "ticks": ""
             }
            },
            "type": "scatterpolargl"
           }
          ],
          "scatterternary": [
           {
            "marker": {
             "colorbar": {
              "outlinewidth": 0,
              "ticks": ""
             }
            },
            "type": "scatterternary"
           }
          ],
          "surface": [
           {
            "colorbar": {
             "outlinewidth": 0,
             "ticks": ""
            },
            "colorscale": [
             [
              0,
              "#0d0887"
             ],
             [
              0.1111111111111111,
              "#46039f"
             ],
             [
              0.2222222222222222,
              "#7201a8"
             ],
             [
              0.3333333333333333,
              "#9c179e"
             ],
             [
              0.4444444444444444,
              "#bd3786"
             ],
             [
              0.5555555555555556,
              "#d8576b"
             ],
             [
              0.6666666666666666,
              "#ed7953"
             ],
             [
              0.7777777777777778,
              "#fb9f3a"
             ],
             [
              0.8888888888888888,
              "#fdca26"
             ],
             [
              1,
              "#f0f921"
             ]
            ],
            "type": "surface"
           }
          ],
          "table": [
           {
            "cells": {
             "fill": {
              "color": "#EBF0F8"
             },
             "line": {
              "color": "white"
             }
            },
            "header": {
             "fill": {
              "color": "#C8D4E3"
             },
             "line": {
              "color": "white"
             }
            },
            "type": "table"
           }
          ]
         },
         "layout": {
          "annotationdefaults": {
           "arrowcolor": "#2a3f5f",
           "arrowhead": 0,
           "arrowwidth": 1
          },
          "coloraxis": {
           "colorbar": {
            "outlinewidth": 0,
            "ticks": ""
           }
          },
          "colorscale": {
           "diverging": [
            [
             0,
             "#8e0152"
            ],
            [
             0.1,
             "#c51b7d"
            ],
            [
             0.2,
             "#de77ae"
            ],
            [
             0.3,
             "#f1b6da"
            ],
            [
             0.4,
             "#fde0ef"
            ],
            [
             0.5,
             "#f7f7f7"
            ],
            [
             0.6,
             "#e6f5d0"
            ],
            [
             0.7,
             "#b8e186"
            ],
            [
             0.8,
             "#7fbc41"
            ],
            [
             0.9,
             "#4d9221"
            ],
            [
             1,
             "#276419"
            ]
           ],
           "sequential": [
            [
             0,
             "#0d0887"
            ],
            [
             0.1111111111111111,
             "#46039f"
            ],
            [
             0.2222222222222222,
             "#7201a8"
            ],
            [
             0.3333333333333333,
             "#9c179e"
            ],
            [
             0.4444444444444444,
             "#bd3786"
            ],
            [
             0.5555555555555556,
             "#d8576b"
            ],
            [
             0.6666666666666666,
             "#ed7953"
            ],
            [
             0.7777777777777778,
             "#fb9f3a"
            ],
            [
             0.8888888888888888,
             "#fdca26"
            ],
            [
             1,
             "#f0f921"
            ]
           ],
           "sequentialminus": [
            [
             0,
             "#0d0887"
            ],
            [
             0.1111111111111111,
             "#46039f"
            ],
            [
             0.2222222222222222,
             "#7201a8"
            ],
            [
             0.3333333333333333,
             "#9c179e"
            ],
            [
             0.4444444444444444,
             "#bd3786"
            ],
            [
             0.5555555555555556,
             "#d8576b"
            ],
            [
             0.6666666666666666,
             "#ed7953"
            ],
            [
             0.7777777777777778,
             "#fb9f3a"
            ],
            [
             0.8888888888888888,
             "#fdca26"
            ],
            [
             1,
             "#f0f921"
            ]
           ]
          },
          "colorway": [
           "#636efa",
           "#EF553B",
           "#00cc96",
           "#ab63fa",
           "#FFA15A",
           "#19d3f3",
           "#FF6692",
           "#B6E880",
           "#FF97FF",
           "#FECB52"
          ],
          "font": {
           "color": "#2a3f5f"
          },
          "geo": {
           "bgcolor": "white",
           "lakecolor": "white",
           "landcolor": "#E5ECF6",
           "showlakes": true,
           "showland": true,
           "subunitcolor": "white"
          },
          "hoverlabel": {
           "align": "left"
          },
          "hovermode": "closest",
          "mapbox": {
           "style": "light"
          },
          "paper_bgcolor": "white",
          "plot_bgcolor": "#E5ECF6",
          "polar": {
           "angularaxis": {
            "gridcolor": "white",
            "linecolor": "white",
            "ticks": ""
           },
           "bgcolor": "#E5ECF6",
           "radialaxis": {
            "gridcolor": "white",
            "linecolor": "white",
            "ticks": ""
           }
          },
          "scene": {
           "xaxis": {
            "backgroundcolor": "#E5ECF6",
            "gridcolor": "white",
            "gridwidth": 2,
            "linecolor": "white",
            "showbackground": true,
            "ticks": "",
            "zerolinecolor": "white"
           },
           "yaxis": {
            "backgroundcolor": "#E5ECF6",
            "gridcolor": "white",
            "gridwidth": 2,
            "linecolor": "white",
            "showbackground": true,
            "ticks": "",
            "zerolinecolor": "white"
           },
           "zaxis": {
            "backgroundcolor": "#E5ECF6",
            "gridcolor": "white",
            "gridwidth": 2,
            "linecolor": "white",
            "showbackground": true,
            "ticks": "",
            "zerolinecolor": "white"
           }
          },
          "shapedefaults": {
           "line": {
            "color": "#2a3f5f"
           }
          },
          "ternary": {
           "aaxis": {
            "gridcolor": "white",
            "linecolor": "white",
            "ticks": ""
           },
           "baxis": {
            "gridcolor": "white",
            "linecolor": "white",
            "ticks": ""
           },
           "bgcolor": "#E5ECF6",
           "caxis": {
            "gridcolor": "white",
            "linecolor": "white",
            "ticks": ""
           }
          },
          "title": {
           "x": 0.05
          },
          "xaxis": {
           "automargin": true,
           "gridcolor": "white",
           "linecolor": "white",
           "ticks": "",
           "title": {
            "standoff": 15
           },
           "zerolinecolor": "white",
           "zerolinewidth": 2
          },
          "yaxis": {
           "automargin": true,
           "gridcolor": "white",
           "linecolor": "white",
           "ticks": "",
           "title": {
            "standoff": 15
           },
           "zerolinecolor": "white",
           "zerolinewidth": 2
          }
         }
        },
        "title": {
         "text": "Mapping data to the first principal component"
        },
        "xaxis": {
         "anchor": "y",
         "domain": [
          0,
          1
         ],
         "title": {
          "text": "names"
         }
        },
        "yaxis": {
         "anchor": "x",
         "domain": [
          0,
          1
         ],
         "title": {
          "text": "First component"
         }
        }
       }
      }
     },
     "metadata": {}
    }
   ],
   "source": [
    "d = {\"names\":df[\"name\"], \"types\":df[\"type\"], \"First component\":Y.ravel()}\n",
    "dff = pd.DataFrame(d)\n",
    "fig = ex.scatter(dff, x=\"names\", y=\"First component\", color=\"types\", title=\"Mapping data to the first principal component\")\n",
    "fig.show()"
   ]
  },
  {
   "cell_type": "code",
   "execution_count": 135,
   "metadata": {},
   "outputs": [],
   "source": [
    "pca3 = PCA(n_components=2)\n",
    "Y = pca3.fit_transform(X)"
   ]
  },
  {
   "cell_type": "code",
   "execution_count": 137,
   "metadata": {},
   "outputs": [
    {
     "output_type": "display_data",
     "data": {
      "application/vnd.plotly.v1+json": {
       "config": {
        "plotlyServerURL": "https://plot.ly"
       },
       "data": [
        {
         "hovertemplate": "types=1<br>names=%{x}<br>First component=%{y}<br>Second component=%{z}<extra></extra>",
         "legendgroup": "1",
         "marker": {
          "color": "#636efa",
          "symbol": "circle"
         },
         "mode": "markers",
         "name": "1",
         "scene": "scene",
         "showlegend": true,
         "type": "scatter3d",
         "x": [
          "aardvark",
          "antelope",
          "bear",
          "boar",
          "buffalo",
          "calf",
          "cavy",
          "cheetah",
          "deer",
          "dolphin",
          "elephant",
          "fruitbat",
          "giraffe",
          "girl",
          "goat",
          "gorilla",
          "hamster",
          "hare",
          "leopard",
          "lion",
          "lynx",
          "mink",
          "mole",
          "mongoose",
          "opossum",
          "oryx",
          "platypus",
          "polecat",
          "pony",
          "porpoise",
          "puma",
          "pussycat",
          "raccoon",
          "reindeer",
          "seal",
          "sealion",
          "squirrel",
          "vampire",
          "vole",
          "wallaby",
          "wolf"
         ],
         "y": [
          1.4176864624023438,
          1.522937297821045,
          1.417688250541687,
          1.5166527032852173,
          1.5229368209838867,
          1.576721429824829,
          1.1982251405715942,
          1.5166528224945068,
          1.5229368209838867,
          0.42849940061569214,
          1.5229368209838867,
          0.5841861367225647,
          1.5229368209838867,
          0.9961246848106384,
          1.5767213106155396,
          0.9486245512962341,
          1.29718816280365,
          1.243403673171997,
          1.5166527032852173,
          1.5166527032852173,
          1.5166527032852173,
          1.3434869050979614,
          1.237119436264038,
          1.5166527032852173,
          1.237119436264038,
          1.5229368209838867,
          0.6119787096977234,
          1.5166527032852173,
          1.5767213106155396,
          0.42849940061569214,
          1.5166527032852173,
          1.570436954498291,
          1.5166527032852173,
          1.5767213106155396,
          0.7201551198959351,
          0.8078774809837341,
          0.7680543661117554,
          0.5841861367225647,
          1.243403673171997,
          1.0475876331329346,
          1.5166527032852173
         ],
         "z": [
          0.04754457250237465,
          -0.2400602549314499,
          0.04754265025258064,
          0.05010340362787247,
          -0.240060493350029,
          -0.3257749080657959,
          -0.36911439895629883,
          0.05010382458567619,
          -0.24006067216396332,
          1.256712555885315,
          -0.24006067216396332,
          -0.9222707748413086,
          -0.24006067216396332,
          -0.35000550746917725,
          -0.32577475905418396,
          -0.5544559359550476,
          -0.36655473709106445,
          -0.2808406949043274,
          0.0501038022339344,
          0.0501038022339344,
          0.0501038022339344,
          0.42787134647369385,
          0.009323792532086372,
          0.0501038022339344,
          0.009323792532086372,
          -0.24006067216396332,
          0.15290451049804688,
          0.0501038022339344,
          -0.32577475905418396,
          1.256712555885315,
          0.0501038022339344,
          -0.03561026602983475,
          0.0501038022339344,
          -0.32577475905418396,
          1.133723258972168,
          0.4429102838039398,
          -0.5926762819290161,
          -0.9222707748413086,
          -0.2808406949043274,
          -0.5518962740898132,
          0.0501038022339344
         ]
        },
        {
         "hovertemplate": "types=4<br>names=%{x}<br>First component=%{y}<br>Second component=%{z}<extra></extra>",
         "legendgroup": "4",
         "marker": {
          "color": "#EF553B",
          "symbol": "circle"
         },
         "mode": "markers",
         "name": "4",
         "scene": "scene",
         "showlegend": true,
         "type": "scatter3d",
         "x": [
          "bass",
          "carp",
          "catfish",
          "chub",
          "dogfish",
          "haddock",
          "herring",
          "pike",
          "piranha",
          "seahorse",
          "sole",
          "stingray",
          "tuna"
         ],
         "y": [
          -0.8382816910743713,
          -0.7782135605812073,
          -0.8382822871208191,
          -0.8382821083068848,
          -0.5587489604949951,
          -0.8319978713989258,
          -0.8382821083068848,
          -0.5587489604949951,
          -0.8382821083068848,
          -0.8319978713989258,
          -0.8319978713989258,
          -0.6018399596214294,
          -0.5587489604949951
         ],
         "z": [
          1.624066948890686,
          1.2481884956359863,
          1.6240671873092651,
          1.6240670680999756,
          1.6648468971252441,
          1.333902359008789,
          1.624066948890686,
          1.6648468971252441,
          1.624066948890686,
          1.333902359008789,
          1.333902359008789,
          1.7098582983016968,
          1.6648468971252441
         ]
        },
        {
         "hovertemplate": "types=2<br>names=%{x}<br>First component=%{y}<br>Second component=%{z}<extra></extra>",
         "legendgroup": "2",
         "marker": {
          "color": "#00cc96",
          "symbol": "circle"
         },
         "mode": "markers",
         "name": "2",
         "scene": "scene",
         "showlegend": true,
         "type": "scatter3d",
         "x": [
          "chicken",
          "crow",
          "dove",
          "duck",
          "flamingo",
          "gull",
          "hawk",
          "kiwi",
          "lark",
          "ostrich",
          "parakeet",
          "penguin",
          "pheasant",
          "rhea",
          "skimmer",
          "skua",
          "sparrow",
          "swan",
          "vulture",
          "wren"
         ],
         "y": [
          -1.08174729347229,
          -1.1418160200119019,
          -1.0817471742630005,
          -1.3086973428726196,
          -0.8559983968734741,
          -1.3149818181991577,
          -1.1418160200119019,
          -0.9579473733901978,
          -1.1355315446853638,
          -0.6721298694610596,
          -1.0817471742630005,
          -0.851580023765564,
          -1.1355315446853638,
          -0.6784142255783081,
          -1.3149818181991577,
          -1.3149818181991577,
          -1.1355315446853638,
          -1.0291643142700195,
          -0.8622827529907227,
          -1.1355315446853638
         ],
         "z": [
          -1.39742910861969,
          -1.0215507745742798,
          -1.3974292278289795,
          -0.9339475035667419,
          -1.27093505859375,
          -0.6437829732894897,
          -1.0215506553649902,
          -0.6919562816619873,
          -1.3117152452468872,
          -0.9413407444953918,
          -1.3974292278289795,
          -0.27340853214263916,
          -1.3117152452468872,
          -0.6511762142181396,
          -0.6437829732894897,
          -0.6437829732894897,
          -1.3117152452468872,
          -0.8931675553321838,
          -0.9807707071304321,
          -1.3117152452468872
         ]
        },
        {
         "hovertemplate": "types=7<br>names=%{x}<br>First component=%{y}<br>Second component=%{z}<extra></extra>",
         "legendgroup": "7",
         "marker": {
          "color": "#ab63fa",
          "symbol": "circle"
         },
         "mode": "markers",
         "name": "7",
         "scene": "scene",
         "showlegend": true,
         "type": "scatter3d",
         "x": [
          "clam",
          "crab",
          "crayfish",
          "lobster",
          "octopus",
          "scorpion",
          "seawasp",
          "slug",
          "starfish",
          "worm"
         ],
         "y": [
          -1.1744598150253296,
          -0.883516788482666,
          -1.326295256614685,
          -1.326295256614685,
          -0.9640273451805115,
          -0.45099467039108276,
          -1.3907164335250854,
          -1.0163118839263916,
          -1.326295256614685,
          -1.0163118839263916
         ],
         "z": [
          0.597323477268219,
          0.5935541391372681,
          0.540614664554596,
          0.5406146049499512,
          0.6478741765022278,
          -0.09492447227239609,
          1.020102620124817,
          -0.042860399931669235,
          0.5406146049499512,
          -0.042860399931669235
         ]
        },
        {
         "hovertemplate": "types=6<br>names=%{x}<br>First component=%{y}<br>Second component=%{z}<extra></extra>",
         "legendgroup": "6",
         "marker": {
          "color": "#FFA15A",
          "symbol": "circle"
         },
         "mode": "markers",
         "name": "6",
         "scene": "scene",
         "showlegend": true,
         "type": "scatter3d",
         "x": [
          "flea",
          "gnat",
          "honeybee",
          "housefly",
          "ladybird",
          "moth",
          "termite",
          "wasp"
         ],
         "y": [
          -0.9949818849563599,
          -1.1788502931594849,
          -0.7775380611419678,
          -0.7882313132286072,
          -1.1851345300674438,
          -0.7882313132286072,
          -0.9949818849563599,
          -0.831322431564331
         ],
         "z": [
          -0.4773370921611786,
          -0.8069316148757935,
          -0.96806401014328,
          -0.9273611903190613,
          -0.5167669653892517,
          -0.9273611903190613,
          -0.4773370921611786,
          -0.882349967956543
         ]
        },
        {
         "hovertemplate": "types=5<br>names=%{x}<br>First component=%{y}<br>Second component=%{z}<extra></extra>",
         "legendgroup": "5",
         "marker": {
          "color": "#19d3f3",
          "symbol": "circle"
         },
         "mode": "markers",
         "name": "5",
         "scene": "scene",
         "showlegend": true,
         "type": "scatter3d",
         "x": [
          "frog",
          "frog",
          "newt",
          "toad"
         ],
         "y": [
          -0.26101288199424744,
          -0.30410388112068176,
          -0.1620497703552246,
          -0.2547285258769989
         ],
         "z": [
          0.5630761384963989,
          0.608087420463562,
          0.5656359791755676,
          0.27291178703308105
         ]
        },
        {
         "hovertemplate": "types=3<br>names=%{x}<br>First component=%{y}<br>Second component=%{z}<extra></extra>",
         "legendgroup": "3",
         "marker": {
          "color": "#FF6692",
          "symbol": "circle"
         },
         "mode": "markers",
         "name": "3",
         "scene": "scene",
         "showlegend": true,
         "type": "scatter3d",
         "x": [
          "pitviper",
          "seasnake",
          "slowworm",
          "tortoise",
          "tuatara"
         ],
         "y": [
          -0.49608364701271057,
          -0.4094483554363251,
          -0.45299267768859863,
          -0.022910337895154953,
          0.011115931905806065
         ],
         "z": [
          0.614416778087616,
          1.3204014301300049,
          0.5694053173065186,
          -0.3582858443260193,
          0.18786819279193878
         ]
        }
       ],
       "layout": {
        "legend": {
         "title": {
          "text": "types"
         },
         "tracegroupgap": 0
        },
        "scene": {
         "domain": {
          "x": [
           0,
           1
          ],
          "y": [
           0,
           1
          ]
         },
         "xaxis": {
          "title": {
           "text": "names"
          }
         },
         "yaxis": {
          "title": {
           "text": "First component"
          }
         },
         "zaxis": {
          "title": {
           "text": "Second component"
          }
         }
        },
        "template": {
         "data": {
          "bar": [
           {
            "error_x": {
             "color": "#2a3f5f"
            },
            "error_y": {
             "color": "#2a3f5f"
            },
            "marker": {
             "line": {
              "color": "#E5ECF6",
              "width": 0.5
             }
            },
            "type": "bar"
           }
          ],
          "barpolar": [
           {
            "marker": {
             "line": {
              "color": "#E5ECF6",
              "width": 0.5
             }
            },
            "type": "barpolar"
           }
          ],
          "carpet": [
           {
            "aaxis": {
             "endlinecolor": "#2a3f5f",
             "gridcolor": "white",
             "linecolor": "white",
             "minorgridcolor": "white",
             "startlinecolor": "#2a3f5f"
            },
            "baxis": {
             "endlinecolor": "#2a3f5f",
             "gridcolor": "white",
             "linecolor": "white",
             "minorgridcolor": "white",
             "startlinecolor": "#2a3f5f"
            },
            "type": "carpet"
           }
          ],
          "choropleth": [
           {
            "colorbar": {
             "outlinewidth": 0,
             "ticks": ""
            },
            "type": "choropleth"
           }
          ],
          "contour": [
           {
            "colorbar": {
             "outlinewidth": 0,
             "ticks": ""
            },
            "colorscale": [
             [
              0,
              "#0d0887"
             ],
             [
              0.1111111111111111,
              "#46039f"
             ],
             [
              0.2222222222222222,
              "#7201a8"
             ],
             [
              0.3333333333333333,
              "#9c179e"
             ],
             [
              0.4444444444444444,
              "#bd3786"
             ],
             [
              0.5555555555555556,
              "#d8576b"
             ],
             [
              0.6666666666666666,
              "#ed7953"
             ],
             [
              0.7777777777777778,
              "#fb9f3a"
             ],
             [
              0.8888888888888888,
              "#fdca26"
             ],
             [
              1,
              "#f0f921"
             ]
            ],
            "type": "contour"
           }
          ],
          "contourcarpet": [
           {
            "colorbar": {
             "outlinewidth": 0,
             "ticks": ""
            },
            "type": "contourcarpet"
           }
          ],
          "heatmap": [
           {
            "colorbar": {
             "outlinewidth": 0,
             "ticks": ""
            },
            "colorscale": [
             [
              0,
              "#0d0887"
             ],
             [
              0.1111111111111111,
              "#46039f"
             ],
             [
              0.2222222222222222,
              "#7201a8"
             ],
             [
              0.3333333333333333,
              "#9c179e"
             ],
             [
              0.4444444444444444,
              "#bd3786"
             ],
             [
              0.5555555555555556,
              "#d8576b"
             ],
             [
              0.6666666666666666,
              "#ed7953"
             ],
             [
              0.7777777777777778,
              "#fb9f3a"
             ],
             [
              0.8888888888888888,
              "#fdca26"
             ],
             [
              1,
              "#f0f921"
             ]
            ],
            "type": "heatmap"
           }
          ],
          "heatmapgl": [
           {
            "colorbar": {
             "outlinewidth": 0,
             "ticks": ""
            },
            "colorscale": [
             [
              0,
              "#0d0887"
             ],
             [
              0.1111111111111111,
              "#46039f"
             ],
             [
              0.2222222222222222,
              "#7201a8"
             ],
             [
              0.3333333333333333,
              "#9c179e"
             ],
             [
              0.4444444444444444,
              "#bd3786"
             ],
             [
              0.5555555555555556,
              "#d8576b"
             ],
             [
              0.6666666666666666,
              "#ed7953"
             ],
             [
              0.7777777777777778,
              "#fb9f3a"
             ],
             [
              0.8888888888888888,
              "#fdca26"
             ],
             [
              1,
              "#f0f921"
             ]
            ],
            "type": "heatmapgl"
           }
          ],
          "histogram": [
           {
            "marker": {
             "colorbar": {
              "outlinewidth": 0,
              "ticks": ""
             }
            },
            "type": "histogram"
           }
          ],
          "histogram2d": [
           {
            "colorbar": {
             "outlinewidth": 0,
             "ticks": ""
            },
            "colorscale": [
             [
              0,
              "#0d0887"
             ],
             [
              0.1111111111111111,
              "#46039f"
             ],
             [
              0.2222222222222222,
              "#7201a8"
             ],
             [
              0.3333333333333333,
              "#9c179e"
             ],
             [
              0.4444444444444444,
              "#bd3786"
             ],
             [
              0.5555555555555556,
              "#d8576b"
             ],
             [
              0.6666666666666666,
              "#ed7953"
             ],
             [
              0.7777777777777778,
              "#fb9f3a"
             ],
             [
              0.8888888888888888,
              "#fdca26"
             ],
             [
              1,
              "#f0f921"
             ]
            ],
            "type": "histogram2d"
           }
          ],
          "histogram2dcontour": [
           {
            "colorbar": {
             "outlinewidth": 0,
             "ticks": ""
            },
            "colorscale": [
             [
              0,
              "#0d0887"
             ],
             [
              0.1111111111111111,
              "#46039f"
             ],
             [
              0.2222222222222222,
              "#7201a8"
             ],
             [
              0.3333333333333333,
              "#9c179e"
             ],
             [
              0.4444444444444444,
              "#bd3786"
             ],
             [
              0.5555555555555556,
              "#d8576b"
             ],
             [
              0.6666666666666666,
              "#ed7953"
             ],
             [
              0.7777777777777778,
              "#fb9f3a"
             ],
             [
              0.8888888888888888,
              "#fdca26"
             ],
             [
              1,
              "#f0f921"
             ]
            ],
            "type": "histogram2dcontour"
           }
          ],
          "mesh3d": [
           {
            "colorbar": {
             "outlinewidth": 0,
             "ticks": ""
            },
            "type": "mesh3d"
           }
          ],
          "parcoords": [
           {
            "line": {
             "colorbar": {
              "outlinewidth": 0,
              "ticks": ""
             }
            },
            "type": "parcoords"
           }
          ],
          "pie": [
           {
            "automargin": true,
            "type": "pie"
           }
          ],
          "scatter": [
           {
            "marker": {
             "colorbar": {
              "outlinewidth": 0,
              "ticks": ""
             }
            },
            "type": "scatter"
           }
          ],
          "scatter3d": [
           {
            "line": {
             "colorbar": {
              "outlinewidth": 0,
              "ticks": ""
             }
            },
            "marker": {
             "colorbar": {
              "outlinewidth": 0,
              "ticks": ""
             }
            },
            "type": "scatter3d"
           }
          ],
          "scattercarpet": [
           {
            "marker": {
             "colorbar": {
              "outlinewidth": 0,
              "ticks": ""
             }
            },
            "type": "scattercarpet"
           }
          ],
          "scattergeo": [
           {
            "marker": {
             "colorbar": {
              "outlinewidth": 0,
              "ticks": ""
             }
            },
            "type": "scattergeo"
           }
          ],
          "scattergl": [
           {
            "marker": {
             "colorbar": {
              "outlinewidth": 0,
              "ticks": ""
             }
            },
            "type": "scattergl"
           }
          ],
          "scattermapbox": [
           {
            "marker": {
             "colorbar": {
              "outlinewidth": 0,
              "ticks": ""
             }
            },
            "type": "scattermapbox"
           }
          ],
          "scatterpolar": [
           {
            "marker": {
             "colorbar": {
              "outlinewidth": 0,
              "ticks": ""
             }
            },
            "type": "scatterpolar"
           }
          ],
          "scatterpolargl": [
           {
            "marker": {
             "colorbar": {
              "outlinewidth": 0,
              "ticks": ""
             }
            },
            "type": "scatterpolargl"
           }
          ],
          "scatterternary": [
           {
            "marker": {
             "colorbar": {
              "outlinewidth": 0,
              "ticks": ""
             }
            },
            "type": "scatterternary"
           }
          ],
          "surface": [
           {
            "colorbar": {
             "outlinewidth": 0,
             "ticks": ""
            },
            "colorscale": [
             [
              0,
              "#0d0887"
             ],
             [
              0.1111111111111111,
              "#46039f"
             ],
             [
              0.2222222222222222,
              "#7201a8"
             ],
             [
              0.3333333333333333,
              "#9c179e"
             ],
             [
              0.4444444444444444,
              "#bd3786"
             ],
             [
              0.5555555555555556,
              "#d8576b"
             ],
             [
              0.6666666666666666,
              "#ed7953"
             ],
             [
              0.7777777777777778,
              "#fb9f3a"
             ],
             [
              0.8888888888888888,
              "#fdca26"
             ],
             [
              1,
              "#f0f921"
             ]
            ],
            "type": "surface"
           }
          ],
          "table": [
           {
            "cells": {
             "fill": {
              "color": "#EBF0F8"
             },
             "line": {
              "color": "white"
             }
            },
            "header": {
             "fill": {
              "color": "#C8D4E3"
             },
             "line": {
              "color": "white"
             }
            },
            "type": "table"
           }
          ]
         },
         "layout": {
          "annotationdefaults": {
           "arrowcolor": "#2a3f5f",
           "arrowhead": 0,
           "arrowwidth": 1
          },
          "coloraxis": {
           "colorbar": {
            "outlinewidth": 0,
            "ticks": ""
           }
          },
          "colorscale": {
           "diverging": [
            [
             0,
             "#8e0152"
            ],
            [
             0.1,
             "#c51b7d"
            ],
            [
             0.2,
             "#de77ae"
            ],
            [
             0.3,
             "#f1b6da"
            ],
            [
             0.4,
             "#fde0ef"
            ],
            [
             0.5,
             "#f7f7f7"
            ],
            [
             0.6,
             "#e6f5d0"
            ],
            [
             0.7,
             "#b8e186"
            ],
            [
             0.8,
             "#7fbc41"
            ],
            [
             0.9,
             "#4d9221"
            ],
            [
             1,
             "#276419"
            ]
           ],
           "sequential": [
            [
             0,
             "#0d0887"
            ],
            [
             0.1111111111111111,
             "#46039f"
            ],
            [
             0.2222222222222222,
             "#7201a8"
            ],
            [
             0.3333333333333333,
             "#9c179e"
            ],
            [
             0.4444444444444444,
             "#bd3786"
            ],
            [
             0.5555555555555556,
             "#d8576b"
            ],
            [
             0.6666666666666666,
             "#ed7953"
            ],
            [
             0.7777777777777778,
             "#fb9f3a"
            ],
            [
             0.8888888888888888,
             "#fdca26"
            ],
            [
             1,
             "#f0f921"
            ]
           ],
           "sequentialminus": [
            [
             0,
             "#0d0887"
            ],
            [
             0.1111111111111111,
             "#46039f"
            ],
            [
             0.2222222222222222,
             "#7201a8"
            ],
            [
             0.3333333333333333,
             "#9c179e"
            ],
            [
             0.4444444444444444,
             "#bd3786"
            ],
            [
             0.5555555555555556,
             "#d8576b"
            ],
            [
             0.6666666666666666,
             "#ed7953"
            ],
            [
             0.7777777777777778,
             "#fb9f3a"
            ],
            [
             0.8888888888888888,
             "#fdca26"
            ],
            [
             1,
             "#f0f921"
            ]
           ]
          },
          "colorway": [
           "#636efa",
           "#EF553B",
           "#00cc96",
           "#ab63fa",
           "#FFA15A",
           "#19d3f3",
           "#FF6692",
           "#B6E880",
           "#FF97FF",
           "#FECB52"
          ],
          "font": {
           "color": "#2a3f5f"
          },
          "geo": {
           "bgcolor": "white",
           "lakecolor": "white",
           "landcolor": "#E5ECF6",
           "showlakes": true,
           "showland": true,
           "subunitcolor": "white"
          },
          "hoverlabel": {
           "align": "left"
          },
          "hovermode": "closest",
          "mapbox": {
           "style": "light"
          },
          "paper_bgcolor": "white",
          "plot_bgcolor": "#E5ECF6",
          "polar": {
           "angularaxis": {
            "gridcolor": "white",
            "linecolor": "white",
            "ticks": ""
           },
           "bgcolor": "#E5ECF6",
           "radialaxis": {
            "gridcolor": "white",
            "linecolor": "white",
            "ticks": ""
           }
          },
          "scene": {
           "xaxis": {
            "backgroundcolor": "#E5ECF6",
            "gridcolor": "white",
            "gridwidth": 2,
            "linecolor": "white",
            "showbackground": true,
            "ticks": "",
            "zerolinecolor": "white"
           },
           "yaxis": {
            "backgroundcolor": "#E5ECF6",
            "gridcolor": "white",
            "gridwidth": 2,
            "linecolor": "white",
            "showbackground": true,
            "ticks": "",
            "zerolinecolor": "white"
           },
           "zaxis": {
            "backgroundcolor": "#E5ECF6",
            "gridcolor": "white",
            "gridwidth": 2,
            "linecolor": "white",
            "showbackground": true,
            "ticks": "",
            "zerolinecolor": "white"
           }
          },
          "shapedefaults": {
           "line": {
            "color": "#2a3f5f"
           }
          },
          "ternary": {
           "aaxis": {
            "gridcolor": "white",
            "linecolor": "white",
            "ticks": ""
           },
           "baxis": {
            "gridcolor": "white",
            "linecolor": "white",
            "ticks": ""
           },
           "bgcolor": "#E5ECF6",
           "caxis": {
            "gridcolor": "white",
            "linecolor": "white",
            "ticks": ""
           }
          },
          "title": {
           "x": 0.05
          },
          "xaxis": {
           "automargin": true,
           "gridcolor": "white",
           "linecolor": "white",
           "ticks": "",
           "title": {
            "standoff": 15
           },
           "zerolinecolor": "white",
           "zerolinewidth": 2
          },
          "yaxis": {
           "automargin": true,
           "gridcolor": "white",
           "linecolor": "white",
           "ticks": "",
           "title": {
            "standoff": 15
           },
           "zerolinecolor": "white",
           "zerolinewidth": 2
          }
         }
        },
        "title": {
         "text": "Mapping data to the two principal component"
        }
       }
      }
     },
     "metadata": {}
    }
   ],
   "source": [
    "d = {\"names\":df[\"name\"], \"types\":df[\"type\"], \"First component\":Y[:,0].ravel(), \"Second component\":Y[:,1].ravel()}\n",
    "dff = pd.DataFrame(d)\n",
    "fig = ex.scatter_3d(dff, x=\"names\", y=\"First component\", z=\"Second component\",color=\"types\", title=\"Mapping data to the first principal component\")\n",
    "fig.show()"
   ]
  },
  {
   "source": [
    "## MDS\n"
   ],
   "cell_type": "markdown",
   "metadata": {}
  },
  {
   "cell_type": "code",
   "execution_count": 7,
   "metadata": {},
   "outputs": [
    {
     "output_type": "display_data",
     "data": {
      "application/vnd.plotly.v1+json": {
       "config": {
        "plotlyServerURL": "https://plot.ly"
       },
       "data": [
        {
         "hovertemplate": "x=%{x}<br>y=%{y}<extra></extra>",
         "legendgroup": "",
         "line": {
          "color": "#636efa",
          "dash": "solid"
         },
         "mode": "lines",
         "name": "",
         "orientation": "v",
         "showlegend": false,
         "type": "scatter",
         "x": [
          0,
          1,
          2,
          3,
          4,
          5,
          6,
          7,
          8,
          9,
          10,
          11,
          12,
          13,
          14,
          15,
          16,
          17,
          18,
          19,
          20,
          21,
          22,
          23,
          24,
          25,
          26,
          27,
          28,
          29,
          30,
          31,
          32,
          33,
          34,
          35,
          36,
          37,
          38,
          39,
          40,
          41,
          42,
          43,
          44,
          45,
          46,
          47,
          48,
          49,
          50,
          51,
          52,
          53,
          54,
          55,
          56,
          57,
          58,
          59,
          60,
          61,
          62,
          63,
          64,
          65,
          66,
          67,
          68,
          69,
          70,
          71,
          72,
          73,
          74,
          75,
          76,
          77,
          78,
          79,
          80,
          81,
          82,
          83,
          84,
          85,
          86,
          87,
          88,
          89,
          90,
          91,
          92,
          93,
          94,
          95,
          96,
          97,
          98,
          99,
          100
         ],
         "xaxis": "x",
         "y": [
          0.00009999999747378752,
          0.00009999999747378752,
          0.00009999999747378752,
          0.00009999999747378752,
          0.00009999999747378752,
          0.00009999999747378752,
          0.00009999999747378752,
          0.00009999999747378752,
          0.00009999999747378752,
          0.00009999999747378752,
          0.00009999999747378752,
          0.00009999999747378752,
          0.00009999999747378752,
          0.00009999999747378752,
          0.00009999999747378752,
          0.00009999999747378752,
          0.00009999999747378752,
          0.00009999999747378752,
          0.00009999999747378752,
          0.00009999999747378752,
          0.00009999999747378752,
          0.00009999999747378752,
          0.00009999999747378752,
          0.00009999999747378752,
          0.00009999999747378752,
          0.00009999999747378752,
          0.00009999999747378752,
          0.00009999999747378752,
          0.00009999999747378752,
          0.00009999999747378752,
          0.00009999999747378752,
          0.00009999999747378752,
          0.00009999999747378752,
          0.00009999999747378752,
          7.083656328177312e-9,
          7.506647747845818e-9,
          8.13730594018125e-9,
          1.467634547225316e-8,
          1.806112948088412e-8,
          1.853001663221221e-8,
          1.9688826569108642e-8,
          2.3687979577857732e-8,
          2.605617765993884e-8,
          2.7615804754077544e-8,
          2.978748625537264e-8,
          3.376752033545927e-8,
          3.4750794242199845e-8,
          3.582485419428849e-8,
          3.8629870857675996e-8,
          5.3720015102953766e-8,
          7.96101176092634e-8,
          8.25868085030379e-8,
          8.366325943143238e-8,
          8.626199843320137e-8,
          8.827940689570823e-8,
          1.0059488886327017e-7,
          1.1012239298224813e-7,
          1.1211301398361684e-7,
          1.2598428611454437e-7,
          1.426341498245165e-7,
          1.5492420857299294e-7,
          1.7921679784649314e-7,
          2.0477300211041438e-7,
          2.266154979224666e-7,
          2.5268275294365594e-7,
          2.587773337836552e-7,
          2.641875198605703e-7,
          3.0275128892753855e-7,
          3.1343290629592957e-7,
          3.2228516033683263e-7,
          3.465723068529769e-7,
          3.5055347780144075e-7,
          3.6371241662891407e-7,
          4.522746053226001e-7,
          4.869244207839074e-7,
          5.313844440024695e-7,
          0.0000017776956156012602,
          0.000003591645509004593,
          0.000008536744644516148,
          0.000011107253158115782,
          0.00001354846972390078,
          0.17322593927383423,
          0.4886830747127533,
          0.9284606575965881,
          1.0446275472640991,
          2.014092206954956,
          2.2038187980651855,
          3.7356653213500977,
          4.492773056030273,
          4.663870811462402,
          6.880884170532227,
          7.739040374755859,
          9.656630516052246,
          11.59879207611084,
          14.061443328857422,
          17.096912384033203,
          24.154272079467773,
          32.04316711425781,
          73.79751586914062,
          109.53746032714844,
          434.688232421875
         ],
         "yaxis": "y"
        }
       ],
       "layout": {
        "legend": {
         "tracegroupgap": 0
        },
        "template": {
         "data": {
          "bar": [
           {
            "error_x": {
             "color": "#2a3f5f"
            },
            "error_y": {
             "color": "#2a3f5f"
            },
            "marker": {
             "line": {
              "color": "#E5ECF6",
              "width": 0.5
             }
            },
            "type": "bar"
           }
          ],
          "barpolar": [
           {
            "marker": {
             "line": {
              "color": "#E5ECF6",
              "width": 0.5
             }
            },
            "type": "barpolar"
           }
          ],
          "carpet": [
           {
            "aaxis": {
             "endlinecolor": "#2a3f5f",
             "gridcolor": "white",
             "linecolor": "white",
             "minorgridcolor": "white",
             "startlinecolor": "#2a3f5f"
            },
            "baxis": {
             "endlinecolor": "#2a3f5f",
             "gridcolor": "white",
             "linecolor": "white",
             "minorgridcolor": "white",
             "startlinecolor": "#2a3f5f"
            },
            "type": "carpet"
           }
          ],
          "choropleth": [
           {
            "colorbar": {
             "outlinewidth": 0,
             "ticks": ""
            },
            "type": "choropleth"
           }
          ],
          "contour": [
           {
            "colorbar": {
             "outlinewidth": 0,
             "ticks": ""
            },
            "colorscale": [
             [
              0,
              "#0d0887"
             ],
             [
              0.1111111111111111,
              "#46039f"
             ],
             [
              0.2222222222222222,
              "#7201a8"
             ],
             [
              0.3333333333333333,
              "#9c179e"
             ],
             [
              0.4444444444444444,
              "#bd3786"
             ],
             [
              0.5555555555555556,
              "#d8576b"
             ],
             [
              0.6666666666666666,
              "#ed7953"
             ],
             [
              0.7777777777777778,
              "#fb9f3a"
             ],
             [
              0.8888888888888888,
              "#fdca26"
             ],
             [
              1,
              "#f0f921"
             ]
            ],
            "type": "contour"
           }
          ],
          "contourcarpet": [
           {
            "colorbar": {
             "outlinewidth": 0,
             "ticks": ""
            },
            "type": "contourcarpet"
           }
          ],
          "heatmap": [
           {
            "colorbar": {
             "outlinewidth": 0,
             "ticks": ""
            },
            "colorscale": [
             [
              0,
              "#0d0887"
             ],
             [
              0.1111111111111111,
              "#46039f"
             ],
             [
              0.2222222222222222,
              "#7201a8"
             ],
             [
              0.3333333333333333,
              "#9c179e"
             ],
             [
              0.4444444444444444,
              "#bd3786"
             ],
             [
              0.5555555555555556,
              "#d8576b"
             ],
             [
              0.6666666666666666,
              "#ed7953"
             ],
             [
              0.7777777777777778,
              "#fb9f3a"
             ],
             [
              0.8888888888888888,
              "#fdca26"
             ],
             [
              1,
              "#f0f921"
             ]
            ],
            "type": "heatmap"
           }
          ],
          "heatmapgl": [
           {
            "colorbar": {
             "outlinewidth": 0,
             "ticks": ""
            },
            "colorscale": [
             [
              0,
              "#0d0887"
             ],
             [
              0.1111111111111111,
              "#46039f"
             ],
             [
              0.2222222222222222,
              "#7201a8"
             ],
             [
              0.3333333333333333,
              "#9c179e"
             ],
             [
              0.4444444444444444,
              "#bd3786"
             ],
             [
              0.5555555555555556,
              "#d8576b"
             ],
             [
              0.6666666666666666,
              "#ed7953"
             ],
             [
              0.7777777777777778,
              "#fb9f3a"
             ],
             [
              0.8888888888888888,
              "#fdca26"
             ],
             [
              1,
              "#f0f921"
             ]
            ],
            "type": "heatmapgl"
           }
          ],
          "histogram": [
           {
            "marker": {
             "colorbar": {
              "outlinewidth": 0,
              "ticks": ""
             }
            },
            "type": "histogram"
           }
          ],
          "histogram2d": [
           {
            "colorbar": {
             "outlinewidth": 0,
             "ticks": ""
            },
            "colorscale": [
             [
              0,
              "#0d0887"
             ],
             [
              0.1111111111111111,
              "#46039f"
             ],
             [
              0.2222222222222222,
              "#7201a8"
             ],
             [
              0.3333333333333333,
              "#9c179e"
             ],
             [
              0.4444444444444444,
              "#bd3786"
             ],
             [
              0.5555555555555556,
              "#d8576b"
             ],
             [
              0.6666666666666666,
              "#ed7953"
             ],
             [
              0.7777777777777778,
              "#fb9f3a"
             ],
             [
              0.8888888888888888,
              "#fdca26"
             ],
             [
              1,
              "#f0f921"
             ]
            ],
            "type": "histogram2d"
           }
          ],
          "histogram2dcontour": [
           {
            "colorbar": {
             "outlinewidth": 0,
             "ticks": ""
            },
            "colorscale": [
             [
              0,
              "#0d0887"
             ],
             [
              0.1111111111111111,
              "#46039f"
             ],
             [
              0.2222222222222222,
              "#7201a8"
             ],
             [
              0.3333333333333333,
              "#9c179e"
             ],
             [
              0.4444444444444444,
              "#bd3786"
             ],
             [
              0.5555555555555556,
              "#d8576b"
             ],
             [
              0.6666666666666666,
              "#ed7953"
             ],
             [
              0.7777777777777778,
              "#fb9f3a"
             ],
             [
              0.8888888888888888,
              "#fdca26"
             ],
             [
              1,
              "#f0f921"
             ]
            ],
            "type": "histogram2dcontour"
           }
          ],
          "mesh3d": [
           {
            "colorbar": {
             "outlinewidth": 0,
             "ticks": ""
            },
            "type": "mesh3d"
           }
          ],
          "parcoords": [
           {
            "line": {
             "colorbar": {
              "outlinewidth": 0,
              "ticks": ""
             }
            },
            "type": "parcoords"
           }
          ],
          "pie": [
           {
            "automargin": true,
            "type": "pie"
           }
          ],
          "scatter": [
           {
            "marker": {
             "colorbar": {
              "outlinewidth": 0,
              "ticks": ""
             }
            },
            "type": "scatter"
           }
          ],
          "scatter3d": [
           {
            "line": {
             "colorbar": {
              "outlinewidth": 0,
              "ticks": ""
             }
            },
            "marker": {
             "colorbar": {
              "outlinewidth": 0,
              "ticks": ""
             }
            },
            "type": "scatter3d"
           }
          ],
          "scattercarpet": [
           {
            "marker": {
             "colorbar": {
              "outlinewidth": 0,
              "ticks": ""
             }
            },
            "type": "scattercarpet"
           }
          ],
          "scattergeo": [
           {
            "marker": {
             "colorbar": {
              "outlinewidth": 0,
              "ticks": ""
             }
            },
            "type": "scattergeo"
           }
          ],
          "scattergl": [
           {
            "marker": {
             "colorbar": {
              "outlinewidth": 0,
              "ticks": ""
             }
            },
            "type": "scattergl"
           }
          ],
          "scattermapbox": [
           {
            "marker": {
             "colorbar": {
              "outlinewidth": 0,
              "ticks": ""
             }
            },
            "type": "scattermapbox"
           }
          ],
          "scatterpolar": [
           {
            "marker": {
             "colorbar": {
              "outlinewidth": 0,
              "ticks": ""
             }
            },
            "type": "scatterpolar"
           }
          ],
          "scatterpolargl": [
           {
            "marker": {
             "colorbar": {
              "outlinewidth": 0,
              "ticks": ""
             }
            },
            "type": "scatterpolargl"
           }
          ],
          "scatterternary": [
           {
            "marker": {
             "colorbar": {
              "outlinewidth": 0,
              "ticks": ""
             }
            },
            "type": "scatterternary"
           }
          ],
          "surface": [
           {
            "colorbar": {
             "outlinewidth": 0,
             "ticks": ""
            },
            "colorscale": [
             [
              0,
              "#0d0887"
             ],
             [
              0.1111111111111111,
              "#46039f"
             ],
             [
              0.2222222222222222,
              "#7201a8"
             ],
             [
              0.3333333333333333,
              "#9c179e"
             ],
             [
              0.4444444444444444,
              "#bd3786"
             ],
             [
              0.5555555555555556,
              "#d8576b"
             ],
             [
              0.6666666666666666,
              "#ed7953"
             ],
             [
              0.7777777777777778,
              "#fb9f3a"
             ],
             [
              0.8888888888888888,
              "#fdca26"
             ],
             [
              1,
              "#f0f921"
             ]
            ],
            "type": "surface"
           }
          ],
          "table": [
           {
            "cells": {
             "fill": {
              "color": "#EBF0F8"
             },
             "line": {
              "color": "white"
             }
            },
            "header": {
             "fill": {
              "color": "#C8D4E3"
             },
             "line": {
              "color": "white"
             }
            },
            "type": "table"
           }
          ]
         },
         "layout": {
          "annotationdefaults": {
           "arrowcolor": "#2a3f5f",
           "arrowhead": 0,
           "arrowwidth": 1
          },
          "coloraxis": {
           "colorbar": {
            "outlinewidth": 0,
            "ticks": ""
           }
          },
          "colorscale": {
           "diverging": [
            [
             0,
             "#8e0152"
            ],
            [
             0.1,
             "#c51b7d"
            ],
            [
             0.2,
             "#de77ae"
            ],
            [
             0.3,
             "#f1b6da"
            ],
            [
             0.4,
             "#fde0ef"
            ],
            [
             0.5,
             "#f7f7f7"
            ],
            [
             0.6,
             "#e6f5d0"
            ],
            [
             0.7,
             "#b8e186"
            ],
            [
             0.8,
             "#7fbc41"
            ],
            [
             0.9,
             "#4d9221"
            ],
            [
             1,
             "#276419"
            ]
           ],
           "sequential": [
            [
             0,
             "#0d0887"
            ],
            [
             0.1111111111111111,
             "#46039f"
            ],
            [
             0.2222222222222222,
             "#7201a8"
            ],
            [
             0.3333333333333333,
             "#9c179e"
            ],
            [
             0.4444444444444444,
             "#bd3786"
            ],
            [
             0.5555555555555556,
             "#d8576b"
            ],
            [
             0.6666666666666666,
             "#ed7953"
            ],
            [
             0.7777777777777778,
             "#fb9f3a"
            ],
            [
             0.8888888888888888,
             "#fdca26"
            ],
            [
             1,
             "#f0f921"
            ]
           ],
           "sequentialminus": [
            [
             0,
             "#0d0887"
            ],
            [
             0.1111111111111111,
             "#46039f"
            ],
            [
             0.2222222222222222,
             "#7201a8"
            ],
            [
             0.3333333333333333,
             "#9c179e"
            ],
            [
             0.4444444444444444,
             "#bd3786"
            ],
            [
             0.5555555555555556,
             "#d8576b"
            ],
            [
             0.6666666666666666,
             "#ed7953"
            ],
            [
             0.7777777777777778,
             "#fb9f3a"
            ],
            [
             0.8888888888888888,
             "#fdca26"
            ],
            [
             1,
             "#f0f921"
            ]
           ]
          },
          "colorway": [
           "#636efa",
           "#EF553B",
           "#00cc96",
           "#ab63fa",
           "#FFA15A",
           "#19d3f3",
           "#FF6692",
           "#B6E880",
           "#FF97FF",
           "#FECB52"
          ],
          "font": {
           "color": "#2a3f5f"
          },
          "geo": {
           "bgcolor": "white",
           "lakecolor": "white",
           "landcolor": "#E5ECF6",
           "showlakes": true,
           "showland": true,
           "subunitcolor": "white"
          },
          "hoverlabel": {
           "align": "left"
          },
          "hovermode": "closest",
          "mapbox": {
           "style": "light"
          },
          "paper_bgcolor": "white",
          "plot_bgcolor": "#E5ECF6",
          "polar": {
           "angularaxis": {
            "gridcolor": "white",
            "linecolor": "white",
            "ticks": ""
           },
           "bgcolor": "#E5ECF6",
           "radialaxis": {
            "gridcolor": "white",
            "linecolor": "white",
            "ticks": ""
           }
          },
          "scene": {
           "xaxis": {
            "backgroundcolor": "#E5ECF6",
            "gridcolor": "white",
            "gridwidth": 2,
            "linecolor": "white",
            "showbackground": true,
            "ticks": "",
            "zerolinecolor": "white"
           },
           "yaxis": {
            "backgroundcolor": "#E5ECF6",
            "gridcolor": "white",
            "gridwidth": 2,
            "linecolor": "white",
            "showbackground": true,
            "ticks": "",
            "zerolinecolor": "white"
           },
           "zaxis": {
            "backgroundcolor": "#E5ECF6",
            "gridcolor": "white",
            "gridwidth": 2,
            "linecolor": "white",
            "showbackground": true,
            "ticks": "",
            "zerolinecolor": "white"
           }
          },
          "shapedefaults": {
           "line": {
            "color": "#2a3f5f"
           }
          },
          "ternary": {
           "aaxis": {
            "gridcolor": "white",
            "linecolor": "white",
            "ticks": ""
           },
           "baxis": {
            "gridcolor": "white",
            "linecolor": "white",
            "ticks": ""
           },
           "bgcolor": "#E5ECF6",
           "caxis": {
            "gridcolor": "white",
            "linecolor": "white",
            "ticks": ""
           }
          },
          "title": {
           "x": 0.05
          },
          "xaxis": {
           "automargin": true,
           "gridcolor": "white",
           "linecolor": "white",
           "ticks": "",
           "title": {
            "standoff": 15
           },
           "zerolinecolor": "white",
           "zerolinewidth": 2
          },
          "yaxis": {
           "automargin": true,
           "gridcolor": "white",
           "linecolor": "white",
           "ticks": "",
           "title": {
            "standoff": 15
           },
           "zerolinecolor": "white",
           "zerolinewidth": 2
          }
         }
        },
        "title": {
         "text": "Eigen values of S=XX'"
        },
        "xaxis": {
         "anchor": "y",
         "domain": [
          0,
          1
         ],
         "title": {
          "text": "x"
         }
        },
        "yaxis": {
         "anchor": "x",
         "domain": [
          0,
          1
         ],
         "title": {
          "text": "y"
         }
        }
       }
      }
     },
     "metadata": {}
    }
   ],
   "source": [
    "S = X @ X.T\n",
    "w, v = scipy.linalg.eigh(S)\n",
    "w[w<0] = 1e-4\n",
    "fig = ex.line(x=np.arange(len(w)), y=w, title=\"Eigen values of S=XX'\")\n",
    "fig.show()"
   ]
  },
  {
   "cell_type": "code",
   "execution_count": 327,
   "metadata": {},
   "outputs": [
    {
     "output_type": "execute_result",
     "data": {
      "text/plain": [
       "<matplotlib.colorbar.Colorbar at 0x7f5dba875340>"
      ]
     },
     "metadata": {},
     "execution_count": 327
    },
    {
     "output_type": "display_data",
     "data": {
      "text/plain": "<Figure size 432x288 with 2 Axes>",
      "image/svg+xml": "<?xml version=\"1.0\" encoding=\"utf-8\" standalone=\"no\"?>\n<!DOCTYPE svg PUBLIC \"-//W3C//DTD SVG 1.1//EN\"\n  \"http://www.w3.org/Graphics/SVG/1.1/DTD/svg11.dtd\">\n<!-- Created with matplotlib (https://matplotlib.org/) -->\n<svg height=\"251.240908pt\" version=\"1.1\" viewBox=\"0 0 305.2645 251.240908\" width=\"305.2645pt\" xmlns=\"http://www.w3.org/2000/svg\" xmlns:xlink=\"http://www.w3.org/1999/xlink\">\n <defs>\n  <style type=\"text/css\">\n*{stroke-linecap:butt;stroke-linejoin:round;}\n  </style>\n </defs>\n <g id=\"figure_1\">\n  <g id=\"patch_1\">\n   <path d=\"M 0 251.240908 \nL 305.2645 251.240908 \nL 305.2645 0 \nL 0 0 \nz\n\" style=\"fill:none;\"/>\n  </g>\n  <g id=\"axes_1\">\n   <g id=\"patch_2\">\n    <path d=\"M 33.2875 227.362783 \nL 250.7275 227.362783 \nL 250.7275 9.922783 \nL 33.2875 9.922783 \nz\n\" style=\"fill:#ffffff;\"/>\n   </g>\n   <g id=\"matplotlib.axis_1\">\n    <g id=\"xtick_1\">\n     <g id=\"line2d_1\">\n      <defs>\n       <path d=\"M 0 0 \nL 0 3.5 \n\" id=\"m924f56727a\" style=\"stroke:#000000;stroke-width:0.8;\"/>\n      </defs>\n      <g>\n       <use style=\"stroke:#000000;stroke-width:0.8;\" x=\"34.363936\" xlink:href=\"#m924f56727a\" y=\"227.362783\"/>\n      </g>\n     </g>\n     <g id=\"text_1\">\n      <!-- 0 -->\n      <defs>\n       <path d=\"M 31.78125 66.40625 \nQ 24.171875 66.40625 20.328125 58.90625 \nQ 16.5 51.421875 16.5 36.375 \nQ 16.5 21.390625 20.328125 13.890625 \nQ 24.171875 6.390625 31.78125 6.390625 \nQ 39.453125 6.390625 43.28125 13.890625 \nQ 47.125 21.390625 47.125 36.375 \nQ 47.125 51.421875 43.28125 58.90625 \nQ 39.453125 66.40625 31.78125 66.40625 \nz\nM 31.78125 74.21875 \nQ 44.046875 74.21875 50.515625 64.515625 \nQ 56.984375 54.828125 56.984375 36.375 \nQ 56.984375 17.96875 50.515625 8.265625 \nQ 44.046875 -1.421875 31.78125 -1.421875 \nQ 19.53125 -1.421875 13.0625 8.265625 \nQ 6.59375 17.96875 6.59375 36.375 \nQ 6.59375 54.828125 13.0625 64.515625 \nQ 19.53125 74.21875 31.78125 74.21875 \nz\n\" id=\"DejaVuSans-48\"/>\n      </defs>\n      <g transform=\"translate(31.182686 241.961221)scale(0.1 -0.1)\">\n       <use xlink:href=\"#DejaVuSans-48\"/>\n      </g>\n     </g>\n    </g>\n    <g id=\"xtick_2\">\n     <g id=\"line2d_2\">\n      <g>\n       <use style=\"stroke:#000000;stroke-width:0.8;\" x=\"77.421361\" xlink:href=\"#m924f56727a\" y=\"227.362783\"/>\n      </g>\n     </g>\n     <g id=\"text_2\">\n      <!-- 20 -->\n      <defs>\n       <path d=\"M 19.1875 8.296875 \nL 53.609375 8.296875 \nL 53.609375 0 \nL 7.328125 0 \nL 7.328125 8.296875 \nQ 12.9375 14.109375 22.625 23.890625 \nQ 32.328125 33.6875 34.8125 36.53125 \nQ 39.546875 41.84375 41.421875 45.53125 \nQ 43.3125 49.21875 43.3125 52.78125 \nQ 43.3125 58.59375 39.234375 62.25 \nQ 35.15625 65.921875 28.609375 65.921875 \nQ 23.96875 65.921875 18.8125 64.3125 \nQ 13.671875 62.703125 7.8125 59.421875 \nL 7.8125 69.390625 \nQ 13.765625 71.78125 18.9375 73 \nQ 24.125 74.21875 28.421875 74.21875 \nQ 39.75 74.21875 46.484375 68.546875 \nQ 53.21875 62.890625 53.21875 53.421875 \nQ 53.21875 48.921875 51.53125 44.890625 \nQ 49.859375 40.875 45.40625 35.40625 \nQ 44.1875 33.984375 37.640625 27.21875 \nQ 31.109375 20.453125 19.1875 8.296875 \nz\n\" id=\"DejaVuSans-50\"/>\n      </defs>\n      <g transform=\"translate(71.058861 241.961221)scale(0.1 -0.1)\">\n       <use xlink:href=\"#DejaVuSans-50\"/>\n       <use x=\"63.623047\" xlink:href=\"#DejaVuSans-48\"/>\n      </g>\n     </g>\n    </g>\n    <g id=\"xtick_3\">\n     <g id=\"line2d_3\">\n      <g>\n       <use style=\"stroke:#000000;stroke-width:0.8;\" x=\"120.478787\" xlink:href=\"#m924f56727a\" y=\"227.362783\"/>\n      </g>\n     </g>\n     <g id=\"text_3\">\n      <!-- 40 -->\n      <defs>\n       <path d=\"M 37.796875 64.3125 \nL 12.890625 25.390625 \nL 37.796875 25.390625 \nz\nM 35.203125 72.90625 \nL 47.609375 72.90625 \nL 47.609375 25.390625 \nL 58.015625 25.390625 \nL 58.015625 17.1875 \nL 47.609375 17.1875 \nL 47.609375 0 \nL 37.796875 0 \nL 37.796875 17.1875 \nL 4.890625 17.1875 \nL 4.890625 26.703125 \nz\n\" id=\"DejaVuSans-52\"/>\n      </defs>\n      <g transform=\"translate(114.116287 241.961221)scale(0.1 -0.1)\">\n       <use xlink:href=\"#DejaVuSans-52\"/>\n       <use x=\"63.623047\" xlink:href=\"#DejaVuSans-48\"/>\n      </g>\n     </g>\n    </g>\n    <g id=\"xtick_4\">\n     <g id=\"line2d_4\">\n      <g>\n       <use style=\"stroke:#000000;stroke-width:0.8;\" x=\"163.536213\" xlink:href=\"#m924f56727a\" y=\"227.362783\"/>\n      </g>\n     </g>\n     <g id=\"text_4\">\n      <!-- 60 -->\n      <defs>\n       <path d=\"M 33.015625 40.375 \nQ 26.375 40.375 22.484375 35.828125 \nQ 18.609375 31.296875 18.609375 23.390625 \nQ 18.609375 15.53125 22.484375 10.953125 \nQ 26.375 6.390625 33.015625 6.390625 \nQ 39.65625 6.390625 43.53125 10.953125 \nQ 47.40625 15.53125 47.40625 23.390625 \nQ 47.40625 31.296875 43.53125 35.828125 \nQ 39.65625 40.375 33.015625 40.375 \nz\nM 52.59375 71.296875 \nL 52.59375 62.3125 \nQ 48.875 64.0625 45.09375 64.984375 \nQ 41.3125 65.921875 37.59375 65.921875 \nQ 27.828125 65.921875 22.671875 59.328125 \nQ 17.53125 52.734375 16.796875 39.40625 \nQ 19.671875 43.65625 24.015625 45.921875 \nQ 28.375 48.1875 33.59375 48.1875 \nQ 44.578125 48.1875 50.953125 41.515625 \nQ 57.328125 34.859375 57.328125 23.390625 \nQ 57.328125 12.15625 50.6875 5.359375 \nQ 44.046875 -1.421875 33.015625 -1.421875 \nQ 20.359375 -1.421875 13.671875 8.265625 \nQ 6.984375 17.96875 6.984375 36.375 \nQ 6.984375 53.65625 15.1875 63.9375 \nQ 23.390625 74.21875 37.203125 74.21875 \nQ 40.921875 74.21875 44.703125 73.484375 \nQ 48.484375 72.75 52.59375 71.296875 \nz\n\" id=\"DejaVuSans-54\"/>\n      </defs>\n      <g transform=\"translate(157.173713 241.961221)scale(0.1 -0.1)\">\n       <use xlink:href=\"#DejaVuSans-54\"/>\n       <use x=\"63.623047\" xlink:href=\"#DejaVuSans-48\"/>\n      </g>\n     </g>\n    </g>\n    <g id=\"xtick_5\">\n     <g id=\"line2d_5\">\n      <g>\n       <use style=\"stroke:#000000;stroke-width:0.8;\" x=\"206.593639\" xlink:href=\"#m924f56727a\" y=\"227.362783\"/>\n      </g>\n     </g>\n     <g id=\"text_5\">\n      <!-- 80 -->\n      <defs>\n       <path d=\"M 31.78125 34.625 \nQ 24.75 34.625 20.71875 30.859375 \nQ 16.703125 27.09375 16.703125 20.515625 \nQ 16.703125 13.921875 20.71875 10.15625 \nQ 24.75 6.390625 31.78125 6.390625 \nQ 38.8125 6.390625 42.859375 10.171875 \nQ 46.921875 13.96875 46.921875 20.515625 \nQ 46.921875 27.09375 42.890625 30.859375 \nQ 38.875 34.625 31.78125 34.625 \nz\nM 21.921875 38.8125 \nQ 15.578125 40.375 12.03125 44.71875 \nQ 8.5 49.078125 8.5 55.328125 \nQ 8.5 64.0625 14.71875 69.140625 \nQ 20.953125 74.21875 31.78125 74.21875 \nQ 42.671875 74.21875 48.875 69.140625 \nQ 55.078125 64.0625 55.078125 55.328125 \nQ 55.078125 49.078125 51.53125 44.71875 \nQ 48 40.375 41.703125 38.8125 \nQ 48.828125 37.15625 52.796875 32.3125 \nQ 56.78125 27.484375 56.78125 20.515625 \nQ 56.78125 9.90625 50.3125 4.234375 \nQ 43.84375 -1.421875 31.78125 -1.421875 \nQ 19.734375 -1.421875 13.25 4.234375 \nQ 6.78125 9.90625 6.78125 20.515625 \nQ 6.78125 27.484375 10.78125 32.3125 \nQ 14.796875 37.15625 21.921875 38.8125 \nz\nM 18.3125 54.390625 \nQ 18.3125 48.734375 21.84375 45.5625 \nQ 25.390625 42.390625 31.78125 42.390625 \nQ 38.140625 42.390625 41.71875 45.5625 \nQ 45.3125 48.734375 45.3125 54.390625 \nQ 45.3125 60.0625 41.71875 63.234375 \nQ 38.140625 66.40625 31.78125 66.40625 \nQ 25.390625 66.40625 21.84375 63.234375 \nQ 18.3125 60.0625 18.3125 54.390625 \nz\n\" id=\"DejaVuSans-56\"/>\n      </defs>\n      <g transform=\"translate(200.231139 241.961221)scale(0.1 -0.1)\">\n       <use xlink:href=\"#DejaVuSans-56\"/>\n       <use x=\"63.623047\" xlink:href=\"#DejaVuSans-48\"/>\n      </g>\n     </g>\n    </g>\n    <g id=\"xtick_6\">\n     <g id=\"line2d_6\">\n      <g>\n       <use style=\"stroke:#000000;stroke-width:0.8;\" x=\"249.651064\" xlink:href=\"#m924f56727a\" y=\"227.362783\"/>\n      </g>\n     </g>\n     <g id=\"text_6\">\n      <!-- 100 -->\n      <defs>\n       <path d=\"M 12.40625 8.296875 \nL 28.515625 8.296875 \nL 28.515625 63.921875 \nL 10.984375 60.40625 \nL 10.984375 69.390625 \nL 28.421875 72.90625 \nL 38.28125 72.90625 \nL 38.28125 8.296875 \nL 54.390625 8.296875 \nL 54.390625 0 \nL 12.40625 0 \nz\n\" id=\"DejaVuSans-49\"/>\n      </defs>\n      <g transform=\"translate(240.107314 241.961221)scale(0.1 -0.1)\">\n       <use xlink:href=\"#DejaVuSans-49\"/>\n       <use x=\"63.623047\" xlink:href=\"#DejaVuSans-48\"/>\n       <use x=\"127.246094\" xlink:href=\"#DejaVuSans-48\"/>\n      </g>\n     </g>\n    </g>\n   </g>\n   <g id=\"matplotlib.axis_2\">\n    <g id=\"ytick_1\">\n     <g id=\"line2d_7\">\n      <defs>\n       <path d=\"M 0 0 \nL -3.5 0 \n\" id=\"ma6b745377c\" style=\"stroke:#000000;stroke-width:0.8;\"/>\n      </defs>\n      <g>\n       <use style=\"stroke:#000000;stroke-width:0.8;\" x=\"33.2875\" xlink:href=\"#ma6b745377c\" y=\"10.999219\"/>\n      </g>\n     </g>\n     <g id=\"text_7\">\n      <!-- 0 -->\n      <g transform=\"translate(19.925 14.798437)scale(0.1 -0.1)\">\n       <use xlink:href=\"#DejaVuSans-48\"/>\n      </g>\n     </g>\n    </g>\n    <g id=\"ytick_2\">\n     <g id=\"line2d_8\">\n      <g>\n       <use style=\"stroke:#000000;stroke-width:0.8;\" x=\"33.2875\" xlink:href=\"#ma6b745377c\" y=\"54.056644\"/>\n      </g>\n     </g>\n     <g id=\"text_8\">\n      <!-- 20 -->\n      <g transform=\"translate(13.5625 57.855863)scale(0.1 -0.1)\">\n       <use xlink:href=\"#DejaVuSans-50\"/>\n       <use x=\"63.623047\" xlink:href=\"#DejaVuSans-48\"/>\n      </g>\n     </g>\n    </g>\n    <g id=\"ytick_3\">\n     <g id=\"line2d_9\">\n      <g>\n       <use style=\"stroke:#000000;stroke-width:0.8;\" x=\"33.2875\" xlink:href=\"#ma6b745377c\" y=\"97.11407\"/>\n      </g>\n     </g>\n     <g id=\"text_9\">\n      <!-- 40 -->\n      <g transform=\"translate(13.5625 100.913289)scale(0.1 -0.1)\">\n       <use xlink:href=\"#DejaVuSans-52\"/>\n       <use x=\"63.623047\" xlink:href=\"#DejaVuSans-48\"/>\n      </g>\n     </g>\n    </g>\n    <g id=\"ytick_4\">\n     <g id=\"line2d_10\">\n      <g>\n       <use style=\"stroke:#000000;stroke-width:0.8;\" x=\"33.2875\" xlink:href=\"#ma6b745377c\" y=\"140.171496\"/>\n      </g>\n     </g>\n     <g id=\"text_10\">\n      <!-- 60 -->\n      <g transform=\"translate(13.5625 143.970715)scale(0.1 -0.1)\">\n       <use xlink:href=\"#DejaVuSans-54\"/>\n       <use x=\"63.623047\" xlink:href=\"#DejaVuSans-48\"/>\n      </g>\n     </g>\n    </g>\n    <g id=\"ytick_5\">\n     <g id=\"line2d_11\">\n      <g>\n       <use style=\"stroke:#000000;stroke-width:0.8;\" x=\"33.2875\" xlink:href=\"#ma6b745377c\" y=\"183.228922\"/>\n      </g>\n     </g>\n     <g id=\"text_11\">\n      <!-- 80 -->\n      <g transform=\"translate(13.5625 187.02814)scale(0.1 -0.1)\">\n       <use xlink:href=\"#DejaVuSans-56\"/>\n       <use x=\"63.623047\" xlink:href=\"#DejaVuSans-48\"/>\n      </g>\n     </g>\n    </g>\n    <g id=\"ytick_6\">\n     <g id=\"line2d_12\">\n      <g>\n       <use style=\"stroke:#000000;stroke-width:0.8;\" x=\"33.2875\" xlink:href=\"#ma6b745377c\" y=\"226.286347\"/>\n      </g>\n     </g>\n     <g id=\"text_12\">\n      <!-- 100 -->\n      <g transform=\"translate(7.2 230.085566)scale(0.1 -0.1)\">\n       <use xlink:href=\"#DejaVuSans-49\"/>\n       <use x=\"63.623047\" xlink:href=\"#DejaVuSans-48\"/>\n       <use x=\"127.246094\" xlink:href=\"#DejaVuSans-48\"/>\n      </g>\n     </g>\n    </g>\n   </g>\n   <g clip-path=\"url(#pd73c5565ec)\">\n    <image height=\"218\" id=\"image4d60fbd3d4\" transform=\"scale(1 -1)translate(0 -218)\" width=\"218\" x=\"33.2875\" xlink:href=\"data:image/png;base64,\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\" y=\"-9.362783\"/>\n   </g>\n   <g id=\"patch_3\">\n    <path d=\"M 33.2875 227.362783 \nL 33.2875 9.922783 \n\" style=\"fill:none;stroke:#000000;stroke-linecap:square;stroke-linejoin:miter;stroke-width:0.8;\"/>\n   </g>\n   <g id=\"patch_4\">\n    <path d=\"M 250.7275 227.362783 \nL 250.7275 9.922783 \n\" style=\"fill:none;stroke:#000000;stroke-linecap:square;stroke-linejoin:miter;stroke-width:0.8;\"/>\n   </g>\n   <g id=\"patch_5\">\n    <path d=\"M 33.2875 227.362783 \nL 250.7275 227.362783 \n\" style=\"fill:none;stroke:#000000;stroke-linecap:square;stroke-linejoin:miter;stroke-width:0.8;\"/>\n   </g>\n   <g id=\"patch_6\">\n    <path d=\"M 33.2875 9.922783 \nL 250.7275 9.922783 \n\" style=\"fill:none;stroke:#000000;stroke-linecap:square;stroke-linejoin:miter;stroke-width:0.8;\"/>\n   </g>\n  </g>\n  <g id=\"axes_2\">\n   <g id=\"patch_7\">\n    <path clip-path=\"url(#p87d79b00e0)\" d=\"M 267.4675 227.362783 \nL 267.4675 226.513408 \nL 267.4675 10.772158 \nL 267.4675 9.922783 \nL 278.3395 9.922783 \nL 278.3395 10.772158 \nL 278.3395 226.513408 \nL 278.3395 227.362783 \nz\n\" style=\"fill:#ffffff;stroke:#ffffff;stroke-linejoin:miter;stroke-width:0.01;\"/>\n   </g>\n   <image height=\"217\" id=\"image8164be172a\" transform=\"scale(1 -1)translate(0 -217)\" width=\"11\" x=\"267\" xlink:href=\"data:image/png;base64,\niVBORw0KGgoAAAANSUhEUgAAAAsAAADZCAYAAAD2WsoCAAAABHNCSVQICAgIfAhkiAAAARtJREFUaIHtmDEOQyEMQ6nE/Y/bofqEru3GG55kEJ2tyHEch9/X+zNnW/z12ZaxrQNs6wDbeq1TNmkAFlA6VjmExjoWDwVwLlLZo+FJN4n5TRqosrWwaNwh8ZWysBtKd3zyX/P/g4n5PRoZ0g0x+a0L68UXUyMjRYvpbHFGNEJeMnDcFo3SKpvmB5VNNQB4gJRhm8LiK2OtHqIG46ydY1QZgb07GGIkZv71wupN0Yz0gA73DHO23RHmFw+9lnVefHnfKVt6wzO/+IyP8EaI+UMqV60ndApnZqQ77h8wVCMiGMVXwTi8QbTd7F810RsaOMP8ITqf742McYd4Ax76CM6MRg0AZg2iTfEqE/D5anjeQDrfcedV9sZtNfgF3i7dE92gvEIAAAAASUVORK5CYII=\" y=\"-10\"/>\n   <g id=\"matplotlib.axis_3\"/>\n   <g id=\"matplotlib.axis_4\">\n    <g id=\"ytick_7\">\n     <g id=\"line2d_13\">\n      <defs>\n       <path d=\"M 0 0 \nL 3.5 0 \n\" id=\"mf170201c45\" style=\"stroke:#000000;stroke-width:0.8;\"/>\n      </defs>\n      <g>\n       <use style=\"stroke:#000000;stroke-width:0.8;\" x=\"278.3395\" xlink:href=\"#mf170201c45\" y=\"227.362783\"/>\n      </g>\n     </g>\n     <g id=\"text_13\">\n      <!-- 0 -->\n      <g transform=\"translate(285.3395 231.162002)scale(0.1 -0.1)\">\n       <use xlink:href=\"#DejaVuSans-48\"/>\n      </g>\n     </g>\n    </g>\n    <g id=\"ytick_8\">\n     <g id=\"line2d_14\">\n      <g>\n       <use style=\"stroke:#000000;stroke-width:0.8;\" x=\"278.3395\" xlink:href=\"#mf170201c45\" y=\"187.828238\"/>\n      </g>\n     </g>\n     <g id=\"text_14\">\n      <!-- 2 -->\n      <g transform=\"translate(285.3395 191.627456)scale(0.1 -0.1)\">\n       <use xlink:href=\"#DejaVuSans-50\"/>\n      </g>\n     </g>\n    </g>\n    <g id=\"ytick_9\">\n     <g id=\"line2d_15\">\n      <g>\n       <use style=\"stroke:#000000;stroke-width:0.8;\" x=\"278.3395\" xlink:href=\"#mf170201c45\" y=\"148.293692\"/>\n      </g>\n     </g>\n     <g id=\"text_15\">\n      <!-- 4 -->\n      <g transform=\"translate(285.3395 152.092911)scale(0.1 -0.1)\">\n       <use xlink:href=\"#DejaVuSans-52\"/>\n      </g>\n     </g>\n    </g>\n    <g id=\"ytick_10\">\n     <g id=\"line2d_16\">\n      <g>\n       <use style=\"stroke:#000000;stroke-width:0.8;\" x=\"278.3395\" xlink:href=\"#mf170201c45\" y=\"108.759147\"/>\n      </g>\n     </g>\n     <g id=\"text_16\">\n      <!-- 6 -->\n      <g transform=\"translate(285.3395 112.558365)scale(0.1 -0.1)\">\n       <use xlink:href=\"#DejaVuSans-54\"/>\n      </g>\n     </g>\n    </g>\n    <g id=\"ytick_11\">\n     <g id=\"line2d_17\">\n      <g>\n       <use style=\"stroke:#000000;stroke-width:0.8;\" x=\"278.3395\" xlink:href=\"#mf170201c45\" y=\"69.224601\"/>\n      </g>\n     </g>\n     <g id=\"text_17\">\n      <!-- 8 -->\n      <g transform=\"translate(285.3395 73.02382)scale(0.1 -0.1)\">\n       <use xlink:href=\"#DejaVuSans-56\"/>\n      </g>\n     </g>\n    </g>\n    <g id=\"ytick_12\">\n     <g id=\"line2d_18\">\n      <g>\n       <use style=\"stroke:#000000;stroke-width:0.8;\" x=\"278.3395\" xlink:href=\"#mf170201c45\" y=\"29.690056\"/>\n      </g>\n     </g>\n     <g id=\"text_18\">\n      <!-- 10 -->\n      <g transform=\"translate(285.3395 33.489275)scale(0.1 -0.1)\">\n       <use xlink:href=\"#DejaVuSans-49\"/>\n       <use x=\"63.623047\" xlink:href=\"#DejaVuSans-48\"/>\n      </g>\n     </g>\n    </g>\n   </g>\n   <g id=\"patch_8\">\n    <path d=\"M 267.4675 227.362783 \nL 267.4675 226.513408 \nL 267.4675 10.772158 \nL 267.4675 9.922783 \nL 278.3395 9.922783 \nL 278.3395 10.772158 \nL 278.3395 226.513408 \nL 278.3395 227.362783 \nz\n\" style=\"fill:none;stroke:#000000;stroke-linejoin:miter;stroke-width:0.8;\"/>\n   </g>\n  </g>\n </g>\n <defs>\n  <clipPath id=\"pd73c5565ec\">\n   <rect height=\"217.44\" width=\"217.44\" x=\"33.2875\" y=\"9.922783\"/>\n  </clipPath>\n  <clipPath id=\"p87d79b00e0\">\n   <rect height=\"217.44\" width=\"10.872\" x=\"267.4675\" y=\"9.922783\"/>\n  </clipPath>\n </defs>\n</svg>\n",
      "image/png": "[encoded data removed]"
     },
     "metadata": {
      "needs_background": "light"
     }
    }
   ],
   "source": [
    "plt.imshow(S, zorder=2, cmap=\"Blues\", interpolation=\"nearest\")\n",
    "plt.colorbar()"
   ]
  },
  {
   "cell_type": "code",
   "execution_count": 8,
   "metadata": {},
   "outputs": [],
   "source": [
    "Y = scipy.linalg.sqrtm(np.diag(w))[-1].reshape((1,-1)) @ v.T"
   ]
  },
  {
   "cell_type": "code",
   "execution_count": 9,
   "metadata": {},
   "outputs": [
    {
     "output_type": "display_data",
     "data": {
      "application/vnd.plotly.v1+json": {
       "config": {
        "plotlyServerURL": "https://plot.ly"
       },
       "data": [
        {
         "hovertemplate": "types=1<br>names=%{x}<br>First component=%{y}<extra></extra>",
         "legendgroup": "1",
         "marker": {
          "color": "#636efa",
          "symbol": "circle"
         },
         "mode": "markers",
         "name": "1",
         "orientation": "v",
         "showlegend": true,
         "type": "scatter",
         "x": [
          "aardvark",
          "antelope",
          "bear",
          "boar",
          "buffalo",
          "calf",
          "cavy",
          "cheetah",
          "deer",
          "dolphin",
          "elephant",
          "fruitbat",
          "giraffe",
          "girl",
          "goat",
          "gorilla",
          "hamster",
          "hare",
          "leopard",
          "lion",
          "lynx",
          "mink",
          "mole",
          "mongoose",
          "opossum",
          "oryx",
          "platypus",
          "polecat",
          "pony",
          "porpoise",
          "puma",
          "pussycat",
          "raccoon",
          "reindeer",
          "seal",
          "sealion",
          "squirrel",
          "vampire",
          "vole",
          "wallaby",
          "wolf"
         ],
         "xaxis": "x",
         "y": [
          -2.328357219696045,
          -2.442359685897827,
          -2.328355550765991,
          -2.7130308151245117,
          -2.442361354827881,
          -2.5054867267608643,
          -1.8759304285049438,
          -2.7130303382873535,
          -2.44236159324646,
          -2.6092188358306885,
          -2.44236159324646,
          -2.20912504196167,
          -2.44236159324646,
          -2.3084604740142822,
          -2.5054869651794434,
          -1.9746651649475098,
          -2.260605812072754,
          -2.1974799633026123,
          -2.7130308151245117,
          -2.7130303382873535,
          -2.7130303382873535,
          -2.871784210205078,
          -2.468149185180664,
          -2.7130303382873535,
          -2.468149423599243,
          -2.44236159324646,
          -2.771672487258911,
          -2.7130303382873535,
          -2.5054869651794434,
          -2.6092188358306885,
          -2.7130303382873535,
          -2.7761566638946533,
          -2.7130303382873535,
          -2.5054869651794434,
          -2.4564321041107178,
          -2.8718953132629395,
          -2.11445951461792,
          -2.20912504196167,
          -2.1974799633026123,
          -2.3593404293060303,
          -2.7130308151245117
         ],
         "yaxis": "y"
        },
        {
         "hovertemplate": "types=4<br>names=%{x}<br>First component=%{y}<extra></extra>",
         "legendgroup": "4",
         "marker": {
          "color": "#EF553B",
          "symbol": "circle"
         },
         "mode": "markers",
         "name": "4",
         "orientation": "v",
         "showlegend": true,
         "type": "scatter",
         "x": [
          "bass",
          "carp",
          "catfish",
          "chub",
          "dogfish",
          "haddock",
          "herring",
          "pike",
          "piranha",
          "seahorse",
          "sole",
          "stingray",
          "tuna"
         ],
         "xaxis": "x",
         "y": [
          -1.9693570137023926,
          -1.7618134021759033,
          -1.9693570137023926,
          -1.9693572521209717,
          -2.214238166809082,
          -1.6986875534057617,
          -1.9693572521209717,
          -2.214238166809082,
          -1.9693572521209717,
          -1.6986875534057617,
          -1.6986876726150513,
          -2.241800308227539,
          -2.214238166809082
         ],
         "yaxis": "y"
        },
        {
         "hovertemplate": "types=2<br>names=%{x}<br>First component=%{y}<extra></extra>",
         "legendgroup": "2",
         "marker": {
          "color": "#00cc96",
          "symbol": "circle"
         },
         "mode": "markers",
         "name": "2",
         "orientation": "v",
         "showlegend": true,
         "type": "scatter",
         "x": [
          "chicken",
          "crow",
          "dove",
          "duck",
          "flamingo",
          "gull",
          "hawk",
          "kiwi",
          "lark",
          "ostrich",
          "parakeet",
          "penguin",
          "pheasant",
          "rhea",
          "skimmer",
          "skua",
          "sparrow",
          "swan",
          "vulture",
          "wren"
         ],
         "xaxis": "x",
         "y": [
          -1.7958978414535522,
          -2.00344181060791,
          -1.7958978414535522,
          -1.8915265798568726,
          -1.9776532649993896,
          -2.162195920944214,
          -2.0034420490264893,
          -1.9087762832641602,
          -1.7327722311019897,
          -1.8829872608184814,
          -1.7958978414535522,
          -2.312411308288574,
          -1.7327722311019897,
          -2.1536569595336914,
          -2.162195920944214,
          -2.162195920944214,
          -1.7327724695205688,
          -2.1364073753356934,
          -2.2483227252960205,
          -1.7327724695205688
         ],
         "yaxis": "y"
        },
        {
         "hovertemplate": "types=7<br>names=%{x}<br>First component=%{y}<extra></extra>",
         "legendgroup": "7",
         "marker": {
          "color": "#ab63fa",
          "symbol": "circle"
         },
         "mode": "markers",
         "name": "7",
         "orientation": "v",
         "showlegend": true,
         "type": "scatter",
         "x": [
          "clam",
          "crab",
          "crayfish",
          "lobster",
          "octopus",
          "scorpion",
          "seawasp",
          "slug",
          "starfish",
          "worm"
         ],
         "xaxis": "x",
         "y": [
          -0.591981053352356,
          -0.8645434975624084,
          -0.6747315526008606,
          -0.6747315526008606,
          -0.9035683870315552,
          -1.0723340511322021,
          -0.7782974243164062,
          -0.7061932682991028,
          -0.6747316718101501,
          -0.7061932682991028
         ],
         "yaxis": "y"
        },
        {
         "hovertemplate": "types=6<br>names=%{x}<br>First component=%{y}<extra></extra>",
         "legendgroup": "6",
         "marker": {
          "color": "#FFA15A",
          "symbol": "circle"
         },
         "mode": "markers",
         "name": "6",
         "orientation": "v",
         "showlegend": true,
         "type": "scatter",
         "x": [
          "flea",
          "gnat",
          "honeybee",
          "housefly",
          "ladybird",
          "moth",
          "termite",
          "wasp"
         ],
         "xaxis": "x",
         "y": [
          -0.6301895976066589,
          -0.7248552441596985,
          -1.0474313497543335,
          -0.9567434787750244,
          -0.9955247044563293,
          -0.9567434787750244,
          -0.6301895976066589,
          -0.9843056201934814
         ],
         "yaxis": "y"
        },
        {
         "hovertemplate": "types=5<br>names=%{x}<br>First component=%{y}<extra></extra>",
         "legendgroup": "5",
         "marker": {
          "color": "#19d3f3",
          "symbol": "circle"
         },
         "mode": "markers",
         "name": "5",
         "orientation": "v",
         "showlegend": true,
         "type": "scatter",
         "x": [
          "frog",
          "frog",
          "newt",
          "toad"
         ],
         "xaxis": "x",
         "y": [
          -2.000241279602051,
          -2.027803421020508,
          -2.3849165439605713,
          -1.72957181930542
         ],
         "yaxis": "y"
        },
        {
         "hovertemplate": "types=3<br>names=%{x}<br>First component=%{y}<extra></extra>",
         "legendgroup": "3",
         "marker": {
          "color": "#FF6692",
          "symbol": "circle"
         },
         "mode": "markers",
         "name": "3",
         "orientation": "v",
         "showlegend": true,
         "type": "scatter",
         "x": [
          "pitviper",
          "seasnake",
          "slowworm",
          "tortoise",
          "tuatara"
         ],
         "xaxis": "x",
         "y": [
          -2.139916181564331,
          -1.6890703439712524,
          -2.112354278564453,
          -1.875543475151062,
          -2.2261624336242676
         ],
         "yaxis": "y"
        }
       ],
       "layout": {
        "legend": {
         "title": {
          "text": "types"
         },
         "tracegroupgap": 0
        },
        "template": {
         "data": {
          "bar": [
           {
            "error_x": {
             "color": "#2a3f5f"
            },
            "error_y": {
             "color": "#2a3f5f"
            },
            "marker": {
             "line": {
              "color": "#E5ECF6",
              "width": 0.5
             }
            },
            "type": "bar"
           }
          ],
          "barpolar": [
           {
            "marker": {
             "line": {
              "color": "#E5ECF6",
              "width": 0.5
             }
            },
            "type": "barpolar"
           }
          ],
          "carpet": [
           {
            "aaxis": {
             "endlinecolor": "#2a3f5f",
             "gridcolor": "white",
             "linecolor": "white",
             "minorgridcolor": "white",
             "startlinecolor": "#2a3f5f"
            },
            "baxis": {
             "endlinecolor": "#2a3f5f",
             "gridcolor": "white",
             "linecolor": "white",
             "minorgridcolor": "white",
             "startlinecolor": "#2a3f5f"
            },
            "type": "carpet"
           }
          ],
          "choropleth": [
           {
            "colorbar": {
             "outlinewidth": 0,
             "ticks": ""
            },
            "type": "choropleth"
           }
          ],
          "contour": [
           {
            "colorbar": {
             "outlinewidth": 0,
             "ticks": ""
            },
            "colorscale": [
             [
              0,
              "#0d0887"
             ],
             [
              0.1111111111111111,
              "#46039f"
             ],
             [
              0.2222222222222222,
              "#7201a8"
             ],
             [
              0.3333333333333333,
              "#9c179e"
             ],
             [
              0.4444444444444444,
              "#bd3786"
             ],
             [
              0.5555555555555556,
              "#d8576b"
             ],
             [
              0.6666666666666666,
              "#ed7953"
             ],
             [
              0.7777777777777778,
              "#fb9f3a"
             ],
             [
              0.8888888888888888,
              "#fdca26"
             ],
             [
              1,
              "#f0f921"
             ]
            ],
            "type": "contour"
           }
          ],
          "contourcarpet": [
           {
            "colorbar": {
             "outlinewidth": 0,
             "ticks": ""
            },
            "type": "contourcarpet"
           }
          ],
          "heatmap": [
           {
            "colorbar": {
             "outlinewidth": 0,
             "ticks": ""
            },
            "colorscale": [
             [
              0,
              "#0d0887"
             ],
             [
              0.1111111111111111,
              "#46039f"
             ],
             [
              0.2222222222222222,
              "#7201a8"
             ],
             [
              0.3333333333333333,
              "#9c179e"
             ],
             [
              0.4444444444444444,
              "#bd3786"
             ],
             [
              0.5555555555555556,
              "#d8576b"
             ],
             [
              0.6666666666666666,
              "#ed7953"
             ],
             [
              0.7777777777777778,
              "#fb9f3a"
             ],
             [
              0.8888888888888888,
              "#fdca26"
             ],
             [
              1,
              "#f0f921"
             ]
            ],
            "type": "heatmap"
           }
          ],
          "heatmapgl": [
           {
            "colorbar": {
             "outlinewidth": 0,
             "ticks": ""
            },
            "colorscale": [
             [
              0,
              "#0d0887"
             ],
             [
              0.1111111111111111,
              "#46039f"
             ],
             [
              0.2222222222222222,
              "#7201a8"
             ],
             [
              0.3333333333333333,
              "#9c179e"
             ],
             [
              0.4444444444444444,
              "#bd3786"
             ],
             [
              0.5555555555555556,
              "#d8576b"
             ],
             [
              0.6666666666666666,
              "#ed7953"
             ],
             [
              0.7777777777777778,
              "#fb9f3a"
             ],
             [
              0.8888888888888888,
              "#fdca26"
             ],
             [
              1,
              "#f0f921"
             ]
            ],
            "type": "heatmapgl"
           }
          ],
          "histogram": [
           {
            "marker": {
             "colorbar": {
              "outlinewidth": 0,
              "ticks": ""
             }
            },
            "type": "histogram"
           }
          ],
          "histogram2d": [
           {
            "colorbar": {
             "outlinewidth": 0,
             "ticks": ""
            },
            "colorscale": [
             [
              0,
              "#0d0887"
             ],
             [
              0.1111111111111111,
              "#46039f"
             ],
             [
              0.2222222222222222,
              "#7201a8"
             ],
             [
              0.3333333333333333,
              "#9c179e"
             ],
             [
              0.4444444444444444,
              "#bd3786"
             ],
             [
              0.5555555555555556,
              "#d8576b"
             ],
             [
              0.6666666666666666,
              "#ed7953"
             ],
             [
              0.7777777777777778,
              "#fb9f3a"
             ],
             [
              0.8888888888888888,
              "#fdca26"
             ],
             [
              1,
              "#f0f921"
             ]
            ],
            "type": "histogram2d"
           }
          ],
          "histogram2dcontour": [
           {
            "colorbar": {
             "outlinewidth": 0,
             "ticks": ""
            },
            "colorscale": [
             [
              0,
              "#0d0887"
             ],
             [
              0.1111111111111111,
              "#46039f"
             ],
             [
              0.2222222222222222,
              "#7201a8"
             ],
             [
              0.3333333333333333,
              "#9c179e"
             ],
             [
              0.4444444444444444,
              "#bd3786"
             ],
             [
              0.5555555555555556,
              "#d8576b"
             ],
             [
              0.6666666666666666,
              "#ed7953"
             ],
             [
              0.7777777777777778,
              "#fb9f3a"
             ],
             [
              0.8888888888888888,
              "#fdca26"
             ],
             [
              1,
              "#f0f921"
             ]
            ],
            "type": "histogram2dcontour"
           }
          ],
          "mesh3d": [
           {
            "colorbar": {
             "outlinewidth": 0,
             "ticks": ""
            },
            "type": "mesh3d"
           }
          ],
          "parcoords": [
           {
            "line": {
             "colorbar": {
              "outlinewidth": 0,
              "ticks": ""
             }
            },
            "type": "parcoords"
           }
          ],
          "pie": [
           {
            "automargin": true,
            "type": "pie"
           }
          ],
          "scatter": [
           {
            "marker": {
             "colorbar": {
              "outlinewidth": 0,
              "ticks": ""
             }
            },
            "type": "scatter"
           }
          ],
          "scatter3d": [
           {
            "line": {
             "colorbar": {
              "outlinewidth": 0,
              "ticks": ""
             }
            },
            "marker": {
             "colorbar": {
              "outlinewidth": 0,
              "ticks": ""
             }
            },
            "type": "scatter3d"
           }
          ],
          "scattercarpet": [
           {
            "marker": {
             "colorbar": {
              "outlinewidth": 0,
              "ticks": ""
             }
            },
            "type": "scattercarpet"
           }
          ],
          "scattergeo": [
           {
            "marker": {
             "colorbar": {
              "outlinewidth": 0,
              "ticks": ""
             }
            },
            "type": "scattergeo"
           }
          ],
          "scattergl": [
           {
            "marker": {
             "colorbar": {
              "outlinewidth": 0,
              "ticks": ""
             }
            },
            "type": "scattergl"
           }
          ],
          "scattermapbox": [
           {
            "marker": {
             "colorbar": {
              "outlinewidth": 0,
              "ticks": ""
             }
            },
            "type": "scattermapbox"
           }
          ],
          "scatterpolar": [
           {
            "marker": {
             "colorbar": {
              "outlinewidth": 0,
              "ticks": ""
             }
            },
            "type": "scatterpolar"
           }
          ],
          "scatterpolargl": [
           {
            "marker": {
             "colorbar": {
              "outlinewidth": 0,
              "ticks": ""
             }
            },
            "type": "scatterpolargl"
           }
          ],
          "scatterternary": [
           {
            "marker": {
             "colorbar": {
              "outlinewidth": 0,
              "ticks": ""
             }
            },
            "type": "scatterternary"
           }
          ],
          "surface": [
           {
            "colorbar": {
             "outlinewidth": 0,
             "ticks": ""
            },
            "colorscale": [
             [
              0,
              "#0d0887"
             ],
             [
              0.1111111111111111,
              "#46039f"
             ],
             [
              0.2222222222222222,
              "#7201a8"
             ],
             [
              0.3333333333333333,
              "#9c179e"
             ],
             [
              0.4444444444444444,
              "#bd3786"
             ],
             [
              0.5555555555555556,
              "#d8576b"
             ],
             [
              0.6666666666666666,
              "#ed7953"
             ],
             [
              0.7777777777777778,
              "#fb9f3a"
             ],
             [
              0.8888888888888888,
              "#fdca26"
             ],
             [
              1,
              "#f0f921"
             ]
            ],
            "type": "surface"
           }
          ],
          "table": [
           {
            "cells": {
             "fill": {
              "color": "#EBF0F8"
             },
             "line": {
              "color": "white"
             }
            },
            "header": {
             "fill": {
              "color": "#C8D4E3"
             },
             "line": {
              "color": "white"
             }
            },
            "type": "table"
           }
          ]
         },
         "layout": {
          "annotationdefaults": {
           "arrowcolor": "#2a3f5f",
           "arrowhead": 0,
           "arrowwidth": 1
          },
          "coloraxis": {
           "colorbar": {
            "outlinewidth": 0,
            "ticks": ""
           }
          },
          "colorscale": {
           "diverging": [
            [
             0,
             "#8e0152"
            ],
            [
             0.1,
             "#c51b7d"
            ],
            [
             0.2,
             "#de77ae"
            ],
            [
             0.3,
             "#f1b6da"
            ],
            [
             0.4,
             "#fde0ef"
            ],
            [
             0.5,
             "#f7f7f7"
            ],
            [
             0.6,
             "#e6f5d0"
            ],
            [
             0.7,
             "#b8e186"
            ],
            [
             0.8,
             "#7fbc41"
            ],
            [
             0.9,
             "#4d9221"
            ],
            [
             1,
             "#276419"
            ]
           ],
           "sequential": [
            [
             0,
             "#0d0887"
            ],
            [
             0.1111111111111111,
             "#46039f"
            ],
            [
             0.2222222222222222,
             "#7201a8"
            ],
            [
             0.3333333333333333,
             "#9c179e"
            ],
            [
             0.4444444444444444,
             "#bd3786"
            ],
            [
             0.5555555555555556,
             "#d8576b"
            ],
            [
             0.6666666666666666,
             "#ed7953"
            ],
            [
             0.7777777777777778,
             "#fb9f3a"
            ],
            [
             0.8888888888888888,
             "#fdca26"
            ],
            [
             1,
             "#f0f921"
            ]
           ],
           "sequentialminus": [
            [
             0,
             "#0d0887"
            ],
            [
             0.1111111111111111,
             "#46039f"
            ],
            [
             0.2222222222222222,
             "#7201a8"
            ],
            [
             0.3333333333333333,
             "#9c179e"
            ],
            [
             0.4444444444444444,
             "#bd3786"
            ],
            [
             0.5555555555555556,
             "#d8576b"
            ],
            [
             0.6666666666666666,
             "#ed7953"
            ],
            [
             0.7777777777777778,
             "#fb9f3a"
            ],
            [
             0.8888888888888888,
             "#fdca26"
            ],
            [
             1,
             "#f0f921"
            ]
           ]
          },
          "colorway": [
           "#636efa",
           "#EF553B",
           "#00cc96",
           "#ab63fa",
           "#FFA15A",
           "#19d3f3",
           "#FF6692",
           "#B6E880",
           "#FF97FF",
           "#FECB52"
          ],
          "font": {
           "color": "#2a3f5f"
          },
          "geo": {
           "bgcolor": "white",
           "lakecolor": "white",
           "landcolor": "#E5ECF6",
           "showlakes": true,
           "showland": true,
           "subunitcolor": "white"
          },
          "hoverlabel": {
           "align": "left"
          },
          "hovermode": "closest",
          "mapbox": {
           "style": "light"
          },
          "paper_bgcolor": "white",
          "plot_bgcolor": "#E5ECF6",
          "polar": {
           "angularaxis": {
            "gridcolor": "white",
            "linecolor": "white",
            "ticks": ""
           },
           "bgcolor": "#E5ECF6",
           "radialaxis": {
            "gridcolor": "white",
            "linecolor": "white",
            "ticks": ""
           }
          },
          "scene": {
           "xaxis": {
            "backgroundcolor": "#E5ECF6",
            "gridcolor": "white",
            "gridwidth": 2,
            "linecolor": "white",
            "showbackground": true,
            "ticks": "",
            "zerolinecolor": "white"
           },
           "yaxis": {
            "backgroundcolor": "#E5ECF6",
            "gridcolor": "white",
            "gridwidth": 2,
            "linecolor": "white",
            "showbackground": true,
            "ticks": "",
            "zerolinecolor": "white"
           },
           "zaxis": {
            "backgroundcolor": "#E5ECF6",
            "gridcolor": "white",
            "gridwidth": 2,
            "linecolor": "white",
            "showbackground": true,
            "ticks": "",
            "zerolinecolor": "white"
           }
          },
          "shapedefaults": {
           "line": {
            "color": "#2a3f5f"
           }
          },
          "ternary": {
           "aaxis": {
            "gridcolor": "white",
            "linecolor": "white",
            "ticks": ""
           },
           "baxis": {
            "gridcolor": "white",
            "linecolor": "white",
            "ticks": ""
           },
           "bgcolor": "#E5ECF6",
           "caxis": {
            "gridcolor": "white",
            "linecolor": "white",
            "ticks": ""
           }
          },
          "title": {
           "x": 0.05
          },
          "xaxis": {
           "automargin": true,
           "gridcolor": "white",
           "linecolor": "white",
           "ticks": "",
           "title": {
            "standoff": 15
           },
           "zerolinecolor": "white",
           "zerolinewidth": 2
          },
          "yaxis": {
           "automargin": true,
           "gridcolor": "white",
           "linecolor": "white",
           "ticks": "",
           "title": {
            "standoff": 15
           },
           "zerolinecolor": "white",
           "zerolinewidth": 2
          }
         }
        },
        "title": {
         "text": "MDS on the Gram matrix"
        },
        "xaxis": {
         "anchor": "y",
         "domain": [
          0,
          1
         ],
         "title": {
          "text": "names"
         }
        },
        "yaxis": {
         "anchor": "x",
         "domain": [
          0,
          1
         ],
         "title": {
          "text": "First component"
         }
        }
       }
      }
     },
     "metadata": {}
    }
   ],
   "source": [
    "d = {\"names\":df[\"name\"], \"types\":df[\"type\"], \"First component\":Y.ravel()}\n",
    "dff = pd.DataFrame(d)\n",
    "fig = ex.scatter(dff, x=\"names\", y=\"First component\", color=\"types\", title=\"MDS on the Gram matrix\")\n",
    "fig.show()"
   ]
  },
  {
   "cell_type": "code",
   "execution_count": 12,
   "metadata": {},
   "outputs": [],
   "source": [
    "D = np.asarray([np.asarray([(np.sum((x-z)**2)) for z in X]) for x in X])\n",
    "n = D.shape[0]\n",
    "J = np.identity(n) - (np.ones((n,n)) / n)\n",
    "B = -0.5 * J@D@J"
   ]
  },
  {
   "cell_type": "code",
   "execution_count": 13,
   "metadata": {},
   "outputs": [],
   "source": [
    "w, v = np.linalg.eigh(B)\n",
    "w[w<0] = 0\n",
    "Y = scipy.linalg.sqrtm(np.diag(w))[-1].reshape((1,-1)) @ v.T"
   ]
  },
  {
   "cell_type": "code",
   "execution_count": 14,
   "metadata": {},
   "outputs": [
    {
     "output_type": "display_data",
     "data": {
      "application/vnd.plotly.v1+json": {
       "config": {
        "plotlyServerURL": "https://plot.ly"
       },
       "data": [
        {
         "hovertemplate": "types=1<br>names=%{x}<br>First component=%{y}<extra></extra>",
         "legendgroup": "1",
         "marker": {
          "color": "#636efa",
          "symbol": "circle"
         },
         "mode": "markers",
         "name": "1",
         "orientation": "v",
         "showlegend": true,
         "type": "scatter",
         "x": [
          "aardvark",
          "antelope",
          "bear",
          "boar",
          "buffalo",
          "calf",
          "cavy",
          "cheetah",
          "deer",
          "dolphin",
          "elephant",
          "fruitbat",
          "giraffe",
          "girl",
          "goat",
          "gorilla",
          "hamster",
          "hare",
          "leopard",
          "lion",
          "lynx",
          "mink",
          "mole",
          "mongoose",
          "opossum",
          "oryx",
          "platypus",
          "polecat",
          "pony",
          "porpoise",
          "puma",
          "pussycat",
          "raccoon",
          "reindeer",
          "seal",
          "sealion",
          "squirrel",
          "vampire",
          "vole",
          "wallaby",
          "wolf"
         ],
         "xaxis": "x",
         "y": [
          1.4176899823675324,
          1.522937362849477,
          1.4176899823675315,
          1.5166530345409708,
          1.522937362849475,
          1.5767218302846693,
          1.198225547687857,
          1.5166530345409701,
          1.522937362849475,
          0.42849928121776665,
          1.5229373628494745,
          0.5841864925722261,
          1.522937362849475,
          0.9961252172813466,
          1.5767218302846695,
          0.9486250781546566,
          1.2971885998612958,
          1.2434041324261016,
          1.5166530345409708,
          1.51665303454097,
          1.5166530345409706,
          1.343487115517826,
          1.237119804117597,
          1.5166530345409706,
          1.2371198041175968,
          1.5229373628494742,
          0.6119798048630687,
          1.5166530345409708,
          1.5767218302846695,
          0.42849928121776626,
          1.5166530345409712,
          1.5704375019761643,
          1.5166530345409712,
          1.5767218302846695,
          0.7201549511390781,
          0.8078774624431706,
          0.7680548999047224,
          0.584186492572226,
          1.2434041324261023,
          1.0475881303280954,
          1.5166530345409712
         ],
         "yaxis": "y"
        },
        {
         "hovertemplate": "types=4<br>names=%{x}<br>First component=%{y}<extra></extra>",
         "legendgroup": "4",
         "marker": {
          "color": "#EF553B",
          "symbol": "circle"
         },
         "mode": "markers",
         "name": "4",
         "orientation": "v",
         "showlegend": true,
         "type": "scatter",
         "x": [
          "bass",
          "carp",
          "catfish",
          "chub",
          "dogfish",
          "haddock",
          "herring",
          "pike",
          "piranha",
          "seahorse",
          "sole",
          "stingray",
          "tuna"
         ],
         "xaxis": "x",
         "y": [
          -0.8382826185786132,
          -0.7782138228349164,
          -0.838282618578615,
          -0.8382826185786152,
          -0.5587493881552414,
          -0.8319982902701102,
          -0.8382826185786149,
          -0.5587493881552414,
          -0.838282618578615,
          -0.8319982902701105,
          -0.8319982902701104,
          -0.6018404594599499,
          -0.5587493881552416
         ],
         "yaxis": "y"
        },
        {
         "hovertemplate": "types=2<br>names=%{x}<br>First component=%{y}<extra></extra>",
         "legendgroup": "2",
         "marker": {
          "color": "#00cc96",
          "symbol": "circle"
         },
         "mode": "markers",
         "name": "2",
         "orientation": "v",
         "showlegend": true,
         "type": "scatter",
         "x": [
          "chicken",
          "crow",
          "dove",
          "duck",
          "flamingo",
          "gull",
          "hawk",
          "kiwi",
          "lark",
          "ostrich",
          "parakeet",
          "penguin",
          "pheasant",
          "rhea",
          "skimmer",
          "skua",
          "sparrow",
          "swan",
          "vulture",
          "wren"
         ],
         "xaxis": "x",
         "y": [
          -1.0817472070582725,
          -1.141816002801971,
          -1.0817472070582719,
          -1.3086975935166114,
          -0.8559984440700927,
          -1.3149819218251158,
          -1.141816002801971,
          -0.9579475954694741,
          -1.1355316744934663,
          -0.6721300367375963,
          -1.0817472070582717,
          -0.8515802840692458,
          -1.135531674493466,
          -0.6784143650461011,
          -1.3149819218251158,
          -1.3149819218251158,
          -1.1355316744934665,
          -1.0291643630932379,
          -0.8622827723785974,
          -1.1355316744934663
         ],
         "yaxis": "y"
        },
        {
         "hovertemplate": "types=7<br>names=%{x}<br>First component=%{y}<extra></extra>",
         "legendgroup": "7",
         "marker": {
          "color": "#ab63fa",
          "symbol": "circle"
         },
         "mode": "markers",
         "name": "7",
         "orientation": "v",
         "showlegend": true,
         "type": "scatter",
         "x": [
          "clam",
          "crab",
          "crayfish",
          "lobster",
          "octopus",
          "scorpion",
          "seawasp",
          "slug",
          "starfish",
          "worm"
         ],
         "xaxis": "x",
         "y": [
          -1.174459777356959,
          -0.8835170047280704,
          -1.3262955301823935,
          -1.3262955301823935,
          -0.9640274625638037,
          -0.4509955254795834,
          -1.3907167676848111,
          -1.0163118565315437,
          -1.3262955301823927,
          -1.0163118565315439
         ],
         "yaxis": "y"
        },
        {
         "hovertemplate": "types=6<br>names=%{x}<br>First component=%{y}<extra></extra>",
         "legendgroup": "6",
         "marker": {
          "color": "#FFA15A",
          "symbol": "circle"
         },
         "mode": "markers",
         "name": "6",
         "orientation": "v",
         "showlegend": true,
         "type": "scatter",
         "x": [
          "flea",
          "gnat",
          "honeybee",
          "housefly",
          "ladybird",
          "moth",
          "termite",
          "wasp"
         ],
         "xaxis": "x",
         "y": [
          -0.9949816903338334,
          -1.1788500976663296,
          -0.7775379794410934,
          -0.7882313755715791,
          -1.1851344259748349,
          -0.7882313755715792,
          -0.9949816903338338,
          -0.8313224468762874
         ],
         "yaxis": "y"
        },
        {
         "hovertemplate": "types=5<br>names=%{x}<br>First component=%{y}<extra></extra>",
         "legendgroup": "5",
         "marker": {
          "color": "#19d3f3",
          "symbol": "circle"
         },
         "mode": "markers",
         "name": "5",
         "orientation": "v",
         "showlegend": true,
         "type": "scatter",
         "x": [
          "frog",
          "frog",
          "newt",
          "toad"
         ],
         "xaxis": "x",
         "y": [
          -0.26101296602983515,
          -0.3041040373345436,
          -0.162049913856396,
          -0.25472863772133103
         ],
         "yaxis": "y"
        },
        {
         "hovertemplate": "types=3<br>names=%{x}<br>First component=%{y}<extra></extra>",
         "legendgroup": "3",
         "marker": {
          "color": "#FF6692",
          "symbol": "circle"
         },
         "mode": "markers",
         "name": "3",
         "orientation": "v",
         "showlegend": true,
         "type": "scatter",
         "x": [
          "pitviper",
          "seasnake",
          "slowworm",
          "tortoise",
          "tuatara"
         ],
         "xaxis": "x",
         "y": [
          -0.4960837577899924,
          -0.40944959423123933,
          -0.45299268648528423,
          -0.022910071657323578,
          0.011116005166748467
         ],
         "yaxis": "y"
        }
       ],
       "layout": {
        "legend": {
         "title": {
          "text": "types"
         },
         "tracegroupgap": 0
        },
        "template": {
         "data": {
          "bar": [
           {
            "error_x": {
             "color": "#2a3f5f"
            },
            "error_y": {
             "color": "#2a3f5f"
            },
            "marker": {
             "line": {
              "color": "#E5ECF6",
              "width": 0.5
             }
            },
            "type": "bar"
           }
          ],
          "barpolar": [
           {
            "marker": {
             "line": {
              "color": "#E5ECF6",
              "width": 0.5
             }
            },
            "type": "barpolar"
           }
          ],
          "carpet": [
           {
            "aaxis": {
             "endlinecolor": "#2a3f5f",
             "gridcolor": "white",
             "linecolor": "white",
             "minorgridcolor": "white",
             "startlinecolor": "#2a3f5f"
            },
            "baxis": {
             "endlinecolor": "#2a3f5f",
             "gridcolor": "white",
             "linecolor": "white",
             "minorgridcolor": "white",
             "startlinecolor": "#2a3f5f"
            },
            "type": "carpet"
           }
          ],
          "choropleth": [
           {
            "colorbar": {
             "outlinewidth": 0,
             "ticks": ""
            },
            "type": "choropleth"
           }
          ],
          "contour": [
           {
            "colorbar": {
             "outlinewidth": 0,
             "ticks": ""
            },
            "colorscale": [
             [
              0,
              "#0d0887"
             ],
             [
              0.1111111111111111,
              "#46039f"
             ],
             [
              0.2222222222222222,
              "#7201a8"
             ],
             [
              0.3333333333333333,
              "#9c179e"
             ],
             [
              0.4444444444444444,
              "#bd3786"
             ],
             [
              0.5555555555555556,
              "#d8576b"
             ],
             [
              0.6666666666666666,
              "#ed7953"
             ],
             [
              0.7777777777777778,
              "#fb9f3a"
             ],
             [
              0.8888888888888888,
              "#fdca26"
             ],
             [
              1,
              "#f0f921"
             ]
            ],
            "type": "contour"
           }
          ],
          "contourcarpet": [
           {
            "colorbar": {
             "outlinewidth": 0,
             "ticks": ""
            },
            "type": "contourcarpet"
           }
          ],
          "heatmap": [
           {
            "colorbar": {
             "outlinewidth": 0,
             "ticks": ""
            },
            "colorscale": [
             [
              0,
              "#0d0887"
             ],
             [
              0.1111111111111111,
              "#46039f"
             ],
             [
              0.2222222222222222,
              "#7201a8"
             ],
             [
              0.3333333333333333,
              "#9c179e"
             ],
             [
              0.4444444444444444,
              "#bd3786"
             ],
             [
              0.5555555555555556,
              "#d8576b"
             ],
             [
              0.6666666666666666,
              "#ed7953"
             ],
             [
              0.7777777777777778,
              "#fb9f3a"
             ],
             [
              0.8888888888888888,
              "#fdca26"
             ],
             [
              1,
              "#f0f921"
             ]
            ],
            "type": "heatmap"
           }
          ],
          "heatmapgl": [
           {
            "colorbar": {
             "outlinewidth": 0,
             "ticks": ""
            },
            "colorscale": [
             [
              0,
              "#0d0887"
             ],
             [
              0.1111111111111111,
              "#46039f"
             ],
             [
              0.2222222222222222,
              "#7201a8"
             ],
             [
              0.3333333333333333,
              "#9c179e"
             ],
             [
              0.4444444444444444,
              "#bd3786"
             ],
             [
              0.5555555555555556,
              "#d8576b"
             ],
             [
              0.6666666666666666,
              "#ed7953"
             ],
             [
              0.7777777777777778,
              "#fb9f3a"
             ],
             [
              0.8888888888888888,
              "#fdca26"
             ],
             [
              1,
              "#f0f921"
             ]
            ],
            "type": "heatmapgl"
           }
          ],
          "histogram": [
           {
            "marker": {
             "colorbar": {
              "outlinewidth": 0,
              "ticks": ""
             }
            },
            "type": "histogram"
           }
          ],
          "histogram2d": [
           {
            "colorbar": {
             "outlinewidth": 0,
             "ticks": ""
            },
            "colorscale": [
             [
              0,
              "#0d0887"
             ],
             [
              0.1111111111111111,
              "#46039f"
             ],
             [
              0.2222222222222222,
              "#7201a8"
             ],
             [
              0.3333333333333333,
              "#9c179e"
             ],
             [
              0.4444444444444444,
              "#bd3786"
             ],
             [
              0.5555555555555556,
              "#d8576b"
             ],
             [
              0.6666666666666666,
              "#ed7953"
             ],
             [
              0.7777777777777778,
              "#fb9f3a"
             ],
             [
              0.8888888888888888,
              "#fdca26"
             ],
             [
              1,
              "#f0f921"
             ]
            ],
            "type": "histogram2d"
           }
          ],
          "histogram2dcontour": [
           {
            "colorbar": {
             "outlinewidth": 0,
             "ticks": ""
            },
            "colorscale": [
             [
              0,
              "#0d0887"
             ],
             [
              0.1111111111111111,
              "#46039f"
             ],
             [
              0.2222222222222222,
              "#7201a8"
             ],
             [
              0.3333333333333333,
              "#9c179e"
             ],
             [
              0.4444444444444444,
              "#bd3786"
             ],
             [
              0.5555555555555556,
              "#d8576b"
             ],
             [
              0.6666666666666666,
              "#ed7953"
             ],
             [
              0.7777777777777778,
              "#fb9f3a"
             ],
             [
              0.8888888888888888,
              "#fdca26"
             ],
             [
              1,
              "#f0f921"
             ]
            ],
            "type": "histogram2dcontour"
           }
          ],
          "mesh3d": [
           {
            "colorbar": {
             "outlinewidth": 0,
             "ticks": ""
            },
            "type": "mesh3d"
           }
          ],
          "parcoords": [
           {
            "line": {
             "colorbar": {
              "outlinewidth": 0,
              "ticks": ""
             }
            },
            "type": "parcoords"
           }
          ],
          "pie": [
           {
            "automargin": true,
            "type": "pie"
           }
          ],
          "scatter": [
           {
            "marker": {
             "colorbar": {
              "outlinewidth": 0,
              "ticks": ""
             }
            },
            "type": "scatter"
           }
          ],
          "scatter3d": [
           {
            "line": {
             "colorbar": {
              "outlinewidth": 0,
              "ticks": ""
             }
            },
            "marker": {
             "colorbar": {
              "outlinewidth": 0,
              "ticks": ""
             }
            },
            "type": "scatter3d"
           }
          ],
          "scattercarpet": [
           {
            "marker": {
             "colorbar": {
              "outlinewidth": 0,
              "ticks": ""
             }
            },
            "type": "scattercarpet"
           }
          ],
          "scattergeo": [
           {
            "marker": {
             "colorbar": {
              "outlinewidth": 0,
              "ticks": ""
             }
            },
            "type": "scattergeo"
           }
          ],
          "scattergl": [
           {
            "marker": {
             "colorbar": {
              "outlinewidth": 0,
              "ticks": ""
             }
            },
            "type": "scattergl"
           }
          ],
          "scattermapbox": [
           {
            "marker": {
             "colorbar": {
              "outlinewidth": 0,
              "ticks": ""
             }
            },
            "type": "scattermapbox"
           }
          ],
          "scatterpolar": [
           {
            "marker": {
             "colorbar": {
              "outlinewidth": 0,
              "ticks": ""
             }
            },
            "type": "scatterpolar"
           }
          ],
          "scatterpolargl": [
           {
            "marker": {
             "colorbar": {
              "outlinewidth": 0,
              "ticks": ""
             }
            },
            "type": "scatterpolargl"
           }
          ],
          "scatterternary": [
           {
            "marker": {
             "colorbar": {
              "outlinewidth": 0,
              "ticks": ""
             }
            },
            "type": "scatterternary"
           }
          ],
          "surface": [
           {
            "colorbar": {
             "outlinewidth": 0,
             "ticks": ""
            },
            "colorscale": [
             [
              0,
              "#0d0887"
             ],
             [
              0.1111111111111111,
              "#46039f"
             ],
             [
              0.2222222222222222,
              "#7201a8"
             ],
             [
              0.3333333333333333,
              "#9c179e"
             ],
             [
              0.4444444444444444,
              "#bd3786"
             ],
             [
              0.5555555555555556,
              "#d8576b"
             ],
             [
              0.6666666666666666,
              "#ed7953"
             ],
             [
              0.7777777777777778,
              "#fb9f3a"
             ],
             [
              0.8888888888888888,
              "#fdca26"
             ],
             [
              1,
              "#f0f921"
             ]
            ],
            "type": "surface"
           }
          ],
          "table": [
           {
            "cells": {
             "fill": {
              "color": "#EBF0F8"
             },
             "line": {
              "color": "white"
             }
            },
            "header": {
             "fill": {
              "color": "#C8D4E3"
             },
             "line": {
              "color": "white"
             }
            },
            "type": "table"
           }
          ]
         },
         "layout": {
          "annotationdefaults": {
           "arrowcolor": "#2a3f5f",
           "arrowhead": 0,
           "arrowwidth": 1
          },
          "coloraxis": {
           "colorbar": {
            "outlinewidth": 0,
            "ticks": ""
           }
          },
          "colorscale": {
           "diverging": [
            [
             0,
             "#8e0152"
            ],
            [
             0.1,
             "#c51b7d"
            ],
            [
             0.2,
             "#de77ae"
            ],
            [
             0.3,
             "#f1b6da"
            ],
            [
             0.4,
             "#fde0ef"
            ],
            [
             0.5,
             "#f7f7f7"
            ],
            [
             0.6,
             "#e6f5d0"
            ],
            [
             0.7,
             "#b8e186"
            ],
            [
             0.8,
             "#7fbc41"
            ],
            [
             0.9,
             "#4d9221"
            ],
            [
             1,
             "#276419"
            ]
           ],
           "sequential": [
            [
             0,
             "#0d0887"
            ],
            [
             0.1111111111111111,
             "#46039f"
            ],
            [
             0.2222222222222222,
             "#7201a8"
            ],
            [
             0.3333333333333333,
             "#9c179e"
            ],
            [
             0.4444444444444444,
             "#bd3786"
            ],
            [
             0.5555555555555556,
             "#d8576b"
            ],
            [
             0.6666666666666666,
             "#ed7953"
            ],
            [
             0.7777777777777778,
             "#fb9f3a"
            ],
            [
             0.8888888888888888,
             "#fdca26"
            ],
            [
             1,
             "#f0f921"
            ]
           ],
           "sequentialminus": [
            [
             0,
             "#0d0887"
            ],
            [
             0.1111111111111111,
             "#46039f"
            ],
            [
             0.2222222222222222,
             "#7201a8"
            ],
            [
             0.3333333333333333,
             "#9c179e"
            ],
            [
             0.4444444444444444,
             "#bd3786"
            ],
            [
             0.5555555555555556,
             "#d8576b"
            ],
            [
             0.6666666666666666,
             "#ed7953"
            ],
            [
             0.7777777777777778,
             "#fb9f3a"
            ],
            [
             0.8888888888888888,
             "#fdca26"
            ],
            [
             1,
             "#f0f921"
            ]
           ]
          },
          "colorway": [
           "#636efa",
           "#EF553B",
           "#00cc96",
           "#ab63fa",
           "#FFA15A",
           "#19d3f3",
           "#FF6692",
           "#B6E880",
           "#FF97FF",
           "#FECB52"
          ],
          "font": {
           "color": "#2a3f5f"
          },
          "geo": {
           "bgcolor": "white",
           "lakecolor": "white",
           "landcolor": "#E5ECF6",
           "showlakes": true,
           "showland": true,
           "subunitcolor": "white"
          },
          "hoverlabel": {
           "align": "left"
          },
          "hovermode": "closest",
          "mapbox": {
           "style": "light"
          },
          "paper_bgcolor": "white",
          "plot_bgcolor": "#E5ECF6",
          "polar": {
           "angularaxis": {
            "gridcolor": "white",
            "linecolor": "white",
            "ticks": ""
           },
           "bgcolor": "#E5ECF6",
           "radialaxis": {
            "gridcolor": "white",
            "linecolor": "white",
            "ticks": ""
           }
          },
          "scene": {
           "xaxis": {
            "backgroundcolor": "#E5ECF6",
            "gridcolor": "white",
            "gridwidth": 2,
            "linecolor": "white",
            "showbackground": true,
            "ticks": "",
            "zerolinecolor": "white"
           },
           "yaxis": {
            "backgroundcolor": "#E5ECF6",
            "gridcolor": "white",
            "gridwidth": 2,
            "linecolor": "white",
            "showbackground": true,
            "ticks": "",
            "zerolinecolor": "white"
           },
           "zaxis": {
            "backgroundcolor": "#E5ECF6",
            "gridcolor": "white",
            "gridwidth": 2,
            "linecolor": "white",
            "showbackground": true,
            "ticks": "",
            "zerolinecolor": "white"
           }
          },
          "shapedefaults": {
           "line": {
            "color": "#2a3f5f"
           }
          },
          "ternary": {
           "aaxis": {
            "gridcolor": "white",
            "linecolor": "white",
            "ticks": ""
           },
           "baxis": {
            "gridcolor": "white",
            "linecolor": "white",
            "ticks": ""
           },
           "bgcolor": "#E5ECF6",
           "caxis": {
            "gridcolor": "white",
            "linecolor": "white",
            "ticks": ""
           }
          },
          "title": {
           "x": 0.05
          },
          "xaxis": {
           "automargin": true,
           "gridcolor": "white",
           "linecolor": "white",
           "ticks": "",
           "title": {
            "standoff": 15
           },
           "zerolinecolor": "white",
           "zerolinewidth": 2
          },
          "yaxis": {
           "automargin": true,
           "gridcolor": "white",
           "linecolor": "white",
           "ticks": "",
           "title": {
            "standoff": 15
           },
           "zerolinecolor": "white",
           "zerolinewidth": 2
          }
         }
        },
        "title": {
         "text": "MDS on the distance matrix"
        },
        "xaxis": {
         "anchor": "y",
         "domain": [
          0,
          1
         ],
         "title": {
          "text": "names"
         }
        },
        "yaxis": {
         "anchor": "x",
         "domain": [
          0,
          1
         ],
         "title": {
          "text": "First component"
         }
        }
       }
      }
     },
     "metadata": {}
    }
   ],
   "source": [
    "d = {\"names\":df[\"name\"], \"types\":df[\"type\"], \"First component\":Y.ravel()}\n",
    "dff = pd.DataFrame(d)\n",
    "fig = ex.scatter(dff, x=\"names\", y=\"First component\", color=\"types\", title=\"MDS on the distance matrix\")\n",
    "fig.show()"
   ]
  },
  {
   "source": [
    "## ISOMAP\n"
   ],
   "cell_type": "markdown",
   "metadata": {}
  },
  {
   "cell_type": "code",
   "execution_count": 22,
   "metadata": {},
   "outputs": [],
   "source": [
    "G = np.asarray([np.asarray([np.sum((x-z)**2) for z in X]) for x in X])\n",
    "# G = scipy.sparse.csr_matrix(G)"
   ]
  },
  {
   "cell_type": "code",
   "execution_count": 16,
   "metadata": {},
   "outputs": [],
   "source": [
    "D, parents = scipy.sparse.csgraph.shortest_path(csgraph=G, directed=False, return_predecessors=True)"
   ]
  },
  {
   "cell_type": "code",
   "execution_count": 17,
   "metadata": {},
   "outputs": [],
   "source": [
    "D2 = D*D\n",
    "n = D2.shape[0]\n",
    "J = np.identity(n) - (np.ones((n,n)) / n)\n",
    "B = -0.5 * J@D2@J"
   ]
  },
  {
   "cell_type": "code",
   "execution_count": 18,
   "metadata": {},
   "outputs": [],
   "source": [
    "w, v = np.linalg.eigh(B)\n",
    "w[w<0] = 0\n",
    "Y = scipy.linalg.sqrtm(np.diag(w))[-1].reshape((1,-1)) @ v.T"
   ]
  },
  {
   "cell_type": "code",
   "execution_count": 20,
   "metadata": {},
   "outputs": [
    {
     "output_type": "display_data",
     "data": {
      "application/vnd.plotly.v1+json": {
       "config": {
        "plotlyServerURL": "https://plot.ly"
       },
       "data": [
        {
         "hovertemplate": "types=1<br>names=%{x}<br>First component=%{y}<extra></extra>",
         "legendgroup": "1",
         "marker": {
          "color": "#636efa",
          "symbol": "circle"
         },
         "mode": "markers",
         "name": "1",
         "orientation": "v",
         "showlegend": true,
         "type": "scatter",
         "x": [
          "aardvark",
          "antelope",
          "bear",
          "boar",
          "buffalo",
          "calf",
          "cavy",
          "cheetah",
          "deer",
          "dolphin",
          "elephant",
          "fruitbat",
          "giraffe",
          "girl",
          "goat",
          "gorilla",
          "hamster",
          "hare",
          "leopard",
          "lion",
          "lynx",
          "mink",
          "mole",
          "mongoose",
          "opossum",
          "oryx",
          "platypus",
          "polecat",
          "pony",
          "porpoise",
          "puma",
          "pussycat",
          "raccoon",
          "reindeer",
          "seal",
          "sealion",
          "squirrel",
          "vampire",
          "vole",
          "wallaby",
          "wolf"
         ],
         "xaxis": "x",
         "y": [
          4.926625558361033,
          4.9739884050475744,
          4.926625558361031,
          4.84133481462059,
          4.973988405047573,
          5.837234171439893,
          4.701939214815826,
          4.841334814620591,
          4.973988405047571,
          2.642209516980594,
          4.973988405047572,
          2.651500802064375,
          4.973988405047572,
          4.343620781547426,
          5.837234171439892,
          3.7692870209962823,
          4.758376499054675,
          4.0075683688610875,
          4.841334814620589,
          4.841334814620589,
          4.84133481462059,
          4.803705657744327,
          3.927140860520349,
          4.84133481462059,
          3.9271408605203484,
          4.973988405047571,
          2.248414884074935,
          4.8413348146205895,
          5.837234171439895,
          2.6422095169805946,
          4.84133481462059,
          5.754255272004179,
          4.84133481462059,
          5.837234171439893,
          3.8766669472571396,
          3.955867079612217,
          2.9060684526181193,
          2.6515008020643753,
          4.0075683688610875,
          3.973063426510152,
          4.8413348146205895
         ],
         "yaxis": "y"
        },
        {
         "hovertemplate": "types=4<br>names=%{x}<br>First component=%{y}<extra></extra>",
         "legendgroup": "4",
         "marker": {
          "color": "#EF553B",
          "symbol": "circle"
         },
         "mode": "markers",
         "name": "4",
         "orientation": "v",
         "showlegend": true,
         "type": "scatter",
         "x": [
          "bass",
          "carp",
          "catfish",
          "chub",
          "dogfish",
          "haddock",
          "herring",
          "pike",
          "piranha",
          "seahorse",
          "sole",
          "stingray",
          "tuna"
         ],
         "xaxis": "x",
         "y": [
          -2.6495880054990146,
          -2.6555741259445185,
          -2.64958800549901,
          -2.6495880054990097,
          -1.364567959714148,
          -2.7227119674847517,
          -2.64958800549901,
          -1.3645679597141476,
          -2.6495880054990097,
          -2.7227119674847513,
          -2.7227119674847513,
          -1.7409163052702428,
          -1.364567959714148
         ],
         "yaxis": "y"
        },
        {
         "hovertemplate": "types=2<br>names=%{x}<br>First component=%{y}<extra></extra>",
         "legendgroup": "2",
         "marker": {
          "color": "#00cc96",
          "symbol": "circle"
         },
         "mode": "markers",
         "name": "2",
         "orientation": "v",
         "showlegend": true,
         "type": "scatter",
         "x": [
          "chicken",
          "crow",
          "dove",
          "duck",
          "flamingo",
          "gull",
          "hawk",
          "kiwi",
          "lark",
          "ostrich",
          "parakeet",
          "penguin",
          "pheasant",
          "rhea",
          "skimmer",
          "skua",
          "sparrow",
          "swan",
          "vulture",
          "wren"
         ],
         "xaxis": "x",
         "y": [
          -3.708902443116241,
          -3.765067220306448,
          -3.7089024431162425,
          -4.744853131614619,
          -2.4520216724653587,
          -4.762682805677507,
          -3.765067220306447,
          -3.0129766036308836,
          -3.690001028636913,
          -1.806921086644852,
          -3.708902443116241,
          -2.680809677543345,
          -3.6900010286369134,
          -1.8702915893690246,
          -4.762682805677507,
          -4.762682805677506,
          -3.690001028636913,
          -3.4323466593857,
          -2.545495698007389,
          -3.6900010286369134
         ],
         "yaxis": "y"
        },
        {
         "hovertemplate": "types=7<br>names=%{x}<br>First component=%{y}<extra></extra>",
         "legendgroup": "7",
         "marker": {
          "color": "#ab63fa",
          "symbol": "circle"
         },
         "mode": "markers",
         "name": "7",
         "orientation": "v",
         "showlegend": true,
         "type": "scatter",
         "x": [
          "clam",
          "crab",
          "crayfish",
          "lobster",
          "octopus",
          "scorpion",
          "seawasp",
          "slug",
          "starfish",
          "worm"
         ],
         "xaxis": "x",
         "y": [
          -4.830891404373401,
          -3.558406787878657,
          -5.726107883147103,
          -5.726107883147102,
          -4.191479241859942,
          -1.7604139468878437,
          -6.549088667554077,
          -3.898937825604383,
          -5.726107883147101,
          -3.8989378256043836
         ],
         "yaxis": "y"
        },
        {
         "hovertemplate": "types=6<br>names=%{x}<br>First component=%{y}<extra></extra>",
         "legendgroup": "6",
         "marker": {
          "color": "#FFA15A",
          "symbol": "circle"
         },
         "mode": "markers",
         "name": "6",
         "orientation": "v",
         "showlegend": true,
         "type": "scatter",
         "x": [
          "flea",
          "gnat",
          "honeybee",
          "housefly",
          "ladybird",
          "moth",
          "termite",
          "wasp"
         ],
         "xaxis": "x",
         "y": [
          -3.8161136117419856,
          -4.849341584182773,
          -3.494037716732929,
          -3.025194378951408,
          -4.905728101507188,
          -3.0251943789514084,
          -3.816113611741984,
          -3.5548800952019945
         ],
         "yaxis": "y"
        },
        {
         "hovertemplate": "types=5<br>names=%{x}<br>First component=%{y}<extra></extra>",
         "legendgroup": "5",
         "marker": {
          "color": "#19d3f3",
          "symbol": "circle"
         },
         "mode": "markers",
         "name": "5",
         "orientation": "v",
         "showlegend": true,
         "type": "scatter",
         "x": [
          "frog",
          "frog",
          "newt",
          "toad"
         ],
         "xaxis": "x",
         "y": [
          -0.7524614206523391,
          -0.9685589817907206,
          -0.34643694339154424,
          -0.75658980030385
         ],
         "yaxis": "y"
        },
        {
         "hovertemplate": "types=3<br>names=%{x}<br>First component=%{y}<extra></extra>",
         "legendgroup": "3",
         "marker": {
          "color": "#FF6692",
          "symbol": "circle"
         },
         "mode": "markers",
         "name": "3",
         "orientation": "v",
         "showlegend": true,
         "type": "scatter",
         "x": [
          "pitviper",
          "seasnake",
          "slowworm",
          "tortoise",
          "tuatara"
         ],
         "xaxis": "x",
         "y": [
          -1.5261946724709756,
          -0.9821302908716456,
          -1.2387114660038845,
          -0.008116685622094682,
          0.08159303777110799
         ],
         "yaxis": "y"
        }
       ],
       "layout": {
        "legend": {
         "title": {
          "text": "types"
         },
         "tracegroupgap": 0
        },
        "template": {
         "data": {
          "bar": [
           {
            "error_x": {
             "color": "#2a3f5f"
            },
            "error_y": {
             "color": "#2a3f5f"
            },
            "marker": {
             "line": {
              "color": "#E5ECF6",
              "width": 0.5
             }
            },
            "type": "bar"
           }
          ],
          "barpolar": [
           {
            "marker": {
             "line": {
              "color": "#E5ECF6",
              "width": 0.5
             }
            },
            "type": "barpolar"
           }
          ],
          "carpet": [
           {
            "aaxis": {
             "endlinecolor": "#2a3f5f",
             "gridcolor": "white",
             "linecolor": "white",
             "minorgridcolor": "white",
             "startlinecolor": "#2a3f5f"
            },
            "baxis": {
             "endlinecolor": "#2a3f5f",
             "gridcolor": "white",
             "linecolor": "white",
             "minorgridcolor": "white",
             "startlinecolor": "#2a3f5f"
            },
            "type": "carpet"
           }
          ],
          "choropleth": [
           {
            "colorbar": {
             "outlinewidth": 0,
             "ticks": ""
            },
            "type": "choropleth"
           }
          ],
          "contour": [
           {
            "colorbar": {
             "outlinewidth": 0,
             "ticks": ""
            },
            "colorscale": [
             [
              0,
              "#0d0887"
             ],
             [
              0.1111111111111111,
              "#46039f"
             ],
             [
              0.2222222222222222,
              "#7201a8"
             ],
             [
              0.3333333333333333,
              "#9c179e"
             ],
             [
              0.4444444444444444,
              "#bd3786"
             ],
             [
              0.5555555555555556,
              "#d8576b"
             ],
             [
              0.6666666666666666,
              "#ed7953"
             ],
             [
              0.7777777777777778,
              "#fb9f3a"
             ],
             [
              0.8888888888888888,
              "#fdca26"
             ],
             [
              1,
              "#f0f921"
             ]
            ],
            "type": "contour"
           }
          ],
          "contourcarpet": [
           {
            "colorbar": {
             "outlinewidth": 0,
             "ticks": ""
            },
            "type": "contourcarpet"
           }
          ],
          "heatmap": [
           {
            "colorbar": {
             "outlinewidth": 0,
             "ticks": ""
            },
            "colorscale": [
             [
              0,
              "#0d0887"
             ],
             [
              0.1111111111111111,
              "#46039f"
             ],
             [
              0.2222222222222222,
              "#7201a8"
             ],
             [
              0.3333333333333333,
              "#9c179e"
             ],
             [
              0.4444444444444444,
              "#bd3786"
             ],
             [
              0.5555555555555556,
              "#d8576b"
             ],
             [
              0.6666666666666666,
              "#ed7953"
             ],
             [
              0.7777777777777778,
              "#fb9f3a"
             ],
             [
              0.8888888888888888,
              "#fdca26"
             ],
             [
              1,
              "#f0f921"
             ]
            ],
            "type": "heatmap"
           }
          ],
          "heatmapgl": [
           {
            "colorbar": {
             "outlinewidth": 0,
             "ticks": ""
            },
            "colorscale": [
             [
              0,
              "#0d0887"
             ],
             [
              0.1111111111111111,
              "#46039f"
             ],
             [
              0.2222222222222222,
              "#7201a8"
             ],
             [
              0.3333333333333333,
              "#9c179e"
             ],
             [
              0.4444444444444444,
              "#bd3786"
             ],
             [
              0.5555555555555556,
              "#d8576b"
             ],
             [
              0.6666666666666666,
              "#ed7953"
             ],
             [
              0.7777777777777778,
              "#fb9f3a"
             ],
             [
              0.8888888888888888,
              "#fdca26"
             ],
             [
              1,
              "#f0f921"
             ]
            ],
            "type": "heatmapgl"
           }
          ],
          "histogram": [
           {
            "marker": {
             "colorbar": {
              "outlinewidth": 0,
              "ticks": ""
             }
            },
            "type": "histogram"
           }
          ],
          "histogram2d": [
           {
            "colorbar": {
             "outlinewidth": 0,
             "ticks": ""
            },
            "colorscale": [
             [
              0,
              "#0d0887"
             ],
             [
              0.1111111111111111,
              "#46039f"
             ],
             [
              0.2222222222222222,
              "#7201a8"
             ],
             [
              0.3333333333333333,
              "#9c179e"
             ],
             [
              0.4444444444444444,
              "#bd3786"
             ],
             [
              0.5555555555555556,
              "#d8576b"
             ],
             [
              0.6666666666666666,
              "#ed7953"
             ],
             [
              0.7777777777777778,
              "#fb9f3a"
             ],
             [
              0.8888888888888888,
              "#fdca26"
             ],
             [
              1,
              "#f0f921"
             ]
            ],
            "type": "histogram2d"
           }
          ],
          "histogram2dcontour": [
           {
            "colorbar": {
             "outlinewidth": 0,
             "ticks": ""
            },
            "colorscale": [
             [
              0,
              "#0d0887"
             ],
             [
              0.1111111111111111,
              "#46039f"
             ],
             [
              0.2222222222222222,
              "#7201a8"
             ],
             [
              0.3333333333333333,
              "#9c179e"
             ],
             [
              0.4444444444444444,
              "#bd3786"
             ],
             [
              0.5555555555555556,
              "#d8576b"
             ],
             [
              0.6666666666666666,
              "#ed7953"
             ],
             [
              0.7777777777777778,
              "#fb9f3a"
             ],
             [
              0.8888888888888888,
              "#fdca26"
             ],
             [
              1,
              "#f0f921"
             ]
            ],
            "type": "histogram2dcontour"
           }
          ],
          "mesh3d": [
           {
            "colorbar": {
             "outlinewidth": 0,
             "ticks": ""
            },
            "type": "mesh3d"
           }
          ],
          "parcoords": [
           {
            "line": {
             "colorbar": {
              "outlinewidth": 0,
              "ticks": ""
             }
            },
            "type": "parcoords"
           }
          ],
          "pie": [
           {
            "automargin": true,
            "type": "pie"
           }
          ],
          "scatter": [
           {
            "marker": {
             "colorbar": {
              "outlinewidth": 0,
              "ticks": ""
             }
            },
            "type": "scatter"
           }
          ],
          "scatter3d": [
           {
            "line": {
             "colorbar": {
              "outlinewidth": 0,
              "ticks": ""
             }
            },
            "marker": {
             "colorbar": {
              "outlinewidth": 0,
              "ticks": ""
             }
            },
            "type": "scatter3d"
           }
          ],
          "scattercarpet": [
           {
            "marker": {
             "colorbar": {
              "outlinewidth": 0,
              "ticks": ""
             }
            },
            "type": "scattercarpet"
           }
          ],
          "scattergeo": [
           {
            "marker": {
             "colorbar": {
              "outlinewidth": 0,
              "ticks": ""
             }
            },
            "type": "scattergeo"
           }
          ],
          "scattergl": [
           {
            "marker": {
             "colorbar": {
              "outlinewidth": 0,
              "ticks": ""
             }
            },
            "type": "scattergl"
           }
          ],
          "scattermapbox": [
           {
            "marker": {
             "colorbar": {
              "outlinewidth": 0,
              "ticks": ""
             }
            },
            "type": "scattermapbox"
           }
          ],
          "scatterpolar": [
           {
            "marker": {
             "colorbar": {
              "outlinewidth": 0,
              "ticks": ""
             }
            },
            "type": "scatterpolar"
           }
          ],
          "scatterpolargl": [
           {
            "marker": {
             "colorbar": {
              "outlinewidth": 0,
              "ticks": ""
             }
            },
            "type": "scatterpolargl"
           }
          ],
          "scatterternary": [
           {
            "marker": {
             "colorbar": {
              "outlinewidth": 0,
              "ticks": ""
             }
            },
            "type": "scatterternary"
           }
          ],
          "surface": [
           {
            "colorbar": {
             "outlinewidth": 0,
             "ticks": ""
            },
            "colorscale": [
             [
              0,
              "#0d0887"
             ],
             [
              0.1111111111111111,
              "#46039f"
             ],
             [
              0.2222222222222222,
              "#7201a8"
             ],
             [
              0.3333333333333333,
              "#9c179e"
             ],
             [
              0.4444444444444444,
              "#bd3786"
             ],
             [
              0.5555555555555556,
              "#d8576b"
             ],
             [
              0.6666666666666666,
              "#ed7953"
             ],
             [
              0.7777777777777778,
              "#fb9f3a"
             ],
             [
              0.8888888888888888,
              "#fdca26"
             ],
             [
              1,
              "#f0f921"
             ]
            ],
            "type": "surface"
           }
          ],
          "table": [
           {
            "cells": {
             "fill": {
              "color": "#EBF0F8"
             },
             "line": {
              "color": "white"
             }
            },
            "header": {
             "fill": {
              "color": "#C8D4E3"
             },
             "line": {
              "color": "white"
             }
            },
            "type": "table"
           }
          ]
         },
         "layout": {
          "annotationdefaults": {
           "arrowcolor": "#2a3f5f",
           "arrowhead": 0,
           "arrowwidth": 1
          },
          "coloraxis": {
           "colorbar": {
            "outlinewidth": 0,
            "ticks": ""
           }
          },
          "colorscale": {
           "diverging": [
            [
             0,
             "#8e0152"
            ],
            [
             0.1,
             "#c51b7d"
            ],
            [
             0.2,
             "#de77ae"
            ],
            [
             0.3,
             "#f1b6da"
            ],
            [
             0.4,
             "#fde0ef"
            ],
            [
             0.5,
             "#f7f7f7"
            ],
            [
             0.6,
             "#e6f5d0"
            ],
            [
             0.7,
             "#b8e186"
            ],
            [
             0.8,
             "#7fbc41"
            ],
            [
             0.9,
             "#4d9221"
            ],
            [
             1,
             "#276419"
            ]
           ],
           "sequential": [
            [
             0,
             "#0d0887"
            ],
            [
             0.1111111111111111,
             "#46039f"
            ],
            [
             0.2222222222222222,
             "#7201a8"
            ],
            [
             0.3333333333333333,
             "#9c179e"
            ],
            [
             0.4444444444444444,
             "#bd3786"
            ],
            [
             0.5555555555555556,
             "#d8576b"
            ],
            [
             0.6666666666666666,
             "#ed7953"
            ],
            [
             0.7777777777777778,
             "#fb9f3a"
            ],
            [
             0.8888888888888888,
             "#fdca26"
            ],
            [
             1,
             "#f0f921"
            ]
           ],
           "sequentialminus": [
            [
             0,
             "#0d0887"
            ],
            [
             0.1111111111111111,
             "#46039f"
            ],
            [
             0.2222222222222222,
             "#7201a8"
            ],
            [
             0.3333333333333333,
             "#9c179e"
            ],
            [
             0.4444444444444444,
             "#bd3786"
            ],
            [
             0.5555555555555556,
             "#d8576b"
            ],
            [
             0.6666666666666666,
             "#ed7953"
            ],
            [
             0.7777777777777778,
             "#fb9f3a"
            ],
            [
             0.8888888888888888,
             "#fdca26"
            ],
            [
             1,
             "#f0f921"
            ]
           ]
          },
          "colorway": [
           "#636efa",
           "#EF553B",
           "#00cc96",
           "#ab63fa",
           "#FFA15A",
           "#19d3f3",
           "#FF6692",
           "#B6E880",
           "#FF97FF",
           "#FECB52"
          ],
          "font": {
           "color": "#2a3f5f"
          },
          "geo": {
           "bgcolor": "white",
           "lakecolor": "white",
           "landcolor": "#E5ECF6",
           "showlakes": true,
           "showland": true,
           "subunitcolor": "white"
          },
          "hoverlabel": {
           "align": "left"
          },
          "hovermode": "closest",
          "mapbox": {
           "style": "light"
          },
          "paper_bgcolor": "white",
          "plot_bgcolor": "#E5ECF6",
          "polar": {
           "angularaxis": {
            "gridcolor": "white",
            "linecolor": "white",
            "ticks": ""
           },
           "bgcolor": "#E5ECF6",
           "radialaxis": {
            "gridcolor": "white",
            "linecolor": "white",
            "ticks": ""
           }
          },
          "scene": {
           "xaxis": {
            "backgroundcolor": "#E5ECF6",
            "gridcolor": "white",
            "gridwidth": 2,
            "linecolor": "white",
            "showbackground": true,
            "ticks": "",
            "zerolinecolor": "white"
           },
           "yaxis": {
            "backgroundcolor": "#E5ECF6",
            "gridcolor": "white",
            "gridwidth": 2,
            "linecolor": "white",
            "showbackground": true,
            "ticks": "",
            "zerolinecolor": "white"
           },
           "zaxis": {
            "backgroundcolor": "#E5ECF6",
            "gridcolor": "white",
            "gridwidth": 2,
            "linecolor": "white",
            "showbackground": true,
            "ticks": "",
            "zerolinecolor": "white"
           }
          },
          "shapedefaults": {
           "line": {
            "color": "#2a3f5f"
           }
          },
          "ternary": {
           "aaxis": {
            "gridcolor": "white",
            "linecolor": "white",
            "ticks": ""
           },
           "baxis": {
            "gridcolor": "white",
            "linecolor": "white",
            "ticks": ""
           },
           "bgcolor": "#E5ECF6",
           "caxis": {
            "gridcolor": "white",
            "linecolor": "white",
            "ticks": ""
           }
          },
          "title": {
           "x": 0.05
          },
          "xaxis": {
           "automargin": true,
           "gridcolor": "white",
           "linecolor": "white",
           "ticks": "",
           "title": {
            "standoff": 15
           },
           "zerolinecolor": "white",
           "zerolinewidth": 2
          },
          "yaxis": {
           "automargin": true,
           "gridcolor": "white",
           "linecolor": "white",
           "ticks": "",
           "title": {
            "standoff": 15
           },
           "zerolinecolor": "white",
           "zerolinewidth": 2
          }
         }
        },
        "title": {
         "text": "Full-size neighborhood"
        },
        "xaxis": {
         "anchor": "y",
         "domain": [
          0,
          1
         ],
         "title": {
          "text": "names"
         }
        },
        "yaxis": {
         "anchor": "x",
         "domain": [
          0,
          1
         ],
         "title": {
          "text": "First component"
         }
        }
       }
      }
     },
     "metadata": {}
    }
   ],
   "source": [
    "d = {\"names\":df[\"name\"], \"types\":df[\"type\"], \"First component\":Y.ravel()}\n",
    "dff = pd.DataFrame(d)\n",
    "fig = ex.scatter(dff, x=\"names\", y=\"First component\", color=\"types\", title=\"Full-size neighborhood\")\n",
    "fig.show()"
   ]
  },
  {
   "cell_type": "code",
   "execution_count": 23,
   "metadata": {},
   "outputs": [],
   "source": [
    "k = 50\n",
    "graph = np.ones((n,n)) * 1000\n",
    "for i in range(n):\n",
    "    dist = np.copy(G[i])\n",
    "    points = [(j,d) for j, d in zip(np.arange(n), dist)]\n",
    "    points.sort(reverse=True, key=lambda x:x[1])\n",
    "    num = 0\n",
    "    for j,d in points:\n",
    "        if (d == 0): continue\n",
    "        graph[i][j] = d\n",
    "        graph[j][i] = d\n",
    "        num += 1\n",
    "        if num == k: break\n",
    " "
   ]
  },
  {
   "cell_type": "code",
   "execution_count": 24,
   "metadata": {},
   "outputs": [],
   "source": [
    "g = scipy.sparse.csr_matrix(graph)\n",
    "D, parents = scipy.sparse.csgraph.shortest_path(csgraph=g, directed=False, return_predecessors=True)\n",
    "D2 = D*D\n",
    "J = np.identity(n) - (np.ones((n,n)) / n)\n",
    "B = -0.5 * J@D2@J\n",
    "w, v = np.linalg.eigh(B)\n",
    "w[w<0] = 0\n",
    "Y = scipy.linalg.sqrtm(np.diag(w))[-1].reshape((1,-1)) @ v.T"
   ]
  },
  {
   "cell_type": "code",
   "execution_count": 25,
   "metadata": {},
   "outputs": [
    {
     "output_type": "display_data",
     "data": {
      "application/vnd.plotly.v1+json": {
       "config": {
        "plotlyServerURL": "https://plot.ly"
       },
       "data": [
        {
         "hovertemplate": "types=1<br>names=%{x}<br>First component=%{y}<extra></extra>",
         "legendgroup": "1",
         "marker": {
          "color": "#636efa",
          "symbol": "circle"
         },
         "mode": "markers",
         "name": "1",
         "orientation": "v",
         "showlegend": true,
         "type": "scatter",
         "x": [
          "aardvark",
          "antelope",
          "bear",
          "boar",
          "buffalo",
          "calf",
          "cavy",
          "cheetah",
          "deer",
          "dolphin",
          "elephant",
          "fruitbat",
          "giraffe",
          "girl",
          "goat",
          "gorilla",
          "hamster",
          "hare",
          "leopard",
          "lion",
          "lynx",
          "mink",
          "mole",
          "mongoose",
          "opossum",
          "oryx",
          "platypus",
          "polecat",
          "pony",
          "porpoise",
          "puma",
          "pussycat",
          "raccoon",
          "reindeer",
          "seal",
          "sealion",
          "squirrel",
          "vampire",
          "vole",
          "wallaby",
          "wolf"
         ],
         "xaxis": "x",
         "y": [
          3.123073609024004,
          3.8364230080950072,
          3.123073609023994,
          0.12029067811233984,
          3.83642300809501,
          2.6386225357992625,
          6.10871836685777,
          0.12029067811233919,
          3.8364230080950077,
          4.867974758309242,
          3.8364230080950077,
          0.353451366091424,
          3.8364230080950095,
          0.8810134950162113,
          2.110363727340418,
          -0.39696288325087387,
          3.386394649816366,
          0.7740273358799769,
          -2.266746115469113,
          -2.2667461154691124,
          -2.266746115469112,
          -0.5724915064510563,
          -5.233946549719692,
          -6.789410822522323,
          -5.2339465497196915,
          1.84389740599817,
          -1.1705280280704629,
          -6.789410822522326,
          1.583104342078903,
          3.156293240525982,
          -6.789410822522326,
          0.21933207572271982,
          -6.789410822522326,
          2.146420145773998,
          5.295991406923347,
          3.251451035770173,
          1.7814701915818776,
          0.3534513660914207,
          -5.050350783867084,
          -1.29668978726551,
          -6.408645819178763
         ],
         "yaxis": "y"
        },
        {
         "hovertemplate": "types=4<br>names=%{x}<br>First component=%{y}<extra></extra>",
         "legendgroup": "4",
         "marker": {
          "color": "#EF553B",
          "symbol": "circle"
         },
         "mode": "markers",
         "name": "4",
         "orientation": "v",
         "showlegend": true,
         "type": "scatter",
         "x": [
          "bass",
          "carp",
          "catfish",
          "chub",
          "dogfish",
          "haddock",
          "herring",
          "pike",
          "piranha",
          "seahorse",
          "sole",
          "stingray",
          "tuna"
         ],
         "xaxis": "x",
         "y": [
          -2.0545328330797474,
          1.4111482630313061,
          -1.9063580287369402,
          -1.9063580287369408,
          -2.231645849776854,
          -2.32509919123664,
          -1.9818113223769196,
          -3.832268230720586,
          -1.98181132237692,
          -2.2033968570992344,
          -1.9157658378617826,
          -2.644677217474781,
          -2.787018531190005
         ],
         "yaxis": "y"
        },
        {
         "hovertemplate": "types=2<br>names=%{x}<br>First component=%{y}<extra></extra>",
         "legendgroup": "2",
         "marker": {
          "color": "#00cc96",
          "symbol": "circle"
         },
         "mode": "markers",
         "name": "2",
         "orientation": "v",
         "showlegend": true,
         "type": "scatter",
         "x": [
          "chicken",
          "crow",
          "dove",
          "duck",
          "flamingo",
          "gull",
          "hawk",
          "kiwi",
          "lark",
          "ostrich",
          "parakeet",
          "penguin",
          "pheasant",
          "rhea",
          "skimmer",
          "skua",
          "sparrow",
          "swan",
          "vulture",
          "wren"
         ],
         "xaxis": "x",
         "y": [
          0.09261886991846388,
          -1.2810285908412185,
          -0.060918594486373594,
          1.355334895062822,
          -0.024667890330731263,
          -1.5731336388105073,
          -2.0840669400491056,
          -3.7024122163853486,
          -0.08967449845593742,
          -2.6842447528401965,
          -0.3702400008918285,
          -3.216796577576388,
          -1.288221771698974,
          3.3850847037400906,
          -2.385402147395822,
          -2.3854021473958222,
          0.8243322367900032,
          2.627516886555698,
          4.663204694676573,
          1.502316896448033
         ],
         "yaxis": "y"
        },
        {
         "hovertemplate": "types=7<br>names=%{x}<br>First component=%{y}<extra></extra>",
         "legendgroup": "7",
         "marker": {
          "color": "#ab63fa",
          "symbol": "circle"
         },
         "mode": "markers",
         "name": "7",
         "orientation": "v",
         "showlegend": true,
         "type": "scatter",
         "x": [
          "clam",
          "crab",
          "crayfish",
          "lobster",
          "octopus",
          "scorpion",
          "seawasp",
          "slug",
          "starfish",
          "worm"
         ],
         "xaxis": "x",
         "y": [
          0.06429385620415863,
          1.0759600709018617,
          1.8605618320667145,
          1.0034217557539393,
          -0.07512655441272842,
          -0.9215221795605834,
          -0.570466205315364,
          -0.6255714706542512,
          0.8209468977731743,
          0.5012195449617702
         ],
         "yaxis": "y"
        },
        {
         "hovertemplate": "types=6<br>names=%{x}<br>First component=%{y}<extra></extra>",
         "legendgroup": "6",
         "marker": {
          "color": "#FFA15A",
          "symbol": "circle"
         },
         "mode": "markers",
         "name": "6",
         "orientation": "v",
         "showlegend": true,
         "type": "scatter",
         "x": [
          "flea",
          "gnat",
          "honeybee",
          "housefly",
          "ladybird",
          "moth",
          "termite",
          "wasp"
         ],
         "xaxis": "x",
         "y": [
          0.10133417874095148,
          0.8795261596736386,
          0.8390934174583828,
          -1.1954467605082633,
          -1.8954421890411213,
          -1.1954467605082635,
          -0.5276051177914545,
          -0.031172819598384745
         ],
         "yaxis": "y"
        },
        {
         "hovertemplate": "types=5<br>names=%{x}<br>First component=%{y}<extra></extra>",
         "legendgroup": "5",
         "marker": {
          "color": "#19d3f3",
          "symbol": "circle"
         },
         "mode": "markers",
         "name": "5",
         "orientation": "v",
         "showlegend": true,
         "type": "scatter",
         "x": [
          "frog",
          "frog",
          "newt",
          "toad"
         ],
         "xaxis": "x",
         "y": [
          5.629734120000171,
          5.661733707433812,
          6.499539582688306,
          -4.133843263922205
         ],
         "yaxis": "y"
        },
        {
         "hovertemplate": "types=3<br>names=%{x}<br>First component=%{y}<extra></extra>",
         "legendgroup": "3",
         "marker": {
          "color": "#FF6692",
          "symbol": "circle"
         },
         "mode": "markers",
         "name": "3",
         "orientation": "v",
         "showlegend": true,
         "type": "scatter",
         "x": [
          "pitviper",
          "seasnake",
          "slowworm",
          "tortoise",
          "tuatara"
         ],
         "xaxis": "x",
         "y": [
          6.661451251255947,
          -1.3912035984326199,
          5.857728044920613,
          1.0089126605093706,
          0.05340789469979352
         ],
         "yaxis": "y"
        }
       ],
       "layout": {
        "legend": {
         "title": {
          "text": "types"
         },
         "tracegroupgap": 0
        },
        "template": {
         "data": {
          "bar": [
           {
            "error_x": {
             "color": "#2a3f5f"
            },
            "error_y": {
             "color": "#2a3f5f"
            },
            "marker": {
             "line": {
              "color": "#E5ECF6",
              "width": 0.5
             }
            },
            "type": "bar"
           }
          ],
          "barpolar": [
           {
            "marker": {
             "line": {
              "color": "#E5ECF6",
              "width": 0.5
             }
            },
            "type": "barpolar"
           }
          ],
          "carpet": [
           {
            "aaxis": {
             "endlinecolor": "#2a3f5f",
             "gridcolor": "white",
             "linecolor": "white",
             "minorgridcolor": "white",
             "startlinecolor": "#2a3f5f"
            },
            "baxis": {
             "endlinecolor": "#2a3f5f",
             "gridcolor": "white",
             "linecolor": "white",
             "minorgridcolor": "white",
             "startlinecolor": "#2a3f5f"
            },
            "type": "carpet"
           }
          ],
          "choropleth": [
           {
            "colorbar": {
             "outlinewidth": 0,
             "ticks": ""
            },
            "type": "choropleth"
           }
          ],
          "contour": [
           {
            "colorbar": {
             "outlinewidth": 0,
             "ticks": ""
            },
            "colorscale": [
             [
              0,
              "#0d0887"
             ],
             [
              0.1111111111111111,
              "#46039f"
             ],
             [
              0.2222222222222222,
              "#7201a8"
             ],
             [
              0.3333333333333333,
              "#9c179e"
             ],
             [
              0.4444444444444444,
              "#bd3786"
             ],
             [
              0.5555555555555556,
              "#d8576b"
             ],
             [
              0.6666666666666666,
              "#ed7953"
             ],
             [
              0.7777777777777778,
              "#fb9f3a"
             ],
             [
              0.8888888888888888,
              "#fdca26"
             ],
             [
              1,
              "#f0f921"
             ]
            ],
            "type": "contour"
           }
          ],
          "contourcarpet": [
           {
            "colorbar": {
             "outlinewidth": 0,
             "ticks": ""
            },
            "type": "contourcarpet"
           }
          ],
          "heatmap": [
           {
            "colorbar": {
             "outlinewidth": 0,
             "ticks": ""
            },
            "colorscale": [
             [
              0,
              "#0d0887"
             ],
             [
              0.1111111111111111,
              "#46039f"
             ],
             [
              0.2222222222222222,
              "#7201a8"
             ],
             [
              0.3333333333333333,
              "#9c179e"
             ],
             [
              0.4444444444444444,
              "#bd3786"
             ],
             [
              0.5555555555555556,
              "#d8576b"
             ],
             [
              0.6666666666666666,
              "#ed7953"
             ],
             [
              0.7777777777777778,
              "#fb9f3a"
             ],
             [
              0.8888888888888888,
              "#fdca26"
             ],
             [
              1,
              "#f0f921"
             ]
            ],
            "type": "heatmap"
           }
          ],
          "heatmapgl": [
           {
            "colorbar": {
             "outlinewidth": 0,
             "ticks": ""
            },
            "colorscale": [
             [
              0,
              "#0d0887"
             ],
             [
              0.1111111111111111,
              "#46039f"
             ],
             [
              0.2222222222222222,
              "#7201a8"
             ],
             [
              0.3333333333333333,
              "#9c179e"
             ],
             [
              0.4444444444444444,
              "#bd3786"
             ],
             [
              0.5555555555555556,
              "#d8576b"
             ],
             [
              0.6666666666666666,
              "#ed7953"
             ],
             [
              0.7777777777777778,
              "#fb9f3a"
             ],
             [
              0.8888888888888888,
              "#fdca26"
             ],
             [
              1,
              "#f0f921"
             ]
            ],
            "type": "heatmapgl"
           }
          ],
          "histogram": [
           {
            "marker": {
             "colorbar": {
              "outlinewidth": 0,
              "ticks": ""
             }
            },
            "type": "histogram"
           }
          ],
          "histogram2d": [
           {
            "colorbar": {
             "outlinewidth": 0,
             "ticks": ""
            },
            "colorscale": [
             [
              0,
              "#0d0887"
             ],
             [
              0.1111111111111111,
              "#46039f"
             ],
             [
              0.2222222222222222,
              "#7201a8"
             ],
             [
              0.3333333333333333,
              "#9c179e"
             ],
             [
              0.4444444444444444,
              "#bd3786"
             ],
             [
              0.5555555555555556,
              "#d8576b"
             ],
             [
              0.6666666666666666,
              "#ed7953"
             ],
             [
              0.7777777777777778,
              "#fb9f3a"
             ],
             [
              0.8888888888888888,
              "#fdca26"
             ],
             [
              1,
              "#f0f921"
             ]
            ],
            "type": "histogram2d"
           }
          ],
          "histogram2dcontour": [
           {
            "colorbar": {
             "outlinewidth": 0,
             "ticks": ""
            },
            "colorscale": [
             [
              0,
              "#0d0887"
             ],
             [
              0.1111111111111111,
              "#46039f"
             ],
             [
              0.2222222222222222,
              "#7201a8"
             ],
             [
              0.3333333333333333,
              "#9c179e"
             ],
             [
              0.4444444444444444,
              "#bd3786"
             ],
             [
              0.5555555555555556,
              "#d8576b"
             ],
             [
              0.6666666666666666,
              "#ed7953"
             ],
             [
              0.7777777777777778,
              "#fb9f3a"
             ],
             [
              0.8888888888888888,
              "#fdca26"
             ],
             [
              1,
              "#f0f921"
             ]
            ],
            "type": "histogram2dcontour"
           }
          ],
          "mesh3d": [
           {
            "colorbar": {
             "outlinewidth": 0,
             "ticks": ""
            },
            "type": "mesh3d"
           }
          ],
          "parcoords": [
           {
            "line": {
             "colorbar": {
              "outlinewidth": 0,
              "ticks": ""
             }
            },
            "type": "parcoords"
           }
          ],
          "pie": [
           {
            "automargin": true,
            "type": "pie"
           }
          ],
          "scatter": [
           {
            "marker": {
             "colorbar": {
              "outlinewidth": 0,
              "ticks": ""
             }
            },
            "type": "scatter"
           }
          ],
          "scatter3d": [
           {
            "line": {
             "colorbar": {
              "outlinewidth": 0,
              "ticks": ""
             }
            },
            "marker": {
             "colorbar": {
              "outlinewidth": 0,
              "ticks": ""
             }
            },
            "type": "scatter3d"
           }
          ],
          "scattercarpet": [
           {
            "marker": {
             "colorbar": {
              "outlinewidth": 0,
              "ticks": ""
             }
            },
            "type": "scattercarpet"
           }
          ],
          "scattergeo": [
           {
            "marker": {
             "colorbar": {
              "outlinewidth": 0,
              "ticks": ""
             }
            },
            "type": "scattergeo"
           }
          ],
          "scattergl": [
           {
            "marker": {
             "colorbar": {
              "outlinewidth": 0,
              "ticks": ""
             }
            },
            "type": "scattergl"
           }
          ],
          "scattermapbox": [
           {
            "marker": {
             "colorbar": {
              "outlinewidth": 0,
              "ticks": ""
             }
            },
            "type": "scattermapbox"
           }
          ],
          "scatterpolar": [
           {
            "marker": {
             "colorbar": {
              "outlinewidth": 0,
              "ticks": ""
             }
            },
            "type": "scatterpolar"
           }
          ],
          "scatterpolargl": [
           {
            "marker": {
             "colorbar": {
              "outlinewidth": 0,
              "ticks": ""
             }
            },
            "type": "scatterpolargl"
           }
          ],
          "scatterternary": [
           {
            "marker": {
             "colorbar": {
              "outlinewidth": 0,
              "ticks": ""
             }
            },
            "type": "scatterternary"
           }
          ],
          "surface": [
           {
            "colorbar": {
             "outlinewidth": 0,
             "ticks": ""
            },
            "colorscale": [
             [
              0,
              "#0d0887"
             ],
             [
              0.1111111111111111,
              "#46039f"
             ],
             [
              0.2222222222222222,
              "#7201a8"
             ],
             [
              0.3333333333333333,
              "#9c179e"
             ],
             [
              0.4444444444444444,
              "#bd3786"
             ],
             [
              0.5555555555555556,
              "#d8576b"
             ],
             [
              0.6666666666666666,
              "#ed7953"
             ],
             [
              0.7777777777777778,
              "#fb9f3a"
             ],
             [
              0.8888888888888888,
              "#fdca26"
             ],
             [
              1,
              "#f0f921"
             ]
            ],
            "type": "surface"
           }
          ],
          "table": [
           {
            "cells": {
             "fill": {
              "color": "#EBF0F8"
             },
             "line": {
              "color": "white"
             }
            },
            "header": {
             "fill": {
              "color": "#C8D4E3"
             },
             "line": {
              "color": "white"
             }
            },
            "type": "table"
           }
          ]
         },
         "layout": {
          "annotationdefaults": {
           "arrowcolor": "#2a3f5f",
           "arrowhead": 0,
           "arrowwidth": 1
          },
          "coloraxis": {
           "colorbar": {
            "outlinewidth": 0,
            "ticks": ""
           }
          },
          "colorscale": {
           "diverging": [
            [
             0,
             "#8e0152"
            ],
            [
             0.1,
             "#c51b7d"
            ],
            [
             0.2,
             "#de77ae"
            ],
            [
             0.3,
             "#f1b6da"
            ],
            [
             0.4,
             "#fde0ef"
            ],
            [
             0.5,
             "#f7f7f7"
            ],
            [
             0.6,
             "#e6f5d0"
            ],
            [
             0.7,
             "#b8e186"
            ],
            [
             0.8,
             "#7fbc41"
            ],
            [
             0.9,
             "#4d9221"
            ],
            [
             1,
             "#276419"
            ]
           ],
           "sequential": [
            [
             0,
             "#0d0887"
            ],
            [
             0.1111111111111111,
             "#46039f"
            ],
            [
             0.2222222222222222,
             "#7201a8"
            ],
            [
             0.3333333333333333,
             "#9c179e"
            ],
            [
             0.4444444444444444,
             "#bd3786"
            ],
            [
             0.5555555555555556,
             "#d8576b"
            ],
            [
             0.6666666666666666,
             "#ed7953"
            ],
            [
             0.7777777777777778,
             "#fb9f3a"
            ],
            [
             0.8888888888888888,
             "#fdca26"
            ],
            [
             1,
             "#f0f921"
            ]
           ],
           "sequentialminus": [
            [
             0,
             "#0d0887"
            ],
            [
             0.1111111111111111,
             "#46039f"
            ],
            [
             0.2222222222222222,
             "#7201a8"
            ],
            [
             0.3333333333333333,
             "#9c179e"
            ],
            [
             0.4444444444444444,
             "#bd3786"
            ],
            [
             0.5555555555555556,
             "#d8576b"
            ],
            [
             0.6666666666666666,
             "#ed7953"
            ],
            [
             0.7777777777777778,
             "#fb9f3a"
            ],
            [
             0.8888888888888888,
             "#fdca26"
            ],
            [
             1,
             "#f0f921"
            ]
           ]
          },
          "colorway": [
           "#636efa",
           "#EF553B",
           "#00cc96",
           "#ab63fa",
           "#FFA15A",
           "#19d3f3",
           "#FF6692",
           "#B6E880",
           "#FF97FF",
           "#FECB52"
          ],
          "font": {
           "color": "#2a3f5f"
          },
          "geo": {
           "bgcolor": "white",
           "lakecolor": "white",
           "landcolor": "#E5ECF6",
           "showlakes": true,
           "showland": true,
           "subunitcolor": "white"
          },
          "hoverlabel": {
           "align": "left"
          },
          "hovermode": "closest",
          "mapbox": {
           "style": "light"
          },
          "paper_bgcolor": "white",
          "plot_bgcolor": "#E5ECF6",
          "polar": {
           "angularaxis": {
            "gridcolor": "white",
            "linecolor": "white",
            "ticks": ""
           },
           "bgcolor": "#E5ECF6",
           "radialaxis": {
            "gridcolor": "white",
            "linecolor": "white",
            "ticks": ""
           }
          },
          "scene": {
           "xaxis": {
            "backgroundcolor": "#E5ECF6",
            "gridcolor": "white",
            "gridwidth": 2,
            "linecolor": "white",
            "showbackground": true,
            "ticks": "",
            "zerolinecolor": "white"
           },
           "yaxis": {
            "backgroundcolor": "#E5ECF6",
            "gridcolor": "white",
            "gridwidth": 2,
            "linecolor": "white",
            "showbackground": true,
            "ticks": "",
            "zerolinecolor": "white"
           },
           "zaxis": {
            "backgroundcolor": "#E5ECF6",
            "gridcolor": "white",
            "gridwidth": 2,
            "linecolor": "white",
            "showbackground": true,
            "ticks": "",
            "zerolinecolor": "white"
           }
          },
          "shapedefaults": {
           "line": {
            "color": "#2a3f5f"
           }
          },
          "ternary": {
           "aaxis": {
            "gridcolor": "white",
            "linecolor": "white",
            "ticks": ""
           },
           "baxis": {
            "gridcolor": "white",
            "linecolor": "white",
            "ticks": ""
           },
           "bgcolor": "#E5ECF6",
           "caxis": {
            "gridcolor": "white",
            "linecolor": "white",
            "ticks": ""
           }
          },
          "title": {
           "x": 0.05
          },
          "xaxis": {
           "automargin": true,
           "gridcolor": "white",
           "linecolor": "white",
           "ticks": "",
           "title": {
            "standoff": 15
           },
           "zerolinecolor": "white",
           "zerolinewidth": 2
          },
          "yaxis": {
           "automargin": true,
           "gridcolor": "white",
           "linecolor": "white",
           "ticks": "",
           "title": {
            "standoff": 15
           },
           "zerolinecolor": "white",
           "zerolinewidth": 2
          }
         }
        },
        "title": {
         "text": "50-neighborhood"
        },
        "xaxis": {
         "anchor": "y",
         "domain": [
          0,
          1
         ],
         "title": {
          "text": "names"
         }
        },
        "yaxis": {
         "anchor": "x",
         "domain": [
          0,
          1
         ],
         "title": {
          "text": "First component"
         }
        }
       }
      }
     },
     "metadata": {}
    }
   ],
   "source": [
    "d = {\"names\":df[\"name\"], \"types\":df[\"type\"], \"First component\":Y.ravel()}\n",
    "dff = pd.DataFrame(d)\n",
    "fig = ex.scatter(dff, x=\"names\", y=\"First component\", color=\"types\", title=\"50-neighborhood\")\n",
    "fig.show()"
   ]
  },
  {
   "cell_type": "code",
   "execution_count": 26,
   "metadata": {},
   "outputs": [
    {
     "output_type": "display_data",
     "data": {
      "application/vnd.plotly.v1+json": {
       "config": {
        "plotlyServerURL": "https://plot.ly"
       },
       "data": [
        {
         "hovertemplate": "types=1<br>names=%{x}<br>First component=%{y}<extra></extra>",
         "legendgroup": "1",
         "marker": {
          "color": "#636efa",
          "symbol": "circle"
         },
         "mode": "markers",
         "name": "1",
         "orientation": "v",
         "showlegend": true,
         "type": "scatter",
         "x": [
          "aardvark",
          "antelope",
          "bear",
          "boar",
          "buffalo",
          "calf",
          "cavy",
          "cheetah",
          "deer",
          "dolphin",
          "elephant",
          "fruitbat",
          "giraffe",
          "girl",
          "goat",
          "gorilla",
          "hamster",
          "hare",
          "leopard",
          "lion",
          "lynx",
          "mink",
          "mole",
          "mongoose",
          "opossum",
          "oryx",
          "platypus",
          "polecat",
          "pony",
          "porpoise",
          "puma",
          "pussycat",
          "raccoon",
          "reindeer",
          "seal",
          "sealion",
          "squirrel",
          "vampire",
          "vole",
          "wallaby",
          "wolf"
         ],
         "xaxis": "x",
         "y": [
          -4.391776174676545,
          -4.37484135903112,
          -3.9595719212535867,
          -4.212579271239312,
          -4.374841359031107,
          -5.380584295679314,
          -4.288552630272511,
          -4.090479697351737,
          -4.374841359031106,
          -2.622025381568322,
          -4.374841359031106,
          -2.0572450169720065,
          -4.374841359031106,
          -3.904444397094843,
          -5.380584295679311,
          -3.204211445620104,
          -3.9458630962690426,
          -3.2061218377821916,
          -4.090479697351735,
          -4.090479697351735,
          -4.090479697351735,
          -3.762440041948405,
          -2.8903414057541372,
          -4.090479697351735,
          -2.8903414057541377,
          -4.374841359031105,
          -1.2509945199380494,
          -4.090479697351735,
          -5.363617677518146,
          -2.622025381568322,
          -4.090479697351735,
          -4.922456521868383,
          -4.090479697351734,
          -5.363617677518146,
          -2.7067057618339887,
          -2.6035075387068107,
          -2.0071289658660505,
          -2.2302794907047554,
          -3.148311514581677,
          -3.4745577061984187,
          -4.090479697351734
         ],
         "yaxis": "y"
        },
        {
         "hovertemplate": "types=4<br>names=%{x}<br>First component=%{y}<extra></extra>",
         "legendgroup": "4",
         "marker": {
          "color": "#EF553B",
          "symbol": "circle"
         },
         "mode": "markers",
         "name": "4",
         "orientation": "v",
         "showlegend": true,
         "type": "scatter",
         "x": [
          "bass",
          "carp",
          "catfish",
          "chub",
          "dogfish",
          "haddock",
          "herring",
          "pike",
          "piranha",
          "seahorse",
          "sole",
          "stingray",
          "tuna"
         ],
         "xaxis": "x",
         "y": [
          3.1278324254661407,
          2.844112093790365,
          3.1278324254661376,
          3.127832425466137,
          2.028255447235854,
          3.1152089136627943,
          3.127832425466137,
          1.9710721556675777,
          3.127832425466135,
          3.267137782393079,
          3.267137782393079,
          1.8777342323493675,
          1.570866641265233
         ],
         "yaxis": "y"
        },
        {
         "hovertemplate": "types=2<br>names=%{x}<br>First component=%{y}<extra></extra>",
         "legendgroup": "2",
         "marker": {
          "color": "#00cc96",
          "symbol": "circle"
         },
         "mode": "markers",
         "name": "2",
         "orientation": "v",
         "showlegend": true,
         "type": "scatter",
         "x": [
          "chicken",
          "crow",
          "dove",
          "duck",
          "flamingo",
          "gull",
          "hawk",
          "kiwi",
          "lark",
          "ostrich",
          "parakeet",
          "penguin",
          "pheasant",
          "rhea",
          "skimmer",
          "skua",
          "sparrow",
          "swan",
          "vulture",
          "wren"
         ],
         "xaxis": "x",
         "y": [
          2.2989405727182666,
          2.8308307489254205,
          2.298940572718266,
          3.9351331141237735,
          0.5045829311951271,
          4.166793948681713,
          2.8308307489254196,
          2.4962303428069514,
          2.6481668470057556,
          0.012329013311258855,
          2.139446420146553,
          2.4331102742478024,
          2.6481668470057547,
          0.7201688615815994,
          4.16679394868171,
          4.16679394868171,
          2.7480902300090655,
          1.7497988522920827,
          0.7951176702933699,
          2.7480902300090646
         ],
         "yaxis": "y"
        },
        {
         "hovertemplate": "types=7<br>names=%{x}<br>First component=%{y}<extra></extra>",
         "legendgroup": "7",
         "marker": {
          "color": "#ab63fa",
          "symbol": "circle"
         },
         "mode": "markers",
         "name": "7",
         "orientation": "v",
         "showlegend": true,
         "type": "scatter",
         "x": [
          "clam",
          "crab",
          "crayfish",
          "lobster",
          "octopus",
          "scorpion",
          "seawasp",
          "slug",
          "starfish",
          "worm"
         ],
         "xaxis": "x",
         "y": [
          4.434449873267668,
          2.9449585157211207,
          4.824590616697044,
          4.824590616697044,
          4.3715755327236305,
          2.8860765963046937,
          6.305011785482412,
          2.7611485943004106,
          4.6113592059772115,
          2.681589726487484
         ],
         "yaxis": "y"
        },
        {
         "hovertemplate": "types=6<br>names=%{x}<br>First component=%{y}<extra></extra>",
         "legendgroup": "6",
         "marker": {
          "color": "#FFA15A",
          "symbol": "circle"
         },
         "mode": "markers",
         "name": "6",
         "orientation": "v",
         "showlegend": true,
         "type": "scatter",
         "x": [
          "flea",
          "gnat",
          "honeybee",
          "housefly",
          "ladybird",
          "moth",
          "termite",
          "wasp"
         ],
         "xaxis": "x",
         "y": [
          2.512482091233171,
          3.988130976586603,
          3.231090073639414,
          1.659808107635795,
          3.851516109772669,
          1.6598081076357958,
          2.4277098656046054,
          1.9299780595479918
         ],
         "yaxis": "y"
        },
        {
         "hovertemplate": "types=5<br>names=%{x}<br>First component=%{y}<extra></extra>",
         "legendgroup": "5",
         "marker": {
          "color": "#19d3f3",
          "symbol": "circle"
         },
         "mode": "markers",
         "name": "5",
         "orientation": "v",
         "showlegend": true,
         "type": "scatter",
         "x": [
          "frog",
          "frog",
          "newt",
          "toad"
         ],
         "xaxis": "x",
         "y": [
          1.4156213103716304,
          1.9678173377123829,
          0.5394033667420723,
          0.5021256783379744
         ],
         "yaxis": "y"
        },
        {
         "hovertemplate": "types=3<br>names=%{x}<br>First component=%{y}<extra></extra>",
         "legendgroup": "3",
         "marker": {
          "color": "#FF6692",
          "symbol": "circle"
         },
         "mode": "markers",
         "name": "3",
         "orientation": "v",
         "showlegend": true,
         "type": "scatter",
         "x": [
          "pitviper",
          "seasnake",
          "slowworm",
          "tortoise",
          "tuatara"
         ],
         "xaxis": "x",
         "y": [
          1.276325105921264,
          1.0832592723919388,
          0.7104573991951392,
          0.587726861946778,
          0.9455967168361601
         ],
         "yaxis": "y"
        }
       ],
       "layout": {
        "legend": {
         "title": {
          "text": "types"
         },
         "tracegroupgap": 0
        },
        "template": {
         "data": {
          "bar": [
           {
            "error_x": {
             "color": "#2a3f5f"
            },
            "error_y": {
             "color": "#2a3f5f"
            },
            "marker": {
             "line": {
              "color": "#E5ECF6",
              "width": 0.5
             }
            },
            "type": "bar"
           }
          ],
          "barpolar": [
           {
            "marker": {
             "line": {
              "color": "#E5ECF6",
              "width": 0.5
             }
            },
            "type": "barpolar"
           }
          ],
          "carpet": [
           {
            "aaxis": {
             "endlinecolor": "#2a3f5f",
             "gridcolor": "white",
             "linecolor": "white",
             "minorgridcolor": "white",
             "startlinecolor": "#2a3f5f"
            },
            "baxis": {
             "endlinecolor": "#2a3f5f",
             "gridcolor": "white",
             "linecolor": "white",
             "minorgridcolor": "white",
             "startlinecolor": "#2a3f5f"
            },
            "type": "carpet"
           }
          ],
          "choropleth": [
           {
            "colorbar": {
             "outlinewidth": 0,
             "ticks": ""
            },
            "type": "choropleth"
           }
          ],
          "contour": [
           {
            "colorbar": {
             "outlinewidth": 0,
             "ticks": ""
            },
            "colorscale": [
             [
              0,
              "#0d0887"
             ],
             [
              0.1111111111111111,
              "#46039f"
             ],
             [
              0.2222222222222222,
              "#7201a8"
             ],
             [
              0.3333333333333333,
              "#9c179e"
             ],
             [
              0.4444444444444444,
              "#bd3786"
             ],
             [
              0.5555555555555556,
              "#d8576b"
             ],
             [
              0.6666666666666666,
              "#ed7953"
             ],
             [
              0.7777777777777778,
              "#fb9f3a"
             ],
             [
              0.8888888888888888,
              "#fdca26"
             ],
             [
              1,
              "#f0f921"
             ]
            ],
            "type": "contour"
           }
          ],
          "contourcarpet": [
           {
            "colorbar": {
             "outlinewidth": 0,
             "ticks": ""
            },
            "type": "contourcarpet"
           }
          ],
          "heatmap": [
           {
            "colorbar": {
             "outlinewidth": 0,
             "ticks": ""
            },
            "colorscale": [
             [
              0,
              "#0d0887"
             ],
             [
              0.1111111111111111,
              "#46039f"
             ],
             [
              0.2222222222222222,
              "#7201a8"
             ],
             [
              0.3333333333333333,
              "#9c179e"
             ],
             [
              0.4444444444444444,
              "#bd3786"
             ],
             [
              0.5555555555555556,
              "#d8576b"
             ],
             [
              0.6666666666666666,
              "#ed7953"
             ],
             [
              0.7777777777777778,
              "#fb9f3a"
             ],
             [
              0.8888888888888888,
              "#fdca26"
             ],
             [
              1,
              "#f0f921"
             ]
            ],
            "type": "heatmap"
           }
          ],
          "heatmapgl": [
           {
            "colorbar": {
             "outlinewidth": 0,
             "ticks": ""
            },
            "colorscale": [
             [
              0,
              "#0d0887"
             ],
             [
              0.1111111111111111,
              "#46039f"
             ],
             [
              0.2222222222222222,
              "#7201a8"
             ],
             [
              0.3333333333333333,
              "#9c179e"
             ],
             [
              0.4444444444444444,
              "#bd3786"
             ],
             [
              0.5555555555555556,
              "#d8576b"
             ],
             [
              0.6666666666666666,
              "#ed7953"
             ],
             [
              0.7777777777777778,
              "#fb9f3a"
             ],
             [
              0.8888888888888888,
              "#fdca26"
             ],
             [
              1,
              "#f0f921"
             ]
            ],
            "type": "heatmapgl"
           }
          ],
          "histogram": [
           {
            "marker": {
             "colorbar": {
              "outlinewidth": 0,
              "ticks": ""
             }
            },
            "type": "histogram"
           }
          ],
          "histogram2d": [
           {
            "colorbar": {
             "outlinewidth": 0,
             "ticks": ""
            },
            "colorscale": [
             [
              0,
              "#0d0887"
             ],
             [
              0.1111111111111111,
              "#46039f"
             ],
             [
              0.2222222222222222,
              "#7201a8"
             ],
             [
              0.3333333333333333,
              "#9c179e"
             ],
             [
              0.4444444444444444,
              "#bd3786"
             ],
             [
              0.5555555555555556,
              "#d8576b"
             ],
             [
              0.6666666666666666,
              "#ed7953"
             ],
             [
              0.7777777777777778,
              "#fb9f3a"
             ],
             [
              0.8888888888888888,
              "#fdca26"
             ],
             [
              1,
              "#f0f921"
             ]
            ],
            "type": "histogram2d"
           }
          ],
          "histogram2dcontour": [
           {
            "colorbar": {
             "outlinewidth": 0,
             "ticks": ""
            },
            "colorscale": [
             [
              0,
              "#0d0887"
             ],
             [
              0.1111111111111111,
              "#46039f"
             ],
             [
              0.2222222222222222,
              "#7201a8"
             ],
             [
              0.3333333333333333,
              "#9c179e"
             ],
             [
              0.4444444444444444,
              "#bd3786"
             ],
             [
              0.5555555555555556,
              "#d8576b"
             ],
             [
              0.6666666666666666,
              "#ed7953"
             ],
             [
              0.7777777777777778,
              "#fb9f3a"
             ],
             [
              0.8888888888888888,
              "#fdca26"
             ],
             [
              1,
              "#f0f921"
             ]
            ],
            "type": "histogram2dcontour"
           }
          ],
          "mesh3d": [
           {
            "colorbar": {
             "outlinewidth": 0,
             "ticks": ""
            },
            "type": "mesh3d"
           }
          ],
          "parcoords": [
           {
            "line": {
             "colorbar": {
              "outlinewidth": 0,
              "ticks": ""
             }
            },
            "type": "parcoords"
           }
          ],
          "pie": [
           {
            "automargin": true,
            "type": "pie"
           }
          ],
          "scatter": [
           {
            "marker": {
             "colorbar": {
              "outlinewidth": 0,
              "ticks": ""
             }
            },
            "type": "scatter"
           }
          ],
          "scatter3d": [
           {
            "line": {
             "colorbar": {
              "outlinewidth": 0,
              "ticks": ""
             }
            },
            "marker": {
             "colorbar": {
              "outlinewidth": 0,
              "ticks": ""
             }
            },
            "type": "scatter3d"
           }
          ],
          "scattercarpet": [
           {
            "marker": {
             "colorbar": {
              "outlinewidth": 0,
              "ticks": ""
             }
            },
            "type": "scattercarpet"
           }
          ],
          "scattergeo": [
           {
            "marker": {
             "colorbar": {
              "outlinewidth": 0,
              "ticks": ""
             }
            },
            "type": "scattergeo"
           }
          ],
          "scattergl": [
           {
            "marker": {
             "colorbar": {
              "outlinewidth": 0,
              "ticks": ""
             }
            },
            "type": "scattergl"
           }
          ],
          "scattermapbox": [
           {
            "marker": {
             "colorbar": {
              "outlinewidth": 0,
              "ticks": ""
             }
            },
            "type": "scattermapbox"
           }
          ],
          "scatterpolar": [
           {
            "marker": {
             "colorbar": {
              "outlinewidth": 0,
              "ticks": ""
             }
            },
            "type": "scatterpolar"
           }
          ],
          "scatterpolargl": [
           {
            "marker": {
             "colorbar": {
              "outlinewidth": 0,
              "ticks": ""
             }
            },
            "type": "scatterpolargl"
           }
          ],
          "scatterternary": [
           {
            "marker": {
             "colorbar": {
              "outlinewidth": 0,
              "ticks": ""
             }
            },
            "type": "scatterternary"
           }
          ],
          "surface": [
           {
            "colorbar": {
             "outlinewidth": 0,
             "ticks": ""
            },
            "colorscale": [
             [
              0,
              "#0d0887"
             ],
             [
              0.1111111111111111,
              "#46039f"
             ],
             [
              0.2222222222222222,
              "#7201a8"
             ],
             [
              0.3333333333333333,
              "#9c179e"
             ],
             [
              0.4444444444444444,
              "#bd3786"
             ],
             [
              0.5555555555555556,
              "#d8576b"
             ],
             [
              0.6666666666666666,
              "#ed7953"
             ],
             [
              0.7777777777777778,
              "#fb9f3a"
             ],
             [
              0.8888888888888888,
              "#fdca26"
             ],
             [
              1,
              "#f0f921"
             ]
            ],
            "type": "surface"
           }
          ],
          "table": [
           {
            "cells": {
             "fill": {
              "color": "#EBF0F8"
             },
             "line": {
              "color": "white"
             }
            },
            "header": {
             "fill": {
              "color": "#C8D4E3"
             },
             "line": {
              "color": "white"
             }
            },
            "type": "table"
           }
          ]
         },
         "layout": {
          "annotationdefaults": {
           "arrowcolor": "#2a3f5f",
           "arrowhead": 0,
           "arrowwidth": 1
          },
          "coloraxis": {
           "colorbar": {
            "outlinewidth": 0,
            "ticks": ""
           }
          },
          "colorscale": {
           "diverging": [
            [
             0,
             "#8e0152"
            ],
            [
             0.1,
             "#c51b7d"
            ],
            [
             0.2,
             "#de77ae"
            ],
            [
             0.3,
             "#f1b6da"
            ],
            [
             0.4,
             "#fde0ef"
            ],
            [
             0.5,
             "#f7f7f7"
            ],
            [
             0.6,
             "#e6f5d0"
            ],
            [
             0.7,
             "#b8e186"
            ],
            [
             0.8,
             "#7fbc41"
            ],
            [
             0.9,
             "#4d9221"
            ],
            [
             1,
             "#276419"
            ]
           ],
           "sequential": [
            [
             0,
             "#0d0887"
            ],
            [
             0.1111111111111111,
             "#46039f"
            ],
            [
             0.2222222222222222,
             "#7201a8"
            ],
            [
             0.3333333333333333,
             "#9c179e"
            ],
            [
             0.4444444444444444,
             "#bd3786"
            ],
            [
             0.5555555555555556,
             "#d8576b"
            ],
            [
             0.6666666666666666,
             "#ed7953"
            ],
            [
             0.7777777777777778,
             "#fb9f3a"
            ],
            [
             0.8888888888888888,
             "#fdca26"
            ],
            [
             1,
             "#f0f921"
            ]
           ],
           "sequentialminus": [
            [
             0,
             "#0d0887"
            ],
            [
             0.1111111111111111,
             "#46039f"
            ],
            [
             0.2222222222222222,
             "#7201a8"
            ],
            [
             0.3333333333333333,
             "#9c179e"
            ],
            [
             0.4444444444444444,
             "#bd3786"
            ],
            [
             0.5555555555555556,
             "#d8576b"
            ],
            [
             0.6666666666666666,
             "#ed7953"
            ],
            [
             0.7777777777777778,
             "#fb9f3a"
            ],
            [
             0.8888888888888888,
             "#fdca26"
            ],
            [
             1,
             "#f0f921"
            ]
           ]
          },
          "colorway": [
           "#636efa",
           "#EF553B",
           "#00cc96",
           "#ab63fa",
           "#FFA15A",
           "#19d3f3",
           "#FF6692",
           "#B6E880",
           "#FF97FF",
           "#FECB52"
          ],
          "font": {
           "color": "#2a3f5f"
          },
          "geo": {
           "bgcolor": "white",
           "lakecolor": "white",
           "landcolor": "#E5ECF6",
           "showlakes": true,
           "showland": true,
           "subunitcolor": "white"
          },
          "hoverlabel": {
           "align": "left"
          },
          "hovermode": "closest",
          "mapbox": {
           "style": "light"
          },
          "paper_bgcolor": "white",
          "plot_bgcolor": "#E5ECF6",
          "polar": {
           "angularaxis": {
            "gridcolor": "white",
            "linecolor": "white",
            "ticks": ""
           },
           "bgcolor": "#E5ECF6",
           "radialaxis": {
            "gridcolor": "white",
            "linecolor": "white",
            "ticks": ""
           }
          },
          "scene": {
           "xaxis": {
            "backgroundcolor": "#E5ECF6",
            "gridcolor": "white",
            "gridwidth": 2,
            "linecolor": "white",
            "showbackground": true,
            "ticks": "",
            "zerolinecolor": "white"
           },
           "yaxis": {
            "backgroundcolor": "#E5ECF6",
            "gridcolor": "white",
            "gridwidth": 2,
            "linecolor": "white",
            "showbackground": true,
            "ticks": "",
            "zerolinecolor": "white"
           },
           "zaxis": {
            "backgroundcolor": "#E5ECF6",
            "gridcolor": "white",
            "gridwidth": 2,
            "linecolor": "white",
            "showbackground": true,
            "ticks": "",
            "zerolinecolor": "white"
           }
          },
          "shapedefaults": {
           "line": {
            "color": "#2a3f5f"
           }
          },
          "ternary": {
           "aaxis": {
            "gridcolor": "white",
            "linecolor": "white",
            "ticks": ""
           },
           "baxis": {
            "gridcolor": "white",
            "linecolor": "white",
            "ticks": ""
           },
           "bgcolor": "#E5ECF6",
           "caxis": {
            "gridcolor": "white",
            "linecolor": "white",
            "ticks": ""
           }
          },
          "title": {
           "x": 0.05
          },
          "xaxis": {
           "automargin": true,
           "gridcolor": "white",
           "linecolor": "white",
           "ticks": "",
           "title": {
            "standoff": 15
           },
           "zerolinecolor": "white",
           "zerolinewidth": 2
          },
          "yaxis": {
           "automargin": true,
           "gridcolor": "white",
           "linecolor": "white",
           "ticks": "",
           "title": {
            "standoff": 15
           },
           "zerolinecolor": "white",
           "zerolinewidth": 2
          }
         }
        },
        "title": {
         "text": "80-neighborhood"
        },
        "xaxis": {
         "anchor": "y",
         "domain": [
          0,
          1
         ],
         "title": {
          "text": "names"
         }
        },
        "yaxis": {
         "anchor": "x",
         "domain": [
          0,
          1
         ],
         "title": {
          "text": "First component"
         }
        }
       }
      }
     },
     "metadata": {}
    }
   ],
   "source": [
    "k = 80\n",
    "graph = np.ones((n,n)) * 1000\n",
    "for i in range(n):\n",
    "    dist = np.copy(G[i])\n",
    "    points = [(j,d) for j, d in zip(np.arange(n), dist)]\n",
    "    points.sort(reverse=True, key=lambda x:x[1])\n",
    "    num = 0\n",
    "    for j,d in points:\n",
    "        if (d == 0): continue\n",
    "        graph[i][j] = d\n",
    "        graph[j][i] = d\n",
    "        num += 1\n",
    "        if num == k: break\n",
    "\n",
    "g = scipy.sparse.csr_matrix(graph)\n",
    "D, parents = scipy.sparse.csgraph.shortest_path(csgraph=g, directed=False, return_predecessors=True)\n",
    "D2 = D*D\n",
    "J = np.identity(n) - (np.ones((n,n)) / n)\n",
    "B = -0.5 * J@D2@J\n",
    "w, v = np.linalg.eigh(B)\n",
    "w[w<0] = 0\n",
    "Y = scipy.linalg.sqrtm(np.diag(w))[-1].reshape((1,-1)) @ v.T\n",
    "\n",
    "d = {\"names\":df[\"name\"], \"types\":df[\"type\"], \"First component\":Y.ravel()}\n",
    "dff = pd.DataFrame(d)\n",
    "fig = ex.scatter(dff, x=\"names\", y=\"First component\", color=\"types\", title=\"80-neighborhood\")\n",
    "fig.show()\n",
    " "
   ]
  },
  {
   "cell_type": "code",
   "execution_count": 27,
   "metadata": {},
   "outputs": [
    {
     "output_type": "display_data",
     "data": {
      "application/vnd.plotly.v1+json": {
       "config": {
        "plotlyServerURL": "https://plot.ly"
       },
       "data": [
        {
         "hovertemplate": "types=1<br>names=%{x}<br>First component=%{y}<extra></extra>",
         "legendgroup": "1",
         "marker": {
          "color": "#636efa",
          "symbol": "circle"
         },
         "mode": "markers",
         "name": "1",
         "orientation": "v",
         "showlegend": true,
         "type": "scatter",
         "x": [
          "aardvark",
          "antelope",
          "bear",
          "boar",
          "buffalo",
          "calf",
          "cavy",
          "cheetah",
          "deer",
          "dolphin",
          "elephant",
          "fruitbat",
          "giraffe",
          "girl",
          "goat",
          "gorilla",
          "hamster",
          "hare",
          "leopard",
          "lion",
          "lynx",
          "mink",
          "mole",
          "mongoose",
          "opossum",
          "oryx",
          "platypus",
          "polecat",
          "pony",
          "porpoise",
          "puma",
          "pussycat",
          "raccoon",
          "reindeer",
          "seal",
          "sealion",
          "squirrel",
          "vampire",
          "vole",
          "wallaby",
          "wolf"
         ],
         "xaxis": "x",
         "y": [
          2.5715360959482,
          2.8709027262481763,
          1.9944441134969493,
          0.8422090634870788,
          3.20765877186926,
          2.827022947695098,
          3.8398473401954054,
          -1.0473945657352344,
          3.790275188921528,
          0.022415480243111633,
          3.844233764304835,
          2.1383700110900006,
          3.562024798552536,
          1.248845626389158,
          2.7255921727856984,
          5.211398709318891,
          4.7780422146099895,
          5.2337573305345995,
          -7.886647552305334,
          -9.144075005124686,
          -9.144075005124686,
          -3.058902871247547,
          -3.9577434823350335,
          -9.144075005124684,
          -3.9577434823350326,
          3.916124104118926,
          -3.8482088993041326,
          -9.144075005124682,
          2.383350543312906,
          0.9539582172172708,
          -9.144075005124682,
          1.0879945428980702,
          -9.144075005124684,
          2.3833505433129063,
          2.972993109864181,
          0.4453149955078055,
          2.34706076571747,
          1.6886160358370386,
          4.478334973971955,
          2.5807457679680517,
          -8.71021652136222
         ],
         "yaxis": "y"
        },
        {
         "hovertemplate": "types=4<br>names=%{x}<br>First component=%{y}<extra></extra>",
         "legendgroup": "4",
         "marker": {
          "color": "#EF553B",
          "symbol": "circle"
         },
         "mode": "markers",
         "name": "4",
         "orientation": "v",
         "showlegend": true,
         "type": "scatter",
         "x": [
          "bass",
          "carp",
          "catfish",
          "chub",
          "dogfish",
          "haddock",
          "herring",
          "pike",
          "piranha",
          "seahorse",
          "sole",
          "stingray",
          "tuna"
         ],
         "xaxis": "x",
         "y": [
          4.789766930319576,
          -0.9613631879268691,
          6.913971036824763,
          6.913971036824765,
          4.3323082555911245,
          -0.7098513850648964,
          6.363420411320246,
          -0.22338506321289528,
          6.363420411320248,
          -4.077226980633823,
          -3.5554843023905827,
          4.212442981826523,
          0.378593355649872
         ],
         "yaxis": "y"
        },
        {
         "hovertemplate": "types=2<br>names=%{x}<br>First component=%{y}<extra></extra>",
         "legendgroup": "2",
         "marker": {
          "color": "#00cc96",
          "symbol": "circle"
         },
         "mode": "markers",
         "name": "2",
         "orientation": "v",
         "showlegend": true,
         "type": "scatter",
         "x": [
          "chicken",
          "crow",
          "dove",
          "duck",
          "flamingo",
          "gull",
          "hawk",
          "kiwi",
          "lark",
          "ostrich",
          "parakeet",
          "penguin",
          "pheasant",
          "rhea",
          "skimmer",
          "skua",
          "sparrow",
          "swan",
          "vulture",
          "wren"
         ],
         "xaxis": "x",
         "y": [
          -0.5718140947991716,
          3.4583688597474325,
          0.1052080146319255,
          -1.8413915952085222,
          4.7377391062886955,
          -0.5838181255074173,
          4.806792889076317,
          4.1327530806703185,
          -6.3537746971574505,
          3.4894736009701606,
          -1.8311348662884914,
          4.405486207780199,
          -6.353774697157454,
          4.509315685951053,
          -1.1646920517174326,
          -1.1646920517174326,
          -5.465508755869551,
          -3.187558539067859,
          5.073991405724513,
          -4.6947573674132235
         ],
         "yaxis": "y"
        },
        {
         "hovertemplate": "types=7<br>names=%{x}<br>First component=%{y}<extra></extra>",
         "legendgroup": "7",
         "marker": {
          "color": "#ab63fa",
          "symbol": "circle"
         },
         "mode": "markers",
         "name": "7",
         "orientation": "v",
         "showlegend": true,
         "type": "scatter",
         "x": [
          "clam",
          "crab",
          "crayfish",
          "lobster",
          "octopus",
          "scorpion",
          "seawasp",
          "slug",
          "starfish",
          "worm"
         ],
         "xaxis": "x",
         "y": [
          -2.583494609834589,
          7.720342951051499,
          -1.3610946912538568,
          -0.8491040504646872,
          -4.31103416166465,
          3.4775023584732945,
          -3.9897356045453196,
          -6.842530784928274,
          -1.3796659535387061,
          -7.070235677702654
         ],
         "yaxis": "y"
        },
        {
         "hovertemplate": "types=6<br>names=%{x}<br>First component=%{y}<extra></extra>",
         "legendgroup": "6",
         "marker": {
          "color": "#FFA15A",
          "symbol": "circle"
         },
         "mode": "markers",
         "name": "6",
         "orientation": "v",
         "showlegend": true,
         "type": "scatter",
         "x": [
          "flea",
          "gnat",
          "honeybee",
          "housefly",
          "ladybird",
          "moth",
          "termite",
          "wasp"
         ],
         "xaxis": "x",
         "y": [
          -2.988550974145452,
          0.4573657299310825,
          1.048798404336235,
          -2.1579777693641526,
          -3.166261234881125,
          -2.5899219359848584,
          -4.149655344066269,
          -0.38713338320334967
         ],
         "yaxis": "y"
        },
        {
         "hovertemplate": "types=5<br>names=%{x}<br>First component=%{y}<extra></extra>",
         "legendgroup": "5",
         "marker": {
          "color": "#19d3f3",
          "symbol": "circle"
         },
         "mode": "markers",
         "name": "5",
         "orientation": "v",
         "showlegend": true,
         "type": "scatter",
         "x": [
          "frog",
          "frog",
          "newt",
          "toad"
         ],
         "xaxis": "x",
         "y": [
          0.333871697017595,
          0.6132312592267046,
          -0.49670676187525264,
          2.5636248583714343
         ],
         "yaxis": "y"
        },
        {
         "hovertemplate": "types=3<br>names=%{x}<br>First component=%{y}<extra></extra>",
         "legendgroup": "3",
         "marker": {
          "color": "#FF6692",
          "symbol": "circle"
         },
         "mode": "markers",
         "name": "3",
         "orientation": "v",
         "showlegend": true,
         "type": "scatter",
         "x": [
          "pitviper",
          "seasnake",
          "slowworm",
          "tortoise",
          "tuatara"
         ],
         "xaxis": "x",
         "y": [
          3.2377623537771005,
          1.4277350641241604,
          2.8317973349941696,
          1.514186914085028,
          -1.7650240473641894
         ],
         "yaxis": "y"
        }
       ],
       "layout": {
        "legend": {
         "title": {
          "text": "types"
         },
         "tracegroupgap": 0
        },
        "template": {
         "data": {
          "bar": [
           {
            "error_x": {
             "color": "#2a3f5f"
            },
            "error_y": {
             "color": "#2a3f5f"
            },
            "marker": {
             "line": {
              "color": "#E5ECF6",
              "width": 0.5
             }
            },
            "type": "bar"
           }
          ],
          "barpolar": [
           {
            "marker": {
             "line": {
              "color": "#E5ECF6",
              "width": 0.5
             }
            },
            "type": "barpolar"
           }
          ],
          "carpet": [
           {
            "aaxis": {
             "endlinecolor": "#2a3f5f",
             "gridcolor": "white",
             "linecolor": "white",
             "minorgridcolor": "white",
             "startlinecolor": "#2a3f5f"
            },
            "baxis": {
             "endlinecolor": "#2a3f5f",
             "gridcolor": "white",
             "linecolor": "white",
             "minorgridcolor": "white",
             "startlinecolor": "#2a3f5f"
            },
            "type": "carpet"
           }
          ],
          "choropleth": [
           {
            "colorbar": {
             "outlinewidth": 0,
             "ticks": ""
            },
            "type": "choropleth"
           }
          ],
          "contour": [
           {
            "colorbar": {
             "outlinewidth": 0,
             "ticks": ""
            },
            "colorscale": [
             [
              0,
              "#0d0887"
             ],
             [
              0.1111111111111111,
              "#46039f"
             ],
             [
              0.2222222222222222,
              "#7201a8"
             ],
             [
              0.3333333333333333,
              "#9c179e"
             ],
             [
              0.4444444444444444,
              "#bd3786"
             ],
             [
              0.5555555555555556,
              "#d8576b"
             ],
             [
              0.6666666666666666,
              "#ed7953"
             ],
             [
              0.7777777777777778,
              "#fb9f3a"
             ],
             [
              0.8888888888888888,
              "#fdca26"
             ],
             [
              1,
              "#f0f921"
             ]
            ],
            "type": "contour"
           }
          ],
          "contourcarpet": [
           {
            "colorbar": {
             "outlinewidth": 0,
             "ticks": ""
            },
            "type": "contourcarpet"
           }
          ],
          "heatmap": [
           {
            "colorbar": {
             "outlinewidth": 0,
             "ticks": ""
            },
            "colorscale": [
             [
              0,
              "#0d0887"
             ],
             [
              0.1111111111111111,
              "#46039f"
             ],
             [
              0.2222222222222222,
              "#7201a8"
             ],
             [
              0.3333333333333333,
              "#9c179e"
             ],
             [
              0.4444444444444444,
              "#bd3786"
             ],
             [
              0.5555555555555556,
              "#d8576b"
             ],
             [
              0.6666666666666666,
              "#ed7953"
             ],
             [
              0.7777777777777778,
              "#fb9f3a"
             ],
             [
              0.8888888888888888,
              "#fdca26"
             ],
             [
              1,
              "#f0f921"
             ]
            ],
            "type": "heatmap"
           }
          ],
          "heatmapgl": [
           {
            "colorbar": {
             "outlinewidth": 0,
             "ticks": ""
            },
            "colorscale": [
             [
              0,
              "#0d0887"
             ],
             [
              0.1111111111111111,
              "#46039f"
             ],
             [
              0.2222222222222222,
              "#7201a8"
             ],
             [
              0.3333333333333333,
              "#9c179e"
             ],
             [
              0.4444444444444444,
              "#bd3786"
             ],
             [
              0.5555555555555556,
              "#d8576b"
             ],
             [
              0.6666666666666666,
              "#ed7953"
             ],
             [
              0.7777777777777778,
              "#fb9f3a"
             ],
             [
              0.8888888888888888,
              "#fdca26"
             ],
             [
              1,
              "#f0f921"
             ]
            ],
            "type": "heatmapgl"
           }
          ],
          "histogram": [
           {
            "marker": {
             "colorbar": {
              "outlinewidth": 0,
              "ticks": ""
             }
            },
            "type": "histogram"
           }
          ],
          "histogram2d": [
           {
            "colorbar": {
             "outlinewidth": 0,
             "ticks": ""
            },
            "colorscale": [
             [
              0,
              "#0d0887"
             ],
             [
              0.1111111111111111,
              "#46039f"
             ],
             [
              0.2222222222222222,
              "#7201a8"
             ],
             [
              0.3333333333333333,
              "#9c179e"
             ],
             [
              0.4444444444444444,
              "#bd3786"
             ],
             [
              0.5555555555555556,
              "#d8576b"
             ],
             [
              0.6666666666666666,
              "#ed7953"
             ],
             [
              0.7777777777777778,
              "#fb9f3a"
             ],
             [
              0.8888888888888888,
              "#fdca26"
             ],
             [
              1,
              "#f0f921"
             ]
            ],
            "type": "histogram2d"
           }
          ],
          "histogram2dcontour": [
           {
            "colorbar": {
             "outlinewidth": 0,
             "ticks": ""
            },
            "colorscale": [
             [
              0,
              "#0d0887"
             ],
             [
              0.1111111111111111,
              "#46039f"
             ],
             [
              0.2222222222222222,
              "#7201a8"
             ],
             [
              0.3333333333333333,
              "#9c179e"
             ],
             [
              0.4444444444444444,
              "#bd3786"
             ],
             [
              0.5555555555555556,
              "#d8576b"
             ],
             [
              0.6666666666666666,
              "#ed7953"
             ],
             [
              0.7777777777777778,
              "#fb9f3a"
             ],
             [
              0.8888888888888888,
              "#fdca26"
             ],
             [
              1,
              "#f0f921"
             ]
            ],
            "type": "histogram2dcontour"
           }
          ],
          "mesh3d": [
           {
            "colorbar": {
             "outlinewidth": 0,
             "ticks": ""
            },
            "type": "mesh3d"
           }
          ],
          "parcoords": [
           {
            "line": {
             "colorbar": {
              "outlinewidth": 0,
              "ticks": ""
             }
            },
            "type": "parcoords"
           }
          ],
          "pie": [
           {
            "automargin": true,
            "type": "pie"
           }
          ],
          "scatter": [
           {
            "marker": {
             "colorbar": {
              "outlinewidth": 0,
              "ticks": ""
             }
            },
            "type": "scatter"
           }
          ],
          "scatter3d": [
           {
            "line": {
             "colorbar": {
              "outlinewidth": 0,
              "ticks": ""
             }
            },
            "marker": {
             "colorbar": {
              "outlinewidth": 0,
              "ticks": ""
             }
            },
            "type": "scatter3d"
           }
          ],
          "scattercarpet": [
           {
            "marker": {
             "colorbar": {
              "outlinewidth": 0,
              "ticks": ""
             }
            },
            "type": "scattercarpet"
           }
          ],
          "scattergeo": [
           {
            "marker": {
             "colorbar": {
              "outlinewidth": 0,
              "ticks": ""
             }
            },
            "type": "scattergeo"
           }
          ],
          "scattergl": [
           {
            "marker": {
             "colorbar": {
              "outlinewidth": 0,
              "ticks": ""
             }
            },
            "type": "scattergl"
           }
          ],
          "scattermapbox": [
           {
            "marker": {
             "colorbar": {
              "outlinewidth": 0,
              "ticks": ""
             }
            },
            "type": "scattermapbox"
           }
          ],
          "scatterpolar": [
           {
            "marker": {
             "colorbar": {
              "outlinewidth": 0,
              "ticks": ""
             }
            },
            "type": "scatterpolar"
           }
          ],
          "scatterpolargl": [
           {
            "marker": {
             "colorbar": {
              "outlinewidth": 0,
              "ticks": ""
             }
            },
            "type": "scatterpolargl"
           }
          ],
          "scatterternary": [
           {
            "marker": {
             "colorbar": {
              "outlinewidth": 0,
              "ticks": ""
             }
            },
            "type": "scatterternary"
           }
          ],
          "surface": [
           {
            "colorbar": {
             "outlinewidth": 0,
             "ticks": ""
            },
            "colorscale": [
             [
              0,
              "#0d0887"
             ],
             [
              0.1111111111111111,
              "#46039f"
             ],
             [
              0.2222222222222222,
              "#7201a8"
             ],
             [
              0.3333333333333333,
              "#9c179e"
             ],
             [
              0.4444444444444444,
              "#bd3786"
             ],
             [
              0.5555555555555556,
              "#d8576b"
             ],
             [
              0.6666666666666666,
              "#ed7953"
             ],
             [
              0.7777777777777778,
              "#fb9f3a"
             ],
             [
              0.8888888888888888,
              "#fdca26"
             ],
             [
              1,
              "#f0f921"
             ]
            ],
            "type": "surface"
           }
          ],
          "table": [
           {
            "cells": {
             "fill": {
              "color": "#EBF0F8"
             },
             "line": {
              "color": "white"
             }
            },
            "header": {
             "fill": {
              "color": "#C8D4E3"
             },
             "line": {
              "color": "white"
             }
            },
            "type": "table"
           }
          ]
         },
         "layout": {
          "annotationdefaults": {
           "arrowcolor": "#2a3f5f",
           "arrowhead": 0,
           "arrowwidth": 1
          },
          "coloraxis": {
           "colorbar": {
            "outlinewidth": 0,
            "ticks": ""
           }
          },
          "colorscale": {
           "diverging": [
            [
             0,
             "#8e0152"
            ],
            [
             0.1,
             "#c51b7d"
            ],
            [
             0.2,
             "#de77ae"
            ],
            [
             0.3,
             "#f1b6da"
            ],
            [
             0.4,
             "#fde0ef"
            ],
            [
             0.5,
             "#f7f7f7"
            ],
            [
             0.6,
             "#e6f5d0"
            ],
            [
             0.7,
             "#b8e186"
            ],
            [
             0.8,
             "#7fbc41"
            ],
            [
             0.9,
             "#4d9221"
            ],
            [
             1,
             "#276419"
            ]
           ],
           "sequential": [
            [
             0,
             "#0d0887"
            ],
            [
             0.1111111111111111,
             "#46039f"
            ],
            [
             0.2222222222222222,
             "#7201a8"
            ],
            [
             0.3333333333333333,
             "#9c179e"
            ],
            [
             0.4444444444444444,
             "#bd3786"
            ],
            [
             0.5555555555555556,
             "#d8576b"
            ],
            [
             0.6666666666666666,
             "#ed7953"
            ],
            [
             0.7777777777777778,
             "#fb9f3a"
            ],
            [
             0.8888888888888888,
             "#fdca26"
            ],
            [
             1,
             "#f0f921"
            ]
           ],
           "sequentialminus": [
            [
             0,
             "#0d0887"
            ],
            [
             0.1111111111111111,
             "#46039f"
            ],
            [
             0.2222222222222222,
             "#7201a8"
            ],
            [
             0.3333333333333333,
             "#9c179e"
            ],
            [
             0.4444444444444444,
             "#bd3786"
            ],
            [
             0.5555555555555556,
             "#d8576b"
            ],
            [
             0.6666666666666666,
             "#ed7953"
            ],
            [
             0.7777777777777778,
             "#fb9f3a"
            ],
            [
             0.8888888888888888,
             "#fdca26"
            ],
            [
             1,
             "#f0f921"
            ]
           ]
          },
          "colorway": [
           "#636efa",
           "#EF553B",
           "#00cc96",
           "#ab63fa",
           "#FFA15A",
           "#19d3f3",
           "#FF6692",
           "#B6E880",
           "#FF97FF",
           "#FECB52"
          ],
          "font": {
           "color": "#2a3f5f"
          },
          "geo": {
           "bgcolor": "white",
           "lakecolor": "white",
           "landcolor": "#E5ECF6",
           "showlakes": true,
           "showland": true,
           "subunitcolor": "white"
          },
          "hoverlabel": {
           "align": "left"
          },
          "hovermode": "closest",
          "mapbox": {
           "style": "light"
          },
          "paper_bgcolor": "white",
          "plot_bgcolor": "#E5ECF6",
          "polar": {
           "angularaxis": {
            "gridcolor": "white",
            "linecolor": "white",
            "ticks": ""
           },
           "bgcolor": "#E5ECF6",
           "radialaxis": {
            "gridcolor": "white",
            "linecolor": "white",
            "ticks": ""
           }
          },
          "scene": {
           "xaxis": {
            "backgroundcolor": "#E5ECF6",
            "gridcolor": "white",
            "gridwidth": 2,
            "linecolor": "white",
            "showbackground": true,
            "ticks": "",
            "zerolinecolor": "white"
           },
           "yaxis": {
            "backgroundcolor": "#E5ECF6",
            "gridcolor": "white",
            "gridwidth": 2,
            "linecolor": "white",
            "showbackground": true,
            "ticks": "",
            "zerolinecolor": "white"
           },
           "zaxis": {
            "backgroundcolor": "#E5ECF6",
            "gridcolor": "white",
            "gridwidth": 2,
            "linecolor": "white",
            "showbackground": true,
            "ticks": "",
            "zerolinecolor": "white"
           }
          },
          "shapedefaults": {
           "line": {
            "color": "#2a3f5f"
           }
          },
          "ternary": {
           "aaxis": {
            "gridcolor": "white",
            "linecolor": "white",
            "ticks": ""
           },
           "baxis": {
            "gridcolor": "white",
            "linecolor": "white",
            "ticks": ""
           },
           "bgcolor": "#E5ECF6",
           "caxis": {
            "gridcolor": "white",
            "linecolor": "white",
            "ticks": ""
           }
          },
          "title": {
           "x": 0.05
          },
          "xaxis": {
           "automargin": true,
           "gridcolor": "white",
           "linecolor": "white",
           "ticks": "",
           "title": {
            "standoff": 15
           },
           "zerolinecolor": "white",
           "zerolinewidth": 2
          },
          "yaxis": {
           "automargin": true,
           "gridcolor": "white",
           "linecolor": "white",
           "ticks": "",
           "title": {
            "standoff": 15
           },
           "zerolinecolor": "white",
           "zerolinewidth": 2
          }
         }
        },
        "title": {
         "text": "30-neighborhood"
        },
        "xaxis": {
         "anchor": "y",
         "domain": [
          0,
          1
         ],
         "title": {
          "text": "names"
         }
        },
        "yaxis": {
         "anchor": "x",
         "domain": [
          0,
          1
         ],
         "title": {
          "text": "First component"
         }
        }
       }
      }
     },
     "metadata": {}
    }
   ],
   "source": [
    "k = 30\n",
    "graph = np.ones((n,n)) * 1000\n",
    "for i in range(n):\n",
    "    dist = np.copy(G[i])\n",
    "    points = [(j,d) for j, d in zip(np.arange(n), dist)]\n",
    "    points.sort(reverse=True, key=lambda x:x[1])\n",
    "    num = 0\n",
    "    for j,d in points:\n",
    "        if (d == 0): continue\n",
    "        graph[i][j] = d\n",
    "        graph[j][i] = d\n",
    "        num += 1\n",
    "        if num == k: break\n",
    "\n",
    "g = scipy.sparse.csr_matrix(graph)\n",
    "D, parents = scipy.sparse.csgraph.shortest_path(csgraph=g, directed=False, return_predecessors=True)\n",
    "D2 = D*D\n",
    "J = np.identity(n) - (np.ones((n,n)) / n)\n",
    "B = -0.5 * J@D2@J\n",
    "w, v = np.linalg.eigh(B)\n",
    "w[w<0] = 0\n",
    "Y = scipy.linalg.sqrtm(np.diag(w))[-1].reshape((1,-1)) @ v.T\n",
    "\n",
    "d = {\"names\":df[\"name\"], \"types\":df[\"type\"], \"First component\":Y.ravel()}\n",
    "dff = pd.DataFrame(d)\n",
    "fig = ex.scatter(dff, x=\"names\", y=\"First component\", color=\"types\", title=\"30-neighborhood\")\n",
    "fig.show()\n",
    " "
   ]
  },
  {
   "cell_type": "code",
   "execution_count": null,
   "metadata": {},
   "outputs": [],
   "source": []
  }
 ]
}