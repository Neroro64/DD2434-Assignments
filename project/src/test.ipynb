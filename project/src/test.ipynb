{
 "metadata": {
  "language_info": {
   "codemirror_mode": {
    "name": "ipython",
    "version": 3
   },
   "file_extension": ".py",
   "mimetype": "text/x-python",
   "name": "python",
   "nbconvert_exporter": "python",
   "pygments_lexer": "ipython3",
   "version": "3.8.3-final"
  },
  "orig_nbformat": 2,
  "kernelspec": {
   "name": "python3",
   "display_name": "Python 3",
   "language": "python"
  }
 },
 "nbformat": 4,
 "nbformat_minor": 2,
 "cells": [
  {
   "cell_type": "code",
   "execution_count": 7,
   "metadata": {},
   "outputs": [],
   "source": [
    "import numpy as np\n",
    "import pandas as pd\n",
    "import plotly.express as ex\n",
    "import scipy.linalg as la\n",
    "from scipy.fftpack import dct\n",
    "\n"
   ]
  },
  {
   "cell_type": "code",
   "execution_count": null,
   "metadata": {},
   "outputs": [],
   "source": [
    "def pca(M):\n",
    "    cov = M.T @ M\n",
    "    s, u = la.eigh(cov)\n",
    "    return lambda k: u[:, -k:] @ M\n",
    "\n",
    "def dct(M):\n",
    "    m = np.reshape(M, (-1))\n",
    "    D = dct(np.eye(m.shape[0]), axis=0)\n",
    "    u = \n",
    "    return lambda \n",
    "    "
   ]
  },
  {
   "cell_type": "code",
   "execution_count": 12,
   "metadata": {},
   "outputs": [],
   "source": [
    "a = np.ones((2,5))\n",
    "b = np.reshape(a, (-1))"
   ]
  },
  {
   "cell_type": "code",
   "execution_count": 18,
   "metadata": {},
   "outputs": [
    {
     "output_type": "execute_result",
     "data": {
      "text/plain": [
       "array([[ 2.        ,  2.        ,  2.        ],\n",
       "       [ 1.73205081,  0.        , -1.73205081],\n",
       "       [ 1.        , -2.        ,  1.        ]])"
      ]
     },
     "metadata": {},
     "execution_count": 18
    }
   ],
   "source": [
    "D = dct(np.eye(3), axis=0)\n",
    "D"
   ]
  },
  {
   "cell_type": "code",
   "execution_count": 26,
   "metadata": {},
   "outputs": [
    {
     "output_type": "execute_result",
     "data": {
      "text/plain": [
       "array([[ 3.        ,  1.96961551,  3.74357824],\n",
       "       [-1.50998305, -0.70064863, -3.18758402],\n",
       "       [ 0.25403871,  1.33648768,  5.81751384]])"
      ]
     },
     "metadata": {},
     "execution_count": 26
    }
   ],
   "source": [
    "e = np.eye(3)\n",
    "e2 = np.reshape(e, (-1))\n",
    "k = 0\n",
    "s = np.arange(e2.size)\n",
    "s2 = (np.arange(e2.size)+0.5) * (np.pi/e2.size)\n",
    "for i in range(e2.shape[0]):\n",
    "    e2[i] = np.sum(e2 * np.cos(s2*i))\n",
    "e2.reshape(e.shape)"
   ]
  },
  {
   "cell_type": "code",
   "execution_count": 27,
   "metadata": {},
   "outputs": [
    {
     "output_type": "execute_result",
     "data": {
      "text/plain": [
       "array([[ 1.        ,  0.8660254 , -0.3660254 ],\n",
       "       [ 1.        ,  0.8660254 , -0.3660254 ],\n",
       "       [ 1.5       ,  1.6160254 , -1.04903811]])"
      ]
     },
     "metadata": {},
     "execution_count": 27
    }
   ],
   "source": [
    "e = np.eye(3)\n",
    "k = 0\n",
    "for i in range(e.shape[0]):\n",
    "    e2 = e[i]\n",
    "    s = np.arange(e2.size)\n",
    "    s2 = (np.arange(e2.size)+0.5) * (np.pi/e2.size)\n",
    "    for i in range(e2.shape[0]):\n",
    "        e2[i] = np.sum(e2 * np.cos(s2*i))\n",
    "    e[i] = e2\n",
    "e"
   ]
  },
  {
   "cell_type": "code",
   "execution_count": null,
   "metadata": {},
   "outputs": [],
   "source": []
  }
 ]
}